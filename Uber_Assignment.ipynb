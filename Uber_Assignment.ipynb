{
 "cells": [
  {
   "cell_type": "code",
   "execution_count": 1,
   "metadata": {},
   "outputs": [],
   "source": [
    "#### Set up of the required packages and load of the given Uber trips data\n",
    "\n",
    "\n",
    "import numpy as np\n",
    "import pandas as pd\n",
    "import matplotlib.pyplot as plt\n",
    "\n",
    "plt.style.use('classic')\n",
    "%matplotlib inline\n",
    "\n",
    "# the commonly used alias for seaborn is sns\n",
    "import seaborn as sns\n",
    "\n",
    "# set a seaborn style of your taste\n",
    "sns.set_style(\"whitegrid\")\n",
    "\n",
    "# data\n",
    "uber = pd.read_csv(\"./Uber Request Data.csv\")"
   ]
  },
  {
   "cell_type": "code",
   "execution_count": 2,
   "metadata": {},
   "outputs": [
    {
     "name": "stdout",
     "output_type": "stream",
     "text": [
      "<class 'pandas.core.frame.DataFrame'>\n",
      "RangeIndex: 6745 entries, 0 to 6744\n",
      "Data columns (total 6 columns):\n",
      "Request id           6745 non-null int64\n",
      "Pickup point         6745 non-null object\n",
      "Driver id            4095 non-null float64\n",
      "Status               6745 non-null object\n",
      "Request timestamp    6745 non-null object\n",
      "Drop timestamp       2831 non-null object\n",
      "dtypes: float64(1), int64(1), object(4)\n",
      "memory usage: 316.2+ KB\n"
     ]
    },
    {
     "data": {
      "text/plain": [
       "(6745, 6)"
      ]
     },
     "execution_count": 2,
     "metadata": {},
     "output_type": "execute_result"
    }
   ],
   "source": [
    "## For Understanding of Uber data items \n",
    "\n",
    "uber.describe()\n",
    "uber.info()\n",
    "uber.columns\n",
    "uber.shape"
   ]
  },
  {
   "cell_type": "code",
   "execution_count": 3,
   "metadata": {},
   "outputs": [
    {
     "data": {
      "text/html": [
       "<div>\n",
       "<style scoped>\n",
       "    .dataframe tbody tr th:only-of-type {\n",
       "        vertical-align: middle;\n",
       "    }\n",
       "\n",
       "    .dataframe tbody tr th {\n",
       "        vertical-align: top;\n",
       "    }\n",
       "\n",
       "    .dataframe thead th {\n",
       "        text-align: right;\n",
       "    }\n",
       "</style>\n",
       "<table border=\"1\" class=\"dataframe\">\n",
       "  <thead>\n",
       "    <tr style=\"text-align: right;\">\n",
       "      <th></th>\n",
       "      <th>Request id</th>\n",
       "      <th>Pickup point</th>\n",
       "      <th>Driver id</th>\n",
       "      <th>Status</th>\n",
       "      <th>Request timestamp</th>\n",
       "      <th>Drop timestamp</th>\n",
       "    </tr>\n",
       "  </thead>\n",
       "  <tbody>\n",
       "    <tr>\n",
       "      <th>0</th>\n",
       "      <td>619</td>\n",
       "      <td>Airport</td>\n",
       "      <td>1.0</td>\n",
       "      <td>Trip Completed</td>\n",
       "      <td>11/7/2016 11:51</td>\n",
       "      <td>11/7/2016 13:00</td>\n",
       "    </tr>\n",
       "    <tr>\n",
       "      <th>1</th>\n",
       "      <td>867</td>\n",
       "      <td>Airport</td>\n",
       "      <td>1.0</td>\n",
       "      <td>Trip Completed</td>\n",
       "      <td>11/7/2016 17:57</td>\n",
       "      <td>11/7/2016 18:47</td>\n",
       "    </tr>\n",
       "    <tr>\n",
       "      <th>2</th>\n",
       "      <td>1807</td>\n",
       "      <td>City</td>\n",
       "      <td>1.0</td>\n",
       "      <td>Trip Completed</td>\n",
       "      <td>12/7/2016 9:17</td>\n",
       "      <td>12/7/2016 9:58</td>\n",
       "    </tr>\n",
       "    <tr>\n",
       "      <th>3</th>\n",
       "      <td>2532</td>\n",
       "      <td>Airport</td>\n",
       "      <td>1.0</td>\n",
       "      <td>Trip Completed</td>\n",
       "      <td>12/7/2016 21:08</td>\n",
       "      <td>12/7/2016 22:03</td>\n",
       "    </tr>\n",
       "    <tr>\n",
       "      <th>4</th>\n",
       "      <td>3112</td>\n",
       "      <td>City</td>\n",
       "      <td>1.0</td>\n",
       "      <td>Trip Completed</td>\n",
       "      <td>13-07-2016 08:33:16</td>\n",
       "      <td>13-07-2016 09:25:47</td>\n",
       "    </tr>\n",
       "  </tbody>\n",
       "</table>\n",
       "</div>"
      ],
      "text/plain": [
       "   Request id Pickup point  Driver id          Status    Request timestamp  \\\n",
       "0         619      Airport        1.0  Trip Completed      11/7/2016 11:51   \n",
       "1         867      Airport        1.0  Trip Completed      11/7/2016 17:57   \n",
       "2        1807         City        1.0  Trip Completed       12/7/2016 9:17   \n",
       "3        2532      Airport        1.0  Trip Completed      12/7/2016 21:08   \n",
       "4        3112         City        1.0  Trip Completed  13-07-2016 08:33:16   \n",
       "\n",
       "        Drop timestamp  \n",
       "0      11/7/2016 13:00  \n",
       "1      11/7/2016 18:47  \n",
       "2       12/7/2016 9:58  \n",
       "3      12/7/2016 22:03  \n",
       "4  13-07-2016 09:25:47  "
      ]
     },
     "execution_count": 3,
     "metadata": {},
     "output_type": "execute_result"
    }
   ],
   "source": [
    "# To view the uber data and understand data \n",
    "uber.head()\n"
   ]
  },
  {
   "cell_type": "code",
   "execution_count": 4,
   "metadata": {},
   "outputs": [
    {
     "data": {
      "text/html": [
       "<div>\n",
       "<style scoped>\n",
       "    .dataframe tbody tr th:only-of-type {\n",
       "        vertical-align: middle;\n",
       "    }\n",
       "\n",
       "    .dataframe tbody tr th {\n",
       "        vertical-align: top;\n",
       "    }\n",
       "\n",
       "    .dataframe thead th {\n",
       "        text-align: right;\n",
       "    }\n",
       "</style>\n",
       "<table border=\"1\" class=\"dataframe\">\n",
       "  <thead>\n",
       "    <tr style=\"text-align: right;\">\n",
       "      <th></th>\n",
       "      <th>Request id</th>\n",
       "      <th>Pickup point</th>\n",
       "      <th>Driver id</th>\n",
       "      <th>Status</th>\n",
       "      <th>Request timestamp</th>\n",
       "      <th>Drop timestamp</th>\n",
       "    </tr>\n",
       "  </thead>\n",
       "  <tbody>\n",
       "    <tr>\n",
       "      <th>6740</th>\n",
       "      <td>6745</td>\n",
       "      <td>City</td>\n",
       "      <td>NaN</td>\n",
       "      <td>No Cars Available</td>\n",
       "      <td>15-07-2016 23:49:03</td>\n",
       "      <td>NaN</td>\n",
       "    </tr>\n",
       "    <tr>\n",
       "      <th>6741</th>\n",
       "      <td>6752</td>\n",
       "      <td>Airport</td>\n",
       "      <td>NaN</td>\n",
       "      <td>No Cars Available</td>\n",
       "      <td>15-07-2016 23:50:05</td>\n",
       "      <td>NaN</td>\n",
       "    </tr>\n",
       "    <tr>\n",
       "      <th>6742</th>\n",
       "      <td>6751</td>\n",
       "      <td>City</td>\n",
       "      <td>NaN</td>\n",
       "      <td>No Cars Available</td>\n",
       "      <td>15-07-2016 23:52:06</td>\n",
       "      <td>NaN</td>\n",
       "    </tr>\n",
       "    <tr>\n",
       "      <th>6743</th>\n",
       "      <td>6754</td>\n",
       "      <td>City</td>\n",
       "      <td>NaN</td>\n",
       "      <td>No Cars Available</td>\n",
       "      <td>15-07-2016 23:54:39</td>\n",
       "      <td>NaN</td>\n",
       "    </tr>\n",
       "    <tr>\n",
       "      <th>6744</th>\n",
       "      <td>6753</td>\n",
       "      <td>Airport</td>\n",
       "      <td>NaN</td>\n",
       "      <td>No Cars Available</td>\n",
       "      <td>15-07-2016 23:55:03</td>\n",
       "      <td>NaN</td>\n",
       "    </tr>\n",
       "  </tbody>\n",
       "</table>\n",
       "</div>"
      ],
      "text/plain": [
       "      Request id Pickup point  Driver id             Status  \\\n",
       "6740        6745         City        NaN  No Cars Available   \n",
       "6741        6752      Airport        NaN  No Cars Available   \n",
       "6742        6751         City        NaN  No Cars Available   \n",
       "6743        6754         City        NaN  No Cars Available   \n",
       "6744        6753      Airport        NaN  No Cars Available   \n",
       "\n",
       "        Request timestamp Drop timestamp  \n",
       "6740  15-07-2016 23:49:03            NaN  \n",
       "6741  15-07-2016 23:50:05            NaN  \n",
       "6742  15-07-2016 23:52:06            NaN  \n",
       "6743  15-07-2016 23:54:39            NaN  \n",
       "6744  15-07-2016 23:55:03            NaN  "
      ]
     },
     "execution_count": 4,
     "metadata": {},
     "output_type": "execute_result"
    }
   ],
   "source": [
    "uber.tail()"
   ]
  },
  {
   "cell_type": "markdown",
   "metadata": {},
   "source": [
    "#### There are 6745 Trips informations of Uber from City to Airport and Airport to City with 6 columns"
   ]
  },
  {
   "cell_type": "code",
   "execution_count": 5,
   "metadata": {},
   "outputs": [
    {
     "data": {
      "text/plain": [
       "array(['Trip Completed', 'Cancelled', 'No Cars Available'], dtype=object)"
      ]
     },
     "execution_count": 5,
     "metadata": {},
     "output_type": "execute_result"
    }
   ],
   "source": [
    "# To check what all status values in Status column\n",
    "uber.Status.unique()"
   ]
  },
  {
   "cell_type": "code",
   "execution_count": 6,
   "metadata": {},
   "outputs": [],
   "source": [
    "# The space in the column names of the provided data is replaced by '_'\n",
    "\n",
    "uber.columns = uber.columns.str.replace(\" \", \"_\")"
   ]
  },
  {
   "cell_type": "markdown",
   "metadata": {},
   "source": [
    "####  3 Status of trips have been provided..and there is no bad data in it like typo or other unknown status"
   ]
  },
  {
   "cell_type": "code",
   "execution_count": 7,
   "metadata": {},
   "outputs": [
    {
     "data": {
      "text/plain": [
       "array(['Airport', 'City'], dtype=object)"
      ]
     },
     "execution_count": 7,
     "metadata": {},
     "output_type": "execute_result"
    }
   ],
   "source": [
    "#To understand if any other pickup points apart from City or Airport in Data\n",
    "uber.Pickup_point.unique()"
   ]
  },
  {
   "cell_type": "markdown",
   "metadata": {},
   "source": [
    "#### There are no other pickup points other than City and Airport"
   ]
  },
  {
   "cell_type": "markdown",
   "metadata": {},
   "source": [
    "# Data Cleansing identification\n",
    "\n",
    "* From the above data viewed, noticed few data issues which need to be cleaned\n",
    "  1. Request Time Stamp -  Date and Time format issues - different formats been used\n",
    "  2. Drop Time Stamp -  Date and Time format issues - different formats been used\n",
    "  \n",
    "  ### Need to make all date formats consistent like month 7 transformed as 07, have all MM-DD-YYYY format, Time in AM/PM format\n",
    "  ### Trip Status have different formats like Trip Completed, No Cars Available, Cancelled\n",
    "  ### Null Values in Drop Timestamp in cases where trip was not performed only was requested\n",
    "  ### \n",
    "  ### Column names have space in between , need to remove space and add _ for example"
   ]
  },
  {
   "cell_type": "code",
   "execution_count": 8,
   "metadata": {},
   "outputs": [],
   "source": [
    "#to replace _ in Column names\n",
    "uber.columns = [c.replace(' ', '_') for c in uber.columns]"
   ]
  },
  {
   "cell_type": "code",
   "execution_count": 9,
   "metadata": {},
   "outputs": [
    {
     "data": {
      "text/plain": [
       "Index(['Request_id', 'Pickup_point', 'Driver_id', 'Status',\n",
       "       'Request_timestamp', 'Drop_timestamp'],\n",
       "      dtype='object')"
      ]
     },
     "execution_count": 9,
     "metadata": {},
     "output_type": "execute_result"
    }
   ],
   "source": [
    "## Checking columns again to ensure the Column names are without SPACES in between\n",
    "uber.columns"
   ]
  },
  {
   "cell_type": "code",
   "execution_count": 10,
   "metadata": {},
   "outputs": [
    {
     "data": {
      "text/plain": [
       "Request_id              0\n",
       "Pickup_point            0\n",
       "Driver_id            2650\n",
       "Status                  0\n",
       "Request_timestamp       0\n",
       "Drop_timestamp       3914\n",
       "dtype: int64"
      ]
     },
     "execution_count": 10,
     "metadata": {},
     "output_type": "execute_result"
    }
   ],
   "source": [
    "# to check null values\n",
    "uber.isnull().sum()"
   ]
  },
  {
   "cell_type": "code",
   "execution_count": 11,
   "metadata": {},
   "outputs": [
    {
     "data": {
      "text/plain": [
       "Driver_id         2650\n",
       "Drop_timestamp    3914\n",
       "dtype: int64"
      ]
     },
     "execution_count": 11,
     "metadata": {},
     "output_type": "execute_result"
    }
   ],
   "source": [
    "null_columns=uber.columns[uber.isnull().any()]\n",
    "uber[null_columns].isnull().sum()"
   ]
  },
  {
   "cell_type": "markdown",
   "metadata": {},
   "source": [
    "### The next steps are to validate if NULL columns i.e. Driver_id and Drop_timestamp are valid or not and see if they need to be removed or replaced for better analysis"
   ]
  },
  {
   "cell_type": "code",
   "execution_count": 12,
   "metadata": {},
   "outputs": [
    {
     "name": "stdout",
     "output_type": "stream",
     "text": [
      "      Driver_id Drop_timestamp\n",
      "4095        NaN            NaN\n",
      "4096        NaN            NaN\n",
      "4097        NaN            NaN\n",
      "4098        NaN            NaN\n",
      "4099        NaN            NaN\n",
      "4100        NaN            NaN\n",
      "4101        NaN            NaN\n",
      "4102        NaN            NaN\n",
      "4103        NaN            NaN\n",
      "4104        NaN            NaN\n",
      "4105        NaN            NaN\n",
      "4106        NaN            NaN\n",
      "4107        NaN            NaN\n",
      "4108        NaN            NaN\n",
      "4109        NaN            NaN\n",
      "4110        NaN            NaN\n",
      "4111        NaN            NaN\n",
      "4112        NaN            NaN\n",
      "4113        NaN            NaN\n",
      "4114        NaN            NaN\n",
      "4115        NaN            NaN\n",
      "4116        NaN            NaN\n",
      "4117        NaN            NaN\n",
      "4118        NaN            NaN\n",
      "4119        NaN            NaN\n",
      "4120        NaN            NaN\n",
      "4121        NaN            NaN\n",
      "4122        NaN            NaN\n",
      "4123        NaN            NaN\n",
      "4124        NaN            NaN\n",
      "...         ...            ...\n",
      "6715        NaN            NaN\n",
      "6716        NaN            NaN\n",
      "6717        NaN            NaN\n",
      "6718        NaN            NaN\n",
      "6719        NaN            NaN\n",
      "6720        NaN            NaN\n",
      "6721        NaN            NaN\n",
      "6722        NaN            NaN\n",
      "6723        NaN            NaN\n",
      "6724        NaN            NaN\n",
      "6725        NaN            NaN\n",
      "6726        NaN            NaN\n",
      "6727        NaN            NaN\n",
      "6728        NaN            NaN\n",
      "6729        NaN            NaN\n",
      "6730        NaN            NaN\n",
      "6731        NaN            NaN\n",
      "6732        NaN            NaN\n",
      "6733        NaN            NaN\n",
      "6734        NaN            NaN\n",
      "6735        NaN            NaN\n",
      "6736        NaN            NaN\n",
      "6737        NaN            NaN\n",
      "6738        NaN            NaN\n",
      "6739        NaN            NaN\n",
      "6740        NaN            NaN\n",
      "6741        NaN            NaN\n",
      "6742        NaN            NaN\n",
      "6743        NaN            NaN\n",
      "6744        NaN            NaN\n",
      "\n",
      "[2650 rows x 2 columns]\n"
     ]
    }
   ],
   "source": [
    "## Checking NULLs in Driver_id\n",
    "print(uber[uber[\"Driver_id\"].isnull()][null_columns])"
   ]
  },
  {
   "cell_type": "code",
   "execution_count": 13,
   "metadata": {},
   "outputs": [
    {
     "name": "stdout",
     "output_type": "stream",
     "text": [
      "      Driver_id Drop_timestamp\n",
      "2831        1.0            NaN\n",
      "2832        1.0            NaN\n",
      "2833        1.0            NaN\n",
      "2834        1.0            NaN\n",
      "2835        2.0            NaN\n",
      "2836        2.0            NaN\n",
      "2837        2.0            NaN\n",
      "2838        2.0            NaN\n",
      "2839        3.0            NaN\n",
      "2840        3.0            NaN\n",
      "2841        3.0            NaN\n",
      "2842        3.0            NaN\n",
      "2843        4.0            NaN\n",
      "2844        4.0            NaN\n",
      "2845        4.0            NaN\n",
      "2846        4.0            NaN\n",
      "2847        4.0            NaN\n",
      "2848        5.0            NaN\n",
      "2849        5.0            NaN\n",
      "2850        6.0            NaN\n",
      "2851        6.0            NaN\n",
      "2852        6.0            NaN\n",
      "2853        6.0            NaN\n",
      "2854        7.0            NaN\n",
      "2855        7.0            NaN\n",
      "2856        7.0            NaN\n",
      "2857        8.0            NaN\n",
      "2858        8.0            NaN\n",
      "2859        8.0            NaN\n",
      "2860        9.0            NaN\n",
      "...         ...            ...\n",
      "6715        NaN            NaN\n",
      "6716        NaN            NaN\n",
      "6717        NaN            NaN\n",
      "6718        NaN            NaN\n",
      "6719        NaN            NaN\n",
      "6720        NaN            NaN\n",
      "6721        NaN            NaN\n",
      "6722        NaN            NaN\n",
      "6723        NaN            NaN\n",
      "6724        NaN            NaN\n",
      "6725        NaN            NaN\n",
      "6726        NaN            NaN\n",
      "6727        NaN            NaN\n",
      "6728        NaN            NaN\n",
      "6729        NaN            NaN\n",
      "6730        NaN            NaN\n",
      "6731        NaN            NaN\n",
      "6732        NaN            NaN\n",
      "6733        NaN            NaN\n",
      "6734        NaN            NaN\n",
      "6735        NaN            NaN\n",
      "6736        NaN            NaN\n",
      "6737        NaN            NaN\n",
      "6738        NaN            NaN\n",
      "6739        NaN            NaN\n",
      "6740        NaN            NaN\n",
      "6741        NaN            NaN\n",
      "6742        NaN            NaN\n",
      "6743        NaN            NaN\n",
      "6744        NaN            NaN\n",
      "\n",
      "[3914 rows x 2 columns]\n"
     ]
    }
   ],
   "source": [
    "print(uber[uber[\"Drop_timestamp\"].isnull()][null_columns])"
   ]
  },
  {
   "cell_type": "code",
   "execution_count": 14,
   "metadata": {},
   "outputs": [
    {
     "name": "stdout",
     "output_type": "stream",
     "text": [
      "      Request_id Pickup_point  Driver_id          Status    Request_timestamp  \\\n",
      "0            619      Airport        1.0  Trip Completed      11/7/2016 11:51   \n",
      "1            867      Airport        1.0  Trip Completed      11/7/2016 17:57   \n",
      "2           1807         City        1.0  Trip Completed       12/7/2016 9:17   \n",
      "3           2532      Airport        1.0  Trip Completed      12/7/2016 21:08   \n",
      "4           3112         City        1.0  Trip Completed  13-07-2016 08:33:16   \n",
      "5           3879      Airport        1.0  Trip Completed  13-07-2016 21:57:28   \n",
      "6           4270      Airport        1.0  Trip Completed  14-07-2016 06:15:32   \n",
      "7           5510      Airport        1.0  Trip Completed  15-07-2016 05:11:52   \n",
      "8           6248         City        1.0  Trip Completed  15-07-2016 17:57:27   \n",
      "9            267         City        2.0  Trip Completed       11/7/2016 6:46   \n",
      "10          1467      Airport        2.0  Trip Completed       12/7/2016 5:08   \n",
      "11          1983         City        2.0  Trip Completed      12/7/2016 12:30   \n",
      "12          2784      Airport        2.0  Trip Completed  13-07-2016 04:49:20   \n",
      "13          3075         City        2.0  Trip Completed  13-07-2016 08:02:53   \n",
      "14          3379         City        2.0  Trip Completed  13-07-2016 14:23:02   \n",
      "15          3482      Airport        2.0  Trip Completed  13-07-2016 17:23:18   \n",
      "16          4652         City        2.0  Trip Completed  14-07-2016 12:01:02   \n",
      "17          5335      Airport        2.0  Trip Completed  14-07-2016 22:24:13   \n",
      "18           535      Airport        3.0  Trip Completed      11/7/2016 10:00   \n",
      "19           960      Airport        3.0  Trip Completed      11/7/2016 18:45   \n",
      "20          1934      Airport        3.0  Trip Completed      12/7/2016 11:17   \n",
      "21          2083      Airport        3.0  Trip Completed      12/7/2016 15:46   \n",
      "22          2211      Airport        3.0  Trip Completed      12/7/2016 18:00   \n",
      "23          3096      Airport        3.0  Trip Completed  13-07-2016 08:17:29   \n",
      "24          3881      Airport        3.0  Trip Completed  13-07-2016 21:54:18   \n",
      "25          5254         City        3.0  Trip Completed  14-07-2016 21:23:03   \n",
      "26          5434         City        3.0  Trip Completed  15-07-2016 02:41:38   \n",
      "27          5916         City        3.0  Trip Completed  15-07-2016 10:00:43   \n",
      "28           669         City        4.0  Trip Completed      11/7/2016 13:08   \n",
      "29          1567      Airport        4.0  Trip Completed       12/7/2016 6:21   \n",
      "...          ...          ...        ...             ...                  ...   \n",
      "2801        2648         City      297.0  Trip Completed      12/7/2016 22:50   \n",
      "2802        2979      Airport      297.0  Trip Completed  13-07-2016 06:58:03   \n",
      "2803        3676         City      297.0  Trip Completed  13-07-2016 19:28:20   \n",
      "2804        4041      Airport      297.0  Trip Completed  14-07-2016 00:38:29   \n",
      "2805        4147      Airport      297.0  Trip Completed  14-07-2016 04:54:07   \n",
      "2806        4859      Airport      297.0  Trip Completed  14-07-2016 17:34:16   \n",
      "2807        6067      Airport      297.0  Trip Completed  15-07-2016 13:55:13   \n",
      "2808        1690      Airport      298.0  Trip Completed       12/7/2016 7:52   \n",
      "2809        2404      Airport      298.0  Trip Completed      12/7/2016 20:00   \n",
      "2810        3313         City      298.0  Trip Completed  13-07-2016 12:01:34   \n",
      "2811        3559         City      298.0  Trip Completed  13-07-2016 18:16:19   \n",
      "2812        4018      Airport      298.0  Trip Completed  13-07-2016 23:57:31   \n",
      "2813        4121      Airport      298.0  Trip Completed  14-07-2016 04:29:45   \n",
      "2814        4224         City      298.0  Trip Completed  14-07-2016 05:49:16   \n",
      "2815        4810         City      298.0  Trip Completed  14-07-2016 17:16:21   \n",
      "2816        5295         City      298.0  Trip Completed  14-07-2016 21:48:59   \n",
      "2817        5381      Airport      298.0  Trip Completed  14-07-2016 23:56:41   \n",
      "2818        6271         City      298.0  Trip Completed  15-07-2016 18:14:56   \n",
      "2819        1244         City      299.0  Trip Completed      11/7/2016 21:38   \n",
      "2820        2249         City      299.0  Trip Completed      12/7/2016 18:24   \n",
      "2821        3045      Airport      299.0  Trip Completed  13-07-2016 07:39:52   \n",
      "2822        3817      Airport      299.0  Trip Completed  13-07-2016 21:12:43   \n",
      "2823        4481         City      299.0  Trip Completed  14-07-2016 08:46:30   \n",
      "2824        5160         City      299.0  Trip Completed  14-07-2016 20:28:32   \n",
      "2825        6304         City      299.0  Trip Completed  15-07-2016 18:31:31   \n",
      "2826        1315      Airport      300.0  Trip Completed      11/7/2016 22:54   \n",
      "2827        2924         City      300.0  Trip Completed  13-07-2016 06:31:22   \n",
      "2828        3324      Airport      300.0  Trip Completed  13-07-2016 12:33:21   \n",
      "2829        3935      Airport      300.0  Trip Completed  13-07-2016 22:26:08   \n",
      "2830        5844      Airport      300.0  Trip Completed  15-07-2016 09:07:09   \n",
      "\n",
      "           Drop_timestamp  \n",
      "0         11/7/2016 13:00  \n",
      "1         11/7/2016 18:47  \n",
      "2          12/7/2016 9:58  \n",
      "3         12/7/2016 22:03  \n",
      "4     13-07-2016 09:25:47  \n",
      "5     13-07-2016 22:28:59  \n",
      "6     14-07-2016 07:13:15  \n",
      "7     15-07-2016 06:07:52  \n",
      "8     15-07-2016 18:50:51  \n",
      "9          11/7/2016 7:25  \n",
      "10         12/7/2016 6:02  \n",
      "11        12/7/2016 12:57  \n",
      "12    13-07-2016 05:23:03  \n",
      "13    13-07-2016 09:16:19  \n",
      "14    13-07-2016 15:35:18  \n",
      "15    13-07-2016 18:20:51  \n",
      "16    14-07-2016 12:36:46  \n",
      "17    14-07-2016 23:18:52  \n",
      "18        11/7/2016 10:31  \n",
      "19        11/7/2016 19:23  \n",
      "20        12/7/2016 12:23  \n",
      "21        12/7/2016 16:40  \n",
      "22        12/7/2016 18:28  \n",
      "23    13-07-2016 09:22:37  \n",
      "24    13-07-2016 22:51:23  \n",
      "25    14-07-2016 22:25:19  \n",
      "26    15-07-2016 03:24:43  \n",
      "27    15-07-2016 10:53:06  \n",
      "28        11/7/2016 13:49  \n",
      "29         12/7/2016 7:10  \n",
      "...                   ...  \n",
      "2801      12/7/2016 23:44  \n",
      "2802  13-07-2016 07:58:34  \n",
      "2803  13-07-2016 20:30:48  \n",
      "2804  14-07-2016 01:12:21  \n",
      "2805  14-07-2016 06:00:11  \n",
      "2806  14-07-2016 18:30:48  \n",
      "2807  15-07-2016 14:56:02  \n",
      "2808       12/7/2016 8:56  \n",
      "2809      12/7/2016 20:56  \n",
      "2810  13-07-2016 12:55:12  \n",
      "2811  13-07-2016 19:25:22  \n",
      "2812  14-07-2016 01:02:24  \n",
      "2813  14-07-2016 05:07:30  \n",
      "2814  14-07-2016 06:54:57  \n",
      "2815  14-07-2016 18:01:28  \n",
      "2816  14-07-2016 22:41:48  \n",
      "2817  15-07-2016 00:39:24  \n",
      "2818  15-07-2016 18:59:11  \n",
      "2819      11/7/2016 22:15  \n",
      "2820      12/7/2016 19:09  \n",
      "2821  13-07-2016 08:30:57  \n",
      "2822  13-07-2016 22:05:34  \n",
      "2823  14-07-2016 09:54:56  \n",
      "2824  14-07-2016 21:12:48  \n",
      "2825  15-07-2016 19:19:30  \n",
      "2826      11/7/2016 23:35  \n",
      "2827  13-07-2016 07:20:52  \n",
      "2828  13-07-2016 13:16:03  \n",
      "2829  13-07-2016 23:43:13  \n",
      "2830  15-07-2016 09:56:07  \n",
      "\n",
      "[2831 rows x 6 columns]\n"
     ]
    }
   ],
   "source": [
    "print(uber.loc[uber['Status'] == 'Trip Completed'])"
   ]
  },
  {
   "cell_type": "markdown",
   "metadata": {},
   "source": [
    "### As the above results show there are No NULL values when the Status os 'Trip Completed' so these are Valid values"
   ]
  },
  {
   "cell_type": "code",
   "execution_count": 15,
   "metadata": {},
   "outputs": [
    {
     "name": "stdout",
     "output_type": "stream",
     "text": [
      "      Request_id Pickup_point  Driver_id             Status  \\\n",
      "4095        1362         City        NaN  No Cars Available   \n",
      "4096        1364         City        NaN  No Cars Available   \n",
      "4097        1366         City        NaN  No Cars Available   \n",
      "4098           2      Airport        NaN  No Cars Available   \n",
      "4099           7      Airport        NaN  No Cars Available   \n",
      "4100           6         City        NaN  No Cars Available   \n",
      "4101           4         City        NaN  No Cars Available   \n",
      "4102           8         City        NaN  No Cars Available   \n",
      "4103          12         City        NaN  No Cars Available   \n",
      "4104          16      Airport        NaN  No Cars Available   \n",
      "4105          14      Airport        NaN  No Cars Available   \n",
      "4106          19         City        NaN  No Cars Available   \n",
      "4107          15         City        NaN  No Cars Available   \n",
      "4108          17      Airport        NaN  No Cars Available   \n",
      "4109          20      Airport        NaN  No Cars Available   \n",
      "4110          23         City        NaN  No Cars Available   \n",
      "4111          22      Airport        NaN  No Cars Available   \n",
      "4112          25      Airport        NaN  No Cars Available   \n",
      "4113          24      Airport        NaN  No Cars Available   \n",
      "4114          27      Airport        NaN  No Cars Available   \n",
      "4115          26      Airport        NaN  No Cars Available   \n",
      "4116          29         City        NaN  No Cars Available   \n",
      "4117          28         City        NaN  No Cars Available   \n",
      "4118          31         City        NaN  No Cars Available   \n",
      "4119          32      Airport        NaN  No Cars Available   \n",
      "4120          36         City        NaN  No Cars Available   \n",
      "4121          37      Airport        NaN  No Cars Available   \n",
      "4122          38         City        NaN  No Cars Available   \n",
      "4123          40      Airport        NaN  No Cars Available   \n",
      "4124          39      Airport        NaN  No Cars Available   \n",
      "...          ...          ...        ...                ...   \n",
      "6715        6683         City        NaN  No Cars Available   \n",
      "6716        6686      Airport        NaN  No Cars Available   \n",
      "6717        6688      Airport        NaN  No Cars Available   \n",
      "6718        6689      Airport        NaN  No Cars Available   \n",
      "6719        6693         City        NaN  No Cars Available   \n",
      "6720        6696         City        NaN  No Cars Available   \n",
      "6721        6697      Airport        NaN  No Cars Available   \n",
      "6722        6709      Airport        NaN  No Cars Available   \n",
      "6723        6706      Airport        NaN  No Cars Available   \n",
      "6724        6708         City        NaN  No Cars Available   \n",
      "6725        6713         City        NaN  No Cars Available   \n",
      "6726        6715         City        NaN  No Cars Available   \n",
      "6727        6716         City        NaN  No Cars Available   \n",
      "6728        6718      Airport        NaN  No Cars Available   \n",
      "6729        6720         City        NaN  No Cars Available   \n",
      "6730        6722      Airport        NaN  No Cars Available   \n",
      "6731        6725      Airport        NaN  No Cars Available   \n",
      "6732        6728         City        NaN  No Cars Available   \n",
      "6733        6730      Airport        NaN  No Cars Available   \n",
      "6734        6732      Airport        NaN  No Cars Available   \n",
      "6735        6737      Airport        NaN  No Cars Available   \n",
      "6736        6744      Airport        NaN  No Cars Available   \n",
      "6737        6740         City        NaN  No Cars Available   \n",
      "6738        6746         City        NaN  No Cars Available   \n",
      "6739        6739         City        NaN  No Cars Available   \n",
      "6740        6745         City        NaN  No Cars Available   \n",
      "6741        6752      Airport        NaN  No Cars Available   \n",
      "6742        6751         City        NaN  No Cars Available   \n",
      "6743        6754         City        NaN  No Cars Available   \n",
      "6744        6753      Airport        NaN  No Cars Available   \n",
      "\n",
      "        Request_timestamp Drop_timestamp  \n",
      "4095       11/7/2016 0:02            NaN  \n",
      "4096       11/7/2016 0:06            NaN  \n",
      "4097       11/7/2016 0:09            NaN  \n",
      "4098       11/7/2016 0:23            NaN  \n",
      "4099       11/7/2016 0:30            NaN  \n",
      "4100       11/7/2016 0:36            NaN  \n",
      "4101       11/7/2016 0:37            NaN  \n",
      "4102       11/7/2016 0:40            NaN  \n",
      "4103       11/7/2016 1:08            NaN  \n",
      "4104       11/7/2016 1:09            NaN  \n",
      "4105       11/7/2016 1:10            NaN  \n",
      "4106       11/7/2016 1:14            NaN  \n",
      "4107       11/7/2016 1:15            NaN  \n",
      "4108       11/7/2016 1:16            NaN  \n",
      "4109       11/7/2016 1:23            NaN  \n",
      "4110       11/7/2016 1:38            NaN  \n",
      "4111       11/7/2016 1:40            NaN  \n",
      "4112       11/7/2016 1:45            NaN  \n",
      "4113       11/7/2016 1:48            NaN  \n",
      "4114       11/7/2016 1:49            NaN  \n",
      "4115       11/7/2016 1:49            NaN  \n",
      "4116       11/7/2016 1:55            NaN  \n",
      "4117       11/7/2016 2:02            NaN  \n",
      "4118       11/7/2016 2:10            NaN  \n",
      "4119       11/7/2016 2:15            NaN  \n",
      "4120       11/7/2016 2:33            NaN  \n",
      "4121       11/7/2016 2:34            NaN  \n",
      "4122       11/7/2016 2:39            NaN  \n",
      "4123       11/7/2016 2:42            NaN  \n",
      "4124       11/7/2016 2:48            NaN  \n",
      "...                   ...            ...  \n",
      "6715  15-07-2016 22:34:01            NaN  \n",
      "6716  15-07-2016 22:36:13            NaN  \n",
      "6717  15-07-2016 22:37:37            NaN  \n",
      "6718  15-07-2016 22:43:46            NaN  \n",
      "6719  15-07-2016 22:49:33            NaN  \n",
      "6720  15-07-2016 22:49:45            NaN  \n",
      "6721  15-07-2016 22:51:18            NaN  \n",
      "6722  15-07-2016 22:56:00            NaN  \n",
      "6723  15-07-2016 22:58:15            NaN  \n",
      "6724  15-07-2016 23:03:23            NaN  \n",
      "6725  15-07-2016 23:08:14            NaN  \n",
      "6726  15-07-2016 23:11:41            NaN  \n",
      "6727  15-07-2016 23:14:36            NaN  \n",
      "6728  15-07-2016 23:14:39            NaN  \n",
      "6729  15-07-2016 23:16:48            NaN  \n",
      "6730  15-07-2016 23:18:21            NaN  \n",
      "6731  15-07-2016 23:21:53            NaN  \n",
      "6732  15-07-2016 23:26:50            NaN  \n",
      "6733  15-07-2016 23:27:55            NaN  \n",
      "6734  15-07-2016 23:35:50            NaN  \n",
      "6735  15-07-2016 23:39:15            NaN  \n",
      "6736  15-07-2016 23:42:51            NaN  \n",
      "6737  15-07-2016 23:43:54            NaN  \n",
      "6738  15-07-2016 23:46:03            NaN  \n",
      "6739  15-07-2016 23:46:20            NaN  \n",
      "6740  15-07-2016 23:49:03            NaN  \n",
      "6741  15-07-2016 23:50:05            NaN  \n",
      "6742  15-07-2016 23:52:06            NaN  \n",
      "6743  15-07-2016 23:54:39            NaN  \n",
      "6744  15-07-2016 23:55:03            NaN  \n",
      "\n",
      "[2650 rows x 6 columns]\n"
     ]
    }
   ],
   "source": [
    "print(uber.loc[uber['Status'] == 'No Cars Available'])"
   ]
  },
  {
   "cell_type": "markdown",
   "metadata": {},
   "source": [
    "### From the above, Driver id is NULL when the status is \"No Cars Available\", which shows this is VALID as the Driver info will not be available when there was no cars in that area"
   ]
  },
  {
   "cell_type": "code",
   "execution_count": 16,
   "metadata": {},
   "outputs": [
    {
     "name": "stdout",
     "output_type": "stream",
     "text": [
      "      Request_id Pickup_point  Driver_id     Status    Request_timestamp  \\\n",
      "2831        2905         City        1.0  Cancelled  13-07-2016 06:08:41   \n",
      "2832        4805         City        1.0  Cancelled  14-07-2016 17:07:58   \n",
      "2833        5202      Airport        1.0  Cancelled  14-07-2016 20:51:37   \n",
      "2834        5927         City        1.0  Cancelled  15-07-2016 10:12:40   \n",
      "2835        2347      Airport        2.0  Cancelled      12/7/2016 19:14   \n",
      "2836        3806      Airport        2.0  Cancelled  13-07-2016 20:57:49   \n",
      "2837        4451         City        2.0  Cancelled  14-07-2016 08:38:38   \n",
      "2838        5023      Airport        2.0  Cancelled  14-07-2016 19:04:08   \n",
      "2839          80         City        3.0  Cancelled       11/7/2016 4:47   \n",
      "2840         534         City        3.0  Cancelled      11/7/2016 10:01   \n",
      "2841        1867      Airport        3.0  Cancelled       12/7/2016 9:59   \n",
      "2842        4383         City        3.0  Cancelled  14-07-2016 07:48:31   \n",
      "2843         748         City        4.0  Cancelled      11/7/2016 15:49   \n",
      "2844        1254      Airport        4.0  Cancelled      11/7/2016 21:53   \n",
      "2845        3807      Airport        4.0  Cancelled  13-07-2016 20:58:00   \n",
      "2846        4280         City        4.0  Cancelled  14-07-2016 06:33:09   \n",
      "2847        4533         City        4.0  Cancelled  14-07-2016 09:31:08   \n",
      "2848        3230         City        5.0  Cancelled  13-07-2016 10:01:57   \n",
      "2849        4296         City        5.0  Cancelled  14-07-2016 06:39:26   \n",
      "2850        3059         City        6.0  Cancelled  13-07-2016 07:56:25   \n",
      "2851        5547         City        6.0  Cancelled  15-07-2016 05:30:31   \n",
      "2852        5699         City        6.0  Cancelled  15-07-2016 07:25:53   \n",
      "2853        5701         City        6.0  Cancelled  15-07-2016 07:34:00   \n",
      "2854         247         City        7.0  Cancelled       11/7/2016 6:33   \n",
      "2855        2582      Airport        7.0  Cancelled      12/7/2016 21:42   \n",
      "2856        3184         City        7.0  Cancelled  13-07-2016 09:21:36   \n",
      "2857        1687         City        8.0  Cancelled       12/7/2016 7:51   \n",
      "2858        4174         City        8.0  Cancelled  14-07-2016 05:19:59   \n",
      "2859        4335         City        8.0  Cancelled  14-07-2016 07:13:52   \n",
      "2860         150         City        9.0  Cancelled       11/7/2016 5:24   \n",
      "...          ...          ...        ...        ...                  ...   \n",
      "4065        5623         City      292.0  Cancelled  15-07-2016 06:27:46   \n",
      "4066        2837         City      293.0  Cancelled  13-07-2016 05:19:53   \n",
      "4067        5812         City      293.0  Cancelled  15-07-2016 08:44:40   \n",
      "4068         407         City      294.0  Cancelled       11/7/2016 8:33   \n",
      "4069         486         City      294.0  Cancelled       11/7/2016 9:29   \n",
      "4070        4489         City      294.0  Cancelled  14-07-2016 08:53:51   \n",
      "4071        1251         City      295.0  Cancelled      11/7/2016 21:47   \n",
      "4072        2875         City      295.0  Cancelled  13-07-2016 05:54:23   \n",
      "4073        3104         City      295.0  Cancelled  13-07-2016 08:25:16   \n",
      "4074        3909         City      295.0  Cancelled  13-07-2016 22:13:42   \n",
      "4075        4338         City      295.0  Cancelled  14-07-2016 07:20:59   \n",
      "4076        4479         City      295.0  Cancelled  14-07-2016 08:41:51   \n",
      "4077        3187         City      296.0  Cancelled  13-07-2016 09:31:32   \n",
      "4078        4251         City      296.0  Cancelled  14-07-2016 05:55:36   \n",
      "4079        5514         City      296.0  Cancelled  15-07-2016 05:08:25   \n",
      "4080        5690         City      296.0  Cancelled  15-07-2016 07:20:54   \n",
      "4081         295      Airport      297.0  Cancelled       11/7/2016 7:10   \n",
      "4082        1487         City      297.0  Cancelled       12/7/2016 5:23   \n",
      "4083        5515         City      297.0  Cancelled  15-07-2016 05:13:03   \n",
      "4084        5535         City      297.0  Cancelled  15-07-2016 05:19:48   \n",
      "4085         284         City      298.0  Cancelled       11/7/2016 7:05   \n",
      "4086        2966         City      298.0  Cancelled  13-07-2016 06:54:13   \n",
      "4087        3120         City      298.0  Cancelled  13-07-2016 08:32:08   \n",
      "4088        4552         City      298.0  Cancelled  14-07-2016 09:40:33   \n",
      "4089         758         City      299.0  Cancelled      11/7/2016 16:06   \n",
      "4090        1641         City      299.0  Cancelled       12/7/2016 7:20   \n",
      "4091        4158         City      299.0  Cancelled  14-07-2016 05:03:10   \n",
      "4092        4164         City      299.0  Cancelled  14-07-2016 05:06:40   \n",
      "4093        4448         City      299.0  Cancelled  14-07-2016 08:30:59   \n",
      "4094        4225         City      300.0  Cancelled  14-07-2016 05:46:06   \n",
      "\n",
      "     Drop_timestamp  \n",
      "2831            NaN  \n",
      "2832            NaN  \n",
      "2833            NaN  \n",
      "2834            NaN  \n",
      "2835            NaN  \n",
      "2836            NaN  \n",
      "2837            NaN  \n",
      "2838            NaN  \n",
      "2839            NaN  \n",
      "2840            NaN  \n",
      "2841            NaN  \n",
      "2842            NaN  \n",
      "2843            NaN  \n",
      "2844            NaN  \n",
      "2845            NaN  \n",
      "2846            NaN  \n",
      "2847            NaN  \n",
      "2848            NaN  \n",
      "2849            NaN  \n",
      "2850            NaN  \n",
      "2851            NaN  \n",
      "2852            NaN  \n",
      "2853            NaN  \n",
      "2854            NaN  \n",
      "2855            NaN  \n",
      "2856            NaN  \n",
      "2857            NaN  \n",
      "2858            NaN  \n",
      "2859            NaN  \n",
      "2860            NaN  \n",
      "...             ...  \n",
      "4065            NaN  \n",
      "4066            NaN  \n",
      "4067            NaN  \n",
      "4068            NaN  \n",
      "4069            NaN  \n",
      "4070            NaN  \n",
      "4071            NaN  \n",
      "4072            NaN  \n",
      "4073            NaN  \n",
      "4074            NaN  \n",
      "4075            NaN  \n",
      "4076            NaN  \n",
      "4077            NaN  \n",
      "4078            NaN  \n",
      "4079            NaN  \n",
      "4080            NaN  \n",
      "4081            NaN  \n",
      "4082            NaN  \n",
      "4083            NaN  \n",
      "4084            NaN  \n",
      "4085            NaN  \n",
      "4086            NaN  \n",
      "4087            NaN  \n",
      "4088            NaN  \n",
      "4089            NaN  \n",
      "4090            NaN  \n",
      "4091            NaN  \n",
      "4092            NaN  \n",
      "4093            NaN  \n",
      "4094            NaN  \n",
      "\n",
      "[1264 rows x 6 columns]\n"
     ]
    }
   ],
   "source": [
    "print(uber.loc[uber['Status'] == 'Cancelled'])"
   ]
  },
  {
   "cell_type": "markdown",
   "metadata": {},
   "source": [
    "## From the above, Drop_timestampe is NULL when the status is \"No Cars Available\", which shows this is VALID as the DROP time would not be available as the trip was either cancelled by the Customer or the Driver\n",
    "\n",
    "## There is a gap in this data , if the information of who cancelled the trip is available then that would provided some good insights into the data to identify any gap if linked to the Uber drivers who are Cancelling the trips owing to some reasons like taking trips of other competitors like Ola, Meru etc.,"
   ]
  },
  {
   "cell_type": "raw",
   "metadata": {},
   "source": []
  },
  {
   "cell_type": "markdown",
   "metadata": {},
   "source": [
    "#### The data type of the timestamp columns are changed to datetime\n",
    "#### Now when we check the dates and times in the 'Request_timestamp' and 'Drop_timestamp' they are consistent now with same format YYYY-MM-DD HH:MM:SS  \n",
    "#### Dates in timestamp are not consistent, like some rows have month as single digit and some 2 digits, some have - as \n",
    "#### separator and some have /, then year format is also like some have YY and some have YYYY"
   ]
  },
  {
   "cell_type": "code",
   "execution_count": 17,
   "metadata": {},
   "outputs": [
    {
     "data": {
      "text/html": [
       "<div>\n",
       "<style scoped>\n",
       "    .dataframe tbody tr th:only-of-type {\n",
       "        vertical-align: middle;\n",
       "    }\n",
       "\n",
       "    .dataframe tbody tr th {\n",
       "        vertical-align: top;\n",
       "    }\n",
       "\n",
       "    .dataframe thead th {\n",
       "        text-align: right;\n",
       "    }\n",
       "</style>\n",
       "<table border=\"1\" class=\"dataframe\">\n",
       "  <thead>\n",
       "    <tr style=\"text-align: right;\">\n",
       "      <th></th>\n",
       "      <th>Request_id</th>\n",
       "      <th>Pickup_point</th>\n",
       "      <th>Driver_id</th>\n",
       "      <th>Status</th>\n",
       "      <th>Request_timestamp</th>\n",
       "      <th>Drop_timestamp</th>\n",
       "    </tr>\n",
       "  </thead>\n",
       "  <tbody>\n",
       "    <tr>\n",
       "      <th>0</th>\n",
       "      <td>619</td>\n",
       "      <td>Airport</td>\n",
       "      <td>1.0</td>\n",
       "      <td>Trip Completed</td>\n",
       "      <td>2016-07-11 11:51:00</td>\n",
       "      <td>2016-07-11 13:00:00</td>\n",
       "    </tr>\n",
       "    <tr>\n",
       "      <th>1</th>\n",
       "      <td>867</td>\n",
       "      <td>Airport</td>\n",
       "      <td>1.0</td>\n",
       "      <td>Trip Completed</td>\n",
       "      <td>2016-07-11 17:57:00</td>\n",
       "      <td>2016-07-11 18:47:00</td>\n",
       "    </tr>\n",
       "    <tr>\n",
       "      <th>2</th>\n",
       "      <td>1807</td>\n",
       "      <td>City</td>\n",
       "      <td>1.0</td>\n",
       "      <td>Trip Completed</td>\n",
       "      <td>2016-07-12 09:17:00</td>\n",
       "      <td>2016-07-12 09:58:00</td>\n",
       "    </tr>\n",
       "    <tr>\n",
       "      <th>3</th>\n",
       "      <td>2532</td>\n",
       "      <td>Airport</td>\n",
       "      <td>1.0</td>\n",
       "      <td>Trip Completed</td>\n",
       "      <td>2016-07-12 21:08:00</td>\n",
       "      <td>2016-07-12 22:03:00</td>\n",
       "    </tr>\n",
       "    <tr>\n",
       "      <th>4</th>\n",
       "      <td>3112</td>\n",
       "      <td>City</td>\n",
       "      <td>1.0</td>\n",
       "      <td>Trip Completed</td>\n",
       "      <td>2016-07-13 08:33:16</td>\n",
       "      <td>2016-07-13 09:25:47</td>\n",
       "    </tr>\n",
       "  </tbody>\n",
       "</table>\n",
       "</div>"
      ],
      "text/plain": [
       "   Request_id Pickup_point  Driver_id          Status   Request_timestamp  \\\n",
       "0         619      Airport        1.0  Trip Completed 2016-07-11 11:51:00   \n",
       "1         867      Airport        1.0  Trip Completed 2016-07-11 17:57:00   \n",
       "2        1807         City        1.0  Trip Completed 2016-07-12 09:17:00   \n",
       "3        2532      Airport        1.0  Trip Completed 2016-07-12 21:08:00   \n",
       "4        3112         City        1.0  Trip Completed 2016-07-13 08:33:16   \n",
       "\n",
       "       Drop_timestamp  \n",
       "0 2016-07-11 13:00:00  \n",
       "1 2016-07-11 18:47:00  \n",
       "2 2016-07-12 09:58:00  \n",
       "3 2016-07-12 22:03:00  \n",
       "4 2016-07-13 09:25:47  "
      ]
     },
     "execution_count": 17,
     "metadata": {},
     "output_type": "execute_result"
    }
   ],
   "source": [
    "## Changing the format of timestamp columns and ensuring all the dates are in same format i.e. dd , mm, yyyy positions\n",
    "## in date are same for all\n",
    "uber['Request_timestamp'] = pd.to_datetime(uber['Request_timestamp'], format=\"%d/%m/%y\", dayfirst=True, infer_datetime_format=True)\n",
    "uber['Drop_timestamp'] = pd.to_datetime(uber['Drop_timestamp'], format=\"%d/%m/%y\",dayfirst=True, infer_datetime_format=True)\n",
    "uber.head()"
   ]
  },
  {
   "cell_type": "markdown",
   "metadata": {},
   "source": [
    "#### Now the dates format are consistent and are in same format"
   ]
  },
  {
   "cell_type": "code",
   "execution_count": 18,
   "metadata": {},
   "outputs": [
    {
     "data": {
      "text/html": [
       "<div>\n",
       "<style scoped>\n",
       "    .dataframe tbody tr th:only-of-type {\n",
       "        vertical-align: middle;\n",
       "    }\n",
       "\n",
       "    .dataframe tbody tr th {\n",
       "        vertical-align: top;\n",
       "    }\n",
       "\n",
       "    .dataframe thead th {\n",
       "        text-align: right;\n",
       "    }\n",
       "</style>\n",
       "<table border=\"1\" class=\"dataframe\">\n",
       "  <thead>\n",
       "    <tr style=\"text-align: right;\">\n",
       "      <th></th>\n",
       "      <th>Request_id</th>\n",
       "      <th>Pickup_point</th>\n",
       "      <th>Driver_id</th>\n",
       "      <th>Status</th>\n",
       "      <th>Request_timestamp</th>\n",
       "      <th>Drop_timestamp</th>\n",
       "      <th>Request_Date</th>\n",
       "    </tr>\n",
       "  </thead>\n",
       "  <tbody>\n",
       "    <tr>\n",
       "      <th>0</th>\n",
       "      <td>619</td>\n",
       "      <td>Airport</td>\n",
       "      <td>1.0</td>\n",
       "      <td>Trip Completed</td>\n",
       "      <td>2016-07-11 11:51:00</td>\n",
       "      <td>2016-07-11 13:00:00</td>\n",
       "      <td>2016-07-11</td>\n",
       "    </tr>\n",
       "    <tr>\n",
       "      <th>1</th>\n",
       "      <td>867</td>\n",
       "      <td>Airport</td>\n",
       "      <td>1.0</td>\n",
       "      <td>Trip Completed</td>\n",
       "      <td>2016-07-11 17:57:00</td>\n",
       "      <td>2016-07-11 18:47:00</td>\n",
       "      <td>2016-07-11</td>\n",
       "    </tr>\n",
       "    <tr>\n",
       "      <th>2</th>\n",
       "      <td>1807</td>\n",
       "      <td>City</td>\n",
       "      <td>1.0</td>\n",
       "      <td>Trip Completed</td>\n",
       "      <td>2016-07-12 09:17:00</td>\n",
       "      <td>2016-07-12 09:58:00</td>\n",
       "      <td>2016-07-12</td>\n",
       "    </tr>\n",
       "    <tr>\n",
       "      <th>3</th>\n",
       "      <td>2532</td>\n",
       "      <td>Airport</td>\n",
       "      <td>1.0</td>\n",
       "      <td>Trip Completed</td>\n",
       "      <td>2016-07-12 21:08:00</td>\n",
       "      <td>2016-07-12 22:03:00</td>\n",
       "      <td>2016-07-12</td>\n",
       "    </tr>\n",
       "    <tr>\n",
       "      <th>4</th>\n",
       "      <td>3112</td>\n",
       "      <td>City</td>\n",
       "      <td>1.0</td>\n",
       "      <td>Trip Completed</td>\n",
       "      <td>2016-07-13 08:33:16</td>\n",
       "      <td>2016-07-13 09:25:47</td>\n",
       "      <td>2016-07-13</td>\n",
       "    </tr>\n",
       "  </tbody>\n",
       "</table>\n",
       "</div>"
      ],
      "text/plain": [
       "   Request_id Pickup_point  Driver_id          Status   Request_timestamp  \\\n",
       "0         619      Airport        1.0  Trip Completed 2016-07-11 11:51:00   \n",
       "1         867      Airport        1.0  Trip Completed 2016-07-11 17:57:00   \n",
       "2        1807         City        1.0  Trip Completed 2016-07-12 09:17:00   \n",
       "3        2532      Airport        1.0  Trip Completed 2016-07-12 21:08:00   \n",
       "4        3112         City        1.0  Trip Completed 2016-07-13 08:33:16   \n",
       "\n",
       "       Drop_timestamp Request_Date  \n",
       "0 2016-07-11 13:00:00   2016-07-11  \n",
       "1 2016-07-11 18:47:00   2016-07-11  \n",
       "2 2016-07-12 09:58:00   2016-07-12  \n",
       "3 2016-07-12 22:03:00   2016-07-12  \n",
       "4 2016-07-13 09:25:47   2016-07-13  "
      ]
     },
     "execution_count": 18,
     "metadata": {},
     "output_type": "execute_result"
    }
   ],
   "source": [
    "#Extracting date part from Request_timestamp\n",
    "uber['Request_Date'] = uber['Request_timestamp'].dt.date\n",
    "uber.head()"
   ]
  },
  {
   "cell_type": "code",
   "execution_count": 19,
   "metadata": {},
   "outputs": [
    {
     "data": {
      "text/html": [
       "<div>\n",
       "<style scoped>\n",
       "    .dataframe tbody tr th:only-of-type {\n",
       "        vertical-align: middle;\n",
       "    }\n",
       "\n",
       "    .dataframe tbody tr th {\n",
       "        vertical-align: top;\n",
       "    }\n",
       "\n",
       "    .dataframe thead th {\n",
       "        text-align: right;\n",
       "    }\n",
       "</style>\n",
       "<table border=\"1\" class=\"dataframe\">\n",
       "  <thead>\n",
       "    <tr style=\"text-align: right;\">\n",
       "      <th></th>\n",
       "      <th>Request_id</th>\n",
       "      <th>Pickup_point</th>\n",
       "      <th>Driver_id</th>\n",
       "      <th>Status</th>\n",
       "      <th>Request_timestamp</th>\n",
       "      <th>Drop_timestamp</th>\n",
       "      <th>Request_Date</th>\n",
       "      <th>Request_Time</th>\n",
       "    </tr>\n",
       "  </thead>\n",
       "  <tbody>\n",
       "    <tr>\n",
       "      <th>0</th>\n",
       "      <td>619</td>\n",
       "      <td>Airport</td>\n",
       "      <td>1.0</td>\n",
       "      <td>Trip Completed</td>\n",
       "      <td>2016-07-11 11:51:00</td>\n",
       "      <td>2016-07-11 13:00:00</td>\n",
       "      <td>2016-07-11</td>\n",
       "      <td>11:51:00</td>\n",
       "    </tr>\n",
       "    <tr>\n",
       "      <th>1</th>\n",
       "      <td>867</td>\n",
       "      <td>Airport</td>\n",
       "      <td>1.0</td>\n",
       "      <td>Trip Completed</td>\n",
       "      <td>2016-07-11 17:57:00</td>\n",
       "      <td>2016-07-11 18:47:00</td>\n",
       "      <td>2016-07-11</td>\n",
       "      <td>17:57:00</td>\n",
       "    </tr>\n",
       "    <tr>\n",
       "      <th>2</th>\n",
       "      <td>1807</td>\n",
       "      <td>City</td>\n",
       "      <td>1.0</td>\n",
       "      <td>Trip Completed</td>\n",
       "      <td>2016-07-12 09:17:00</td>\n",
       "      <td>2016-07-12 09:58:00</td>\n",
       "      <td>2016-07-12</td>\n",
       "      <td>09:17:00</td>\n",
       "    </tr>\n",
       "    <tr>\n",
       "      <th>3</th>\n",
       "      <td>2532</td>\n",
       "      <td>Airport</td>\n",
       "      <td>1.0</td>\n",
       "      <td>Trip Completed</td>\n",
       "      <td>2016-07-12 21:08:00</td>\n",
       "      <td>2016-07-12 22:03:00</td>\n",
       "      <td>2016-07-12</td>\n",
       "      <td>21:08:00</td>\n",
       "    </tr>\n",
       "    <tr>\n",
       "      <th>4</th>\n",
       "      <td>3112</td>\n",
       "      <td>City</td>\n",
       "      <td>1.0</td>\n",
       "      <td>Trip Completed</td>\n",
       "      <td>2016-07-13 08:33:16</td>\n",
       "      <td>2016-07-13 09:25:47</td>\n",
       "      <td>2016-07-13</td>\n",
       "      <td>08:33:16</td>\n",
       "    </tr>\n",
       "  </tbody>\n",
       "</table>\n",
       "</div>"
      ],
      "text/plain": [
       "   Request_id Pickup_point  Driver_id          Status   Request_timestamp  \\\n",
       "0         619      Airport        1.0  Trip Completed 2016-07-11 11:51:00   \n",
       "1         867      Airport        1.0  Trip Completed 2016-07-11 17:57:00   \n",
       "2        1807         City        1.0  Trip Completed 2016-07-12 09:17:00   \n",
       "3        2532      Airport        1.0  Trip Completed 2016-07-12 21:08:00   \n",
       "4        3112         City        1.0  Trip Completed 2016-07-13 08:33:16   \n",
       "\n",
       "       Drop_timestamp Request_Date Request_Time  \n",
       "0 2016-07-11 13:00:00   2016-07-11     11:51:00  \n",
       "1 2016-07-11 18:47:00   2016-07-11     17:57:00  \n",
       "2 2016-07-12 09:58:00   2016-07-12     09:17:00  \n",
       "3 2016-07-12 22:03:00   2016-07-12     21:08:00  \n",
       "4 2016-07-13 09:25:47   2016-07-13     08:33:16  "
      ]
     },
     "execution_count": 19,
     "metadata": {},
     "output_type": "execute_result"
    }
   ],
   "source": [
    "#Extracting time part from Request_timestamp\n",
    "uber['Request_Time'] = uber['Request_timestamp'].dt.time\n",
    "uber.head()"
   ]
  },
  {
   "cell_type": "code",
   "execution_count": 20,
   "metadata": {},
   "outputs": [
    {
     "data": {
      "text/html": [
       "<div>\n",
       "<style scoped>\n",
       "    .dataframe tbody tr th:only-of-type {\n",
       "        vertical-align: middle;\n",
       "    }\n",
       "\n",
       "    .dataframe tbody tr th {\n",
       "        vertical-align: top;\n",
       "    }\n",
       "\n",
       "    .dataframe thead th {\n",
       "        text-align: right;\n",
       "    }\n",
       "</style>\n",
       "<table border=\"1\" class=\"dataframe\">\n",
       "  <thead>\n",
       "    <tr style=\"text-align: right;\">\n",
       "      <th></th>\n",
       "      <th>Request_id</th>\n",
       "      <th>Pickup_point</th>\n",
       "      <th>Driver_id</th>\n",
       "      <th>Status</th>\n",
       "      <th>Request_timestamp</th>\n",
       "      <th>Drop_timestamp</th>\n",
       "      <th>Request_Date</th>\n",
       "      <th>Request_Time</th>\n",
       "      <th>Request_Day</th>\n",
       "    </tr>\n",
       "  </thead>\n",
       "  <tbody>\n",
       "    <tr>\n",
       "      <th>0</th>\n",
       "      <td>619</td>\n",
       "      <td>Airport</td>\n",
       "      <td>1.0</td>\n",
       "      <td>Trip Completed</td>\n",
       "      <td>2016-07-11 11:51:00</td>\n",
       "      <td>2016-07-11 13:00:00</td>\n",
       "      <td>2016-07-11</td>\n",
       "      <td>11:51:00</td>\n",
       "      <td>11</td>\n",
       "    </tr>\n",
       "    <tr>\n",
       "      <th>1</th>\n",
       "      <td>867</td>\n",
       "      <td>Airport</td>\n",
       "      <td>1.0</td>\n",
       "      <td>Trip Completed</td>\n",
       "      <td>2016-07-11 17:57:00</td>\n",
       "      <td>2016-07-11 18:47:00</td>\n",
       "      <td>2016-07-11</td>\n",
       "      <td>17:57:00</td>\n",
       "      <td>11</td>\n",
       "    </tr>\n",
       "    <tr>\n",
       "      <th>2</th>\n",
       "      <td>1807</td>\n",
       "      <td>City</td>\n",
       "      <td>1.0</td>\n",
       "      <td>Trip Completed</td>\n",
       "      <td>2016-07-12 09:17:00</td>\n",
       "      <td>2016-07-12 09:58:00</td>\n",
       "      <td>2016-07-12</td>\n",
       "      <td>09:17:00</td>\n",
       "      <td>12</td>\n",
       "    </tr>\n",
       "    <tr>\n",
       "      <th>3</th>\n",
       "      <td>2532</td>\n",
       "      <td>Airport</td>\n",
       "      <td>1.0</td>\n",
       "      <td>Trip Completed</td>\n",
       "      <td>2016-07-12 21:08:00</td>\n",
       "      <td>2016-07-12 22:03:00</td>\n",
       "      <td>2016-07-12</td>\n",
       "      <td>21:08:00</td>\n",
       "      <td>12</td>\n",
       "    </tr>\n",
       "    <tr>\n",
       "      <th>4</th>\n",
       "      <td>3112</td>\n",
       "      <td>City</td>\n",
       "      <td>1.0</td>\n",
       "      <td>Trip Completed</td>\n",
       "      <td>2016-07-13 08:33:16</td>\n",
       "      <td>2016-07-13 09:25:47</td>\n",
       "      <td>2016-07-13</td>\n",
       "      <td>08:33:16</td>\n",
       "      <td>13</td>\n",
       "    </tr>\n",
       "  </tbody>\n",
       "</table>\n",
       "</div>"
      ],
      "text/plain": [
       "   Request_id Pickup_point  Driver_id          Status   Request_timestamp  \\\n",
       "0         619      Airport        1.0  Trip Completed 2016-07-11 11:51:00   \n",
       "1         867      Airport        1.0  Trip Completed 2016-07-11 17:57:00   \n",
       "2        1807         City        1.0  Trip Completed 2016-07-12 09:17:00   \n",
       "3        2532      Airport        1.0  Trip Completed 2016-07-12 21:08:00   \n",
       "4        3112         City        1.0  Trip Completed 2016-07-13 08:33:16   \n",
       "\n",
       "       Drop_timestamp Request_Date Request_Time  Request_Day  \n",
       "0 2016-07-11 13:00:00   2016-07-11     11:51:00           11  \n",
       "1 2016-07-11 18:47:00   2016-07-11     17:57:00           11  \n",
       "2 2016-07-12 09:58:00   2016-07-12     09:17:00           12  \n",
       "3 2016-07-12 22:03:00   2016-07-12     21:08:00           12  \n",
       "4 2016-07-13 09:25:47   2016-07-13     08:33:16           13  "
      ]
     },
     "execution_count": 20,
     "metadata": {},
     "output_type": "execute_result"
    }
   ],
   "source": [
    "#Extracting day part from Request_timestamp\n",
    "uber['Request_Day'] = uber['Request_timestamp'].dt.day\n",
    "uber.head()"
   ]
  },
  {
   "cell_type": "code",
   "execution_count": 21,
   "metadata": {},
   "outputs": [
    {
     "data": {
      "text/html": [
       "<div>\n",
       "<style scoped>\n",
       "    .dataframe tbody tr th:only-of-type {\n",
       "        vertical-align: middle;\n",
       "    }\n",
       "\n",
       "    .dataframe tbody tr th {\n",
       "        vertical-align: top;\n",
       "    }\n",
       "\n",
       "    .dataframe thead th {\n",
       "        text-align: right;\n",
       "    }\n",
       "</style>\n",
       "<table border=\"1\" class=\"dataframe\">\n",
       "  <thead>\n",
       "    <tr style=\"text-align: right;\">\n",
       "      <th></th>\n",
       "      <th>Request_id</th>\n",
       "      <th>Pickup_point</th>\n",
       "      <th>Driver_id</th>\n",
       "      <th>Status</th>\n",
       "      <th>Request_timestamp</th>\n",
       "      <th>Drop_timestamp</th>\n",
       "      <th>Request_Date</th>\n",
       "      <th>Request_Time</th>\n",
       "      <th>Request_Day</th>\n",
       "      <th>Request_Time_hr</th>\n",
       "    </tr>\n",
       "  </thead>\n",
       "  <tbody>\n",
       "    <tr>\n",
       "      <th>0</th>\n",
       "      <td>619</td>\n",
       "      <td>Airport</td>\n",
       "      <td>1.0</td>\n",
       "      <td>Trip Completed</td>\n",
       "      <td>2016-07-11 11:51:00</td>\n",
       "      <td>2016-07-11 13:00:00</td>\n",
       "      <td>2016-07-11</td>\n",
       "      <td>11:51:00</td>\n",
       "      <td>11</td>\n",
       "      <td>11:51 AM</td>\n",
       "    </tr>\n",
       "    <tr>\n",
       "      <th>1</th>\n",
       "      <td>867</td>\n",
       "      <td>Airport</td>\n",
       "      <td>1.0</td>\n",
       "      <td>Trip Completed</td>\n",
       "      <td>2016-07-11 17:57:00</td>\n",
       "      <td>2016-07-11 18:47:00</td>\n",
       "      <td>2016-07-11</td>\n",
       "      <td>17:57:00</td>\n",
       "      <td>11</td>\n",
       "      <td>05:57 PM</td>\n",
       "    </tr>\n",
       "    <tr>\n",
       "      <th>2</th>\n",
       "      <td>1807</td>\n",
       "      <td>City</td>\n",
       "      <td>1.0</td>\n",
       "      <td>Trip Completed</td>\n",
       "      <td>2016-07-12 09:17:00</td>\n",
       "      <td>2016-07-12 09:58:00</td>\n",
       "      <td>2016-07-12</td>\n",
       "      <td>09:17:00</td>\n",
       "      <td>12</td>\n",
       "      <td>09:17 AM</td>\n",
       "    </tr>\n",
       "    <tr>\n",
       "      <th>3</th>\n",
       "      <td>2532</td>\n",
       "      <td>Airport</td>\n",
       "      <td>1.0</td>\n",
       "      <td>Trip Completed</td>\n",
       "      <td>2016-07-12 21:08:00</td>\n",
       "      <td>2016-07-12 22:03:00</td>\n",
       "      <td>2016-07-12</td>\n",
       "      <td>21:08:00</td>\n",
       "      <td>12</td>\n",
       "      <td>09:08 PM</td>\n",
       "    </tr>\n",
       "    <tr>\n",
       "      <th>4</th>\n",
       "      <td>3112</td>\n",
       "      <td>City</td>\n",
       "      <td>1.0</td>\n",
       "      <td>Trip Completed</td>\n",
       "      <td>2016-07-13 08:33:16</td>\n",
       "      <td>2016-07-13 09:25:47</td>\n",
       "      <td>2016-07-13</td>\n",
       "      <td>08:33:16</td>\n",
       "      <td>13</td>\n",
       "      <td>08:33 AM</td>\n",
       "    </tr>\n",
       "  </tbody>\n",
       "</table>\n",
       "</div>"
      ],
      "text/plain": [
       "   Request_id Pickup_point  Driver_id          Status   Request_timestamp  \\\n",
       "0         619      Airport        1.0  Trip Completed 2016-07-11 11:51:00   \n",
       "1         867      Airport        1.0  Trip Completed 2016-07-11 17:57:00   \n",
       "2        1807         City        1.0  Trip Completed 2016-07-12 09:17:00   \n",
       "3        2532      Airport        1.0  Trip Completed 2016-07-12 21:08:00   \n",
       "4        3112         City        1.0  Trip Completed 2016-07-13 08:33:16   \n",
       "\n",
       "       Drop_timestamp Request_Date Request_Time  Request_Day Request_Time_hr  \n",
       "0 2016-07-11 13:00:00   2016-07-11     11:51:00           11        11:51 AM  \n",
       "1 2016-07-11 18:47:00   2016-07-11     17:57:00           11        05:57 PM  \n",
       "2 2016-07-12 09:58:00   2016-07-12     09:17:00           12        09:17 AM  \n",
       "3 2016-07-12 22:03:00   2016-07-12     21:08:00           12        09:08 PM  \n",
       "4 2016-07-13 09:25:47   2016-07-13     08:33:16           13        08:33 AM  "
      ]
     },
     "execution_count": 21,
     "metadata": {},
     "output_type": "execute_result"
    }
   ],
   "source": [
    "#Convertime 24 Hr time of Request to AM PM format\n",
    "uber['Request_Time_hr'] = uber['Request_timestamp'].dt.strftime('%I:%M %p')\n",
    "uber.head()"
   ]
  },
  {
   "cell_type": "code",
   "execution_count": 22,
   "metadata": {},
   "outputs": [
    {
     "data": {
      "text/html": [
       "<div>\n",
       "<style scoped>\n",
       "    .dataframe tbody tr th:only-of-type {\n",
       "        vertical-align: middle;\n",
       "    }\n",
       "\n",
       "    .dataframe tbody tr th {\n",
       "        vertical-align: top;\n",
       "    }\n",
       "\n",
       "    .dataframe thead th {\n",
       "        text-align: right;\n",
       "    }\n",
       "</style>\n",
       "<table border=\"1\" class=\"dataframe\">\n",
       "  <thead>\n",
       "    <tr style=\"text-align: right;\">\n",
       "      <th></th>\n",
       "      <th>Request_id</th>\n",
       "      <th>Pickup_point</th>\n",
       "      <th>Driver_id</th>\n",
       "      <th>Status</th>\n",
       "      <th>Request_timestamp</th>\n",
       "      <th>Drop_timestamp</th>\n",
       "      <th>Request_Date</th>\n",
       "      <th>Request_Time</th>\n",
       "      <th>Request_Day</th>\n",
       "      <th>Request_Time_hr</th>\n",
       "      <th>Drop_Date</th>\n",
       "    </tr>\n",
       "  </thead>\n",
       "  <tbody>\n",
       "    <tr>\n",
       "      <th>0</th>\n",
       "      <td>619</td>\n",
       "      <td>Airport</td>\n",
       "      <td>1.0</td>\n",
       "      <td>Trip Completed</td>\n",
       "      <td>2016-07-11 11:51:00</td>\n",
       "      <td>2016-07-11 13:00:00</td>\n",
       "      <td>2016-07-11</td>\n",
       "      <td>11:51:00</td>\n",
       "      <td>11</td>\n",
       "      <td>11:51 AM</td>\n",
       "      <td>2016-07-11</td>\n",
       "    </tr>\n",
       "    <tr>\n",
       "      <th>1</th>\n",
       "      <td>867</td>\n",
       "      <td>Airport</td>\n",
       "      <td>1.0</td>\n",
       "      <td>Trip Completed</td>\n",
       "      <td>2016-07-11 17:57:00</td>\n",
       "      <td>2016-07-11 18:47:00</td>\n",
       "      <td>2016-07-11</td>\n",
       "      <td>17:57:00</td>\n",
       "      <td>11</td>\n",
       "      <td>05:57 PM</td>\n",
       "      <td>2016-07-11</td>\n",
       "    </tr>\n",
       "    <tr>\n",
       "      <th>2</th>\n",
       "      <td>1807</td>\n",
       "      <td>City</td>\n",
       "      <td>1.0</td>\n",
       "      <td>Trip Completed</td>\n",
       "      <td>2016-07-12 09:17:00</td>\n",
       "      <td>2016-07-12 09:58:00</td>\n",
       "      <td>2016-07-12</td>\n",
       "      <td>09:17:00</td>\n",
       "      <td>12</td>\n",
       "      <td>09:17 AM</td>\n",
       "      <td>2016-07-12</td>\n",
       "    </tr>\n",
       "    <tr>\n",
       "      <th>3</th>\n",
       "      <td>2532</td>\n",
       "      <td>Airport</td>\n",
       "      <td>1.0</td>\n",
       "      <td>Trip Completed</td>\n",
       "      <td>2016-07-12 21:08:00</td>\n",
       "      <td>2016-07-12 22:03:00</td>\n",
       "      <td>2016-07-12</td>\n",
       "      <td>21:08:00</td>\n",
       "      <td>12</td>\n",
       "      <td>09:08 PM</td>\n",
       "      <td>2016-07-12</td>\n",
       "    </tr>\n",
       "    <tr>\n",
       "      <th>4</th>\n",
       "      <td>3112</td>\n",
       "      <td>City</td>\n",
       "      <td>1.0</td>\n",
       "      <td>Trip Completed</td>\n",
       "      <td>2016-07-13 08:33:16</td>\n",
       "      <td>2016-07-13 09:25:47</td>\n",
       "      <td>2016-07-13</td>\n",
       "      <td>08:33:16</td>\n",
       "      <td>13</td>\n",
       "      <td>08:33 AM</td>\n",
       "      <td>2016-07-13</td>\n",
       "    </tr>\n",
       "  </tbody>\n",
       "</table>\n",
       "</div>"
      ],
      "text/plain": [
       "   Request_id Pickup_point  Driver_id          Status   Request_timestamp  \\\n",
       "0         619      Airport        1.0  Trip Completed 2016-07-11 11:51:00   \n",
       "1         867      Airport        1.0  Trip Completed 2016-07-11 17:57:00   \n",
       "2        1807         City        1.0  Trip Completed 2016-07-12 09:17:00   \n",
       "3        2532      Airport        1.0  Trip Completed 2016-07-12 21:08:00   \n",
       "4        3112         City        1.0  Trip Completed 2016-07-13 08:33:16   \n",
       "\n",
       "       Drop_timestamp Request_Date Request_Time  Request_Day Request_Time_hr  \\\n",
       "0 2016-07-11 13:00:00   2016-07-11     11:51:00           11        11:51 AM   \n",
       "1 2016-07-11 18:47:00   2016-07-11     17:57:00           11        05:57 PM   \n",
       "2 2016-07-12 09:58:00   2016-07-12     09:17:00           12        09:17 AM   \n",
       "3 2016-07-12 22:03:00   2016-07-12     21:08:00           12        09:08 PM   \n",
       "4 2016-07-13 09:25:47   2016-07-13     08:33:16           13        08:33 AM   \n",
       "\n",
       "    Drop_Date  \n",
       "0  2016-07-11  \n",
       "1  2016-07-11  \n",
       "2  2016-07-12  \n",
       "3  2016-07-12  \n",
       "4  2016-07-13  "
      ]
     },
     "execution_count": 22,
     "metadata": {},
     "output_type": "execute_result"
    }
   ],
   "source": [
    "#Extracting date part from Drop_timestamp\n",
    "uber['Drop_Date'] = uber['Drop_timestamp'].dt.date\n",
    "uber.head()"
   ]
  },
  {
   "cell_type": "code",
   "execution_count": 23,
   "metadata": {
    "scrolled": true
   },
   "outputs": [
    {
     "data": {
      "text/html": [
       "<div>\n",
       "<style scoped>\n",
       "    .dataframe tbody tr th:only-of-type {\n",
       "        vertical-align: middle;\n",
       "    }\n",
       "\n",
       "    .dataframe tbody tr th {\n",
       "        vertical-align: top;\n",
       "    }\n",
       "\n",
       "    .dataframe thead th {\n",
       "        text-align: right;\n",
       "    }\n",
       "</style>\n",
       "<table border=\"1\" class=\"dataframe\">\n",
       "  <thead>\n",
       "    <tr style=\"text-align: right;\">\n",
       "      <th></th>\n",
       "      <th>Request_id</th>\n",
       "      <th>Pickup_point</th>\n",
       "      <th>Driver_id</th>\n",
       "      <th>Status</th>\n",
       "      <th>Request_timestamp</th>\n",
       "      <th>Drop_timestamp</th>\n",
       "      <th>Request_Date</th>\n",
       "      <th>Request_Time</th>\n",
       "      <th>Request_Day</th>\n",
       "      <th>Request_Time_hr</th>\n",
       "      <th>Drop_Date</th>\n",
       "      <th>Drop_Time</th>\n",
       "    </tr>\n",
       "  </thead>\n",
       "  <tbody>\n",
       "    <tr>\n",
       "      <th>0</th>\n",
       "      <td>619</td>\n",
       "      <td>Airport</td>\n",
       "      <td>1.0</td>\n",
       "      <td>Trip Completed</td>\n",
       "      <td>2016-07-11 11:51:00</td>\n",
       "      <td>2016-07-11 13:00:00</td>\n",
       "      <td>2016-07-11</td>\n",
       "      <td>11:51:00</td>\n",
       "      <td>11</td>\n",
       "      <td>11:51 AM</td>\n",
       "      <td>2016-07-11</td>\n",
       "      <td>13:00:00</td>\n",
       "    </tr>\n",
       "    <tr>\n",
       "      <th>1</th>\n",
       "      <td>867</td>\n",
       "      <td>Airport</td>\n",
       "      <td>1.0</td>\n",
       "      <td>Trip Completed</td>\n",
       "      <td>2016-07-11 17:57:00</td>\n",
       "      <td>2016-07-11 18:47:00</td>\n",
       "      <td>2016-07-11</td>\n",
       "      <td>17:57:00</td>\n",
       "      <td>11</td>\n",
       "      <td>05:57 PM</td>\n",
       "      <td>2016-07-11</td>\n",
       "      <td>18:47:00</td>\n",
       "    </tr>\n",
       "    <tr>\n",
       "      <th>2</th>\n",
       "      <td>1807</td>\n",
       "      <td>City</td>\n",
       "      <td>1.0</td>\n",
       "      <td>Trip Completed</td>\n",
       "      <td>2016-07-12 09:17:00</td>\n",
       "      <td>2016-07-12 09:58:00</td>\n",
       "      <td>2016-07-12</td>\n",
       "      <td>09:17:00</td>\n",
       "      <td>12</td>\n",
       "      <td>09:17 AM</td>\n",
       "      <td>2016-07-12</td>\n",
       "      <td>09:58:00</td>\n",
       "    </tr>\n",
       "    <tr>\n",
       "      <th>3</th>\n",
       "      <td>2532</td>\n",
       "      <td>Airport</td>\n",
       "      <td>1.0</td>\n",
       "      <td>Trip Completed</td>\n",
       "      <td>2016-07-12 21:08:00</td>\n",
       "      <td>2016-07-12 22:03:00</td>\n",
       "      <td>2016-07-12</td>\n",
       "      <td>21:08:00</td>\n",
       "      <td>12</td>\n",
       "      <td>09:08 PM</td>\n",
       "      <td>2016-07-12</td>\n",
       "      <td>22:03:00</td>\n",
       "    </tr>\n",
       "    <tr>\n",
       "      <th>4</th>\n",
       "      <td>3112</td>\n",
       "      <td>City</td>\n",
       "      <td>1.0</td>\n",
       "      <td>Trip Completed</td>\n",
       "      <td>2016-07-13 08:33:16</td>\n",
       "      <td>2016-07-13 09:25:47</td>\n",
       "      <td>2016-07-13</td>\n",
       "      <td>08:33:16</td>\n",
       "      <td>13</td>\n",
       "      <td>08:33 AM</td>\n",
       "      <td>2016-07-13</td>\n",
       "      <td>09:25:47</td>\n",
       "    </tr>\n",
       "  </tbody>\n",
       "</table>\n",
       "</div>"
      ],
      "text/plain": [
       "   Request_id Pickup_point  Driver_id          Status   Request_timestamp  \\\n",
       "0         619      Airport        1.0  Trip Completed 2016-07-11 11:51:00   \n",
       "1         867      Airport        1.0  Trip Completed 2016-07-11 17:57:00   \n",
       "2        1807         City        1.0  Trip Completed 2016-07-12 09:17:00   \n",
       "3        2532      Airport        1.0  Trip Completed 2016-07-12 21:08:00   \n",
       "4        3112         City        1.0  Trip Completed 2016-07-13 08:33:16   \n",
       "\n",
       "       Drop_timestamp Request_Date Request_Time  Request_Day Request_Time_hr  \\\n",
       "0 2016-07-11 13:00:00   2016-07-11     11:51:00           11        11:51 AM   \n",
       "1 2016-07-11 18:47:00   2016-07-11     17:57:00           11        05:57 PM   \n",
       "2 2016-07-12 09:58:00   2016-07-12     09:17:00           12        09:17 AM   \n",
       "3 2016-07-12 22:03:00   2016-07-12     21:08:00           12        09:08 PM   \n",
       "4 2016-07-13 09:25:47   2016-07-13     08:33:16           13        08:33 AM   \n",
       "\n",
       "    Drop_Date Drop_Time  \n",
       "0  2016-07-11  13:00:00  \n",
       "1  2016-07-11  18:47:00  \n",
       "2  2016-07-12  09:58:00  \n",
       "3  2016-07-12  22:03:00  \n",
       "4  2016-07-13  09:25:47  "
      ]
     },
     "execution_count": 23,
     "metadata": {},
     "output_type": "execute_result"
    }
   ],
   "source": [
    "#Extracting time part from Drop_timestamp\n",
    "uber['Drop_Time'] = uber['Drop_timestamp'].dt.time\n",
    "uber.head()"
   ]
  },
  {
   "cell_type": "code",
   "execution_count": 24,
   "metadata": {
    "scrolled": false
   },
   "outputs": [
    {
     "data": {
      "text/html": [
       "<div>\n",
       "<style scoped>\n",
       "    .dataframe tbody tr th:only-of-type {\n",
       "        vertical-align: middle;\n",
       "    }\n",
       "\n",
       "    .dataframe tbody tr th {\n",
       "        vertical-align: top;\n",
       "    }\n",
       "\n",
       "    .dataframe thead th {\n",
       "        text-align: right;\n",
       "    }\n",
       "</style>\n",
       "<table border=\"1\" class=\"dataframe\">\n",
       "  <thead>\n",
       "    <tr style=\"text-align: right;\">\n",
       "      <th></th>\n",
       "      <th>Request_id</th>\n",
       "      <th>Pickup_point</th>\n",
       "      <th>Driver_id</th>\n",
       "      <th>Status</th>\n",
       "      <th>Request_timestamp</th>\n",
       "      <th>Drop_timestamp</th>\n",
       "      <th>Request_Date</th>\n",
       "      <th>Request_Time</th>\n",
       "      <th>Request_Day</th>\n",
       "      <th>Request_Time_hr</th>\n",
       "      <th>Drop_Date</th>\n",
       "      <th>Drop_Time</th>\n",
       "      <th>Drop_Day</th>\n",
       "    </tr>\n",
       "  </thead>\n",
       "  <tbody>\n",
       "    <tr>\n",
       "      <th>0</th>\n",
       "      <td>619</td>\n",
       "      <td>Airport</td>\n",
       "      <td>1.0</td>\n",
       "      <td>Trip Completed</td>\n",
       "      <td>2016-07-11 11:51:00</td>\n",
       "      <td>2016-07-11 13:00:00</td>\n",
       "      <td>2016-07-11</td>\n",
       "      <td>11:51:00</td>\n",
       "      <td>11</td>\n",
       "      <td>11:51 AM</td>\n",
       "      <td>2016-07-11</td>\n",
       "      <td>13:00:00</td>\n",
       "      <td>11.0</td>\n",
       "    </tr>\n",
       "    <tr>\n",
       "      <th>1</th>\n",
       "      <td>867</td>\n",
       "      <td>Airport</td>\n",
       "      <td>1.0</td>\n",
       "      <td>Trip Completed</td>\n",
       "      <td>2016-07-11 17:57:00</td>\n",
       "      <td>2016-07-11 18:47:00</td>\n",
       "      <td>2016-07-11</td>\n",
       "      <td>17:57:00</td>\n",
       "      <td>11</td>\n",
       "      <td>05:57 PM</td>\n",
       "      <td>2016-07-11</td>\n",
       "      <td>18:47:00</td>\n",
       "      <td>11.0</td>\n",
       "    </tr>\n",
       "    <tr>\n",
       "      <th>2</th>\n",
       "      <td>1807</td>\n",
       "      <td>City</td>\n",
       "      <td>1.0</td>\n",
       "      <td>Trip Completed</td>\n",
       "      <td>2016-07-12 09:17:00</td>\n",
       "      <td>2016-07-12 09:58:00</td>\n",
       "      <td>2016-07-12</td>\n",
       "      <td>09:17:00</td>\n",
       "      <td>12</td>\n",
       "      <td>09:17 AM</td>\n",
       "      <td>2016-07-12</td>\n",
       "      <td>09:58:00</td>\n",
       "      <td>12.0</td>\n",
       "    </tr>\n",
       "    <tr>\n",
       "      <th>3</th>\n",
       "      <td>2532</td>\n",
       "      <td>Airport</td>\n",
       "      <td>1.0</td>\n",
       "      <td>Trip Completed</td>\n",
       "      <td>2016-07-12 21:08:00</td>\n",
       "      <td>2016-07-12 22:03:00</td>\n",
       "      <td>2016-07-12</td>\n",
       "      <td>21:08:00</td>\n",
       "      <td>12</td>\n",
       "      <td>09:08 PM</td>\n",
       "      <td>2016-07-12</td>\n",
       "      <td>22:03:00</td>\n",
       "      <td>12.0</td>\n",
       "    </tr>\n",
       "    <tr>\n",
       "      <th>4</th>\n",
       "      <td>3112</td>\n",
       "      <td>City</td>\n",
       "      <td>1.0</td>\n",
       "      <td>Trip Completed</td>\n",
       "      <td>2016-07-13 08:33:16</td>\n",
       "      <td>2016-07-13 09:25:47</td>\n",
       "      <td>2016-07-13</td>\n",
       "      <td>08:33:16</td>\n",
       "      <td>13</td>\n",
       "      <td>08:33 AM</td>\n",
       "      <td>2016-07-13</td>\n",
       "      <td>09:25:47</td>\n",
       "      <td>13.0</td>\n",
       "    </tr>\n",
       "  </tbody>\n",
       "</table>\n",
       "</div>"
      ],
      "text/plain": [
       "   Request_id Pickup_point  Driver_id          Status   Request_timestamp  \\\n",
       "0         619      Airport        1.0  Trip Completed 2016-07-11 11:51:00   \n",
       "1         867      Airport        1.0  Trip Completed 2016-07-11 17:57:00   \n",
       "2        1807         City        1.0  Trip Completed 2016-07-12 09:17:00   \n",
       "3        2532      Airport        1.0  Trip Completed 2016-07-12 21:08:00   \n",
       "4        3112         City        1.0  Trip Completed 2016-07-13 08:33:16   \n",
       "\n",
       "       Drop_timestamp Request_Date Request_Time  Request_Day Request_Time_hr  \\\n",
       "0 2016-07-11 13:00:00   2016-07-11     11:51:00           11        11:51 AM   \n",
       "1 2016-07-11 18:47:00   2016-07-11     17:57:00           11        05:57 PM   \n",
       "2 2016-07-12 09:58:00   2016-07-12     09:17:00           12        09:17 AM   \n",
       "3 2016-07-12 22:03:00   2016-07-12     21:08:00           12        09:08 PM   \n",
       "4 2016-07-13 09:25:47   2016-07-13     08:33:16           13        08:33 AM   \n",
       "\n",
       "    Drop_Date Drop_Time  Drop_Day  \n",
       "0  2016-07-11  13:00:00      11.0  \n",
       "1  2016-07-11  18:47:00      11.0  \n",
       "2  2016-07-12  09:58:00      12.0  \n",
       "3  2016-07-12  22:03:00      12.0  \n",
       "4  2016-07-13  09:25:47      13.0  "
      ]
     },
     "execution_count": 24,
     "metadata": {},
     "output_type": "execute_result"
    }
   ],
   "source": [
    "#Extracting day part from Drop_timestamp\n",
    "uber['Drop_Day'] = uber['Drop_timestamp'].dt.day\n",
    "uber.head()"
   ]
  },
  {
   "cell_type": "code",
   "execution_count": 25,
   "metadata": {},
   "outputs": [
    {
     "data": {
      "text/html": [
       "<div>\n",
       "<style scoped>\n",
       "    .dataframe tbody tr th:only-of-type {\n",
       "        vertical-align: middle;\n",
       "    }\n",
       "\n",
       "    .dataframe tbody tr th {\n",
       "        vertical-align: top;\n",
       "    }\n",
       "\n",
       "    .dataframe thead th {\n",
       "        text-align: right;\n",
       "    }\n",
       "</style>\n",
       "<table border=\"1\" class=\"dataframe\">\n",
       "  <thead>\n",
       "    <tr style=\"text-align: right;\">\n",
       "      <th></th>\n",
       "      <th>Request_id</th>\n",
       "      <th>Pickup_point</th>\n",
       "      <th>Driver_id</th>\n",
       "      <th>Status</th>\n",
       "      <th>Request_timestamp</th>\n",
       "      <th>Drop_timestamp</th>\n",
       "      <th>Request_Date</th>\n",
       "      <th>Request_Time</th>\n",
       "      <th>Request_Day</th>\n",
       "      <th>Request_Time_hr</th>\n",
       "      <th>Drop_Date</th>\n",
       "      <th>Drop_Time</th>\n",
       "      <th>Drop_Day</th>\n",
       "      <th>Drop_Time_hr</th>\n",
       "    </tr>\n",
       "  </thead>\n",
       "  <tbody>\n",
       "    <tr>\n",
       "      <th>0</th>\n",
       "      <td>619</td>\n",
       "      <td>Airport</td>\n",
       "      <td>1.0</td>\n",
       "      <td>Trip Completed</td>\n",
       "      <td>2016-07-11 11:51:00</td>\n",
       "      <td>2016-07-11 13:00:00</td>\n",
       "      <td>2016-07-11</td>\n",
       "      <td>11:51:00</td>\n",
       "      <td>11</td>\n",
       "      <td>11:51 AM</td>\n",
       "      <td>2016-07-11</td>\n",
       "      <td>13:00:00</td>\n",
       "      <td>11.0</td>\n",
       "      <td>01:00 PM</td>\n",
       "    </tr>\n",
       "    <tr>\n",
       "      <th>1</th>\n",
       "      <td>867</td>\n",
       "      <td>Airport</td>\n",
       "      <td>1.0</td>\n",
       "      <td>Trip Completed</td>\n",
       "      <td>2016-07-11 17:57:00</td>\n",
       "      <td>2016-07-11 18:47:00</td>\n",
       "      <td>2016-07-11</td>\n",
       "      <td>17:57:00</td>\n",
       "      <td>11</td>\n",
       "      <td>05:57 PM</td>\n",
       "      <td>2016-07-11</td>\n",
       "      <td>18:47:00</td>\n",
       "      <td>11.0</td>\n",
       "      <td>06:47 PM</td>\n",
       "    </tr>\n",
       "    <tr>\n",
       "      <th>2</th>\n",
       "      <td>1807</td>\n",
       "      <td>City</td>\n",
       "      <td>1.0</td>\n",
       "      <td>Trip Completed</td>\n",
       "      <td>2016-07-12 09:17:00</td>\n",
       "      <td>2016-07-12 09:58:00</td>\n",
       "      <td>2016-07-12</td>\n",
       "      <td>09:17:00</td>\n",
       "      <td>12</td>\n",
       "      <td>09:17 AM</td>\n",
       "      <td>2016-07-12</td>\n",
       "      <td>09:58:00</td>\n",
       "      <td>12.0</td>\n",
       "      <td>09:58 AM</td>\n",
       "    </tr>\n",
       "    <tr>\n",
       "      <th>3</th>\n",
       "      <td>2532</td>\n",
       "      <td>Airport</td>\n",
       "      <td>1.0</td>\n",
       "      <td>Trip Completed</td>\n",
       "      <td>2016-07-12 21:08:00</td>\n",
       "      <td>2016-07-12 22:03:00</td>\n",
       "      <td>2016-07-12</td>\n",
       "      <td>21:08:00</td>\n",
       "      <td>12</td>\n",
       "      <td>09:08 PM</td>\n",
       "      <td>2016-07-12</td>\n",
       "      <td>22:03:00</td>\n",
       "      <td>12.0</td>\n",
       "      <td>10:03 PM</td>\n",
       "    </tr>\n",
       "    <tr>\n",
       "      <th>4</th>\n",
       "      <td>3112</td>\n",
       "      <td>City</td>\n",
       "      <td>1.0</td>\n",
       "      <td>Trip Completed</td>\n",
       "      <td>2016-07-13 08:33:16</td>\n",
       "      <td>2016-07-13 09:25:47</td>\n",
       "      <td>2016-07-13</td>\n",
       "      <td>08:33:16</td>\n",
       "      <td>13</td>\n",
       "      <td>08:33 AM</td>\n",
       "      <td>2016-07-13</td>\n",
       "      <td>09:25:47</td>\n",
       "      <td>13.0</td>\n",
       "      <td>09:25 AM</td>\n",
       "    </tr>\n",
       "  </tbody>\n",
       "</table>\n",
       "</div>"
      ],
      "text/plain": [
       "   Request_id Pickup_point  Driver_id          Status   Request_timestamp  \\\n",
       "0         619      Airport        1.0  Trip Completed 2016-07-11 11:51:00   \n",
       "1         867      Airport        1.0  Trip Completed 2016-07-11 17:57:00   \n",
       "2        1807         City        1.0  Trip Completed 2016-07-12 09:17:00   \n",
       "3        2532      Airport        1.0  Trip Completed 2016-07-12 21:08:00   \n",
       "4        3112         City        1.0  Trip Completed 2016-07-13 08:33:16   \n",
       "\n",
       "       Drop_timestamp Request_Date Request_Time  Request_Day Request_Time_hr  \\\n",
       "0 2016-07-11 13:00:00   2016-07-11     11:51:00           11        11:51 AM   \n",
       "1 2016-07-11 18:47:00   2016-07-11     17:57:00           11        05:57 PM   \n",
       "2 2016-07-12 09:58:00   2016-07-12     09:17:00           12        09:17 AM   \n",
       "3 2016-07-12 22:03:00   2016-07-12     21:08:00           12        09:08 PM   \n",
       "4 2016-07-13 09:25:47   2016-07-13     08:33:16           13        08:33 AM   \n",
       "\n",
       "    Drop_Date Drop_Time  Drop_Day Drop_Time_hr  \n",
       "0  2016-07-11  13:00:00      11.0     01:00 PM  \n",
       "1  2016-07-11  18:47:00      11.0     06:47 PM  \n",
       "2  2016-07-12  09:58:00      12.0     09:58 AM  \n",
       "3  2016-07-12  22:03:00      12.0     10:03 PM  \n",
       "4  2016-07-13  09:25:47      13.0     09:25 AM  "
      ]
     },
     "execution_count": 25,
     "metadata": {},
     "output_type": "execute_result"
    }
   ],
   "source": [
    "#Convertime 24 Hr time of Drop to AM PM format\n",
    "uber['Drop_Time_hr'] = uber['Drop_timestamp'].dt.strftime('%I:%M %p')\n",
    "uber.head()\n"
   ]
  },
  {
   "cell_type": "code",
   "execution_count": 26,
   "metadata": {},
   "outputs": [
    {
     "data": {
      "text/html": [
       "<div>\n",
       "<style scoped>\n",
       "    .dataframe tbody tr th:only-of-type {\n",
       "        vertical-align: middle;\n",
       "    }\n",
       "\n",
       "    .dataframe tbody tr th {\n",
       "        vertical-align: top;\n",
       "    }\n",
       "\n",
       "    .dataframe thead th {\n",
       "        text-align: right;\n",
       "    }\n",
       "</style>\n",
       "<table border=\"1\" class=\"dataframe\">\n",
       "  <thead>\n",
       "    <tr style=\"text-align: right;\">\n",
       "      <th></th>\n",
       "      <th>Request_id</th>\n",
       "      <th>Pickup_point</th>\n",
       "      <th>Driver_id</th>\n",
       "      <th>Status</th>\n",
       "      <th>Request_timestamp</th>\n",
       "      <th>Drop_timestamp</th>\n",
       "      <th>Request_Date</th>\n",
       "      <th>Request_Time</th>\n",
       "      <th>Request_Day</th>\n",
       "      <th>Request_Time_hr</th>\n",
       "      <th>Drop_Date</th>\n",
       "      <th>Drop_Time</th>\n",
       "      <th>Drop_Day</th>\n",
       "      <th>Drop_Time_hr</th>\n",
       "      <th>Request_Hour</th>\n",
       "    </tr>\n",
       "  </thead>\n",
       "  <tbody>\n",
       "    <tr>\n",
       "      <th>0</th>\n",
       "      <td>619</td>\n",
       "      <td>Airport</td>\n",
       "      <td>1.0</td>\n",
       "      <td>Trip Completed</td>\n",
       "      <td>2016-07-11 11:51:00</td>\n",
       "      <td>2016-07-11 13:00:00</td>\n",
       "      <td>2016-07-11</td>\n",
       "      <td>11:51:00</td>\n",
       "      <td>11</td>\n",
       "      <td>11:51 AM</td>\n",
       "      <td>2016-07-11</td>\n",
       "      <td>13:00:00</td>\n",
       "      <td>11.0</td>\n",
       "      <td>01:00 PM</td>\n",
       "      <td>11</td>\n",
       "    </tr>\n",
       "    <tr>\n",
       "      <th>1</th>\n",
       "      <td>867</td>\n",
       "      <td>Airport</td>\n",
       "      <td>1.0</td>\n",
       "      <td>Trip Completed</td>\n",
       "      <td>2016-07-11 17:57:00</td>\n",
       "      <td>2016-07-11 18:47:00</td>\n",
       "      <td>2016-07-11</td>\n",
       "      <td>17:57:00</td>\n",
       "      <td>11</td>\n",
       "      <td>05:57 PM</td>\n",
       "      <td>2016-07-11</td>\n",
       "      <td>18:47:00</td>\n",
       "      <td>11.0</td>\n",
       "      <td>06:47 PM</td>\n",
       "      <td>17</td>\n",
       "    </tr>\n",
       "    <tr>\n",
       "      <th>2</th>\n",
       "      <td>1807</td>\n",
       "      <td>City</td>\n",
       "      <td>1.0</td>\n",
       "      <td>Trip Completed</td>\n",
       "      <td>2016-07-12 09:17:00</td>\n",
       "      <td>2016-07-12 09:58:00</td>\n",
       "      <td>2016-07-12</td>\n",
       "      <td>09:17:00</td>\n",
       "      <td>12</td>\n",
       "      <td>09:17 AM</td>\n",
       "      <td>2016-07-12</td>\n",
       "      <td>09:58:00</td>\n",
       "      <td>12.0</td>\n",
       "      <td>09:58 AM</td>\n",
       "      <td>9</td>\n",
       "    </tr>\n",
       "    <tr>\n",
       "      <th>3</th>\n",
       "      <td>2532</td>\n",
       "      <td>Airport</td>\n",
       "      <td>1.0</td>\n",
       "      <td>Trip Completed</td>\n",
       "      <td>2016-07-12 21:08:00</td>\n",
       "      <td>2016-07-12 22:03:00</td>\n",
       "      <td>2016-07-12</td>\n",
       "      <td>21:08:00</td>\n",
       "      <td>12</td>\n",
       "      <td>09:08 PM</td>\n",
       "      <td>2016-07-12</td>\n",
       "      <td>22:03:00</td>\n",
       "      <td>12.0</td>\n",
       "      <td>10:03 PM</td>\n",
       "      <td>21</td>\n",
       "    </tr>\n",
       "    <tr>\n",
       "      <th>4</th>\n",
       "      <td>3112</td>\n",
       "      <td>City</td>\n",
       "      <td>1.0</td>\n",
       "      <td>Trip Completed</td>\n",
       "      <td>2016-07-13 08:33:16</td>\n",
       "      <td>2016-07-13 09:25:47</td>\n",
       "      <td>2016-07-13</td>\n",
       "      <td>08:33:16</td>\n",
       "      <td>13</td>\n",
       "      <td>08:33 AM</td>\n",
       "      <td>2016-07-13</td>\n",
       "      <td>09:25:47</td>\n",
       "      <td>13.0</td>\n",
       "      <td>09:25 AM</td>\n",
       "      <td>8</td>\n",
       "    </tr>\n",
       "  </tbody>\n",
       "</table>\n",
       "</div>"
      ],
      "text/plain": [
       "   Request_id Pickup_point  Driver_id          Status   Request_timestamp  \\\n",
       "0         619      Airport        1.0  Trip Completed 2016-07-11 11:51:00   \n",
       "1         867      Airport        1.0  Trip Completed 2016-07-11 17:57:00   \n",
       "2        1807         City        1.0  Trip Completed 2016-07-12 09:17:00   \n",
       "3        2532      Airport        1.0  Trip Completed 2016-07-12 21:08:00   \n",
       "4        3112         City        1.0  Trip Completed 2016-07-13 08:33:16   \n",
       "\n",
       "       Drop_timestamp Request_Date Request_Time  Request_Day Request_Time_hr  \\\n",
       "0 2016-07-11 13:00:00   2016-07-11     11:51:00           11        11:51 AM   \n",
       "1 2016-07-11 18:47:00   2016-07-11     17:57:00           11        05:57 PM   \n",
       "2 2016-07-12 09:58:00   2016-07-12     09:17:00           12        09:17 AM   \n",
       "3 2016-07-12 22:03:00   2016-07-12     21:08:00           12        09:08 PM   \n",
       "4 2016-07-13 09:25:47   2016-07-13     08:33:16           13        08:33 AM   \n",
       "\n",
       "    Drop_Date Drop_Time  Drop_Day Drop_Time_hr  Request_Hour  \n",
       "0  2016-07-11  13:00:00      11.0     01:00 PM            11  \n",
       "1  2016-07-11  18:47:00      11.0     06:47 PM            17  \n",
       "2  2016-07-12  09:58:00      12.0     09:58 AM             9  \n",
       "3  2016-07-12  22:03:00      12.0     10:03 PM            21  \n",
       "4  2016-07-13  09:25:47      13.0     09:25 AM             8  "
      ]
     },
     "execution_count": 26,
     "metadata": {},
     "output_type": "execute_result"
    }
   ],
   "source": [
    "#Extracting hour part from Request_timestamp\n",
    "uber['Request_Hour'] = uber['Request_timestamp'].dt.hour\n",
    "uber.head()"
   ]
  },
  {
   "cell_type": "code",
   "execution_count": 27,
   "metadata": {},
   "outputs": [],
   "source": [
    "### Creting a new dataframe with time slots\n",
    "uber_slotD = uber.assign( \n",
    "    timeOfDay=pd.cut(\n",
    "        uber.Request_timestamp.dt.hour,\n",
    "        [-1, 4, 12, 16, 22, 24],\n",
    "        labels=['Early Morning', 'Morning', 'Afternoon', 'Evening', 'Late Night']))\n"
   ]
  },
  {
   "cell_type": "code",
   "execution_count": 28,
   "metadata": {
    "scrolled": true
   },
   "outputs": [
    {
     "data": {
      "text/html": [
       "<div>\n",
       "<style scoped>\n",
       "    .dataframe tbody tr th:only-of-type {\n",
       "        vertical-align: middle;\n",
       "    }\n",
       "\n",
       "    .dataframe tbody tr th {\n",
       "        vertical-align: top;\n",
       "    }\n",
       "\n",
       "    .dataframe thead th {\n",
       "        text-align: right;\n",
       "    }\n",
       "</style>\n",
       "<table border=\"1\" class=\"dataframe\">\n",
       "  <thead>\n",
       "    <tr style=\"text-align: right;\">\n",
       "      <th></th>\n",
       "      <th>Request_id</th>\n",
       "      <th>Pickup_point</th>\n",
       "      <th>Driver_id</th>\n",
       "      <th>Status</th>\n",
       "      <th>Request_timestamp</th>\n",
       "      <th>Drop_timestamp</th>\n",
       "      <th>Request_Date</th>\n",
       "      <th>Request_Time</th>\n",
       "      <th>Request_Day</th>\n",
       "      <th>Request_Time_hr</th>\n",
       "      <th>Drop_Date</th>\n",
       "      <th>Drop_Time</th>\n",
       "      <th>Drop_Day</th>\n",
       "      <th>Drop_Time_hr</th>\n",
       "      <th>Request_Hour</th>\n",
       "      <th>timeOfDay</th>\n",
       "    </tr>\n",
       "  </thead>\n",
       "  <tbody>\n",
       "    <tr>\n",
       "      <th>0</th>\n",
       "      <td>619</td>\n",
       "      <td>Airport</td>\n",
       "      <td>1.0</td>\n",
       "      <td>Trip Completed</td>\n",
       "      <td>2016-07-11 11:51:00</td>\n",
       "      <td>2016-07-11 13:00:00</td>\n",
       "      <td>2016-07-11</td>\n",
       "      <td>11:51:00</td>\n",
       "      <td>11</td>\n",
       "      <td>11:51 AM</td>\n",
       "      <td>2016-07-11</td>\n",
       "      <td>13:00:00</td>\n",
       "      <td>11.0</td>\n",
       "      <td>01:00 PM</td>\n",
       "      <td>11</td>\n",
       "      <td>Morning</td>\n",
       "    </tr>\n",
       "    <tr>\n",
       "      <th>1</th>\n",
       "      <td>867</td>\n",
       "      <td>Airport</td>\n",
       "      <td>1.0</td>\n",
       "      <td>Trip Completed</td>\n",
       "      <td>2016-07-11 17:57:00</td>\n",
       "      <td>2016-07-11 18:47:00</td>\n",
       "      <td>2016-07-11</td>\n",
       "      <td>17:57:00</td>\n",
       "      <td>11</td>\n",
       "      <td>05:57 PM</td>\n",
       "      <td>2016-07-11</td>\n",
       "      <td>18:47:00</td>\n",
       "      <td>11.0</td>\n",
       "      <td>06:47 PM</td>\n",
       "      <td>17</td>\n",
       "      <td>Evening</td>\n",
       "    </tr>\n",
       "    <tr>\n",
       "      <th>2</th>\n",
       "      <td>1807</td>\n",
       "      <td>City</td>\n",
       "      <td>1.0</td>\n",
       "      <td>Trip Completed</td>\n",
       "      <td>2016-07-12 09:17:00</td>\n",
       "      <td>2016-07-12 09:58:00</td>\n",
       "      <td>2016-07-12</td>\n",
       "      <td>09:17:00</td>\n",
       "      <td>12</td>\n",
       "      <td>09:17 AM</td>\n",
       "      <td>2016-07-12</td>\n",
       "      <td>09:58:00</td>\n",
       "      <td>12.0</td>\n",
       "      <td>09:58 AM</td>\n",
       "      <td>9</td>\n",
       "      <td>Morning</td>\n",
       "    </tr>\n",
       "    <tr>\n",
       "      <th>3</th>\n",
       "      <td>2532</td>\n",
       "      <td>Airport</td>\n",
       "      <td>1.0</td>\n",
       "      <td>Trip Completed</td>\n",
       "      <td>2016-07-12 21:08:00</td>\n",
       "      <td>2016-07-12 22:03:00</td>\n",
       "      <td>2016-07-12</td>\n",
       "      <td>21:08:00</td>\n",
       "      <td>12</td>\n",
       "      <td>09:08 PM</td>\n",
       "      <td>2016-07-12</td>\n",
       "      <td>22:03:00</td>\n",
       "      <td>12.0</td>\n",
       "      <td>10:03 PM</td>\n",
       "      <td>21</td>\n",
       "      <td>Evening</td>\n",
       "    </tr>\n",
       "    <tr>\n",
       "      <th>4</th>\n",
       "      <td>3112</td>\n",
       "      <td>City</td>\n",
       "      <td>1.0</td>\n",
       "      <td>Trip Completed</td>\n",
       "      <td>2016-07-13 08:33:16</td>\n",
       "      <td>2016-07-13 09:25:47</td>\n",
       "      <td>2016-07-13</td>\n",
       "      <td>08:33:16</td>\n",
       "      <td>13</td>\n",
       "      <td>08:33 AM</td>\n",
       "      <td>2016-07-13</td>\n",
       "      <td>09:25:47</td>\n",
       "      <td>13.0</td>\n",
       "      <td>09:25 AM</td>\n",
       "      <td>8</td>\n",
       "      <td>Morning</td>\n",
       "    </tr>\n",
       "  </tbody>\n",
       "</table>\n",
       "</div>"
      ],
      "text/plain": [
       "   Request_id Pickup_point  Driver_id          Status   Request_timestamp  \\\n",
       "0         619      Airport        1.0  Trip Completed 2016-07-11 11:51:00   \n",
       "1         867      Airport        1.0  Trip Completed 2016-07-11 17:57:00   \n",
       "2        1807         City        1.0  Trip Completed 2016-07-12 09:17:00   \n",
       "3        2532      Airport        1.0  Trip Completed 2016-07-12 21:08:00   \n",
       "4        3112         City        1.0  Trip Completed 2016-07-13 08:33:16   \n",
       "\n",
       "       Drop_timestamp Request_Date Request_Time  Request_Day Request_Time_hr  \\\n",
       "0 2016-07-11 13:00:00   2016-07-11     11:51:00           11        11:51 AM   \n",
       "1 2016-07-11 18:47:00   2016-07-11     17:57:00           11        05:57 PM   \n",
       "2 2016-07-12 09:58:00   2016-07-12     09:17:00           12        09:17 AM   \n",
       "3 2016-07-12 22:03:00   2016-07-12     21:08:00           12        09:08 PM   \n",
       "4 2016-07-13 09:25:47   2016-07-13     08:33:16           13        08:33 AM   \n",
       "\n",
       "    Drop_Date Drop_Time  Drop_Day Drop_Time_hr  Request_Hour timeOfDay  \n",
       "0  2016-07-11  13:00:00      11.0     01:00 PM            11   Morning  \n",
       "1  2016-07-11  18:47:00      11.0     06:47 PM            17   Evening  \n",
       "2  2016-07-12  09:58:00      12.0     09:58 AM             9   Morning  \n",
       "3  2016-07-12  22:03:00      12.0     10:03 PM            21   Evening  \n",
       "4  2016-07-13  09:25:47      13.0     09:25 AM             8   Morning  "
      ]
     },
     "execution_count": 28,
     "metadata": {},
     "output_type": "execute_result"
    }
   ],
   "source": [
    "uber_slotD.head()"
   ]
  },
  {
   "cell_type": "markdown",
   "metadata": {},
   "source": [
    "## Based on the Request Timestamp, 5 Timeslots have been created in new column 'timeOfDay'\n",
    "\n",
    "### Early Morning -  00:00 AM to 4 AM\n",
    "### Morning -  4 AM to 12 Noon\n",
    "### Afternoon - Noon to 4 PM\n",
    "### Evening - 4 PM to 10 PM\n",
    "### Late Night - 10 PM to Mid-Night\n"
   ]
  },
  {
   "cell_type": "code",
   "execution_count": 29,
   "metadata": {},
   "outputs": [
    {
     "data": {
      "text/plain": [
       "<matplotlib.axes._subplots.AxesSubplot at 0x10bda8da0>"
      ]
     },
     "execution_count": 29,
     "metadata": {},
     "output_type": "execute_result"
    },
    {
     "data": {
      "image/png": "[encoded data removed]",
      "text/plain": [
       "<Figure size 432x288 with 1 Axes>"
      ]
     },
     "metadata": {},
     "output_type": "display_data"
    }
   ],
   "source": [
    "## To check distribution of Status of trips across the data\n",
    "sns.set(style=\"darkgrid\")\n",
    "sns.countplot(x=\"Status\", data=uber_slotD)\n",
    "\n"
   ]
  },
  {
   "cell_type": "code",
   "execution_count": 30,
   "metadata": {},
   "outputs": [
    {
     "data": {
      "text/plain": [
       "<matplotlib.axes._subplots.AxesSubplot at 0x10c031a90>"
      ]
     },
     "execution_count": 30,
     "metadata": {},
     "output_type": "execute_result"
    },
    {
     "data": {
      "image/png": "[encoded data removed]",
      "text/plain": [
       "<Figure size 432x288 with 1 Axes>"
      ]
     },
     "metadata": {},
     "output_type": "display_data"
    }
   ],
   "source": [
    "## To check distribution of Pick-up points of trips across the data\n",
    "sns.countplot(x=\"Pickup_point\", data=uber_slotD)"
   ]
  },
  {
   "cell_type": "code",
   "execution_count": 31,
   "metadata": {},
   "outputs": [
    {
     "data": {
      "text/plain": [
       "<matplotlib.axes._subplots.AxesSubplot at 0x10bfcefd0>"
      ]
     },
     "execution_count": 31,
     "metadata": {},
     "output_type": "execute_result"
    },
    {
     "data": {
      "image/png": "[encoded data removed]",
      "text/plain": [
       "<Figure size 432x288 with 1 Axes>"
      ]
     },
     "metadata": {},
     "output_type": "display_data"
    }
   ],
   "source": [
    "sns.barplot(x=uber_slotD.Pickup_point.value_counts().index, y=uber_slotD.Pickup_point.value_counts())\n"
   ]
  },
  {
   "cell_type": "markdown",
   "metadata": {},
   "source": [
    "### The above plots don't give detailed info like , so trying lables with percentage on top "
   ]
  },
  {
   "cell_type": "code",
   "execution_count": 32,
   "metadata": {},
   "outputs": [
    {
     "data": {
      "image/png": "[encoded data removed]",
      "text/plain": [
       "<Figure size 432x288 with 1 Axes>"
      ]
     },
     "metadata": {},
     "output_type": "display_data"
    }
   ],
   "source": [
    "from matplotlib.pyplot import show\n",
    "import seaborn as sns\n",
    "sns.set(style=\"darkgrid\")\n",
    "\n",
    "total = float(len(uber_slotD))\n",
    "\n",
    "ax = sns.countplot(x=\"Pickup_point\", data=uber_slotD)\n",
    "for p in ax.patches:\n",
    "    height = p.get_height()\n",
    "    ax.text(p.get_x()+p.get_width()/2.,\n",
    "            height + 3,\n",
    "            '{0:.0%}'.format(height/total),\n",
    "            ha=\"center\") \n",
    "show()"
   ]
  },
  {
   "cell_type": "markdown",
   "metadata": {},
   "source": [
    "### The plot above shows 52 % are City pick-ups and 48 % are Airport pick-ups , so this shows the to and for trips are almostly evenly matched "
   ]
  },
  {
   "cell_type": "code",
   "execution_count": 33,
   "metadata": {},
   "outputs": [
    {
     "data": {
      "image/png": "[encoded data removed]",
      "text/plain": [
       "<Figure size 432x288 with 1 Axes>"
      ]
     },
     "metadata": {},
     "output_type": "display_data"
    }
   ],
   "source": [
    "#from matplotlib.pyplot import show\n",
    "#import seaborn as sns\n",
    "#sns.set(style=\"darkgrid\")\n",
    "\n",
    "total = float(len(uber_slotD))\n",
    "\n",
    "ax = sns.countplot(x=\"Status\", data=uber_slotD)\n",
    "for p in ax.patches:\n",
    "    height = p.get_height()\n",
    "    ax.text(p.get_x()+p.get_width()/2.,\n",
    "            height + 3,\n",
    "            '{0:.0%}'.format(height/total),\n",
    "            ha=\"center\") \n",
    "show()"
   ]
  },
  {
   "cell_type": "markdown",
   "metadata": {},
   "source": [
    "### The above plot shows the Status of trips, so only 42% of the Trips were completed by Uber and rest 58% have not been fulfilled by Uber , they were either cancelled by customer or driver or there were not enough cars in that pick up points around that time...Now we need to go in depth and see what are those factors that have created this gaps "
   ]
  },
  {
   "cell_type": "code",
   "execution_count": 34,
   "metadata": {},
   "outputs": [
    {
     "data": {
      "image/png": "[encoded data removed]",
      "text/plain": [
       "<Figure size 432x288 with 1 Axes>"
      ]
     },
     "metadata": {},
     "output_type": "display_data"
    }
   ],
   "source": [
    "\n",
    "\n",
    "total = float(len(uber_slotD))\n",
    "\n",
    "ax = sns.countplot(x=\"timeOfDay\", data=uber_slotD)\n",
    "for p in ax.patches:\n",
    "    height = p.get_height()\n",
    "    ax.text(p.get_x()+p.get_width()/2.,\n",
    "            height + 3,\n",
    "            '{0:.0%}'.format(height/total),\n",
    "            ha=\"center\") \n",
    "show()"
   ]
  },
  {
   "cell_type": "markdown",
   "metadata": {},
   "source": [
    "## The above plot goes a step further and shows what are the time slots when the demand is high...it shows major demand is in Evening i.e. 4 PM to 10 PM and Morning i.e. 4 A.M to Noon"
   ]
  },
  {
   "cell_type": "code",
   "execution_count": 35,
   "metadata": {},
   "outputs": [
    {
     "data": {
      "image/png": "[encoded data removed]",
      "text/plain": [
       "<Figure size 432x288 with 1 Axes>"
      ]
     },
     "metadata": {},
     "output_type": "display_data"
    }
   ],
   "source": [
    "\n",
    "\n",
    "total = float(len(uber_slotD))\n",
    "\n",
    "ax = sns.countplot(x=\"timeOfDay\", hue=\"Pickup_point\", data=uber_slotD)\n",
    "for p in ax.patches:\n",
    "    height = p.get_height()\n",
    "    ax.text(p.get_x()+p.get_width()/2.,\n",
    "            height + 3,\n",
    "            '{0:.0%}'.format(height/total),\n",
    "            ha=\"center\") \n",
    "show()"
   ]
  },
  {
   "cell_type": "markdown",
   "metadata": {},
   "source": [
    "### The above plot shows the demand at the respective pickup points...so the demand as the overall plot above depicted shows the demand in evenly distributed in Airport and City and this also tells the in Evening there is 29% demand at Airport and 30 % in Morning at City"
   ]
  },
  {
   "cell_type": "code",
   "execution_count": 36,
   "metadata": {},
   "outputs": [
    {
     "data": {
      "image/png": "[encoded data removed]",
      "text/plain": [
       "<Figure size 432x288 with 1 Axes>"
      ]
     },
     "metadata": {},
     "output_type": "display_data"
    }
   ],
   "source": [
    "total = float(len(uber_slotD))\n",
    "\n",
    "ax = sns.countplot(x=\"timeOfDay\", hue=\"Status\", data=uber_slotD)\n",
    "for p in ax.patches:\n",
    "    height = p.get_height()\n",
    "    ax.text(p.get_x()+p.get_width()/5.,\n",
    "            height + 9,\n",
    "            '{0:.0%}'.format(height/total),\n",
    "            ha=\"center\") \n",
    "show()"
   ]
  },
  {
   "cell_type": "markdown",
   "metadata": {},
   "source": [
    "### The above plot shows the Status of trips across the time slots"
   ]
  },
  {
   "cell_type": "code",
   "execution_count": 37,
   "metadata": {},
   "outputs": [
    {
     "data": {
      "image/png": "[encoded data removed]",
      "text/plain": [
       "<Figure size 432x288 with 1 Axes>"
      ]
     },
     "metadata": {},
     "output_type": "display_data"
    }
   ],
   "source": [
    "total = float(len(uber_slotD))\n",
    "\n",
    "ax = sns.countplot(x=\"Request_Hour\", hue=\"Status\", data=uber_slotD)\n",
    "for p in ax.patches:\n",
    "    height = p.get_height()\n",
    "    ax.text(p.get_x()+p.get_width()/5.,\n",
    "            height + 9,\n",
    "            '{0:.0%}'.format(height/total),\n",
    "            ha=\"center\") \n",
    "show()"
   ]
  },
  {
   "cell_type": "markdown",
   "metadata": {},
   "source": [
    "### The above plot shows the Status of trips across the Requesy Hours...this plot can be depicted better , i think with lineplot but was unable to do it"
   ]
  },
  {
   "cell_type": "code",
   "execution_count": 38,
   "metadata": {},
   "outputs": [
    {
     "data": {
      "text/plain": [
       "<seaborn.axisgrid.FacetGrid at 0x1a1877ce48>"
      ]
     },
     "execution_count": 38,
     "metadata": {},
     "output_type": "execute_result"
    },
    {
     "data": {
      "image/png": "[encoded data removed]",
      "text/plain": [
       "<Figure size 1296x648 with 5 Axes>"
      ]
     },
     "metadata": {},
     "output_type": "display_data"
    }
   ],
   "source": [
    "\n",
    "sns.catplot(\"Status\", col=\"timeOfDay\", col_wrap=4,\n",
    "                  data=uber_slotD,\n",
    "                 kind=\"count\", height=4.5, aspect=1.0)\n"
   ]
  },
  {
   "cell_type": "markdown",
   "metadata": {},
   "source": [
    "### Tried a different plot to get the whole picture of distribution in one single plot...I couldn't get the percentage on this plot..if would have got, i think this single plot could be enough instead of multiple plots above"
   ]
  },
  {
   "cell_type": "code",
   "execution_count": null,
   "metadata": {},
   "outputs": [],
   "source": []
  },
  {
   "cell_type": "code",
   "execution_count": 39,
   "metadata": {},
   "outputs": [],
   "source": [
    "uber[[\"Request_Time_hr\", \"Drop_Time_hr\"]] = uber[[\"Request_Time_hr\", \"Drop_Time_hr\"]].apply(pd.to_datetime)\n",
    "uber_slotD[[\"Request_Time_hr\", \"Drop_Time_hr\"]] = uber_slotD[[\"Request_Time_hr\", \"Drop_Time_hr\"]].apply(pd.to_datetime)\n",
    "uber['Driver_id'] = uber['Driver_id'].apply(pd.to_numeric, errors='ignore')\n",
    "uber_slotD['Driver_id'] = uber_slotD['Driver_id'].apply(pd.to_numeric, errors='ignore')\n",
    "#uber_trip_complete[[\"Driver_id\"]] = uber_trip_complete[[\"Driver_id\"]].astype(int)\n",
    "#uber[[\"Request_Date\", \"Request_Time\"]] = uber[[\"Request_Date\", \"Request_time\"]].apply(pd.to_datetime)\n",
    "#uber_slotD[[\"Drop_Date\", \"Drop_Time\"]] = uber_slotD[[\"Request_Time\", \"Drop_Time\"]].apply(pd.to_datetime)"
   ]
  },
  {
   "cell_type": "code",
   "execution_count": 40,
   "metadata": {},
   "outputs": [
    {
     "data": {
      "image/png": "[encoded data removed]",
      "text/plain": [
       "<Figure size 864x576 with 2 Axes>"
      ]
     },
     "metadata": {},
     "output_type": "display_data"
    }
   ],
   "source": [
    "plt.figure(figsize=(12, 8))\n",
    "\n",
    "uber_corr = uber_slotD.corr()\n",
    "sns.heatmap(uber_corr, \n",
    "            xticklabels = uber_corr.columns.values,\n",
    "            yticklabels = uber_corr.columns.values,\n",
    "            annot = True);"
   ]
  },
  {
   "cell_type": "markdown",
   "metadata": {},
   "source": [
    "### Tried a Heatmap to get the Correlation of all the numeric variables...see good correlation from the perspective of drivers taking to and fro with some exceptions which shows that the Drivers almost have used Uber as an aggregator instead of going with Uber's competitors"
   ]
  },
  {
   "cell_type": "code",
   "execution_count": 41,
   "metadata": {
    "scrolled": true
   },
   "outputs": [
    {
     "name": "stderr",
     "output_type": "stream",
     "text": [
      "/Users/naveedjd/anaconda3/lib/python3.6/site-packages/statsmodels/nonparametric/kde.py:448: RuntimeWarning: invalid value encountered in greater\n",
      "  X = X[np.logical_and(X > clip[0], X < clip[1])] # won't work for two columns.\n",
      "/Users/naveedjd/anaconda3/lib/python3.6/site-packages/statsmodels/nonparametric/kde.py:448: RuntimeWarning: invalid value encountered in less\n",
      "  X = X[np.logical_and(X > clip[0], X < clip[1])] # won't work for two columns.\n"
     ]
    },
    {
     "data": {
      "text/plain": [
       "<Figure size 1008x1008 with 0 Axes>"
      ]
     },
     "metadata": {},
     "output_type": "display_data"
    },
    {
     "data": {
      "image/png": "[encoded data removed]",
      "text/plain": [
       "<Figure size 900x900 with 30 Axes>"
      ]
     },
     "metadata": {},
     "output_type": "display_data"
    }
   ],
   "source": [
    "plt.figure(figsize=(14, 14))\n",
    "\n",
    "sns.pairplot(uber_slotD, diag_kind='kde');"
   ]
  },
  {
   "cell_type": "markdown",
   "metadata": {},
   "source": [
    "### The above plot is not much usefule except for the Request Hour which shows the distribution of the demand which shows clearly the PEAK request Hours which is around 5 to 6 AM and around 8 PM"
   ]
  },
  {
   "cell_type": "code",
   "execution_count": 42,
   "metadata": {},
   "outputs": [
    {
     "data": {
      "text/plain": [
       "timeOfDay\n",
       "Morning          2145\n",
       "Evening          1116\n",
       "Afternoon         442\n",
       "Early Morning     279\n",
       "Late Night        113\n",
       "Name: Driver_id, dtype: int64"
      ]
     },
     "execution_count": 42,
     "metadata": {},
     "output_type": "execute_result"
    }
   ],
   "source": [
    "## Grouping by time slots across  using driver id\n",
    "uber_driver_grp = uber_slotD.groupby('timeOfDay')['Driver_id'].count().sort_values(ascending=False)\n",
    "uber_driver_grp"
   ]
  },
  {
   "cell_type": "markdown",
   "metadata": {},
   "source": [
    "### The above data shows the distribution of drivers across the timeslots...but not this not unique"
   ]
  },
  {
   "cell_type": "code",
   "execution_count": 43,
   "metadata": {},
   "outputs": [
    {
     "data": {
      "text/plain": [
       "Driver_id\n",
       "27.0     22\n",
       "84.0     21\n",
       "22.0     21\n",
       "70.0     21\n",
       "176.0    21\n",
       "177.0    21\n",
       "197.0    20\n",
       "114.0    20\n",
       "142.0    20\n",
       "69.0     20\n",
       "24.0     20\n",
       "54.0     19\n",
       "212.0    19\n",
       "78.0     19\n",
       "16.0     19\n",
       "107.0    19\n",
       "9.0      19\n",
       "274.0    18\n",
       "98.0     18\n",
       "233.0    18\n",
       "230.0    18\n",
       "105.0    18\n",
       "225.0    18\n",
       "109.0    18\n",
       "80.0     18\n",
       "37.0     18\n",
       "126.0    18\n",
       "204.0    18\n",
       "125.0    18\n",
       "210.0    17\n",
       "         ..\n",
       "55.0     10\n",
       "10.0     10\n",
       "260.0    10\n",
       "53.0     10\n",
       "252.0     9\n",
       "8.0       9\n",
       "288.0     9\n",
       "216.0     9\n",
       "253.0     9\n",
       "192.0     9\n",
       "209.0     9\n",
       "133.0     9\n",
       "187.0     9\n",
       "91.0      9\n",
       "95.0      9\n",
       "56.0      9\n",
       "122.0     9\n",
       "293.0     8\n",
       "292.0     8\n",
       "117.0     8\n",
       "41.0      8\n",
       "217.0     8\n",
       "11.0      8\n",
       "143.0     8\n",
       "189.0     8\n",
       "208.0     8\n",
       "42.0      7\n",
       "123.0     7\n",
       "265.0     6\n",
       "300.0     6\n",
       "Name: Status, Length: 300, dtype: int64"
      ]
     },
     "execution_count": 43,
     "metadata": {},
     "output_type": "execute_result"
    }
   ],
   "source": [
    "## Grouping by  Driver id\n",
    "uber_driver_grp = uber_slotD.groupby('Driver_id')['Status'].count().sort_values(ascending=False)\n",
    "uber_driver_grp\n"
   ]
  },
  {
   "cell_type": "markdown",
   "metadata": {},
   "source": [
    "### The above shows the Driver Id who have taken the maximum trips in descending order"
   ]
  },
  {
   "cell_type": "code",
   "execution_count": 44,
   "metadata": {},
   "outputs": [
    {
     "data": {
      "text/plain": [
       "Status\n",
       "Trip Completed       2831\n",
       "No Cars Available    2650\n",
       "Cancelled            1264\n",
       "Name: Request_id, dtype: int64"
      ]
     },
     "execution_count": 44,
     "metadata": {},
     "output_type": "execute_result"
    }
   ],
   "source": [
    "uber_analysis= uber_slotD.groupby('Status')['Request_id'].count().sort_values(ascending=False)\n",
    "uber_analysis"
   ]
  },
  {
   "cell_type": "markdown",
   "metadata": {},
   "source": [
    "### The above data shows the number of trips that were completed /cancelled or cars were not available"
   ]
  },
  {
   "cell_type": "markdown",
   "metadata": {},
   "source": [
    "# Below is the analysis for Demand and Supply with Gap"
   ]
  },
  {
   "cell_type": "code",
   "execution_count": 45,
   "metadata": {},
   "outputs": [],
   "source": [
    "## A function defined to find the demand, supply and gap...Basically all the request in the data would be considered as demand\n",
    "## so all the rows i.e. 6745 would be the demand...so any status record would be a 'demand' and this is filled in a new\n",
    "## column of the dataframe as column \"Demand\" ... And Another function called Supply is created which when the Status is\n",
    "## either Cancelled ot No Cars Available would return gap else supply i.e. in this status it would mean the value 'gap'\n",
    "## denotes the trip was not done by Uber else it has supplied i.e. in case of Trip completed..this value is filled in a \n",
    "## new column of the dataframe by namen \"Supply\"\n",
    "\n",
    "def demand(x):\n",
    "    if x['Status'] == \"Cancelled\" or x['Status'] == \"No Cars Available\" or x['Status'] == \"Trip Completed\":\n",
    "       return 'demand'\n",
    "    else:\n",
    "        return 'NA'\n",
    "\n",
    "def supply(y):\n",
    "    if y['Status'] == \"Cancelled\" or y['Status'] == \"No Cars Available\":\n",
    "        return 'gap'\n",
    "    else:\n",
    "        return 'supply'\n",
    "\n",
    "    \n",
    "uber_slotD = uber_slotD.assign(Demand=uber_slotD.apply(demand,axis=1))\n",
    "uber_slotD = uber_slotD.assign(Supply=uber_slotD.apply(supply,axis=1)) "
   ]
  },
  {
   "cell_type": "code",
   "execution_count": 46,
   "metadata": {},
   "outputs": [
    {
     "data": {
      "text/html": [
       "<div>\n",
       "<style scoped>\n",
       "    .dataframe tbody tr th:only-of-type {\n",
       "        vertical-align: middle;\n",
       "    }\n",
       "\n",
       "    .dataframe tbody tr th {\n",
       "        vertical-align: top;\n",
       "    }\n",
       "\n",
       "    .dataframe thead th {\n",
       "        text-align: right;\n",
       "    }\n",
       "</style>\n",
       "<table border=\"1\" class=\"dataframe\">\n",
       "  <thead>\n",
       "    <tr style=\"text-align: right;\">\n",
       "      <th></th>\n",
       "      <th>Request_id</th>\n",
       "      <th>Pickup_point</th>\n",
       "      <th>Driver_id</th>\n",
       "      <th>Status</th>\n",
       "      <th>Request_timestamp</th>\n",
       "      <th>Drop_timestamp</th>\n",
       "      <th>Request_Date</th>\n",
       "      <th>Request_Time</th>\n",
       "      <th>Request_Day</th>\n",
       "      <th>Request_Time_hr</th>\n",
       "      <th>Drop_Date</th>\n",
       "      <th>Drop_Time</th>\n",
       "      <th>Drop_Day</th>\n",
       "      <th>Drop_Time_hr</th>\n",
       "      <th>Request_Hour</th>\n",
       "      <th>timeOfDay</th>\n",
       "      <th>Demand</th>\n",
       "      <th>Supply</th>\n",
       "    </tr>\n",
       "  </thead>\n",
       "  <tbody>\n",
       "    <tr>\n",
       "      <th>6740</th>\n",
       "      <td>6745</td>\n",
       "      <td>City</td>\n",
       "      <td>NaN</td>\n",
       "      <td>No Cars Available</td>\n",
       "      <td>2016-07-15 23:49:03</td>\n",
       "      <td>NaT</td>\n",
       "      <td>2016-07-15</td>\n",
       "      <td>23:49:03</td>\n",
       "      <td>15</td>\n",
       "      <td>2019-02-26 23:49:00</td>\n",
       "      <td>NaT</td>\n",
       "      <td>NaT</td>\n",
       "      <td>NaN</td>\n",
       "      <td>NaT</td>\n",
       "      <td>23</td>\n",
       "      <td>Late Night</td>\n",
       "      <td>demand</td>\n",
       "      <td>gap</td>\n",
       "    </tr>\n",
       "    <tr>\n",
       "      <th>6741</th>\n",
       "      <td>6752</td>\n",
       "      <td>Airport</td>\n",
       "      <td>NaN</td>\n",
       "      <td>No Cars Available</td>\n",
       "      <td>2016-07-15 23:50:05</td>\n",
       "      <td>NaT</td>\n",
       "      <td>2016-07-15</td>\n",
       "      <td>23:50:05</td>\n",
       "      <td>15</td>\n",
       "      <td>2019-02-26 23:50:00</td>\n",
       "      <td>NaT</td>\n",
       "      <td>NaT</td>\n",
       "      <td>NaN</td>\n",
       "      <td>NaT</td>\n",
       "      <td>23</td>\n",
       "      <td>Late Night</td>\n",
       "      <td>demand</td>\n",
       "      <td>gap</td>\n",
       "    </tr>\n",
       "    <tr>\n",
       "      <th>6742</th>\n",
       "      <td>6751</td>\n",
       "      <td>City</td>\n",
       "      <td>NaN</td>\n",
       "      <td>No Cars Available</td>\n",
       "      <td>2016-07-15 23:52:06</td>\n",
       "      <td>NaT</td>\n",
       "      <td>2016-07-15</td>\n",
       "      <td>23:52:06</td>\n",
       "      <td>15</td>\n",
       "      <td>2019-02-26 23:52:00</td>\n",
       "      <td>NaT</td>\n",
       "      <td>NaT</td>\n",
       "      <td>NaN</td>\n",
       "      <td>NaT</td>\n",
       "      <td>23</td>\n",
       "      <td>Late Night</td>\n",
       "      <td>demand</td>\n",
       "      <td>gap</td>\n",
       "    </tr>\n",
       "    <tr>\n",
       "      <th>6743</th>\n",
       "      <td>6754</td>\n",
       "      <td>City</td>\n",
       "      <td>NaN</td>\n",
       "      <td>No Cars Available</td>\n",
       "      <td>2016-07-15 23:54:39</td>\n",
       "      <td>NaT</td>\n",
       "      <td>2016-07-15</td>\n",
       "      <td>23:54:39</td>\n",
       "      <td>15</td>\n",
       "      <td>2019-02-26 23:54:00</td>\n",
       "      <td>NaT</td>\n",
       "      <td>NaT</td>\n",
       "      <td>NaN</td>\n",
       "      <td>NaT</td>\n",
       "      <td>23</td>\n",
       "      <td>Late Night</td>\n",
       "      <td>demand</td>\n",
       "      <td>gap</td>\n",
       "    </tr>\n",
       "    <tr>\n",
       "      <th>6744</th>\n",
       "      <td>6753</td>\n",
       "      <td>Airport</td>\n",
       "      <td>NaN</td>\n",
       "      <td>No Cars Available</td>\n",
       "      <td>2016-07-15 23:55:03</td>\n",
       "      <td>NaT</td>\n",
       "      <td>2016-07-15</td>\n",
       "      <td>23:55:03</td>\n",
       "      <td>15</td>\n",
       "      <td>2019-02-26 23:55:00</td>\n",
       "      <td>NaT</td>\n",
       "      <td>NaT</td>\n",
       "      <td>NaN</td>\n",
       "      <td>NaT</td>\n",
       "      <td>23</td>\n",
       "      <td>Late Night</td>\n",
       "      <td>demand</td>\n",
       "      <td>gap</td>\n",
       "    </tr>\n",
       "  </tbody>\n",
       "</table>\n",
       "</div>"
      ],
      "text/plain": [
       "      Request_id Pickup_point  Driver_id             Status  \\\n",
       "6740        6745         City        NaN  No Cars Available   \n",
       "6741        6752      Airport        NaN  No Cars Available   \n",
       "6742        6751         City        NaN  No Cars Available   \n",
       "6743        6754         City        NaN  No Cars Available   \n",
       "6744        6753      Airport        NaN  No Cars Available   \n",
       "\n",
       "       Request_timestamp Drop_timestamp Request_Date Request_Time  \\\n",
       "6740 2016-07-15 23:49:03            NaT   2016-07-15     23:49:03   \n",
       "6741 2016-07-15 23:50:05            NaT   2016-07-15     23:50:05   \n",
       "6742 2016-07-15 23:52:06            NaT   2016-07-15     23:52:06   \n",
       "6743 2016-07-15 23:54:39            NaT   2016-07-15     23:54:39   \n",
       "6744 2016-07-15 23:55:03            NaT   2016-07-15     23:55:03   \n",
       "\n",
       "      Request_Day     Request_Time_hr Drop_Date Drop_Time  Drop_Day  \\\n",
       "6740           15 2019-02-26 23:49:00       NaT       NaT       NaN   \n",
       "6741           15 2019-02-26 23:50:00       NaT       NaT       NaN   \n",
       "6742           15 2019-02-26 23:52:00       NaT       NaT       NaN   \n",
       "6743           15 2019-02-26 23:54:00       NaT       NaT       NaN   \n",
       "6744           15 2019-02-26 23:55:00       NaT       NaT       NaN   \n",
       "\n",
       "     Drop_Time_hr  Request_Hour   timeOfDay  Demand Supply  \n",
       "6740          NaT            23  Late Night  demand    gap  \n",
       "6741          NaT            23  Late Night  demand    gap  \n",
       "6742          NaT            23  Late Night  demand    gap  \n",
       "6743          NaT            23  Late Night  demand    gap  \n",
       "6744          NaT            23  Late Night  demand    gap  "
      ]
     },
     "execution_count": 46,
     "metadata": {},
     "output_type": "execute_result"
    }
   ],
   "source": [
    "uber_slotD.tail()"
   ]
  },
  {
   "cell_type": "markdown",
   "metadata": {},
   "source": [
    "## Now the revised dataframe contains the 'demand', 'supply' and 'gap' information for each row in the dataframe \n"
   ]
  },
  {
   "cell_type": "code",
   "execution_count": 47,
   "metadata": {},
   "outputs": [
    {
     "name": "stdout",
     "output_type": "stream",
     "text": [
      "Uber's Demand =  6745\n",
      "Uber's  Gap &  Supply\n",
      "gap       3914\n",
      "supply    2831\n",
      "Name: Supply, dtype: int64\n"
     ]
    }
   ],
   "source": [
    "print(\"Uber's Demand = \", uber_slotD.Demand.count())\n",
    "print(\"Uber's  Gap & \",uber_slotD.groupby('Supply')['Supply'].count())"
   ]
  },
  {
   "cell_type": "markdown",
   "metadata": {},
   "source": [
    "##  The above shows out of 6745 request i.e Demand , only 2831 requests were supplied by Uber and rest 3914 requests were not supplied by Uber...Let's now plot to better understand this gap and supply"
   ]
  },
  {
   "cell_type": "code",
   "execution_count": 48,
   "metadata": {},
   "outputs": [
    {
     "data": {
      "image/png": "[encoded data removed]",
      "text/plain": [
       "<Figure size 432x288 with 1 Axes>"
      ]
     },
     "metadata": {},
     "output_type": "display_data"
    }
   ],
   "source": [
    "total = float(len(uber_slotD))\n",
    "\n",
    "ax = sns.countplot(x=\"Supply\", data=uber_slotD)\n",
    "for p in ax.patches:\n",
    "    height = p.get_height()\n",
    "    ax.text(p.get_x()+p.get_width()/2.,\n",
    "            height + 3,\n",
    "            '{0:.0%}'.format(height/total),\n",
    "            ha=\"center\") \n",
    "show()"
   ]
  },
  {
   "cell_type": "markdown",
   "metadata": {},
   "source": [
    "## The above plot shows very clearly that 58% is the Gap and 42% is the Supply... 58% is a whooping figure that Uber has failed to fulfill or supply to the demand of the Uber's users...Let's figure out where and how this gap has come"
   ]
  },
  {
   "cell_type": "code",
   "execution_count": 49,
   "metadata": {},
   "outputs": [
    {
     "data": {
      "image/png": "[encoded data removed]",
      "text/plain": [
       "<Figure size 432x288 with 1 Axes>"
      ]
     },
     "metadata": {},
     "output_type": "display_data"
    }
   ],
   "source": [
    "total = float(len(uber_slotD))\n",
    "\n",
    "ax = sns.countplot(x=\"Supply\", hue=\"timeOfDay\", data=uber_slotD)\n",
    "for p in ax.patches:\n",
    "    height = p.get_height()\n",
    "    ax.text(p.get_x()+p.get_width()/5.,\n",
    "            height + 9,\n",
    "            '{0:.0%}'.format(height/total),\n",
    "            ha=\"center\") \n",
    "show()"
   ]
  },
  {
   "cell_type": "markdown",
   "metadata": {},
   "source": [
    "### The above depicts the Time slots of gap and supply....Gap is shown clearly that 25% of 58% is during Evening and 22% of 58% is in morning...this together consitute a major portion of the Gap that Uber needs to focus on to supply"
   ]
  },
  {
   "cell_type": "code",
   "execution_count": 50,
   "metadata": {},
   "outputs": [
    {
     "data": {
      "image/png": "[encoded data removed]",
      "text/plain": [
       "<Figure size 432x288 with 1 Axes>"
      ]
     },
     "metadata": {},
     "output_type": "display_data"
    }
   ],
   "source": [
    "total = float(len(uber_slotD))\n",
    "\n",
    "ax = sns.countplot(x=\"Supply\", hue=\"Pickup_point\", data=uber_slotD)\n",
    "for p in ax.patches:\n",
    "    height = p.get_height()\n",
    "    ax.text(p.get_x()+p.get_width()/5.,\n",
    "            height + 9,\n",
    "            '{0:.0%}'.format(height/total),\n",
    "            ha=\"center\") \n",
    "show()"
   ]
  },
  {
   "cell_type": "markdown",
   "metadata": {},
   "source": [
    "## The above plot depcits that 30% of the gap is at the City pickup point and 28% is at the Airport pick up point"
   ]
  },
  {
   "cell_type": "code",
   "execution_count": 51,
   "metadata": {},
   "outputs": [],
   "source": [
    "## Exporting the databframe to CSV file for Tableau analysis\n",
    "uber_slotD.to_csv(\"./uber_demand_supply_gap.csv\")"
   ]
  },
  {
   "cell_type": "code",
   "execution_count": null,
   "metadata": {},
   "outputs": [],
   "source": []
  }
 ],
 "metadata": {
  "kernelspec": {
   "display_name": "Python 3",
   "language": "python",
   "name": "python3"
  },
  "language_info": {
   "codemirror_mode": {
    "name": "ipython",
    "version": 3
   },
   "file_extension": ".py",
   "mimetype": "text/x-python",
   "name": "python",
   "nbconvert_exporter": "python",
   "pygments_lexer": "ipython3",
   "version": "3.6.5"
  }
 },
 "nbformat": 4,
 "nbformat_minor": 2
}
