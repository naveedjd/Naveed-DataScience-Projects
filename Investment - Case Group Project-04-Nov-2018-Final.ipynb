{
 "cells": [
  {
   "cell_type": "markdown",
   "metadata": {},
   "source": [
    "## Investment Case Group Project \n",
    ">Submitted By       : ***Srinivasan. G, Naveed.J, Denny.J and Kumar.A***<br>\n",
    ">Date of Submission : ***04-November-2018***\n",
    "### Project Details\n",
    ">    An asset management company,Spark Funds wants to make investments in a few companies.     The CEO of Spark Funds wants to understand the global trends in investments so that she can take the investment decisions effectively.\n",
    "\n",
    "###  constraints for investments:\n",
    ">1. It wants to invest between `5 to 15 million` USD per round of investment.\n",
    ">2. It wants to invest only in `English-speaking` countries because of the ease of communication with the companies.\n",
    ">3. Consider country to be English speaking only if English is one of the official languages in that country.\n",
    "\n",
    "### Business objective\n",
    ">1. The overall strategy is to invest where others are investing, implying that the `Best` sectors and countries are the ones `where most investors are investing`.\n",
    "### Goals\n",
    ">1. ***Investment type analysis*** : Comparing the typical investment amounts in the `venture, seed, angel, private equity` etc. so that they can choose the type that is best suited for their strategy.\n",
    ">2. ***Country analysis:*** : Identifying the countries which have been the most heavily invested in the past.  \n",
    ">3. ***Sector analysis:*** Understanding the distribution of investments across the eight main sectors. (Note that we are interested in the eight `'main sectors'`.\n",
    "<br>\n",
    "### Data Files for used Analysis\n",
    ">1. `**companies.txt**` : A file with basic data of companies.\n",
    ">2. `**round2.csv**`    : A file having company funding rounds details\n",
    ">3. `**mapping.csv**`   : A file having sectors, classified in to 8 broad categories \n",
    ">4. `**Countries_where_English_is_an_official_language.pdf**` : list of countries where English is an official language."
   ]
  },
  {
   "cell_type": "markdown",
   "metadata": {},
   "source": [
    "### Checkpoint 1: Data Cleaning \n",
    ">  Load the companies and rounds data,into two data frames and name them companies and rounds2 respectively.<br>\n",
    "\n",
    "###  Results Expected: Table-1.1\n",
    ">1. How many unique companies are present in rounds2?\n",
    ">2. How many unique companies are present in companies?\n",
    ">3. In the companies data frame, which column can be used as the unique key for each  company? Write the name of the column.\n",
    ">4. Are there any companies in the rounds2 file which are not present in companies? Answer yes or no: Y/N\n",
    ">5. Merge the two data frames so that all variables (columns) in the companies frame are added to the rounds2 data frame. Name the merged frame master_frame. How many observations are present in master_frame?\n",
    "\n",
    "### To Do List - Check Point-1\n",
    ">1. Load companies and rounds2 files to data frame,handle Encoding issues<br>\n",
    ">2. Check Duplicates in companies and rounds  \n",
    ">3. check null values in companies and rounds\n",
    ">4. Check Unique counts of companies in companies and rounds\n",
    ">5. Identify Unique Key Column\n",
    ">6. Check Company present in rounds but not in companies \n",
    ">7. merge the both companies and rounds2 on key column as master_frame\n",
    ">8. Remove unnecessary and other duplicate columns, which are not required for analysis\n",
    ">9. Chck percentage of nulls (Nan) present in each of the merged remaining columns\n",
    ">10. Remove rows having columns with high percentage of nulls, keep the nulls to minimum\n",
    ">11. if required, impute Null column values , if column is absolutely required for analysis\n",
    ">12. Ensure a good percentage of clean data for analysis\n",
    "\n",
    "### Assumptions\n",
    ">- Data provided include even “Closed” status companies.\n",
    "   - This has not been removed from our analysis as amount of closed companies in the      filtered count has been found to be negligible.\n",
    "   - Assumed that they need to be ignored in our analysis.\n",
    ">- Data provided includes companies as old as 1982 when they were last funded.\n",
    "   - Understand that the Business Goal has been to invest where other companies are investing, but the data found in this category has been found to be negligible."
   ]
  },
  {
   "cell_type": "markdown",
   "metadata": {},
   "source": [
    "#### IMPORTANT DISCLAIMER!!<br>\n",
    "- The Package **`PDFMINER`** is required to be installed for the extraction of data from pdf file povided in case study ***`Countries_where_English_is_an_official_language.pdf`.*** <br><br>\n",
    "\n",
    "- The **`PDFMINER`** can be installed using command - ***'pip install `pdfminer.six`'***<br><br>\n",
    "\n",
    "- The consolidated list of all country codes with names data is obtained from online link: ***`https://github.com/lukes/ISO-3166-Countries-with-Regional-Codes/blob/master/all/all.csv`*** as p in the upgrad discussion forum is taken and loaded in as dictionary inline as **`countries_code`**  <br><br>"
   ]
  },
  {
   "cell_type": "code",
   "execution_count": 1,
   "metadata": {},
   "outputs": [],
   "source": [
    "# Import Numpy and Pandas Package and other Ipython modules for dispaly interactively.\n",
    "\n",
    "import numpy as np\n",
    "import pandas as pd\n",
    "from IPython.display import display, HTML\n",
    "from IPython.core.interactiveshell import InteractiveShell\n",
    "InteractiveShell.ast_node_interactivity = \"all\"\n",
    "\n",
    "# Some pandas set_options \n",
    "pd.set_option('display.max_rows',8000)\n",
    "pd.set_option('display.max_columns', 30)\n",
    "pd.set_option('display.width', 1000)\n",
    "pd.set_option('display.max_colwidth', 1000)\n",
    "\n",
    "# Rounding of float format value used for column such as raised_amount_usd\n",
    "pd.options.display.float_format = '{:,.2f}'.format"
   ]
  },
  {
   "cell_type": "markdown",
   "metadata": {},
   "source": [
    "## Load Data<br>  \n",
    "**Note:** Load  companies.txt (tab delimited) and rounds2.csv file in to data frames. The encoding format of files are in `latin-1/iso-8859-1` and contains few special characters."
   ]
  },
  {
   "cell_type": "code",
   "execution_count": 2,
   "metadata": {},
   "outputs": [],
   "source": [
    "# Read companies & rounds2 data.\n",
    "\n",
    "companies = pd.read_csv(\"Data/companies.txt\",sep=\"\\t\",encoding='iso-8859-1')\n",
    "rounds2 = pd.read_csv(\"Data/rounds2.csv\",sep=\",\",encoding='iso-8859-1')"
   ]
  },
  {
   "cell_type": "code",
   "execution_count": 3,
   "metadata": {},
   "outputs": [
    {
     "data": {
      "text/plain": [
       "(66368, 10)"
      ]
     },
     "execution_count": 3,
     "metadata": {},
     "output_type": "execute_result"
    },
    {
     "name": "stdout",
     "output_type": "stream",
     "text": [
      "<class 'pandas.core.frame.DataFrame'>\n",
      "RangeIndex: 66368 entries, 0 to 66367\n",
      "Data columns (total 10 columns):\n",
      "permalink        66368 non-null object\n",
      "name             66367 non-null object\n",
      "homepage_url     61310 non-null object\n",
      "category_list    63220 non-null object\n",
      "status           66368 non-null object\n",
      "country_code     59410 non-null object\n",
      "state_code       57821 non-null object\n",
      "region           58338 non-null object\n",
      "city             58340 non-null object\n",
      "founded_at       51147 non-null object\n",
      "dtypes: object(10)\n",
      "memory usage: 5.1+ MB\n"
     ]
    },
    {
     "data": {
      "text/plain": [
       "(114949, 6)"
      ]
     },
     "execution_count": 3,
     "metadata": {},
     "output_type": "execute_result"
    },
    {
     "name": "stdout",
     "output_type": "stream",
     "text": [
      "<class 'pandas.core.frame.DataFrame'>\n",
      "RangeIndex: 114949 entries, 0 to 114948\n",
      "Data columns (total 6 columns):\n",
      "company_permalink          114949 non-null object\n",
      "funding_round_permalink    114949 non-null object\n",
      "funding_round_type         114949 non-null object\n",
      "funding_round_code         31140 non-null object\n",
      "funded_at                  114949 non-null object\n",
      "raised_amount_usd          94959 non-null float64\n",
      "dtypes: float64(1), object(5)\n",
      "memory usage: 5.3+ MB\n"
     ]
    }
   ],
   "source": [
    "## Analayse the shape,column details of companies and rounds2 data frame.\n",
    "\n",
    "companies.shape\n",
    "companies.info()\n",
    "\n",
    "rounds2.shape\n",
    "rounds2.info()"
   ]
  },
  {
   "cell_type": "markdown",
   "metadata": {},
   "source": [
    "***Result:*** ;\n",
    "- Companies.txt - **`66368 rows`** and **`10 columns`** \n",
    "- rounds2.csv -   **`114949 rows`** and **`6 columns`**."
   ]
  },
  {
   "cell_type": "code",
   "execution_count": 4,
   "metadata": {},
   "outputs": [
    {
     "data": {
      "text/html": [
       "<div>\n",
       "<style scoped>\n",
       "    .dataframe tbody tr th:only-of-type {\n",
       "        vertical-align: middle;\n",
       "    }\n",
       "\n",
       "    .dataframe tbody tr th {\n",
       "        vertical-align: top;\n",
       "    }\n",
       "\n",
       "    .dataframe thead th {\n",
       "        text-align: right;\n",
       "    }\n",
       "</style>\n",
       "<table border=\"1\" class=\"dataframe\">\n",
       "  <thead>\n",
       "    <tr style=\"text-align: right;\">\n",
       "      <th></th>\n",
       "      <th>permalink</th>\n",
       "      <th>name</th>\n",
       "      <th>homepage_url</th>\n",
       "      <th>category_list</th>\n",
       "      <th>status</th>\n",
       "      <th>country_code</th>\n",
       "      <th>state_code</th>\n",
       "      <th>region</th>\n",
       "      <th>city</th>\n",
       "      <th>founded_at</th>\n",
       "    </tr>\n",
       "  </thead>\n",
       "  <tbody>\n",
       "    <tr>\n",
       "      <th>66363</th>\n",
       "      <td>/Organization/Zznode-Science-And-Technology-Co-Ltd</td>\n",
       "      <td>ZZNode Science and Technology</td>\n",
       "      <td>http://www.zznode.com</td>\n",
       "      <td>Enterprise Software</td>\n",
       "      <td>operating</td>\n",
       "      <td>CHN</td>\n",
       "      <td>22</td>\n",
       "      <td>Beijing</td>\n",
       "      <td>Beijing</td>\n",
       "      <td>NaN</td>\n",
       "    </tr>\n",
       "    <tr>\n",
       "      <th>66364</th>\n",
       "      <td>/Organization/Zzzzapp-Com</td>\n",
       "      <td>Zzzzapp Wireless ltd.</td>\n",
       "      <td>http://www.zzzzapp.com</td>\n",
       "      <td>Advertising|Mobile|Web Development|Wireless</td>\n",
       "      <td>operating</td>\n",
       "      <td>HRV</td>\n",
       "      <td>15</td>\n",
       "      <td>Split</td>\n",
       "      <td>Split</td>\n",
       "      <td>13-05-2012</td>\n",
       "    </tr>\n",
       "    <tr>\n",
       "      <th>66365</th>\n",
       "      <td>/Organization/ÃEron</td>\n",
       "      <td>ÃERON</td>\n",
       "      <td>http://www.aeron.hu/</td>\n",
       "      <td>NaN</td>\n",
       "      <td>operating</td>\n",
       "      <td>NaN</td>\n",
       "      <td>NaN</td>\n",
       "      <td>NaN</td>\n",
       "      <td>NaN</td>\n",
       "      <td>01-01-2011</td>\n",
       "    </tr>\n",
       "    <tr>\n",
       "      <th>66366</th>\n",
       "      <td>/Organization/ÃAsys-2</td>\n",
       "      <td>Ãasys</td>\n",
       "      <td>http://www.oasys.io/</td>\n",
       "      <td>Consumer Electronics|Internet of Things|Telecommunications</td>\n",
       "      <td>operating</td>\n",
       "      <td>USA</td>\n",
       "      <td>CA</td>\n",
       "      <td>SF Bay Area</td>\n",
       "      <td>San Francisco</td>\n",
       "      <td>01-01-2014</td>\n",
       "    </tr>\n",
       "    <tr>\n",
       "      <th>66367</th>\n",
       "      <td>/Organization/Ä°Novatiff-Reklam-Ve-Tanä±Tä±M-Hizmetleri-Tic</td>\n",
       "      <td>Ä°novatiff Reklam ve TanÄ±tÄ±m Hizmetleri Tic</td>\n",
       "      <td>http://inovatiff.com</td>\n",
       "      <td>Consumer Goods|E-Commerce|Internet</td>\n",
       "      <td>operating</td>\n",
       "      <td>NaN</td>\n",
       "      <td>NaN</td>\n",
       "      <td>NaN</td>\n",
       "      <td>NaN</td>\n",
       "      <td>NaN</td>\n",
       "    </tr>\n",
       "  </tbody>\n",
       "</table>\n",
       "</div>"
      ],
      "text/plain": [
       "                                                         permalink                                           name            homepage_url                                               category_list     status country_code state_code       region           city  founded_at\n",
       "66363           /Organization/Zznode-Science-And-Technology-Co-Ltd                  ZZNode Science and Technology   http://www.zznode.com                                         Enterprise Software  operating          CHN         22      Beijing        Beijing         NaN\n",
       "66364                                    /Organization/Zzzzapp-Com                          Zzzzapp Wireless ltd.  http://www.zzzzapp.com                 Advertising|Mobile|Web Development|Wireless  operating          HRV         15        Split          Split  13-05-2012\n",
       "66365                                         /Organization/ÃEron                                         ÃERON    http://www.aeron.hu/                                                         NaN  operating          NaN        NaN          NaN            NaN  01-01-2011\n",
       "66366                                       /Organization/ÃAsys-2                                         Ãasys    http://www.oasys.io/  Consumer Electronics|Internet of Things|Telecommunications  operating          USA         CA  SF Bay Area  San Francisco  01-01-2014\n",
       "66367  /Organization/Ä°Novatiff-Reklam-Ve-Tanä±Tä±M-Hizmetleri-Tic  Ä°novatiff Reklam ve TanÄ±tÄ±m Hizmetleri Tic    http://inovatiff.com                          Consumer Goods|E-Commerce|Internet  operating          NaN        NaN          NaN            NaN         NaN"
      ]
     },
     "execution_count": 4,
     "metadata": {},
     "output_type": "execute_result"
    },
    {
     "data": {
      "text/html": [
       "<div>\n",
       "<style scoped>\n",
       "    .dataframe tbody tr th:only-of-type {\n",
       "        vertical-align: middle;\n",
       "    }\n",
       "\n",
       "    .dataframe tbody tr th {\n",
       "        vertical-align: top;\n",
       "    }\n",
       "\n",
       "    .dataframe thead th {\n",
       "        text-align: right;\n",
       "    }\n",
       "</style>\n",
       "<table border=\"1\" class=\"dataframe\">\n",
       "  <thead>\n",
       "    <tr style=\"text-align: right;\">\n",
       "      <th></th>\n",
       "      <th>company_permalink</th>\n",
       "      <th>funding_round_permalink</th>\n",
       "      <th>funding_round_type</th>\n",
       "      <th>funding_round_code</th>\n",
       "      <th>funded_at</th>\n",
       "      <th>raised_amount_usd</th>\n",
       "    </tr>\n",
       "  </thead>\n",
       "  <tbody>\n",
       "    <tr>\n",
       "      <th>114944</th>\n",
       "      <td>/organization/zzzzapp-com</td>\n",
       "      <td>/funding-round/8f6d25b8ee4199e586484d817bceda05</td>\n",
       "      <td>convertible_note</td>\n",
       "      <td>NaN</td>\n",
       "      <td>01-03-2014</td>\n",
       "      <td>41,313.00</td>\n",
       "    </tr>\n",
       "    <tr>\n",
       "      <th>114945</th>\n",
       "      <td>/ORGANIZATION/ZZZZAPP-COM</td>\n",
       "      <td>/funding-round/ff1aa06ed5da186c84f101549035d4ae</td>\n",
       "      <td>seed</td>\n",
       "      <td>NaN</td>\n",
       "      <td>01-05-2013</td>\n",
       "      <td>32,842.00</td>\n",
       "    </tr>\n",
       "    <tr>\n",
       "      <th>114946</th>\n",
       "      <td>/organization/ãeron</td>\n",
       "      <td>/funding-round/59f4dce44723b794f21ded3daed6e4fe</td>\n",
       "      <td>venture</td>\n",
       "      <td>A</td>\n",
       "      <td>01-08-2014</td>\n",
       "      <td>nan</td>\n",
       "    </tr>\n",
       "    <tr>\n",
       "      <th>114947</th>\n",
       "      <td>/ORGANIZATION/ÃASYS-2</td>\n",
       "      <td>/funding-round/35f09d0794651719b02bbfd859ba9ff5</td>\n",
       "      <td>seed</td>\n",
       "      <td>NaN</td>\n",
       "      <td>01-01-2015</td>\n",
       "      <td>18,192.00</td>\n",
       "    </tr>\n",
       "    <tr>\n",
       "      <th>114948</th>\n",
       "      <td>/organization/ä°novatiff-reklam-ve-tanä±tä±m-hizmetleri-tic</td>\n",
       "      <td>/funding-round/af942869878d2cd788ef5189b435ebc4</td>\n",
       "      <td>grant</td>\n",
       "      <td>NaN</td>\n",
       "      <td>01-10-2013</td>\n",
       "      <td>14,851.00</td>\n",
       "    </tr>\n",
       "  </tbody>\n",
       "</table>\n",
       "</div>"
      ],
      "text/plain": [
       "                                                  company_permalink                          funding_round_permalink funding_round_type funding_round_code   funded_at  raised_amount_usd\n",
       "114944                                    /organization/zzzzapp-com  /funding-round/8f6d25b8ee4199e586484d817bceda05   convertible_note                NaN  01-03-2014          41,313.00\n",
       "114945                                    /ORGANIZATION/ZZZZAPP-COM  /funding-round/ff1aa06ed5da186c84f101549035d4ae               seed                NaN  01-05-2013          32,842.00\n",
       "114946                                         /organization/ãeron  /funding-round/59f4dce44723b794f21ded3daed6e4fe            venture                  A  01-08-2014                nan\n",
       "114947                                       /ORGANIZATION/ÃASYS-2  /funding-round/35f09d0794651719b02bbfd859ba9ff5               seed                NaN  01-01-2015          18,192.00\n",
       "114948  /organization/ä°novatiff-reklam-ve-tanä±tä±m-hizmetleri-tic  /funding-round/af942869878d2cd788ef5189b435ebc4              grant                NaN  01-10-2013          14,851.00"
      ]
     },
     "execution_count": 4,
     "metadata": {},
     "output_type": "execute_result"
    }
   ],
   "source": [
    "# view data.\n",
    "\n",
    "companies.tail()\n",
    "rounds2.tail()"
   ]
  },
  {
   "cell_type": "markdown",
   "metadata": {},
   "source": [
    "#### Observation: #### \n",
    ">- There are some special characters in the files.These special characters has to be removed from both companies & rounds2.(e.g, row numbers 66365,66366 and 66367 in both `permalink` in companies and name and row numbers 114947,114948 in `company_permalink` column in rounds2.)<br>\n",
    "\n",
    "#### Inference: #### \n",
    ">- The special characters should be `removed` from data frame companies and rounds2 on the impacted columns."
   ]
  },
  {
   "cell_type": "code",
   "execution_count": 5,
   "metadata": {},
   "outputs": [
    {
     "data": {
      "text/html": [
       "<div>\n",
       "<style scoped>\n",
       "    .dataframe tbody tr th:only-of-type {\n",
       "        vertical-align: middle;\n",
       "    }\n",
       "\n",
       "    .dataframe tbody tr th {\n",
       "        vertical-align: top;\n",
       "    }\n",
       "\n",
       "    .dataframe thead th {\n",
       "        text-align: right;\n",
       "    }\n",
       "</style>\n",
       "<table border=\"1\" class=\"dataframe\">\n",
       "  <thead>\n",
       "    <tr style=\"text-align: right;\">\n",
       "      <th></th>\n",
       "      <th>permalink</th>\n",
       "      <th>name</th>\n",
       "      <th>homepage_url</th>\n",
       "      <th>category_list</th>\n",
       "      <th>status</th>\n",
       "      <th>country_code</th>\n",
       "      <th>state_code</th>\n",
       "      <th>region</th>\n",
       "      <th>city</th>\n",
       "      <th>founded_at</th>\n",
       "    </tr>\n",
       "  </thead>\n",
       "  <tbody>\n",
       "    <tr>\n",
       "      <th>66363</th>\n",
       "      <td>/Organization/Zznode-Science-And-Technology-Co-Ltd</td>\n",
       "      <td>ZZNode Science and Technology</td>\n",
       "      <td>http://www.zznode.com</td>\n",
       "      <td>Enterprise Software</td>\n",
       "      <td>operating</td>\n",
       "      <td>CHN</td>\n",
       "      <td>22</td>\n",
       "      <td>Beijing</td>\n",
       "      <td>Beijing</td>\n",
       "      <td>NaN</td>\n",
       "    </tr>\n",
       "    <tr>\n",
       "      <th>66364</th>\n",
       "      <td>/Organization/Zzzzapp-Com</td>\n",
       "      <td>Zzzzapp Wireless ltd.</td>\n",
       "      <td>http://www.zzzzapp.com</td>\n",
       "      <td>Advertising|Mobile|Web Development|Wireless</td>\n",
       "      <td>operating</td>\n",
       "      <td>HRV</td>\n",
       "      <td>15</td>\n",
       "      <td>Split</td>\n",
       "      <td>Split</td>\n",
       "      <td>13-05-2012</td>\n",
       "    </tr>\n",
       "    <tr>\n",
       "      <th>66365</th>\n",
       "      <td>/Organization/Eron</td>\n",
       "      <td>ERON</td>\n",
       "      <td>http://www.aeron.hu/</td>\n",
       "      <td>NaN</td>\n",
       "      <td>operating</td>\n",
       "      <td>NaN</td>\n",
       "      <td>NaN</td>\n",
       "      <td>NaN</td>\n",
       "      <td>NaN</td>\n",
       "      <td>01-01-2011</td>\n",
       "    </tr>\n",
       "    <tr>\n",
       "      <th>66366</th>\n",
       "      <td>/Organization/Asys-2</td>\n",
       "      <td>asys</td>\n",
       "      <td>http://www.oasys.io/</td>\n",
       "      <td>Consumer Electronics|Internet of Things|Telecommunications</td>\n",
       "      <td>operating</td>\n",
       "      <td>USA</td>\n",
       "      <td>CA</td>\n",
       "      <td>SF Bay Area</td>\n",
       "      <td>San Francisco</td>\n",
       "      <td>01-01-2014</td>\n",
       "    </tr>\n",
       "    <tr>\n",
       "      <th>66367</th>\n",
       "      <td>/Organization/Novatiff-Reklam-Ve-TanTM-Hizmetleri-Tic</td>\n",
       "      <td>novatiff Reklam ve Tantm Hizmetleri Tic</td>\n",
       "      <td>http://inovatiff.com</td>\n",
       "      <td>Consumer Goods|E-Commerce|Internet</td>\n",
       "      <td>operating</td>\n",
       "      <td>NaN</td>\n",
       "      <td>NaN</td>\n",
       "      <td>NaN</td>\n",
       "      <td>NaN</td>\n",
       "      <td>NaN</td>\n",
       "    </tr>\n",
       "  </tbody>\n",
       "</table>\n",
       "</div>"
      ],
      "text/plain": [
       "                                                   permalink                                     name            homepage_url                                               category_list     status country_code state_code       region           city  founded_at\n",
       "66363     /Organization/Zznode-Science-And-Technology-Co-Ltd            ZZNode Science and Technology   http://www.zznode.com                                         Enterprise Software  operating          CHN         22      Beijing        Beijing         NaN\n",
       "66364                              /Organization/Zzzzapp-Com                    Zzzzapp Wireless ltd.  http://www.zzzzapp.com                 Advertising|Mobile|Web Development|Wireless  operating          HRV         15        Split          Split  13-05-2012\n",
       "66365                                     /Organization/Eron                                     ERON    http://www.aeron.hu/                                                         NaN  operating          NaN        NaN          NaN            NaN  01-01-2011\n",
       "66366                                   /Organization/Asys-2                                     asys    http://www.oasys.io/  Consumer Electronics|Internet of Things|Telecommunications  operating          USA         CA  SF Bay Area  San Francisco  01-01-2014\n",
       "66367  /Organization/Novatiff-Reklam-Ve-TanTM-Hizmetleri-Tic  novatiff Reklam ve Tantm Hizmetleri Tic    http://inovatiff.com                          Consumer Goods|E-Commerce|Internet  operating          NaN        NaN          NaN            NaN         NaN"
      ]
     },
     "execution_count": 5,
     "metadata": {},
     "output_type": "execute_result"
    }
   ],
   "source": [
    "# Apply encoding/decoding to companies data frame to remove(ignore) the special characters.\n",
    "# Inference : The special characters in the permalink & name column \n",
    "#              due to western european char set.\n",
    "#\n",
    "# The special characters for company_permalink are cleaned up using below ;\n",
    "\n",
    "companies['permalink'] = companies.permalink.str.encode('utf-8').\\\n",
    "                  str.decode('ascii',errors='ignore').map(lambda x: x)\n",
    "companies['name'] = companies.name.str.encode('utf-8').\\\n",
    "                  str.decode('ascii',errors='ignore').map(lambda x: x)\n",
    "companies.tail()"
   ]
  },
  {
   "cell_type": "code",
   "execution_count": 6,
   "metadata": {},
   "outputs": [
    {
     "data": {
      "text/html": [
       "<div>\n",
       "<style scoped>\n",
       "    .dataframe tbody tr th:only-of-type {\n",
       "        vertical-align: middle;\n",
       "    }\n",
       "\n",
       "    .dataframe tbody tr th {\n",
       "        vertical-align: top;\n",
       "    }\n",
       "\n",
       "    .dataframe thead th {\n",
       "        text-align: right;\n",
       "    }\n",
       "</style>\n",
       "<table border=\"1\" class=\"dataframe\">\n",
       "  <thead>\n",
       "    <tr style=\"text-align: right;\">\n",
       "      <th></th>\n",
       "      <th>company_permalink</th>\n",
       "      <th>funding_round_permalink</th>\n",
       "      <th>funding_round_type</th>\n",
       "      <th>funding_round_code</th>\n",
       "      <th>funded_at</th>\n",
       "      <th>raised_amount_usd</th>\n",
       "    </tr>\n",
       "  </thead>\n",
       "  <tbody>\n",
       "    <tr>\n",
       "      <th>114944</th>\n",
       "      <td>/organization/zzzzapp-com</td>\n",
       "      <td>/funding-round/8f6d25b8ee4199e586484d817bceda05</td>\n",
       "      <td>convertible_note</td>\n",
       "      <td>NaN</td>\n",
       "      <td>01-03-2014</td>\n",
       "      <td>41,313.00</td>\n",
       "    </tr>\n",
       "    <tr>\n",
       "      <th>114945</th>\n",
       "      <td>/ORGANIZATION/ZZZZAPP-COM</td>\n",
       "      <td>/funding-round/ff1aa06ed5da186c84f101549035d4ae</td>\n",
       "      <td>seed</td>\n",
       "      <td>NaN</td>\n",
       "      <td>01-05-2013</td>\n",
       "      <td>32,842.00</td>\n",
       "    </tr>\n",
       "    <tr>\n",
       "      <th>114946</th>\n",
       "      <td>/organization/eron</td>\n",
       "      <td>/funding-round/59f4dce44723b794f21ded3daed6e4fe</td>\n",
       "      <td>venture</td>\n",
       "      <td>A</td>\n",
       "      <td>01-08-2014</td>\n",
       "      <td>nan</td>\n",
       "    </tr>\n",
       "    <tr>\n",
       "      <th>114947</th>\n",
       "      <td>/ORGANIZATION/ASYS-2</td>\n",
       "      <td>/funding-round/35f09d0794651719b02bbfd859ba9ff5</td>\n",
       "      <td>seed</td>\n",
       "      <td>NaN</td>\n",
       "      <td>01-01-2015</td>\n",
       "      <td>18,192.00</td>\n",
       "    </tr>\n",
       "    <tr>\n",
       "      <th>114948</th>\n",
       "      <td>/organization/novatiff-reklam-ve-tantm-hizmetleri-tic</td>\n",
       "      <td>/funding-round/af942869878d2cd788ef5189b435ebc4</td>\n",
       "      <td>grant</td>\n",
       "      <td>NaN</td>\n",
       "      <td>01-10-2013</td>\n",
       "      <td>14,851.00</td>\n",
       "    </tr>\n",
       "  </tbody>\n",
       "</table>\n",
       "</div>"
      ],
      "text/plain": [
       "                                            company_permalink                          funding_round_permalink funding_round_type funding_round_code   funded_at  raised_amount_usd\n",
       "114944                              /organization/zzzzapp-com  /funding-round/8f6d25b8ee4199e586484d817bceda05   convertible_note                NaN  01-03-2014          41,313.00\n",
       "114945                              /ORGANIZATION/ZZZZAPP-COM  /funding-round/ff1aa06ed5da186c84f101549035d4ae               seed                NaN  01-05-2013          32,842.00\n",
       "114946                                     /organization/eron  /funding-round/59f4dce44723b794f21ded3daed6e4fe            venture                  A  01-08-2014                nan\n",
       "114947                                   /ORGANIZATION/ASYS-2  /funding-round/35f09d0794651719b02bbfd859ba9ff5               seed                NaN  01-01-2015          18,192.00\n",
       "114948  /organization/novatiff-reklam-ve-tantm-hizmetleri-tic  /funding-round/af942869878d2cd788ef5189b435ebc4              grant                NaN  01-10-2013          14,851.00"
      ]
     },
     "execution_count": 6,
     "metadata": {},
     "output_type": "execute_result"
    }
   ],
   "source": [
    "# Apply encoding/decoding to rounds2 data frame to remove the special characters.\n",
    "# Inference : The special characters in the company_permalink column \n",
    "#              due to western european char set.\n",
    "# The special characters for company_permalink are cleaned up using below ;\n",
    "\n",
    "rounds2['company_permalink'] = rounds2.company_permalink.str.encode('utf-8').\\\n",
    "                  str.decode('ascii',errors='ignore').map(lambda x: x)\n",
    "\n",
    "rounds2['funding_round_permalink'] = rounds2.funding_round_permalink.\\\n",
    "                                       str.encode('utf-8').\\\n",
    "                                       str.decode('ascii',errors='ignore').map(lambda x: x)\n",
    "\n",
    "rounds2.tail()"
   ]
  },
  {
   "cell_type": "markdown",
   "metadata": {},
   "source": [
    "#### Observation: #### \n",
    ">- The `'company_permalink'` column in rounds2 has same values but in different row with upper case. For e.g., We have `'/ORGANIZATION/0XDATA'` and `'/organization/0xdata'`. So we need to convert to same case. e.g., lower case, before considering them as key column before merge.<br>\n",
    ">- Similarly, `'permalink'` column in companies data frame has mixed case values , so convert them to lower case for the join to work correctly.\n",
    "\n",
    "#### Inference: #### \n",
    ">- The conversion to common `cases` of key column values help for merge the data frames."
   ]
  },
  {
   "cell_type": "code",
   "execution_count": 7,
   "metadata": {},
   "outputs": [
    {
     "data": {
      "text/html": [
       "<div>\n",
       "<style scoped>\n",
       "    .dataframe tbody tr th:only-of-type {\n",
       "        vertical-align: middle;\n",
       "    }\n",
       "\n",
       "    .dataframe tbody tr th {\n",
       "        vertical-align: top;\n",
       "    }\n",
       "\n",
       "    .dataframe thead th {\n",
       "        text-align: right;\n",
       "    }\n",
       "</style>\n",
       "<table border=\"1\" class=\"dataframe\">\n",
       "  <thead>\n",
       "    <tr style=\"text-align: right;\">\n",
       "      <th></th>\n",
       "      <th>permalink</th>\n",
       "      <th>name</th>\n",
       "      <th>homepage_url</th>\n",
       "      <th>category_list</th>\n",
       "      <th>status</th>\n",
       "      <th>country_code</th>\n",
       "      <th>state_code</th>\n",
       "      <th>region</th>\n",
       "      <th>city</th>\n",
       "      <th>founded_at</th>\n",
       "    </tr>\n",
       "  </thead>\n",
       "  <tbody>\n",
       "    <tr>\n",
       "      <th>66363</th>\n",
       "      <td>/organization/zznode-science-and-technology-co-ltd</td>\n",
       "      <td>ZZNode Science and Technology</td>\n",
       "      <td>http://www.zznode.com</td>\n",
       "      <td>Enterprise Software</td>\n",
       "      <td>operating</td>\n",
       "      <td>CHN</td>\n",
       "      <td>22</td>\n",
       "      <td>Beijing</td>\n",
       "      <td>Beijing</td>\n",
       "      <td>NaN</td>\n",
       "    </tr>\n",
       "    <tr>\n",
       "      <th>66364</th>\n",
       "      <td>/organization/zzzzapp-com</td>\n",
       "      <td>Zzzzapp Wireless ltd.</td>\n",
       "      <td>http://www.zzzzapp.com</td>\n",
       "      <td>Advertising|Mobile|Web Development|Wireless</td>\n",
       "      <td>operating</td>\n",
       "      <td>HRV</td>\n",
       "      <td>15</td>\n",
       "      <td>Split</td>\n",
       "      <td>Split</td>\n",
       "      <td>13-05-2012</td>\n",
       "    </tr>\n",
       "    <tr>\n",
       "      <th>66365</th>\n",
       "      <td>/organization/eron</td>\n",
       "      <td>ERON</td>\n",
       "      <td>http://www.aeron.hu/</td>\n",
       "      <td>NaN</td>\n",
       "      <td>operating</td>\n",
       "      <td>NaN</td>\n",
       "      <td>NaN</td>\n",
       "      <td>NaN</td>\n",
       "      <td>NaN</td>\n",
       "      <td>01-01-2011</td>\n",
       "    </tr>\n",
       "    <tr>\n",
       "      <th>66366</th>\n",
       "      <td>/organization/asys-2</td>\n",
       "      <td>asys</td>\n",
       "      <td>http://www.oasys.io/</td>\n",
       "      <td>Consumer Electronics|Internet of Things|Telecommunications</td>\n",
       "      <td>operating</td>\n",
       "      <td>USA</td>\n",
       "      <td>CA</td>\n",
       "      <td>SF Bay Area</td>\n",
       "      <td>San Francisco</td>\n",
       "      <td>01-01-2014</td>\n",
       "    </tr>\n",
       "    <tr>\n",
       "      <th>66367</th>\n",
       "      <td>/organization/novatiff-reklam-ve-tantm-hizmetleri-tic</td>\n",
       "      <td>novatiff Reklam ve Tantm Hizmetleri Tic</td>\n",
       "      <td>http://inovatiff.com</td>\n",
       "      <td>Consumer Goods|E-Commerce|Internet</td>\n",
       "      <td>operating</td>\n",
       "      <td>NaN</td>\n",
       "      <td>NaN</td>\n",
       "      <td>NaN</td>\n",
       "      <td>NaN</td>\n",
       "      <td>NaN</td>\n",
       "    </tr>\n",
       "  </tbody>\n",
       "</table>\n",
       "</div>"
      ],
      "text/plain": [
       "                                                   permalink                                     name            homepage_url                                               category_list     status country_code state_code       region           city  founded_at\n",
       "66363     /organization/zznode-science-and-technology-co-ltd            ZZNode Science and Technology   http://www.zznode.com                                         Enterprise Software  operating          CHN         22      Beijing        Beijing         NaN\n",
       "66364                              /organization/zzzzapp-com                    Zzzzapp Wireless ltd.  http://www.zzzzapp.com                 Advertising|Mobile|Web Development|Wireless  operating          HRV         15        Split          Split  13-05-2012\n",
       "66365                                     /organization/eron                                     ERON    http://www.aeron.hu/                                                         NaN  operating          NaN        NaN          NaN            NaN  01-01-2011\n",
       "66366                                   /organization/asys-2                                     asys    http://www.oasys.io/  Consumer Electronics|Internet of Things|Telecommunications  operating          USA         CA  SF Bay Area  San Francisco  01-01-2014\n",
       "66367  /organization/novatiff-reklam-ve-tantm-hizmetleri-tic  novatiff Reklam ve Tantm Hizmetleri Tic    http://inovatiff.com                          Consumer Goods|E-Commerce|Internet  operating          NaN        NaN          NaN            NaN         NaN"
      ]
     },
     "execution_count": 7,
     "metadata": {},
     "output_type": "execute_result"
    },
    {
     "data": {
      "text/html": [
       "<div>\n",
       "<style scoped>\n",
       "    .dataframe tbody tr th:only-of-type {\n",
       "        vertical-align: middle;\n",
       "    }\n",
       "\n",
       "    .dataframe tbody tr th {\n",
       "        vertical-align: top;\n",
       "    }\n",
       "\n",
       "    .dataframe thead th {\n",
       "        text-align: right;\n",
       "    }\n",
       "</style>\n",
       "<table border=\"1\" class=\"dataframe\">\n",
       "  <thead>\n",
       "    <tr style=\"text-align: right;\">\n",
       "      <th></th>\n",
       "      <th>company_permalink</th>\n",
       "      <th>funding_round_permalink</th>\n",
       "      <th>funding_round_type</th>\n",
       "      <th>funding_round_code</th>\n",
       "      <th>funded_at</th>\n",
       "      <th>raised_amount_usd</th>\n",
       "    </tr>\n",
       "  </thead>\n",
       "  <tbody>\n",
       "    <tr>\n",
       "      <th>114944</th>\n",
       "      <td>/organization/zzzzapp-com</td>\n",
       "      <td>/funding-round/8f6d25b8ee4199e586484d817bceda05</td>\n",
       "      <td>convertible_note</td>\n",
       "      <td>NaN</td>\n",
       "      <td>01-03-2014</td>\n",
       "      <td>41,313.00</td>\n",
       "    </tr>\n",
       "    <tr>\n",
       "      <th>114945</th>\n",
       "      <td>/organization/zzzzapp-com</td>\n",
       "      <td>/funding-round/ff1aa06ed5da186c84f101549035d4ae</td>\n",
       "      <td>seed</td>\n",
       "      <td>NaN</td>\n",
       "      <td>01-05-2013</td>\n",
       "      <td>32,842.00</td>\n",
       "    </tr>\n",
       "    <tr>\n",
       "      <th>114946</th>\n",
       "      <td>/organization/eron</td>\n",
       "      <td>/funding-round/59f4dce44723b794f21ded3daed6e4fe</td>\n",
       "      <td>venture</td>\n",
       "      <td>A</td>\n",
       "      <td>01-08-2014</td>\n",
       "      <td>nan</td>\n",
       "    </tr>\n",
       "    <tr>\n",
       "      <th>114947</th>\n",
       "      <td>/organization/asys-2</td>\n",
       "      <td>/funding-round/35f09d0794651719b02bbfd859ba9ff5</td>\n",
       "      <td>seed</td>\n",
       "      <td>NaN</td>\n",
       "      <td>01-01-2015</td>\n",
       "      <td>18,192.00</td>\n",
       "    </tr>\n",
       "    <tr>\n",
       "      <th>114948</th>\n",
       "      <td>/organization/novatiff-reklam-ve-tantm-hizmetleri-tic</td>\n",
       "      <td>/funding-round/af942869878d2cd788ef5189b435ebc4</td>\n",
       "      <td>grant</td>\n",
       "      <td>NaN</td>\n",
       "      <td>01-10-2013</td>\n",
       "      <td>14,851.00</td>\n",
       "    </tr>\n",
       "  </tbody>\n",
       "</table>\n",
       "</div>"
      ],
      "text/plain": [
       "                                            company_permalink                          funding_round_permalink funding_round_type funding_round_code   funded_at  raised_amount_usd\n",
       "114944                              /organization/zzzzapp-com  /funding-round/8f6d25b8ee4199e586484d817bceda05   convertible_note                NaN  01-03-2014          41,313.00\n",
       "114945                              /organization/zzzzapp-com  /funding-round/ff1aa06ed5da186c84f101549035d4ae               seed                NaN  01-05-2013          32,842.00\n",
       "114946                                     /organization/eron  /funding-round/59f4dce44723b794f21ded3daed6e4fe            venture                  A  01-08-2014                nan\n",
       "114947                                   /organization/asys-2  /funding-round/35f09d0794651719b02bbfd859ba9ff5               seed                NaN  01-01-2015          18,192.00\n",
       "114948  /organization/novatiff-reklam-ve-tantm-hizmetleri-tic  /funding-round/af942869878d2cd788ef5189b435ebc4              grant                NaN  01-10-2013          14,851.00"
      ]
     },
     "execution_count": 7,
     "metadata": {},
     "output_type": "execute_result"
    }
   ],
   "source": [
    "# Convert the key column of companies (permalink) to lower case\n",
    "companies['permalink'] = companies['permalink'].str.lower()\n",
    "\n",
    "# Convert  key columns of rounds2 (company_permalink and funding_round_permalink) \n",
    "# to lower case\n",
    "rounds2['company_permalink'] = rounds2['company_permalink'].str.lower()\n",
    "rounds2['funding_round_permalink'] = rounds2['funding_round_permalink'].str.lower()\n",
    "\n",
    "# Verify companies & rounds \n",
    "companies.tail()\n",
    "rounds2.tail()"
   ]
  },
  {
   "cell_type": "markdown",
   "metadata": {},
   "source": [
    "#### Observations :  <br>\n",
    ">- There are huge number null values (NaN) and duplicates present in both companies and rounds2. \n",
    "  - Find out the number of null columns and their counts. \n",
    "  - Find out the number of duplicates \n",
    "  - Find out the unique items in the key columns (`permalink` and `company_permalink`).\n",
    "  \n",
    "#### Inference: <br>\n",
    ">- The duplicates and null values should be removed as part of data cleansing.\n",
    ">- Keep the key columns unique for joining."
   ]
  },
  {
   "cell_type": "code",
   "execution_count": 8,
   "metadata": {},
   "outputs": [
    {
     "data": {
      "text/plain": [
       "permalink            0\n",
       "name                 1\n",
       "homepage_url      5058\n",
       "category_list     3148\n",
       "status               0\n",
       "country_code      6958\n",
       "state_code        8547\n",
       "region            8030\n",
       "city              8028\n",
       "founded_at       15221\n",
       "dtype: int64"
      ]
     },
     "execution_count": 8,
     "metadata": {},
     "output_type": "execute_result"
    },
    {
     "data": {
      "text/plain": [
       "company_permalink              0\n",
       "funding_round_permalink        0\n",
       "funding_round_type             0\n",
       "funding_round_code         83809\n",
       "funded_at                      0\n",
       "raised_amount_usd          19990\n",
       "dtype: int64"
      ]
     },
     "execution_count": 8,
     "metadata": {},
     "output_type": "execute_result"
    }
   ],
   "source": [
    "# Check the companies & rounds data frames \n",
    "# have columns having missing data (number of NaN)\n",
    "\n",
    "companies.isnull().sum()\n",
    "rounds2.isnull().sum()"
   ]
  },
  {
   "cell_type": "markdown",
   "metadata": {},
   "source": [
    "###### Results for Table 1.1 - Understand the Dataset.\n",
    "**Question 1:** How many unique companies are present in rounds2?<br>"
   ]
  },
  {
   "cell_type": "code",
   "execution_count": 9,
   "metadata": {},
   "outputs": [
    {
     "name": "stdout",
     "output_type": "stream",
     "text": [
      "The Number of duplicate company_permalink present in rounds2 is : 48581\n",
      "The Number of unique company_permalink present in rounds2 is : 66368\n"
     ]
    }
   ],
   "source": [
    "# Results for Table 1.1 Understand the Dataset.\n",
    "# Inference as below.\n",
    "\n",
    "# Number of duplicate companies present in rounds2 data frame.\n",
    "print(\"The Number of duplicate company_permalink present in rounds2 is :\",\\\n",
    "                             rounds2.company_permalink.duplicated().sum())\n",
    "\n",
    "# Number unique companies (permalink) present in rounds2.\n",
    "\n",
    "print(\"The Number of unique company_permalink present in rounds2 is :\",\\\n",
    "                                       rounds2['company_permalink'].nunique(dropna=False))"
   ]
  },
  {
   "cell_type": "markdown",
   "metadata": {},
   "source": [
    "**Answer:**\n",
    ">1. The number of duplicated company entries (company_permalink) in rounds2 : `48581`<br>\n",
    ">2. The Total number of unique companies are present in rounds2 : `66368`<br>"
   ]
  },
  {
   "cell_type": "markdown",
   "metadata": {},
   "source": [
    "###### Results for Table 1.1 - Understand the Dataset.\n",
    ">**Question 2:** How many unique companies are present in companies?<br>"
   ]
  },
  {
   "cell_type": "code",
   "execution_count": 10,
   "metadata": {},
   "outputs": [
    {
     "name": "stdout",
     "output_type": "stream",
     "text": [
      "The Number of duplicate permalink present in companies 0\n",
      "The Number of unique permalink present in companies 66368\n"
     ]
    }
   ],
   "source": [
    "# Number of duplicate companies present in companies data frame.\n",
    "# Inference as Below.\n",
    "print(\"The Number of duplicate permalink present in companies\",\\\n",
    "                        companies.permalink.duplicated().sum())\n",
    "\n",
    "# Number unique companies (permalink) present in companies.\n",
    "print(\"The Number of unique permalink present in companies\",\\\n",
    "                               companies.permalink.nunique(dropna=False))"
   ]
  },
  {
   "cell_type": "markdown",
   "metadata": {},
   "source": [
    "**Answer:**\n",
    ">1. The number of duplicated company entries in companies : `0`<br>\n",
    ">2. The Total number of unique companies which are present in companies : `66368`<br>"
   ]
  },
  {
   "cell_type": "markdown",
   "metadata": {},
   "source": [
    " ###### Results for Table 1.1 - Understand the Dataset.\n",
    " >**Question 3:** In the companies data frame, which column can be used as the  unique key for each company? Write the name of the column ? <br>\n",
    " >**Answer:** `permalink`<br>"
   ]
  },
  {
   "cell_type": "markdown",
   "metadata": {},
   "source": [
    "###### Results for Table 1.1 - Understand the Dataset.\n",
    ">**Question 4:** Are there any companies in the rounds2 file which are not \n",
    "               present in companies?<br>"
   ]
  },
  {
   "cell_type": "code",
   "execution_count": 11,
   "metadata": {},
   "outputs": [
    {
     "data": {
      "text/html": [
       "<div>\n",
       "<style scoped>\n",
       "    .dataframe tbody tr th:only-of-type {\n",
       "        vertical-align: middle;\n",
       "    }\n",
       "\n",
       "    .dataframe tbody tr th {\n",
       "        vertical-align: top;\n",
       "    }\n",
       "\n",
       "    .dataframe thead th {\n",
       "        text-align: right;\n",
       "    }\n",
       "</style>\n",
       "<table border=\"1\" class=\"dataframe\">\n",
       "  <thead>\n",
       "    <tr style=\"text-align: right;\">\n",
       "      <th></th>\n",
       "      <th>company_permalink</th>\n",
       "      <th>funding_round_permalink</th>\n",
       "      <th>funding_round_type</th>\n",
       "      <th>funding_round_code</th>\n",
       "      <th>funded_at</th>\n",
       "      <th>raised_amount_usd</th>\n",
       "    </tr>\n",
       "  </thead>\n",
       "  <tbody>\n",
       "  </tbody>\n",
       "</table>\n",
       "</div>"
      ],
      "text/plain": [
       "Empty DataFrame\n",
       "Columns: [company_permalink, funding_round_permalink, funding_round_type, funding_round_code, funded_at, raised_amount_usd]\n",
       "Index: []"
      ]
     },
     "execution_count": 11,
     "metadata": {},
     "output_type": "execute_result"
    }
   ],
   "source": [
    "# Verify all company permalink in rounds2 present in permalink of companies \n",
    "# to ensure nothing is missing for the key coloumns.\n",
    "# Inference : Empty rows indicates no key is missing in key columns in both data frames.\n",
    "\n",
    "rounds2.loc[~rounds2['company_permalink'].isin(companies['permalink'])]"
   ]
  },
  {
   "cell_type": "markdown",
   "metadata": {},
   "source": [
    ">**Answer (Yes or No):** `No`<br>"
   ]
  },
  {
   "cell_type": "markdown",
   "metadata": {},
   "source": [
    "###### Results for Table 1.1 - Understand the Dataset.\n",
    ">**Question 5:**  Merge the two data frames so that all  variables (columns)  in the companies frame are added to the rounds2 data frame. Name the merged frame master_frame. How many observations are present in master_frame ? ?<br> "
   ]
  },
  {
   "cell_type": "code",
   "execution_count": 12,
   "metadata": {},
   "outputs": [
    {
     "data": {
      "text/plain": [
       "(114949, 16)"
      ]
     },
     "execution_count": 12,
     "metadata": {},
     "output_type": "execute_result"
    }
   ],
   "source": [
    "# How many observations are present in master_frame ?\n",
    "# Inference: After merging both frame are joined (using inner join)\n",
    "\n",
    "master_frame = pd.merge(left=rounds2,right=companies,left_on='company_permalink',\\\n",
    "                                       right_on='permalink',how=\"inner\")\n",
    "master_frame.shape"
   ]
  },
  {
   "cell_type": "markdown",
   "metadata": {},
   "source": [
    ">**Answer:** The rounds2 and companies data frames are merged using `company_permalink` and `permalink` respectively, as key using `Inner Join`. The number of rows after merging, in the resultant `master_frame` is **`114949`** rows and 16 columns."
   ]
  },
  {
   "cell_type": "markdown",
   "metadata": {},
   "source": [
    "## Data Cleansing"
   ]
  },
  {
   "cell_type": "code",
   "execution_count": 13,
   "metadata": {},
   "outputs": [
    {
     "data": {
      "text/plain": [
       "company_permalink              0\n",
       "funding_round_permalink        0\n",
       "funding_round_type             0\n",
       "funding_round_code         83809\n",
       "funded_at                      0\n",
       "raised_amount_usd          19990\n",
       "permalink                      0\n",
       "name                           1\n",
       "homepage_url                6134\n",
       "category_list               3410\n",
       "status                         0\n",
       "country_code                8678\n",
       "state_code                 10946\n",
       "region                     10167\n",
       "city                       10164\n",
       "founded_at                 20521\n",
       "dtype: int64"
      ]
     },
     "execution_count": 13,
     "metadata": {},
     "output_type": "execute_result"
    }
   ],
   "source": [
    "# Check the columns have missing data - \n",
    "# Total number of NaN values in each column in master_frame.\n",
    "\n",
    "master_frame.isnull().sum()"
   ]
  },
  {
   "cell_type": "code",
   "execution_count": 14,
   "metadata": {},
   "outputs": [
    {
     "data": {
      "text/plain": [
       "company_permalink          0.00\n",
       "funding_round_permalink    0.00\n",
       "funding_round_type         0.00\n",
       "funding_round_code        72.91\n",
       "funded_at                  0.00\n",
       "raised_amount_usd         17.39\n",
       "permalink                  0.00\n",
       "name                       0.00\n",
       "homepage_url               5.34\n",
       "category_list              2.97\n",
       "status                     0.00\n",
       "country_code               7.55\n",
       "state_code                 9.52\n",
       "region                     8.84\n",
       "city                       8.84\n",
       "founded_at                17.85\n",
       "dtype: float64"
      ]
     },
     "execution_count": 14,
     "metadata": {},
     "output_type": "execute_result"
    }
   ],
   "source": [
    "# Evaulate missing data in master data frame columns in percentages\n",
    "\n",
    "round(100*(master_frame.isnull().sum()/len(master_frame.index)), 2)"
   ]
  },
  {
   "cell_type": "markdown",
   "metadata": {},
   "source": [
    "####  Observation :\n",
    ">- There are columns in master having huge number of null values percentages.<br>\n",
    ">- e.g., The columns `'funding_round_code'`, `'raised_amount_usd'` and `'founded_at'` are having high percentage of missing data.\n",
    "\n",
    "#### Inference: \n",
    ">- The columns having huge number of nulls should idenfied and cleaned;\n",
    ">- Remove the columns having higher percentage nulls, if they are not necessary for analysis.<br>\n",
    ">- Remove rows having columns with higher percentage of nulls.<br>\n",
    ">- As per above, following columns are not required for this analysis and/or duplicate column for this case study, and it can be dropped. The columns are ;\n",
    "  - `funding_round_code`\n",
    "  - `founded_at`\n",
    "  - `company_permalink (duplicate of permalink)`\n",
    "  - `homepage_url`\n",
    "  - `state_code`\n",
    "  - `region`\n",
    "  - `city`"
   ]
  },
  {
   "cell_type": "code",
   "execution_count": 15,
   "metadata": {},
   "outputs": [],
   "source": [
    "## The columns with high percentage null values are ;\n",
    "# 1. funding_round_code - Highest Percentage Nan Value Column.\n",
    "# 2. founded_at - Not useful for case study analysis\n",
    "# 3. company_permalink - Duplicate column of permalink (post merge of rounds2 & companies)\n",
    "# 4. homepage_url - Not Used for analysis ( contains huge amount null values)\n",
    "# 5. state_code - Not Used ( contains huge amount of nulls)\n",
    "# 6. region - Not Used \n",
    "# 7. city  - Not used\n",
    "\n",
    "\n",
    "column_list = ['funding_round_code',\n",
    "               'founded_at',\n",
    "               'company_permalink',\n",
    "               'homepage_url',\n",
    "               'state_code',\n",
    "               'region',\n",
    "               'city']\n",
    "master_frame.drop(columns=column_list,axis=1,inplace=True)"
   ]
  },
  {
   "cell_type": "code",
   "execution_count": 16,
   "metadata": {},
   "outputs": [
    {
     "data": {
      "text/plain": [
       "funding_round_permalink    0.00\n",
       "funding_round_type         0.00\n",
       "funded_at                  0.00\n",
       "raised_amount_usd         17.39\n",
       "permalink                  0.00\n",
       "name                       0.00\n",
       "category_list              2.97\n",
       "status                     0.00\n",
       "country_code               7.55\n",
       "dtype: float64"
      ]
     },
     "execution_count": 16,
     "metadata": {},
     "output_type": "execute_result"
    }
   ],
   "source": [
    "# Find out the missing data again for percentage missing data \n",
    "# after removal of columns above.\n",
    "\n",
    "round(100*(master_frame.isnull().sum()/len(master_frame.index)), 2)"
   ]
  },
  {
   "cell_type": "markdown",
   "metadata": {},
   "source": [
    "####  Observation :\n",
    ">- Highest Null percentage is for column `raised_amount_usd`.\n",
    ">- Followed by `country_code` and `category_list`.\n",
    "\n",
    "#### Inference: \n",
    ">- Since `raised_amount_usd` is a critical column in our analysis the data can be either cleansed or imputed with some other values.\n",
    ">- Since the percentage of NaN (~17%)for raised_amount_usd, is comparitively low against total, the rows having NaN values can be removed safely.<br>\n",
    ">- The presence of NaN rows are not useful for analysis ,as it is being a critical column.<br><br>"
   ]
  },
  {
   "cell_type": "code",
   "execution_count": 17,
   "metadata": {},
   "outputs": [
    {
     "data": {
      "text/plain": [
       "funding_round_permalink       0\n",
       "funding_round_type            0\n",
       "funded_at                     0\n",
       "raised_amount_usd             0\n",
       "permalink                     0\n",
       "name                          1\n",
       "category_list              1044\n",
       "status                        0\n",
       "country_code               5851\n",
       "dtype: int64"
      ]
     },
     "execution_count": 17,
     "metadata": {},
     "output_type": "execute_result"
    },
    {
     "data": {
      "text/plain": [
       "funding_round_permalink   0.00\n",
       "funding_round_type        0.00\n",
       "funded_at                 0.00\n",
       "raised_amount_usd         0.00\n",
       "permalink                 0.00\n",
       "name                      0.00\n",
       "category_list             1.10\n",
       "status                    0.00\n",
       "country_code              6.16\n",
       "dtype: float64"
      ]
     },
     "execution_count": 17,
     "metadata": {},
     "output_type": "execute_result"
    }
   ],
   "source": [
    "# Filter and remove all rows having raised_amount_usd is null (NaN)\n",
    "master_frame = master_frame[master_frame['raised_amount_usd'].notnull()]\n",
    "\n",
    "# Rerun percentage NaN Values on columns.\n",
    "master_frame.isnull().sum()\n",
    "round(100*(master_frame.isnull().sum()/len(master_frame.index)), 2)"
   ]
  },
  {
   "cell_type": "markdown",
   "metadata": {},
   "source": [
    "#### Observation :  \n",
    ">- The null percentage is `0` now for raised_amount_usd column.\n",
    ">- There are `1, 1044 and 5851` rows with nulls for `'name', 'category_list' and 'country_code'` columns respectively.\n",
    "\n",
    "#### Inference   :\n",
    ">- The 1 name column can be imputed with the company name from the correspnding prmalink column."
   ]
  },
  {
   "cell_type": "code",
   "execution_count": 18,
   "metadata": {},
   "outputs": [
    {
     "data": {
      "text/html": [
       "<div>\n",
       "<style scoped>\n",
       "    .dataframe tbody tr th:only-of-type {\n",
       "        vertical-align: middle;\n",
       "    }\n",
       "\n",
       "    .dataframe tbody tr th {\n",
       "        vertical-align: top;\n",
       "    }\n",
       "\n",
       "    .dataframe thead th {\n",
       "        text-align: right;\n",
       "    }\n",
       "</style>\n",
       "<table border=\"1\" class=\"dataframe\">\n",
       "  <thead>\n",
       "    <tr style=\"text-align: right;\">\n",
       "      <th></th>\n",
       "      <th>funding_round_permalink</th>\n",
       "      <th>funding_round_type</th>\n",
       "      <th>funded_at</th>\n",
       "      <th>raised_amount_usd</th>\n",
       "      <th>permalink</th>\n",
       "      <th>name</th>\n",
       "      <th>category_list</th>\n",
       "      <th>status</th>\n",
       "      <th>country_code</th>\n",
       "    </tr>\n",
       "  </thead>\n",
       "  <tbody>\n",
       "    <tr>\n",
       "      <th>98692</th>\n",
       "      <td>/funding-round/9c987e616755a78c51a4aa67c27a2a93</td>\n",
       "      <td>seed</td>\n",
       "      <td>01-03-2012</td>\n",
       "      <td>25,000.00</td>\n",
       "      <td>/organization/tell-it-in</td>\n",
       "      <td>NaN</td>\n",
       "      <td>Startups</td>\n",
       "      <td>closed</td>\n",
       "      <td>USA</td>\n",
       "    </tr>\n",
       "  </tbody>\n",
       "</table>\n",
       "</div>"
      ],
      "text/plain": [
       "                               funding_round_permalink funding_round_type   funded_at  raised_amount_usd                 permalink name category_list  status country_code\n",
       "98692  /funding-round/9c987e616755a78c51a4aa67c27a2a93               seed  01-03-2012          25,000.00  /organization/tell-it-in  NaN      Startups  closed          USA"
      ]
     },
     "execution_count": 18,
     "metadata": {},
     "output_type": "execute_result"
    }
   ],
   "source": [
    "# Idenitfy the one Nan Name column \n",
    "master_frame.loc[master_frame.name.isnull(),:]"
   ]
  },
  {
   "cell_type": "code",
   "execution_count": 19,
   "metadata": {},
   "outputs": [
    {
     "data": {
      "text/html": [
       "<div>\n",
       "<style scoped>\n",
       "    .dataframe tbody tr th:only-of-type {\n",
       "        vertical-align: middle;\n",
       "    }\n",
       "\n",
       "    .dataframe tbody tr th {\n",
       "        vertical-align: top;\n",
       "    }\n",
       "\n",
       "    .dataframe thead th {\n",
       "        text-align: right;\n",
       "    }\n",
       "</style>\n",
       "<table border=\"1\" class=\"dataframe\">\n",
       "  <thead>\n",
       "    <tr style=\"text-align: right;\">\n",
       "      <th></th>\n",
       "      <th>funding_round_permalink</th>\n",
       "      <th>funding_round_type</th>\n",
       "      <th>funded_at</th>\n",
       "      <th>raised_amount_usd</th>\n",
       "      <th>permalink</th>\n",
       "      <th>name</th>\n",
       "      <th>category_list</th>\n",
       "      <th>status</th>\n",
       "      <th>country_code</th>\n",
       "    </tr>\n",
       "  </thead>\n",
       "  <tbody>\n",
       "  </tbody>\n",
       "</table>\n",
       "</div>"
      ],
      "text/plain": [
       "Empty DataFrame\n",
       "Columns: [funding_round_permalink, funding_round_type, funded_at, raised_amount_usd, permalink, name, category_list, status, country_code]\n",
       "Index: []"
      ]
     },
     "execution_count": 19,
     "metadata": {},
     "output_type": "execute_result"
    },
    {
     "data": {
      "text/plain": [
       "funding_round_permalink       0\n",
       "funding_round_type            0\n",
       "funded_at                     0\n",
       "raised_amount_usd             0\n",
       "permalink                     0\n",
       "name                          0\n",
       "category_list              1044\n",
       "status                        0\n",
       "country_code               5851\n",
       "dtype: int64"
      ]
     },
     "execution_count": 19,
     "metadata": {},
     "output_type": "execute_result"
    },
    {
     "data": {
      "text/plain": [
       "(94959, 9)"
      ]
     },
     "execution_count": 19,
     "metadata": {},
     "output_type": "execute_result"
    }
   ],
   "source": [
    "# Replace the value with permalink company name.\n",
    "master_frame.loc[master_frame.name.isnull(),'name'] = 'tell-it-in'\n",
    "master_frame.loc[master_frame.name.isnull(),:]\n",
    "master_frame.isnull().sum()\n",
    "master_frame.shape"
   ]
  },
  {
   "cell_type": "code",
   "execution_count": 20,
   "metadata": {},
   "outputs": [
    {
     "data": {
      "text/plain": [
       "funding_round_permalink   0.00\n",
       "funding_round_type        0.00\n",
       "funded_at                 0.00\n",
       "raised_amount_usd         0.00\n",
       "permalink                 0.00\n",
       "name                      0.00\n",
       "category_list             1.10\n",
       "status                    0.00\n",
       "country_code              6.16\n",
       "dtype: float64"
      ]
     },
     "execution_count": 20,
     "metadata": {},
     "output_type": "execute_result"
    }
   ],
   "source": [
    "# Calculate the percentage wise null for each column of master.\n",
    "round(100*(master_frame.isnull().sum()/len(master_frame.index)), 2)"
   ]
  },
  {
   "cell_type": "code",
   "execution_count": 21,
   "metadata": {},
   "outputs": [
    {
     "name": "stdout",
     "output_type": "stream",
     "text": [
      "The percentage of row left after cleansing:  82.61 %\n"
     ]
    }
   ],
   "source": [
    "# Percentage of rows left after removing Nan and not so useful \n",
    "# columns for the analysis from the master data frame.\n",
    "\n",
    "print(\"The percentage of row left after cleansing: \",\\\n",
    "        round(100*(len(master_frame.index)/114949),2),\"%\")"
   ]
  },
  {
   "cell_type": "code",
   "execution_count": 22,
   "metadata": {},
   "outputs": [
    {
     "data": {
      "text/plain": [
       "5851"
      ]
     },
     "execution_count": 22,
     "metadata": {},
     "output_type": "execute_result"
    },
    {
     "data": {
      "text/plain": [
       "1044"
      ]
     },
     "execution_count": 22,
     "metadata": {},
     "output_type": "execute_result"
    }
   ],
   "source": [
    "# The column country_code & category_list still having Nan values.\n",
    "\n",
    "master_frame['country_code'].isnull().sum()\n",
    "master_frame['category_list'].isnull().sum()"
   ]
  },
  {
   "cell_type": "markdown",
   "metadata": {},
   "source": [
    "#### Observation:\n",
    ">- There are still null values exists for `country_code' and 'categoy_list` columns with  5851 and 1044 rows respectively.\n",
    "\n",
    "#### Inference :\n",
    ">- So, To proceed with Data cleansing process following has been considered as of now ;<br>\n",
    ">- As per the discussion forum, https://learn.upgrad.com/v/course/208/question/93880 , following conclusion is arrived (updated on 30-oct-2018)  ;\n",
    ">- Since percentage of NaN present in ***`country_code` & `category_list`*** are negligibly small and we cannot impute the column with any useful values.\n",
    ">- Hence these rows can be safely dropped of from the master."
   ]
  },
  {
   "cell_type": "code",
   "execution_count": 23,
   "metadata": {},
   "outputs": [
    {
     "data": {
      "text/plain": [
       "(88529, 9)"
      ]
     },
     "execution_count": 23,
     "metadata": {},
     "output_type": "execute_result"
    },
    {
     "data": {
      "text/plain": [
       "0"
      ]
     },
     "execution_count": 23,
     "metadata": {},
     "output_type": "execute_result"
    },
    {
     "data": {
      "text/plain": [
       "0"
      ]
     },
     "execution_count": 23,
     "metadata": {},
     "output_type": "execute_result"
    }
   ],
   "source": [
    "# Drop the Nan value rows for country_code & category_list from master.\n",
    "\n",
    "master_frame.dropna(axis='index',subset=['country_code','category_list'],inplace=True)\n",
    "\n",
    "# Verify the dropped Nan from coutry_code and category_list\n",
    "\n",
    "master_frame.shape\n",
    "len(master_frame.loc[master_frame.country_code.isnull(),:].index)\n",
    "len(master_frame.loc[master_frame.category_list.isnull(),:].index)"
   ]
  },
  {
   "cell_type": "code",
   "execution_count": 24,
   "metadata": {},
   "outputs": [
    {
     "data": {
      "text/plain": [
       "funding_round_permalink   0.00\n",
       "funding_round_type        0.00\n",
       "funded_at                 0.00\n",
       "raised_amount_usd         0.00\n",
       "permalink                 0.00\n",
       "name                      0.00\n",
       "category_list             0.00\n",
       "status                    0.00\n",
       "country_code              0.00\n",
       "dtype: float64"
      ]
     },
     "execution_count": 24,
     "metadata": {},
     "output_type": "execute_result"
    }
   ],
   "source": [
    "# Calculate the percentage wise null for each column of master.\n",
    "\n",
    "round(100*(master_frame.isnull().sum()/len(master_frame.index)), 2)"
   ]
  },
  {
   "cell_type": "code",
   "execution_count": 25,
   "metadata": {},
   "outputs": [
    {
     "name": "stdout",
     "output_type": "stream",
     "text": [
      "The percentage of row left after cleansing:  77.02 %\n"
     ]
    },
    {
     "data": {
      "text/plain": [
       "(88529, 9)"
      ]
     },
     "execution_count": 25,
     "metadata": {},
     "output_type": "execute_result"
    }
   ],
   "source": [
    "# Finally, view the percentage rows left after complete cleaning.\n",
    "\n",
    "print(\"The percentage of row left after cleansing: \",\\\n",
    "                  round(100*(len(master_frame.index)/114949),2),\"%\")\n",
    "\n",
    "#View the number of rows and columns of master.\n",
    "\n",
    "master_frame.shape"
   ]
  },
  {
   "cell_type": "markdown",
   "metadata": {},
   "source": [
    "#### Observation:\n",
    ">- We have cleaned unncessary or duplicate columns and not useful rows which are having null values.\n",
    "\n",
    "#### Inference:\n",
    ">- We have ***`Cleaned up 23%`*** of the total rows after removing the null values and dropping unused columns from merged Master."
   ]
  },
  {
   "cell_type": "code",
   "execution_count": 26,
   "metadata": {},
   "outputs": [],
   "source": [
    "#Verify master_frame date.\n",
    "# master_frame"
   ]
  },
  {
   "cell_type": "code",
   "execution_count": 27,
   "metadata": {},
   "outputs": [],
   "source": [
    "# Export the data to csv file.\n",
    "\n",
    "master_frame.to_csv(\"Data/master_frame.csv\")"
   ]
  },
  {
   "cell_type": "markdown",
   "metadata": {},
   "source": [
    "\n",
    "### Check-point 2 - Funding Type Analysis (Investment type Analysis)\n",
    ">- Spark Funds wants to choose one of these four investment types for each potential investment they will make.\n",
    "   - Venture\n",
    "   - Angel\n",
    "   - Seed\n",
    "   - private equity \n",
    ">- Calculate the average investment amount for each of the above four funding types (venture, angel, seed, and private equity) and report the answers in Table 2.1.\n",
    ">- Based on the average investment amount calculated above, which investment type do you think is the most suitable for Spark Funds?.\n",
    "\n",
    ">- ***CONSTRAINT*** : Only Invest between 5 to 15 million USD per round of investment.\n",
    "\n",
    "###  Results Expected: Table 2.1\n",
    ">1. Average funding amount of venture type \n",
    ">2. Average funding amount of angel type\n",
    ">3. Average funding amount of seed type\n",
    ">4. Average funding amount of private equity type\n",
    ">5. Considering that Spark Funds wants to invest between 5 to 15 million USD per    investment round, which investment type is the most suitable for them?\n",
    "\n",
    "### To Do List - Check Point-2\n",
    ">1. Group the master based on funding_type for the raised amount type \n",
    ">2. Calculate the average of funding amount "
   ]
  },
  {
   "cell_type": "code",
   "execution_count": 28,
   "metadata": {},
   "outputs": [
    {
     "data": {
      "text/plain": [
       "0   10,000,000.00\n",
       "2      700,000.00\n",
       "4    2,000,000.00\n",
       "6       41,250.00\n",
       "7       43,360.00\n",
       "Name: raised_amount_usd, dtype: float64"
      ]
     },
     "execution_count": 28,
     "metadata": {},
     "output_type": "execute_result"
    }
   ],
   "source": [
    "##Checking   - this returns actual value of raised amount\n",
    "\n",
    "master_frame.loc[:,\"raised_amount_usd\"].head()"
   ]
  },
  {
   "cell_type": "code",
   "execution_count": 29,
   "metadata": {},
   "outputs": [
    {
     "data": {
      "text/html": [
       "<div>\n",
       "<style scoped>\n",
       "    .dataframe tbody tr th:only-of-type {\n",
       "        vertical-align: middle;\n",
       "    }\n",
       "\n",
       "    .dataframe tbody tr th {\n",
       "        vertical-align: top;\n",
       "    }\n",
       "\n",
       "    .dataframe thead th {\n",
       "        text-align: right;\n",
       "    }\n",
       "</style>\n",
       "<table border=\"1\" class=\"dataframe\">\n",
       "  <thead>\n",
       "    <tr style=\"text-align: right;\">\n",
       "      <th></th>\n",
       "      <th>raised_amount_usd</th>\n",
       "    </tr>\n",
       "    <tr>\n",
       "      <th>funding_round_type</th>\n",
       "      <th></th>\n",
       "    </tr>\n",
       "  </thead>\n",
       "  <tbody>\n",
       "    <tr>\n",
       "      <th>angel</th>\n",
       "      <td>971,573.89</td>\n",
       "    </tr>\n",
       "    <tr>\n",
       "      <th>convertible_note</th>\n",
       "      <td>1,337,186.65</td>\n",
       "    </tr>\n",
       "    <tr>\n",
       "      <th>debt_financing</th>\n",
       "      <td>17,167,653.47</td>\n",
       "    </tr>\n",
       "    <tr>\n",
       "      <th>equity_crowdfunding</th>\n",
       "      <td>509,897.97</td>\n",
       "    </tr>\n",
       "    <tr>\n",
       "      <th>grant</th>\n",
       "      <td>4,512,698.29</td>\n",
       "    </tr>\n",
       "    <tr>\n",
       "      <th>non_equity_assistance</th>\n",
       "      <td>480,753.38</td>\n",
       "    </tr>\n",
       "    <tr>\n",
       "      <th>post_ipo_debt</th>\n",
       "      <td>169,451,789.77</td>\n",
       "    </tr>\n",
       "    <tr>\n",
       "      <th>post_ipo_equity</th>\n",
       "      <td>66,077,058.57</td>\n",
       "    </tr>\n",
       "    <tr>\n",
       "      <th>private_equity</th>\n",
       "      <td>73,938,486.28</td>\n",
       "    </tr>\n",
       "    <tr>\n",
       "      <th>product_crowdfunding</th>\n",
       "      <td>1,353,226.91</td>\n",
       "    </tr>\n",
       "    <tr>\n",
       "      <th>secondary_market</th>\n",
       "      <td>84,438,532.25</td>\n",
       "    </tr>\n",
       "    <tr>\n",
       "      <th>seed</th>\n",
       "      <td>747,793.68</td>\n",
       "    </tr>\n",
       "    <tr>\n",
       "      <th>undisclosed</th>\n",
       "      <td>15,891,661.39</td>\n",
       "    </tr>\n",
       "    <tr>\n",
       "      <th>venture</th>\n",
       "      <td>11,724,222.69</td>\n",
       "    </tr>\n",
       "  </tbody>\n",
       "</table>\n",
       "</div>"
      ],
      "text/plain": [
       "                       raised_amount_usd\n",
       "funding_round_type                      \n",
       "angel                         971,573.89\n",
       "convertible_note            1,337,186.65\n",
       "debt_financing             17,167,653.47\n",
       "equity_crowdfunding           509,897.97\n",
       "grant                       4,512,698.29\n",
       "non_equity_assistance         480,753.38\n",
       "post_ipo_debt             169,451,789.77\n",
       "post_ipo_equity            66,077,058.57\n",
       "private_equity             73,938,486.28\n",
       "product_crowdfunding        1,353,226.91\n",
       "secondary_market           84,438,532.25\n",
       "seed                          747,793.68\n",
       "undisclosed                15,891,661.39\n",
       "venture                    11,724,222.69"
      ]
     },
     "execution_count": 29,
     "metadata": {},
     "output_type": "execute_result"
    }
   ],
   "source": [
    "# The columns to be foucssed are raised_amount_usd and type and funding_round_type. \n",
    "# Find the average of raised_amount_usd using below \n",
    "\n",
    "master_frame.groupby('funding_round_type').mean()"
   ]
  },
  {
   "cell_type": "code",
   "execution_count": 30,
   "metadata": {},
   "outputs": [
    {
     "data": {
      "text/plain": [
       "funding_round_type\n",
       "post_ipo_debt           169,451,789.77\n",
       "secondary_market         84,438,532.25\n",
       "private_equity           73,938,486.28\n",
       "post_ipo_equity          66,077,058.57\n",
       "debt_financing           17,167,653.47\n",
       "undisclosed              15,891,661.39\n",
       "venture                  11,724,222.69\n",
       "grant                     4,512,698.29\n",
       "product_crowdfunding      1,353,226.91\n",
       "convertible_note          1,337,186.65\n",
       "angel                       971,573.89\n",
       "seed                        747,793.68\n",
       "equity_crowdfunding         509,897.97\n",
       "non_equity_assistance       480,753.38\n",
       "Name: raised_amount_usd, dtype: float64"
      ]
     },
     "execution_count": 30,
     "metadata": {},
     "output_type": "execute_result"
    }
   ],
   "source": [
    "# Group master data on funding type and calculate the average of funding amount\n",
    "\n",
    "inv_frame_all_avg=master_frame.groupby('funding_round_type')['raised_amount_usd']\\\n",
    "                    .mean().sort_values(ascending=False)\n",
    "\n",
    "inv_frame_all_avg"
   ]
  },
  {
   "cell_type": "code",
   "execution_count": 31,
   "metadata": {},
   "outputs": [
    {
     "data": {
      "text/plain": [
       "(88529, 9)"
      ]
     },
     "execution_count": 31,
     "metadata": {},
     "output_type": "execute_result"
    },
    {
     "data": {
      "text/plain": [
       "funding_round_type\n",
       "secondary_market        45,850,000.00\n",
       "private_equity          20,000,000.00\n",
       "post_ipo_debt           19,900,000.00\n",
       "post_ipo_equity         12,262,852.50\n",
       "venture                  5,000,000.00\n",
       "undisclosed              1,100,000.00\n",
       "debt_financing           1,096,653.00\n",
       "angel                      414,906.00\n",
       "seed                       300,000.00\n",
       "convertible_note           300,000.00\n",
       "grant                      225,000.00\n",
       "product_crowdfunding       211,500.00\n",
       "equity_crowdfunding         85,000.00\n",
       "non_equity_assistance       60,000.00\n",
       "Name: raised_amount_usd, dtype: float64"
      ]
     },
     "execution_count": 31,
     "metadata": {},
     "output_type": "execute_result"
    }
   ],
   "source": [
    "# Group master data on funding type and calculate the median on funding raised amount\n",
    "\n",
    "inv_frame_all_med = master_frame.groupby('funding_round_type')['raised_amount_usd']\\\n",
    "                        .median().sort_values(ascending=False)\n",
    "master_frame.shape\n",
    "inv_frame_all_med"
   ]
  },
  {
   "cell_type": "code",
   "execution_count": 32,
   "metadata": {},
   "outputs": [
    {
     "data": {
      "text/plain": [
       "funding_round_type\n",
       "venture                  47809\n",
       "seed                     21095\n",
       "debt_financing            6506\n",
       "angel                     4400\n",
       "grant                     1939\n",
       "private_equity            1820\n",
       "undisclosed               1345\n",
       "convertible_note          1320\n",
       "equity_crowdfunding       1128\n",
       "post_ipo_equity            598\n",
       "product_crowdfunding       330\n",
       "post_ipo_debt              151\n",
       "non_equity_assistance       60\n",
       "secondary_market            28\n",
       "Name: raised_amount_usd, dtype: int64"
      ]
     },
     "execution_count": 32,
     "metadata": {},
     "output_type": "execute_result"
    }
   ],
   "source": [
    "# Group master data on funding type and calculate the count of investement \n",
    "# made across sectors\n",
    "\n",
    "inv_frame_all_count = master_frame.groupby('funding_round_type')['raised_amount_usd']\\\n",
    "                        .count().sort_values(ascending=False)\n",
    "inv_frame_all_count"
   ]
  },
  {
   "cell_type": "code",
   "execution_count": 33,
   "metadata": {},
   "outputs": [],
   "source": [
    "# To find the Average/Median for Investment types venture, angel, seed and private equity.\n",
    "\n",
    "inv_frame = master_frame.set_index(['funding_round_type'])\n",
    "fil_frame = inv_frame.loc[inv_frame.index\\\n",
    "                    .isin(['venture','angel','seed','private_equity'])]"
   ]
  },
  {
   "cell_type": "code",
   "execution_count": 34,
   "metadata": {},
   "outputs": [
    {
     "data": {
      "text/plain": [
       "(75124, 8)"
      ]
     },
     "execution_count": 34,
     "metadata": {},
     "output_type": "execute_result"
    },
    {
     "name": "stdout",
     "output_type": "stream",
     "text": [
      "<class 'pandas.core.frame.DataFrame'>\n",
      "Index: 75124 entries, venture to seed\n",
      "Data columns (total 8 columns):\n",
      "funding_round_permalink    75124 non-null object\n",
      "funded_at                  75124 non-null object\n",
      "raised_amount_usd          75124 non-null float64\n",
      "permalink                  75124 non-null object\n",
      "name                       75124 non-null object\n",
      "category_list              75124 non-null object\n",
      "status                     75124 non-null object\n",
      "country_code               75124 non-null object\n",
      "dtypes: float64(1), object(7)\n",
      "memory usage: 5.2+ MB\n"
     ]
    },
    {
     "data": {
      "text/plain": [
       "venture           47809\n",
       "seed              21095\n",
       "angel              4400\n",
       "private_equity     1820\n",
       "Name: funding_round_type, dtype: int64"
      ]
     },
     "execution_count": 34,
     "metadata": {},
     "output_type": "execute_result"
    }
   ],
   "source": [
    "# Verify data frame with four funding types.\n",
    "\n",
    "fil_frame.shape\n",
    "fil_frame.info()\n",
    "fil_frame.index.value_counts()"
   ]
  },
  {
   "cell_type": "code",
   "execution_count": 35,
   "metadata": {},
   "outputs": [
    {
     "data": {
      "text/plain": [
       "funding_round_type\n",
       "private_equity   73,938,486.28\n",
       "venture          11,724,222.69\n",
       "angel               971,573.89\n",
       "seed                747,793.68\n",
       "Name: raised_amount_usd, dtype: float64"
      ]
     },
     "execution_count": 35,
     "metadata": {},
     "output_type": "execute_result"
    },
    {
     "data": {
      "text/plain": [
       "funding_round_type\n",
       "private_equity   20,000,000.00\n",
       "venture           5,000,000.00\n",
       "angel               414,906.00\n",
       "seed                300,000.00\n",
       "Name: raised_amount_usd, dtype: float64"
      ]
     },
     "execution_count": 35,
     "metadata": {},
     "output_type": "execute_result"
    }
   ],
   "source": [
    "# Group fil_frame data on funding type and \n",
    "# calculate the average of funding amount for 4 funding types\n",
    "\n",
    "inv_frame_four_avg = fil_frame.groupby('funding_round_type')['raised_amount_usd'].\\\n",
    "                                            mean().sort_values(ascending=False)\n",
    "inv_frame_four_avg\n",
    "\n",
    "# Group master four data on funding type and \n",
    "# calculate the median of funding amount for 4 funding type\n",
    "\n",
    "inv_frame_four_med = fil_frame.groupby('funding_round_type')['raised_amount_usd'].\\\n",
    "                                            median().sort_values(ascending=False)\n",
    "inv_frame_four_med"
   ]
  },
  {
   "cell_type": "code",
   "execution_count": 36,
   "metadata": {},
   "outputs": [
    {
     "data": {
      "text/plain": [
       "funding_round_type\n",
       "venture           47809\n",
       "seed              21095\n",
       "angel              4400\n",
       "private_equity     1820\n",
       "Name: raised_amount_usd, dtype: int64"
      ]
     },
     "execution_count": 36,
     "metadata": {},
     "output_type": "execute_result"
    }
   ],
   "source": [
    "# Group master four data on funding type and \n",
    "# calculate the count of type by investments for 4 fundig type\n",
    "\n",
    "inv_frame_four_count = fil_frame.groupby('funding_round_type')['raised_amount_usd'].\\\n",
    "                                            count().sort_values(ascending=False)\n",
    "inv_frame_four_count"
   ]
  },
  {
   "cell_type": "code",
   "execution_count": 37,
   "metadata": {},
   "outputs": [
    {
     "data": {
      "text/html": [
       "<div>\n",
       "<style scoped>\n",
       "    .dataframe tbody tr th:only-of-type {\n",
       "        vertical-align: middle;\n",
       "    }\n",
       "\n",
       "    .dataframe tbody tr th {\n",
       "        vertical-align: top;\n",
       "    }\n",
       "\n",
       "    .dataframe thead tr th {\n",
       "        text-align: left;\n",
       "    }\n",
       "\n",
       "    .dataframe thead tr:last-of-type th {\n",
       "        text-align: right;\n",
       "    }\n",
       "</style>\n",
       "<table border=\"1\" class=\"dataframe\">\n",
       "  <thead>\n",
       "    <tr>\n",
       "      <th></th>\n",
       "      <th colspan=\"4\" halign=\"left\">raised_amount_usd</th>\n",
       "    </tr>\n",
       "    <tr>\n",
       "      <th></th>\n",
       "      <th>mean</th>\n",
       "      <th>median</th>\n",
       "      <th>sum</th>\n",
       "      <th>std</th>\n",
       "    </tr>\n",
       "    <tr>\n",
       "      <th>funding_round_type</th>\n",
       "      <th></th>\n",
       "      <th></th>\n",
       "      <th></th>\n",
       "      <th></th>\n",
       "    </tr>\n",
       "  </thead>\n",
       "  <tbody>\n",
       "    <tr>\n",
       "      <th>angel</th>\n",
       "      <td>971,573.89</td>\n",
       "      <td>414,906.00</td>\n",
       "      <td>4,274,925,121.00</td>\n",
       "      <td>7,710,904.33</td>\n",
       "    </tr>\n",
       "    <tr>\n",
       "      <th>private_equity</th>\n",
       "      <td>73,938,486.28</td>\n",
       "      <td>20,000,000.00</td>\n",
       "      <td>134,568,045,021.00</td>\n",
       "      <td>201,776,467.38</td>\n",
       "    </tr>\n",
       "    <tr>\n",
       "      <th>seed</th>\n",
       "      <td>747,793.68</td>\n",
       "      <td>300,000.00</td>\n",
       "      <td>15,774,707,732.00</td>\n",
       "      <td>2,288,317.64</td>\n",
       "    </tr>\n",
       "    <tr>\n",
       "      <th>venture</th>\n",
       "      <td>11,724,222.69</td>\n",
       "      <td>5,000,000.00</td>\n",
       "      <td>560,523,362,596.00</td>\n",
       "      <td>88,215,713.61</td>\n",
       "    </tr>\n",
       "  </tbody>\n",
       "</table>\n",
       "</div>"
      ],
      "text/plain": [
       "                   raised_amount_usd                                                \n",
       "                                mean        median                sum            std\n",
       "funding_round_type                                                                  \n",
       "angel                     971,573.89    414,906.00   4,274,925,121.00   7,710,904.33\n",
       "private_equity         73,938,486.28 20,000,000.00 134,568,045,021.00 201,776,467.38\n",
       "seed                      747,793.68    300,000.00  15,774,707,732.00   2,288,317.64\n",
       "venture                11,724,222.69  5,000,000.00 560,523,362,596.00  88,215,713.61"
      ]
     },
     "execution_count": 37,
     "metadata": {},
     "output_type": "execute_result"
    }
   ],
   "source": [
    "# Calculate the aggregate function to explore the other details.\n",
    "avg_fund = fil_frame.groupby(['funding_round_type']).\\\n",
    "                                agg(['mean','median','sum','std'])\n",
    "avg_fund"
   ]
  },
  {
   "cell_type": "markdown",
   "metadata": {},
   "source": [
    "#### Observation:\n",
    ">- The Mean and Median are calculated for the 4 different funding type - seed,angel, venture and private equity.\n",
    "\n",
    "#### Inference :\n",
    ">- Based on the above metrics it has been identified that Venture will be ideal investment type which spark funds will choose as the median `$5 of millions` to an average of approximately `$11.5 millions`.\n",
    "\n",
    "***IMPORTANT!!!*** ::: \n",
    ">- Plot suitable graph to depict the funding type against the average raise amount for all and the four major funding types."
   ]
  },
  {
   "cell_type": "markdown",
   "metadata": {},
   "source": [
    "### Results Expected: Table 2.1\n",
    ">***Question1:*** Average funding amount of venture type ?<br> \n",
    ">***Answer:*** The mean amount `$11,724,222.69` and the median amount `$5,000,000.00`.<br><br>\n",
    ">***Question2:*** Average funding amount of angel type?<br>\n",
    ">***Answer:*** The mean amount `$971,573.89` and the median amount `414,906.00`.<br><br>\n",
    ">*** Question3: *** Average funding amount of seed type?<br>\n",
    ">*** Answer: *** The mean amount `$747,793.68` and the median amount `$300,000.00`.<br><br>\n",
    ">*** Question4:*** Average funding amount of private equity type?<br> \n",
    ">*** Answer:*** The mean amount `$73,938,486.28` and the median amount `$20,000,000.00`.<br><br>\n",
    ">***Question5:*** Considering that Spark Funds wants to invest between 5 to 15 million USD per    investment round, which investment type is the most suitable for them?<br>\n",
    ">*** Answer:*** Based on the above metrics it has been identified that `venture` will be ideal investment type which spark funds will choose as the median of `$5 millions` and an average of approximately `$11.7 millions`.(which falls under an investment between 5 to 15 million USD per round of investment they have budgeted for.)<br>"
   ]
  },
  {
   "cell_type": "code",
   "execution_count": 38,
   "metadata": {},
   "outputs": [],
   "source": [
    "## For Further checkpoints and analysis only venture Type \n",
    "# of companies we will be focusded...\n",
    "\n",
    "v_frame = master_frame.set_index(['funding_round_type'])\n",
    "venture_frame = master_frame.loc[inv_frame.index.isin(['venture'])]"
   ]
  },
  {
   "cell_type": "code",
   "execution_count": 39,
   "metadata": {},
   "outputs": [
    {
     "data": {
      "text/plain": [
       "(47809, 9)"
      ]
     },
     "execution_count": 39,
     "metadata": {},
     "output_type": "execute_result"
    },
    {
     "data": {
      "text/html": [
       "<div>\n",
       "<style scoped>\n",
       "    .dataframe tbody tr th:only-of-type {\n",
       "        vertical-align: middle;\n",
       "    }\n",
       "\n",
       "    .dataframe tbody tr th {\n",
       "        vertical-align: top;\n",
       "    }\n",
       "\n",
       "    .dataframe thead th {\n",
       "        text-align: right;\n",
       "    }\n",
       "</style>\n",
       "<table border=\"1\" class=\"dataframe\">\n",
       "  <thead>\n",
       "    <tr style=\"text-align: right;\">\n",
       "      <th></th>\n",
       "      <th>funding_round_permalink</th>\n",
       "      <th>funding_round_type</th>\n",
       "      <th>funded_at</th>\n",
       "      <th>raised_amount_usd</th>\n",
       "      <th>permalink</th>\n",
       "      <th>name</th>\n",
       "      <th>category_list</th>\n",
       "      <th>status</th>\n",
       "      <th>country_code</th>\n",
       "    </tr>\n",
       "  </thead>\n",
       "  <tbody>\n",
       "    <tr>\n",
       "      <th>0</th>\n",
       "      <td>/funding-round/9a01d05418af9f794eebff7ace91f638</td>\n",
       "      <td>venture</td>\n",
       "      <td>05-01-2015</td>\n",
       "      <td>10,000,000.00</td>\n",
       "      <td>/organization/-fame</td>\n",
       "      <td>#fame</td>\n",
       "      <td>Media</td>\n",
       "      <td>operating</td>\n",
       "      <td>IND</td>\n",
       "    </tr>\n",
       "    <tr>\n",
       "      <th>4</th>\n",
       "      <td>/funding-round/5727accaeaa57461bd22a9bdd945382d</td>\n",
       "      <td>venture</td>\n",
       "      <td>19-03-2008</td>\n",
       "      <td>2,000,000.00</td>\n",
       "      <td>/organization/0-6-com</td>\n",
       "      <td>0-6.com</td>\n",
       "      <td>Curated Web</td>\n",
       "      <td>operating</td>\n",
       "      <td>CHN</td>\n",
       "    </tr>\n",
       "    <tr>\n",
       "      <th>8</th>\n",
       "      <td>/funding-round/954b9499724b946ad8c396a57a5f3b72</td>\n",
       "      <td>venture</td>\n",
       "      <td>21-12-2009</td>\n",
       "      <td>719,491.00</td>\n",
       "      <td>/organization/0ndine-biomedical-inc</td>\n",
       "      <td>Ondine Biomedical Inc.</td>\n",
       "      <td>Biotechnology</td>\n",
       "      <td>operating</td>\n",
       "      <td>CAN</td>\n",
       "    </tr>\n",
       "    <tr>\n",
       "      <th>10</th>\n",
       "      <td>/funding-round/3bb2ee4a2d89251a10aaa735b1180e44</td>\n",
       "      <td>venture</td>\n",
       "      <td>09-11-2015</td>\n",
       "      <td>20,000,000.00</td>\n",
       "      <td>/organization/0xdata</td>\n",
       "      <td>H2O.ai</td>\n",
       "      <td>Analytics</td>\n",
       "      <td>operating</td>\n",
       "      <td>USA</td>\n",
       "    </tr>\n",
       "    <tr>\n",
       "      <th>11</th>\n",
       "      <td>/funding-round/ae2a174c06517c2394aed45006322a7e</td>\n",
       "      <td>venture</td>\n",
       "      <td>03-01-2013</td>\n",
       "      <td>1,700,000.00</td>\n",
       "      <td>/organization/0xdata</td>\n",
       "      <td>H2O.ai</td>\n",
       "      <td>Analytics</td>\n",
       "      <td>operating</td>\n",
       "      <td>USA</td>\n",
       "    </tr>\n",
       "  </tbody>\n",
       "</table>\n",
       "</div>"
      ],
      "text/plain": [
       "                            funding_round_permalink funding_round_type   funded_at  raised_amount_usd                            permalink                    name  category_list     status country_code\n",
       "0   /funding-round/9a01d05418af9f794eebff7ace91f638            venture  05-01-2015      10,000,000.00                  /organization/-fame                   #fame          Media  operating          IND\n",
       "4   /funding-round/5727accaeaa57461bd22a9bdd945382d            venture  19-03-2008       2,000,000.00                /organization/0-6-com                 0-6.com    Curated Web  operating          CHN\n",
       "8   /funding-round/954b9499724b946ad8c396a57a5f3b72            venture  21-12-2009         719,491.00  /organization/0ndine-biomedical-inc  Ondine Biomedical Inc.  Biotechnology  operating          CAN\n",
       "10  /funding-round/3bb2ee4a2d89251a10aaa735b1180e44            venture  09-11-2015      20,000,000.00                 /organization/0xdata                  H2O.ai      Analytics  operating          USA\n",
       "11  /funding-round/ae2a174c06517c2394aed45006322a7e            venture  03-01-2013       1,700,000.00                 /organization/0xdata                  H2O.ai      Analytics  operating          USA"
      ]
     },
     "execution_count": 39,
     "metadata": {},
     "output_type": "execute_result"
    }
   ],
   "source": [
    "# verify Top funding type data frame.\n",
    "venture_frame.shape\n",
    "venture_frame.head()"
   ]
  },
  {
   "cell_type": "code",
   "execution_count": 40,
   "metadata": {},
   "outputs": [],
   "source": [
    "# Export the VENTURE investment type companies data to csv file.\n",
    "\n",
    "venture_frame.to_csv(\"Data/venture_frame.csv\")"
   ]
  },
  {
   "cell_type": "markdown",
   "metadata": {},
   "source": [
    "### Checkpoint 3: Country Analysis\n",
    ">As we know the type of investment suited for Spark - i.e., `venture`. However, Spark Funds wants to invest in countries with the highest amount of funding for the chosen investment type. This is a part of its broader strategy to invest where most investments are occurring.\n",
    "\n",
    ">- Spark Funds wants to see the top nine countries which have received the highest total funding (across ALL sectors for the chosen investment type)\n",
    ">- For the chosen investment type, make a data frame named `top9` with the top nine countries (based on the total investment amount each country has received).\n",
    ">- Identify the `top3` English-speaking countries in the data frame `top9`.<br>\n",
    "\n",
    " ***Constraints*** : \n",
    ">   - Use only the `venture_frame` data frame created in check point-2 which is having only having data with highest investment fund type (i.e., `venture`).\n",
    ">   - Only `English Speaking countries` from the master_frame.\n",
    "\n",
    "###  Results Expected: Table 3.1\n",
    ">All codes for data frame `top9` with ;\n",
    " 1. Top English-speaking country\n",
    " 2. Second English-speaking country\n",
    " 3. Third English-speaking country\n",
    "\n",
    "\n",
    "### To Do List - Check Point-3\n",
    ">1. Based on the total investment amount filter down top 9 country data for the chosen `venture` investment type.\n",
    ">2. Identify the top 3 English speaking countries with investment Amount from the top9.\n",
    ">3. ***Use pdfminer python package to parase pdf  document***   `Countries_where_English_is_an_official_language.pdf` to get the corresponding country names for the english speaking countries only.\n",
    ">- join the english speaking country name frame with venture_frame to genreate top9 destination countries for investment."
   ]
  },
  {
   "cell_type": "code",
   "execution_count": 41,
   "metadata": {},
   "outputs": [],
   "source": [
    "## This dictionary contains All country code and country names details from online location\n",
    "# https://github.com/lukes/ISO-3166-Countries-with-Regional-Codes/blob/master/all/all.csv\n",
    "\n",
    "countries_code={'name': ['Afghanistan', 'Åland Islands', 'Albania', 'Algeria', 'American Samoa', 'Andorra', 'Angola', 'Anguilla', 'Antarctica', 'Antigua and Barbuda', 'Argentina', 'Armenia', 'Aruba', 'Australia', 'Austria', 'Azerbaijan', 'The Bahamas', 'Bahrain', 'Bangladesh', 'Barbados', 'Belarus', 'Belgium', 'Belize', 'Benin', 'Bermuda', 'Bhutan', 'Bolivia (Plurinational State of)', 'Bonaire, Sint Eustatius and Saba', 'Bosnia and Herzegovina', 'Botswana', 'Bouvet Island', 'Brazil', 'British Indian Ocean Territory', 'Brunei Darussalam', 'Bulgaria', 'Burkina Faso', 'Burundi', 'Cabo Verde', 'Cambodia', 'Cameroon', 'Canada', 'Cayman Islands', 'Central African Republic', 'Chad', 'Chile', 'China', 'Christmas Island', 'Cocos (Keeling) Islands', 'Colombia', 'Comoros', 'Congo', 'Congo (Democratic Republic of the)', 'Cook Islands', 'Costa Rica', \"Côte d'Ivoire\", 'Croatia', 'Cuba', 'Curaçao', 'Cyprus', 'Czechia', 'Denmark', 'Djibouti', 'Dominica', 'Dominican Republic', 'Ecuador', 'Egypt', 'El Salvador', 'Equatorial Guinea', 'Eritrea', 'Estonia', 'Swaziland', 'Ethiopia', 'Falkland Islands (Malvinas)', 'Faroe Islands', 'Fiji', 'Finland', 'France', 'French Guiana', 'French Polynesia', 'French Southern Territories', 'Gabon', 'The Gambia', 'Georgia', 'Germany', 'Ghana', 'Gibraltar', 'Greece', 'Greenland', 'Grenada', 'Guadeloupe', 'Guam', 'Guatemala', 'Guernsey', 'Guinea', 'Guinea-Bissau', 'Guyana', 'Haiti', 'Heard Island and McDonald Islands', 'Holy See', 'Honduras', 'Hong Kong', 'Hungary', 'Iceland', 'India', 'Indonesia', 'Iran (Islamic Republic of)', 'Iraq', 'Ireland', 'Isle of Man', 'Israel', 'Italy', 'Jamaica', 'Japan', 'Jersey', 'Jordan', 'Kazakhstan', 'Kenya', 'Kiribati', \"Korea (Democratic People's Republic of)\", 'Korea (Republic of)', 'Kuwait', 'Kyrgyzstan', \"Lao People's Democratic Republic\", 'Latvia', 'Lebanon', 'Lesotho', 'Liberia', 'Libya', 'Liechtenstein', 'Lithuania', 'Luxembourg', 'Macao', 'Macedonia (the former Yugoslav Republic of)', 'Madagascar', 'Malawi', 'Malaysia', 'Maldives', 'Mali', 'Malta', 'Marshall Islands', 'Martinique', 'Mauritania', 'Mauritius', 'Mayotte', 'Mexico', 'Federated States of Micronesia', 'Moldova (Republic of)', 'Monaco', 'Mongolia', 'Montenegro', 'Montserrat', 'Morocco', 'Mozambique', 'Myanmar', 'Namibia', 'Nauru', 'Nepal', 'Netherlands', 'New Caledonia', 'New Zealand', 'Nicaragua', 'Niger', 'Nigeria', 'Niue', 'Norfolk Island', 'Northern Mariana Islands', 'Norway', 'Oman', 'Pakistan', 'Palau', 'Palestine, State of', 'Panama', 'Papua New Guinea', 'Paraguay', 'Peru', 'Philippines', 'Pitcairn', 'Poland', 'Portugal', 'Puerto Rico', 'Qatar', 'Réunion', 'Romania', 'Russian Federation', 'Rwanda', 'Saint Barthélemy', 'Saint Helena, Ascension and Tristan da Cunha', 'Saint Kitts and Nevis', 'Saint Lucia', 'Saint Martin (French part)', 'Saint Pierre and Miquelon', 'Saint Vincent and the Grenadines', 'Samoa', 'San Marino', 'Sao Tome and Principe', 'Saudi Arabia', 'Senegal', 'Serbia', 'Seychelles', 'Sierra Leone', 'Singapore', 'Sint Maarten (Dutch part)', 'Slovakia', 'Slovenia', 'Solomon Islands', 'Somalia', 'South Africa', 'South Georgia and the South Sandwich Islands', 'South Sudan', 'Spain', 'Sri Lanka', 'Sudan', 'Suriname', 'Svalbard and Jan Mayen', 'Sweden', 'Switzerland', 'Syrian Arab Republic', 'Taiwan, Province of China', 'Tajikistan', 'Tanzania', 'Thailand', 'Timor-Leste', 'Togo', 'Tokelau', 'Tonga', 'Trinidad and Tobago', 'Tunisia', 'Turkey', 'Turkmenistan', 'Turks and Caicos Islands', 'Tuvalu', 'Uganda', 'Ukraine', 'United Arab Emirates', 'United Kingdom', 'United States', 'United States Minor Outlying Islands', 'Uruguay', 'Uzbekistan', 'Vanuatu', 'Venezuela (Bolivarian Republic of)', 'Viet Nam', 'Virgin Islands (British)', 'Virgin Islands (U.S.)', 'Wallis and Futuna', 'Western Sahara', 'Yemen', 'Zambia', 'Zimbabwe'], 'alpha-3': ['AFG', 'ALA', 'ALB', 'DZA', 'ASM', 'AND', 'AGO', 'AIA', 'ATA', 'ATG', 'ARG', 'ARM', 'ABW', 'AUS', 'AUT', 'AZE', 'BHS', 'BHR', 'BGD', 'BRB', 'BLR', 'BEL', 'BLZ', 'BEN', 'BMU', 'BTN', 'BOL', 'BES', 'BIH', 'BWA', 'BVT', 'BRA', 'IOT', 'BRN', 'BGR', 'BFA', 'BDI', 'CPV', 'KHM', 'CMR', 'CAN', 'CYM', 'CAF', 'TCD', 'CHL', 'CHN', 'CXR', 'CCK', 'COL', 'COM', 'COG', 'COD', 'COK', 'CRI', 'CIV', 'HRV', 'CUB', 'CUW', 'CYP', 'CZE', 'DNK', 'DJI', 'DMA', 'DOM', 'ECU', 'EGY', 'SLV', 'GNQ', 'ERI', 'EST', 'SWZ', 'ETH', 'FLK', 'FRO', 'FJI', 'FIN', 'FRA', 'GUF', 'PYF', 'ATF', 'GAB', 'GMB', 'GEO', 'DEU', 'GHA', 'GIB', 'GRC', 'GRL', 'GRD', 'GLP', 'GUM', 'GTM', 'GGY', 'GIN', 'GNB', 'GUY', 'HTI', 'HMD', 'VAT', 'HND', 'HKG', 'HUN', 'ISL', 'IND', 'IDN', 'IRN', 'IRQ', 'IRL', 'IMN', 'ISR', 'ITA', 'JAM', 'JPN', 'JEY', 'JOR', 'KAZ', 'KEN', 'KIR', 'PRK', 'KOR', 'KWT', 'KGZ', 'LAO', 'LVA', 'LBN', 'LSO', 'LBR', 'LBY', 'LIE', 'LTU', 'LUX', 'MAC', 'MKD', 'MDG', 'MWI', 'MYS', 'MDV', 'MLI', 'MLT', 'MHL', 'MTQ', 'MRT', 'MUS', 'MYT', 'MEX', 'FSM', 'MDA', 'MCO', 'MNG', 'MNE', 'MSR', 'MAR', 'MOZ', 'MMR', 'NAM', 'NRU', 'NPL', 'NLD', 'NCL', 'NZL', 'NIC', 'NER', 'NGA', 'NIU', 'NFK', 'MNP', 'NOR', 'OMN', 'PAK', 'PLW', 'PSE', 'PAN', 'PNG', 'PRY', 'PER', 'PHL', 'PCN', 'POL', 'PRT', 'PRI', 'QAT', 'REU', 'ROU', 'RUS', 'RWA', 'BLM', 'SHN', 'KNA', 'LCA', 'MAF', 'SPM', 'VCT', 'WSM', 'SMR', 'STP', 'SAU', 'SEN', 'SRB', 'SYC', 'SLE', 'SGP', 'SXM', 'SVK', 'SVN', 'SLB', 'SOM', 'ZAF', 'SGS', 'SSD', 'ESP', 'LKA', 'SDN', 'SUR', 'SJM', 'SWE', 'CHE', 'SYR', 'TWN', 'TJK', 'TZA', 'THA', 'TLS', 'TGO', 'TKL', 'TON', 'TTO', 'TUN', 'TUR', 'TKM', 'TCA', 'TUV', 'UGA', 'UKR', 'ARE', 'GBR', 'USA', 'UMI', 'URY', 'UZB', 'VUT', 'VEN', 'VNM', 'VGB', 'VIR', 'WLF', 'ESH', 'YEM', 'ZMB', 'ZWE']}\n",
    "load_countries=pd.DataFrame(countries_code)"
   ]
  },
  {
   "cell_type": "markdown",
   "metadata": {},
   "source": [
    "\n",
    "## perform pip install pdfminder.six to executing the below set of code\n"
   ]
  },
  {
   "cell_type": "code",
   "execution_count": 42,
   "metadata": {},
   "outputs": [],
   "source": [
    "from pdfminer.pdfinterp import PDFResourceManager, PDFPageInterpreter\n",
    "from pdfminer.pdfpage import PDFPage\n",
    "from pdfminer.converter import XMLConverter, HTMLConverter, TextConverter\n",
    "from pdfminer.layout import LAParams\n",
    "import io"
   ]
  },
  {
   "cell_type": "code",
   "execution_count": 43,
   "metadata": {},
   "outputs": [],
   "source": [
    "#Reading the PDF file of the english speaking countries\n",
    "fileopen = open(\"Data/Countries_where_English_is_an_official_language.pdf\", 'rb')\n",
    "PdfRsrMgr = PDFResourceManager()\n",
    "retstr = io.StringIO()\n",
    "lp = LAParams()\n",
    "device = TextConverter(PdfRsrMgr, retstr, codec='utf-8', laparams=lp)"
   ]
  },
  {
   "cell_type": "code",
   "execution_count": 44,
   "metadata": {},
   "outputs": [],
   "source": [
    "# Create a PDF interpreter object.\n",
    "interpreter = PDFPageInterpreter(PdfRsrMgr, device)"
   ]
  },
  {
   "cell_type": "code",
   "execution_count": 45,
   "metadata": {},
   "outputs": [],
   "source": [
    "# Process each page contained in the document.\n",
    "for page in PDFPage.get_pages(fileopen):\n",
    "    interpreter.process_page(page)\n",
    "    data =  retstr.getvalue()"
   ]
  },
  {
   "cell_type": "code",
   "execution_count": 46,
   "metadata": {},
   "outputs": [
    {
     "data": {
      "text/plain": [
       "'List\\xa0of\\xa0countries\\xa0where\\xa0English\\xa0is\\xa0an\\xa0official\\xa0language\\xa0\\n\\n\\xa0\\nAsia\\xa0\\nIndia\\xa0\\nPakistan\\xa0\\nPhilippines\\xa0\\nSingapore\\xa0\\n\\xa0\\nAustralia/Oceania\\xa0\\nAustralia\\xa0\\nFiji\\xa0\\nKiribati\\xa0\\nMarshall\\xa0Islands\\xa0\\nFederated\\xa0States\\xa0of\\xa0Micronesia\\xa0\\nNauru\\xa0\\nNew\\xa0Zealand\\xa0\\nPalau\\xa0\\xa0\\nPapua\\xa0New\\xa0Guinea\\xa0\\nSamoa\\xa0\\nSolomon\\xa0Islands\\xa0\\nTonga\\xa0\\nTuvalu\\xa0\\nVanuatu\\xa0\\n\\xa0\\nEurope\\xa0\\nIreland\\xa0\\nMalta\\xa0\\nUnited\\xa0Kingdom\\xa0\\xa0\\n\\xa0\\n\\xa0\\n\\xa0\\n\\xa0\\n\\n\\xa0\\nAfrica\\xa0\\nBotswana\\xa0\\xa0\\nCameroon\\xa0\\nEthiopia\\xa0\\nEritrea\\xa0\\nThe\\xa0Gambia\\xa0\\nGhana\\xa0\\nKenya\\xa0\\nLesotho\\xa0\\nLiberia\\xa0\\nMalawi\\xa0\\nMauritius\\xa0\\nNamibia\\xa0\\nNigeria\\xa0\\nRwanda\\xa0\\nSeychelles\\xa0\\nSierra\\xa0Leone\\xa0\\nSouth\\xa0Africa\\xa0\\nSouth\\xa0Sudan\\xa0\\nSudan\\xa0\\nSwaziland\\xa0\\nTanzania\\xa0\\xa0\\nUganda\\xa0\\nZambia\\xa0\\nZimbabwe\\xa0\\n\\xa0\\nAmericas\\xa0\\nAntigua\\xa0and\\xa0Barbuda\\xa0\\nThe\\xa0Bahamas\\xa0\\nBarbados\\xa0\\nBelize\\xa0\\xa0\\nCanada\\xa0\\nDominica\\xa0\\nGrenada\\xa0\\nGuyana\\xa0\\nJamaica\\xa0\\nSaint\\xa0Kitts\\xa0and\\xa0Nevis\\xa0\\nSaint\\xa0Lucia\\xa0\\nSaint\\xa0Vincent\\xa0and\\xa0the\\xa0Grenadines\\xa0\\nTrinidad\\xa0and\\xa0Tobago\\xa0\\nUnited\\xa0States\\xa0\\xa0\\n\\xa0\\n\\xa0\\n\\xa0\\n\\xa0\\n\\n\\x0c'"
      ]
     },
     "execution_count": 46,
     "metadata": {},
     "output_type": "execute_result"
    }
   ],
   "source": [
    "#The resultant PDF extract\n",
    "data"
   ]
  },
  {
   "cell_type": "code",
   "execution_count": 47,
   "metadata": {},
   "outputs": [],
   "source": [
    "#removing the special characters as it has some special characters\n",
    "removeSpecialChars = data.replace(\"\\xa0\", \" \")\n",
    "\n",
    "#removing the trailing spaces\n",
    "removeRspace=removeSpecialChars.rstrip()\n",
    "\n",
    "#converting the string into a list\n",
    "value_pdf=removeRspace.split('\\n')\n",
    "# value_pdf"
   ]
  },
  {
   "cell_type": "code",
   "execution_count": 48,
   "metadata": {},
   "outputs": [
    {
     "data": {
      "text/html": [
       "<div>\n",
       "<style scoped>\n",
       "    .dataframe tbody tr th:only-of-type {\n",
       "        vertical-align: middle;\n",
       "    }\n",
       "\n",
       "    .dataframe tbody tr th {\n",
       "        vertical-align: top;\n",
       "    }\n",
       "\n",
       "    .dataframe thead th {\n",
       "        text-align: right;\n",
       "    }\n",
       "</style>\n",
       "<table border=\"1\" class=\"dataframe\">\n",
       "  <thead>\n",
       "    <tr style=\"text-align: right;\">\n",
       "      <th></th>\n",
       "      <th>name</th>\n",
       "    </tr>\n",
       "  </thead>\n",
       "  <tbody>\n",
       "    <tr>\n",
       "      <th>0</th>\n",
       "      <td>List of countries where English is an official language</td>\n",
       "    </tr>\n",
       "    <tr>\n",
       "      <th>1</th>\n",
       "      <td></td>\n",
       "    </tr>\n",
       "    <tr>\n",
       "      <th>2</th>\n",
       "      <td></td>\n",
       "    </tr>\n",
       "    <tr>\n",
       "      <th>3</th>\n",
       "      <td>Asia</td>\n",
       "    </tr>\n",
       "    <tr>\n",
       "      <th>4</th>\n",
       "      <td>India</td>\n",
       "    </tr>\n",
       "  </tbody>\n",
       "</table>\n",
       "</div>"
      ],
      "text/plain": [
       "                                                       name\n",
       "0  List of countries where English is an official language \n",
       "1                                                          \n",
       "2                                                          \n",
       "3                                                     Asia \n",
       "4                                                    India "
      ]
     },
     "execution_count": 48,
     "metadata": {},
     "output_type": "execute_result"
    }
   ],
   "source": [
    "#creating a dataframe of the extracted information\n",
    "pdf_countries1=pd.DataFrame({'name':value_pdf})\n",
    "pdf_countries1.head()"
   ]
  },
  {
   "cell_type": "code",
   "execution_count": 49,
   "metadata": {},
   "outputs": [
    {
     "data": {
      "text/html": [
       "<div>\n",
       "<style scoped>\n",
       "    .dataframe tbody tr th:only-of-type {\n",
       "        vertical-align: middle;\n",
       "    }\n",
       "\n",
       "    .dataframe tbody tr th {\n",
       "        vertical-align: top;\n",
       "    }\n",
       "\n",
       "    .dataframe thead th {\n",
       "        text-align: right;\n",
       "    }\n",
       "</style>\n",
       "<table border=\"1\" class=\"dataframe\">\n",
       "  <thead>\n",
       "    <tr style=\"text-align: right;\">\n",
       "      <th></th>\n",
       "      <th>name</th>\n",
       "    </tr>\n",
       "  </thead>\n",
       "  <tbody>\n",
       "    <tr>\n",
       "      <th>0</th>\n",
       "      <td>List of countries where English is an official language</td>\n",
       "    </tr>\n",
       "    <tr>\n",
       "      <th>1</th>\n",
       "      <td>NaN</td>\n",
       "    </tr>\n",
       "    <tr>\n",
       "      <th>2</th>\n",
       "      <td>NaN</td>\n",
       "    </tr>\n",
       "    <tr>\n",
       "      <th>3</th>\n",
       "      <td>Asia</td>\n",
       "    </tr>\n",
       "    <tr>\n",
       "      <th>4</th>\n",
       "      <td>India</td>\n",
       "    </tr>\n",
       "  </tbody>\n",
       "</table>\n",
       "</div>"
      ],
      "text/plain": [
       "                                                      name\n",
       "0  List of countries where English is an official language\n",
       "1                                                      NaN\n",
       "2                                                      NaN\n",
       "3                                                     Asia\n",
       "4                                                    India"
      ]
     },
     "execution_count": 49,
     "metadata": {},
     "output_type": "execute_result"
    }
   ],
   "source": [
    "#removing the trailing spaces from each values in the dataframe\n",
    "pdf_countries1['name'] = pdf_countries1['name'].map(lambda x: x.strip())\n",
    "\n",
    "#replacing the blanks with NaN values\n",
    "pdf_countries1['name'].replace('', np.nan, inplace=True)\n",
    "pdf_countries1.head()"
   ]
  },
  {
   "cell_type": "code",
   "execution_count": 50,
   "metadata": {},
   "outputs": [
    {
     "data": {
      "text/plain": [
       "11"
      ]
     },
     "execution_count": 50,
     "metadata": {},
     "output_type": "execute_result"
    },
    {
     "data": {
      "text/plain": [
       "name   14.47\n",
       "dtype: float64"
      ]
     },
     "execution_count": 50,
     "metadata": {},
     "output_type": "execute_result"
    }
   ],
   "source": [
    "#Calculating the sum of null values\n",
    "pdf_countries1['name'].isnull().sum()\n",
    "\n",
    "# Evaulate the missing data again for percentage missing data\n",
    "round(100*(pdf_countries1.isnull().sum()/len(pdf_countries1.index)), 2)"
   ]
  },
  {
   "cell_type": "code",
   "execution_count": 51,
   "metadata": {},
   "outputs": [
    {
     "data": {
      "text/plain": [
       "name   0.00\n",
       "dtype: float64"
      ]
     },
     "execution_count": 51,
     "metadata": {},
     "output_type": "execute_result"
    },
    {
     "data": {
      "text/plain": [
       "(65, 1)"
      ]
     },
     "execution_count": 51,
     "metadata": {},
     "output_type": "execute_result"
    },
    {
     "name": "stdout",
     "output_type": "stream",
     "text": [
      "<class 'pandas.core.frame.DataFrame'>\n",
      "Int64Index: 65 entries, 0 to 75\n",
      "Data columns (total 1 columns):\n",
      "name    65 non-null object\n",
      "dtypes: object(1)\n",
      "memory usage: 1.0+ KB\n"
     ]
    }
   ],
   "source": [
    "#Removal null rows\n",
    "pdf_countries1 = pdf_countries1[pdf_countries1['name'].notnull()]\n",
    "\n",
    "# Re-evaulate the missing data again for percentage missing data\n",
    "round(100*(pdf_countries1.isnull().sum()/len(pdf_countries1.index)), 2)\n",
    "\n",
    "#Analysing the shape and information of the the pdf_countries dataframe\n",
    "pdf_countries1.shape\n",
    "pdf_countries1.info()"
   ]
  },
  {
   "cell_type": "code",
   "execution_count": 52,
   "metadata": {},
   "outputs": [],
   "source": [
    "#remove the 0the row(i.e.\"List of countries where English is an official language\") and \n",
    "# the following continents Asia, Australia/Oceania,Europe,Africa & Americas\n",
    "pdf_countries1=pdf_countries1[~pdf_countries1.name.\\\n",
    "        isin(['Asia','Australia/Oceania','Europe','Africa','Americas',\n",
    "              'List of countries where English is an official language'])]\n",
    "pdf_countries=pdf_countries1.copy()"
   ]
  },
  {
   "cell_type": "code",
   "execution_count": 53,
   "metadata": {},
   "outputs": [
    {
     "data": {
      "text/html": [
       "<div>\n",
       "<style scoped>\n",
       "    .dataframe tbody tr th:only-of-type {\n",
       "        vertical-align: middle;\n",
       "    }\n",
       "\n",
       "    .dataframe tbody tr th {\n",
       "        vertical-align: top;\n",
       "    }\n",
       "\n",
       "    .dataframe thead th {\n",
       "        text-align: right;\n",
       "    }\n",
       "</style>\n",
       "<table border=\"1\" class=\"dataframe\">\n",
       "  <thead>\n",
       "    <tr style=\"text-align: right;\">\n",
       "      <th></th>\n",
       "      <th>name</th>\n",
       "      <th>alpha-3</th>\n",
       "    </tr>\n",
       "  </thead>\n",
       "  <tbody>\n",
       "    <tr>\n",
       "      <th>0</th>\n",
       "      <td>Afghanistan</td>\n",
       "      <td>AFG</td>\n",
       "    </tr>\n",
       "    <tr>\n",
       "      <th>1</th>\n",
       "      <td>Åland Islands</td>\n",
       "      <td>ALA</td>\n",
       "    </tr>\n",
       "    <tr>\n",
       "      <th>2</th>\n",
       "      <td>Albania</td>\n",
       "      <td>ALB</td>\n",
       "    </tr>\n",
       "    <tr>\n",
       "      <th>3</th>\n",
       "      <td>Algeria</td>\n",
       "      <td>DZA</td>\n",
       "    </tr>\n",
       "    <tr>\n",
       "      <th>4</th>\n",
       "      <td>American Samoa</td>\n",
       "      <td>ASM</td>\n",
       "    </tr>\n",
       "  </tbody>\n",
       "</table>\n",
       "</div>"
      ],
      "text/plain": [
       "             name alpha-3\n",
       "0     Afghanistan     AFG\n",
       "1   Åland Islands     ALA\n",
       "2         Albania     ALB\n",
       "3         Algeria     DZA\n",
       "4  American Samoa     ASM"
      ]
     },
     "execution_count": 53,
     "metadata": {},
     "output_type": "execute_result"
    }
   ],
   "source": [
    "#Load Countries code and name data from dictionary\n",
    "load_countries.head(5)"
   ]
  },
  {
   "cell_type": "code",
   "execution_count": 54,
   "metadata": {},
   "outputs": [
    {
     "name": "stdout",
     "output_type": "stream",
     "text": [
      "\n",
      "\n",
      "The below countries has to be renamed\n",
      " Empty DataFrame\n",
      "Columns: [name, alpha-3]\n",
      "Index: []\n"
     ]
    }
   ],
   "source": [
    "#Merging the two Dataframe to obtain the country code\n",
    "consolidate=pd.merge(pdf_countries,load_countries,how='left',on='name')\n",
    "\n",
    "print(\"\\n\\nThe below countries has to be renamed\\n\",\\\n",
    "       consolidate[consolidate['alpha-3'].isnull()])"
   ]
  },
  {
   "cell_type": "code",
   "execution_count": 55,
   "metadata": {},
   "outputs": [
    {
     "data": {
      "text/html": [
       "<div>\n",
       "<style scoped>\n",
       "    .dataframe tbody tr th:only-of-type {\n",
       "        vertical-align: middle;\n",
       "    }\n",
       "\n",
       "    .dataframe tbody tr th {\n",
       "        vertical-align: top;\n",
       "    }\n",
       "\n",
       "    .dataframe thead th {\n",
       "        text-align: right;\n",
       "    }\n",
       "</style>\n",
       "<table border=\"1\" class=\"dataframe\">\n",
       "  <thead>\n",
       "    <tr style=\"text-align: right;\">\n",
       "      <th></th>\n",
       "      <th>name</th>\n",
       "      <th>alpha-3</th>\n",
       "    </tr>\n",
       "  </thead>\n",
       "  <tbody>\n",
       "    <tr>\n",
       "      <th>25</th>\n",
       "      <td>The Gambia</td>\n",
       "      <td>GMB</td>\n",
       "    </tr>\n",
       "    <tr>\n",
       "      <th>15</th>\n",
       "      <td>Tonga</td>\n",
       "      <td>TON</td>\n",
       "    </tr>\n",
       "    <tr>\n",
       "      <th>57</th>\n",
       "      <td>Trinidad and Tobago</td>\n",
       "      <td>TTO</td>\n",
       "    </tr>\n",
       "    <tr>\n",
       "      <th>16</th>\n",
       "      <td>Tuvalu</td>\n",
       "      <td>TUV</td>\n",
       "    </tr>\n",
       "    <tr>\n",
       "      <th>42</th>\n",
       "      <td>Uganda</td>\n",
       "      <td>UGA</td>\n",
       "    </tr>\n",
       "    <tr>\n",
       "      <th>20</th>\n",
       "      <td>United Kingdom</td>\n",
       "      <td>GBR</td>\n",
       "    </tr>\n",
       "    <tr>\n",
       "      <th>58</th>\n",
       "      <td>United States</td>\n",
       "      <td>USA</td>\n",
       "    </tr>\n",
       "    <tr>\n",
       "      <th>17</th>\n",
       "      <td>Vanuatu</td>\n",
       "      <td>VUT</td>\n",
       "    </tr>\n",
       "    <tr>\n",
       "      <th>43</th>\n",
       "      <td>Zambia</td>\n",
       "      <td>ZMB</td>\n",
       "    </tr>\n",
       "    <tr>\n",
       "      <th>44</th>\n",
       "      <td>Zimbabwe</td>\n",
       "      <td>ZWE</td>\n",
       "    </tr>\n",
       "  </tbody>\n",
       "</table>\n",
       "</div>"
      ],
      "text/plain": [
       "                   name alpha-3\n",
       "25           The Gambia     GMB\n",
       "15                Tonga     TON\n",
       "57  Trinidad and Tobago     TTO\n",
       "16               Tuvalu     TUV\n",
       "42               Uganda     UGA\n",
       "20       United Kingdom     GBR\n",
       "58        United States     USA\n",
       "17              Vanuatu     VUT\n",
       "43               Zambia     ZMB\n",
       "44             Zimbabwe     ZWE"
      ]
     },
     "execution_count": 55,
     "metadata": {},
     "output_type": "execute_result"
    }
   ],
   "source": [
    "#remapping to the load_countries to validate if the desired results are obtained\n",
    "country3_consolidate=pd.merge(pdf_countries,load_countries,how='left',on='name')\n",
    "\n",
    "#validating for null records\n",
    "# print(final_consolidate[final_consolidate['alpha-3'].isnull()])\n",
    "country3_consolidate.sort_values(by='name').tail(10)"
   ]
  },
  {
   "cell_type": "markdown",
   "metadata": {},
   "source": [
    "#### Observation:\n",
    ">- The default PyPDF2 is not working as it has inherent problem of handling of `whilte spaces` in the pdf document resulting in generating unstructured scrambled output.\n",
    ">- We have used ***`pdfminer` package instead ( which can be installed from the command line using pip as below; *** ;\n",
    "    - ***pip install pdfminer.six***\n",
    ">- The final consolidated list all english speaking countries with codes and names are stored in a data frame ***`country3_consolidated`***\n",
    "\n",
    "#### Inference:\n",
    ">- The English speaking country names from the given pdf are extracted  and mapped with a dataframe through a static dictionary of country codes and names. The dictionary data is obtained from online data( https://github.com/lukes/ISO-3166-Countries-with-Regional-Codes/blob/master/all/all.csv) (standard iso codes from online) to identify countries.\n",
    "\n",
    "#### Note:: \n",
    ">- It is mandatory and prerequsite to install ***`pdfminer`*** package before proceeding further to identify top9 english speaking countries."
   ]
  },
  {
   "cell_type": "code",
   "execution_count": 56,
   "metadata": {},
   "outputs": [],
   "source": [
    "# Merge the venture_frame and country3_consolidate\n",
    "\n",
    "venture_countries = pd.merge(left=venture_frame,right=country3_consolidate,\\\n",
    "                                    left_on='country_code',\\\n",
    "                                       right_on='alpha-3',how=\"left\",indicator=True)"
   ]
  },
  {
   "cell_type": "code",
   "execution_count": 57,
   "metadata": {},
   "outputs": [
    {
     "data": {
      "text/plain": [
       "array(['CHN', 'FRA', 'ROM', 'KOR', 'SWE', 'NLD', 'RUS', 'BEL', 'ESP',\n",
       "       'HUN', 'JPN', 'DEU', 'ITA', 'HKG', 'BRA', 'FIN', 'CHE', 'PRT',\n",
       "       'SVN', 'THA', 'DNK', 'TWN', 'ISR', 'NOR', 'LTU', 'ISL', 'MEX',\n",
       "       'AUT', 'ARG', 'MNE', 'MYS', 'TUR', 'POL', 'LVA', 'GGY', 'EST',\n",
       "       'LBN', 'GRC', 'IDN', 'CYP', 'SVK', 'ARE', 'EGY', 'ARM', 'TUN',\n",
       "       'COL', 'CZE', 'PRI', 'CYM', 'PER', 'ECU', 'CHL', 'VNM', 'URY',\n",
       "       'HRV', 'LUX', 'UKR', 'BMU', 'BGR', 'PAN', 'MMR', 'JOR', 'KAZ',\n",
       "       'MAR', 'LIE', 'GTM', 'SAU', 'TAN', 'SEN', 'MCO', 'BAH', 'KWT',\n",
       "       'LAO', 'BGD', 'MAF', 'GIB'], dtype=object)"
      ]
     },
     "execution_count": 57,
     "metadata": {},
     "output_type": "execute_result"
    },
    {
     "data": {
      "text/plain": [
       "array(['IND', 'CAN', 'USA', 'GBR', 'IRL', 'SGP', 'AUS', 'NZL', 'PHL',\n",
       "       'ZAF', 'KEN', 'CMR', 'NGA', 'PAK', 'MUS', 'TTO', 'KNA', 'MLT',\n",
       "       'GHA', 'UGA', 'BWA'], dtype=object)"
      ]
     },
     "execution_count": 57,
     "metadata": {},
     "output_type": "execute_result"
    }
   ],
   "source": [
    "# Check the unique country code in the merged frame which are not marked as\n",
    "# both (i.e., Left_Only)\n",
    "\n",
    "venture_countries.loc[venture_countries['_merge'] != 'both',:].country_code.unique()\n",
    "\n",
    "# It is clear now that the countries which are not in 'both' are \n",
    "# non english speaking countries and can be ignored.\n",
    "\n",
    "# Filter out only english speaking from the venture list.\n",
    "\n",
    "venture_english = venture_countries.loc[venture_countries['_merge'] == 'both',:].copy()\n",
    "venture_english.country_code.unique()\n",
    "\n",
    "#venture_english.loc[venture_english.country_code.\n",
    "#                      isin(venture_english.country_code.unique()),\\\n",
    "#                      ['country_code','name_y']]"
   ]
  },
  {
   "cell_type": "code",
   "execution_count": 58,
   "metadata": {},
   "outputs": [
    {
     "data": {
      "text/html": [
       "<div>\n",
       "<style scoped>\n",
       "    .dataframe tbody tr th:only-of-type {\n",
       "        vertical-align: middle;\n",
       "    }\n",
       "\n",
       "    .dataframe tbody tr th {\n",
       "        vertical-align: top;\n",
       "    }\n",
       "\n",
       "    .dataframe thead th {\n",
       "        text-align: right;\n",
       "    }\n",
       "</style>\n",
       "<table border=\"1\" class=\"dataframe\">\n",
       "  <thead>\n",
       "    <tr style=\"text-align: right;\">\n",
       "      <th></th>\n",
       "      <th>funding_round_permalink</th>\n",
       "      <th>funding_round_type</th>\n",
       "      <th>funded_at</th>\n",
       "      <th>raised_amount_usd</th>\n",
       "      <th>permalink</th>\n",
       "      <th>name_x</th>\n",
       "      <th>category_list</th>\n",
       "      <th>status</th>\n",
       "      <th>country_code</th>\n",
       "      <th>country_name</th>\n",
       "    </tr>\n",
       "  </thead>\n",
       "  <tbody>\n",
       "    <tr>\n",
       "      <th>0</th>\n",
       "      <td>/funding-round/9a01d05418af9f794eebff7ace91f638</td>\n",
       "      <td>venture</td>\n",
       "      <td>05-01-2015</td>\n",
       "      <td>10,000,000.00</td>\n",
       "      <td>/organization/-fame</td>\n",
       "      <td>#fame</td>\n",
       "      <td>Media</td>\n",
       "      <td>operating</td>\n",
       "      <td>IND</td>\n",
       "      <td>India</td>\n",
       "    </tr>\n",
       "    <tr>\n",
       "      <th>2</th>\n",
       "      <td>/funding-round/954b9499724b946ad8c396a57a5f3b72</td>\n",
       "      <td>venture</td>\n",
       "      <td>21-12-2009</td>\n",
       "      <td>719,491.00</td>\n",
       "      <td>/organization/0ndine-biomedical-inc</td>\n",
       "      <td>Ondine Biomedical Inc.</td>\n",
       "      <td>Biotechnology</td>\n",
       "      <td>operating</td>\n",
       "      <td>CAN</td>\n",
       "      <td>Canada</td>\n",
       "    </tr>\n",
       "    <tr>\n",
       "      <th>3</th>\n",
       "      <td>/funding-round/3bb2ee4a2d89251a10aaa735b1180e44</td>\n",
       "      <td>venture</td>\n",
       "      <td>09-11-2015</td>\n",
       "      <td>20,000,000.00</td>\n",
       "      <td>/organization/0xdata</td>\n",
       "      <td>H2O.ai</td>\n",
       "      <td>Analytics</td>\n",
       "      <td>operating</td>\n",
       "      <td>USA</td>\n",
       "      <td>United States</td>\n",
       "    </tr>\n",
       "    <tr>\n",
       "      <th>4</th>\n",
       "      <td>/funding-round/ae2a174c06517c2394aed45006322a7e</td>\n",
       "      <td>venture</td>\n",
       "      <td>03-01-2013</td>\n",
       "      <td>1,700,000.00</td>\n",
       "      <td>/organization/0xdata</td>\n",
       "      <td>H2O.ai</td>\n",
       "      <td>Analytics</td>\n",
       "      <td>operating</td>\n",
       "      <td>USA</td>\n",
       "      <td>United States</td>\n",
       "    </tr>\n",
       "    <tr>\n",
       "      <th>5</th>\n",
       "      <td>/funding-round/e1cfcbe1bdf4c70277c5f29a3482f24e</td>\n",
       "      <td>venture</td>\n",
       "      <td>19-07-2014</td>\n",
       "      <td>8,900,000.00</td>\n",
       "      <td>/organization/0xdata</td>\n",
       "      <td>H2O.ai</td>\n",
       "      <td>Analytics</td>\n",
       "      <td>operating</td>\n",
       "      <td>USA</td>\n",
       "      <td>United States</td>\n",
       "    </tr>\n",
       "  </tbody>\n",
       "</table>\n",
       "</div>"
      ],
      "text/plain": [
       "                           funding_round_permalink funding_round_type   funded_at  raised_amount_usd                            permalink                  name_x  category_list     status country_code   country_name\n",
       "0  /funding-round/9a01d05418af9f794eebff7ace91f638            venture  05-01-2015      10,000,000.00                  /organization/-fame                   #fame          Media  operating          IND          India\n",
       "2  /funding-round/954b9499724b946ad8c396a57a5f3b72            venture  21-12-2009         719,491.00  /organization/0ndine-biomedical-inc  Ondine Biomedical Inc.  Biotechnology  operating          CAN         Canada\n",
       "3  /funding-round/3bb2ee4a2d89251a10aaa735b1180e44            venture  09-11-2015      20,000,000.00                 /organization/0xdata                  H2O.ai      Analytics  operating          USA  United States\n",
       "4  /funding-round/ae2a174c06517c2394aed45006322a7e            venture  03-01-2013       1,700,000.00                 /organization/0xdata                  H2O.ai      Analytics  operating          USA  United States\n",
       "5  /funding-round/e1cfcbe1bdf4c70277c5f29a3482f24e            venture  19-07-2014       8,900,000.00                 /organization/0xdata                  H2O.ai      Analytics  operating          USA  United States"
      ]
     },
     "execution_count": 58,
     "metadata": {},
     "output_type": "execute_result"
    },
    {
     "data": {
      "text/plain": [
       "(40824, 10)"
      ]
     },
     "execution_count": 58,
     "metadata": {},
     "output_type": "execute_result"
    }
   ],
   "source": [
    "# The venture_english data frame will be used for finding out top9_english & top3_english\n",
    "# spaking countries by cleaning up venture_english data frame.\n",
    "\n",
    "# Rename name_y column merged.\n",
    "\n",
    "venture_english.rename(columns={'name_y':'country_name'},inplace=True)\n",
    "\n",
    "# drop alpha-3 (duplicate of country_code & _merge unused)\n",
    "venture_english =venture_english.drop(columns=['alpha-3','_merge'],axis=1)\n",
    "venture_english.head()\n",
    "\n",
    "# export the data frame to csv for plotting graph.\n",
    "venture_english.shape\n",
    "venture_english.to_csv(\"Data/venture_english.csv\")"
   ]
  },
  {
   "cell_type": "code",
   "execution_count": 59,
   "metadata": {},
   "outputs": [
    {
     "data": {
      "text/plain": [
       "country_code  country_name    funding_round_type\n",
       "USA           United States   venture              420,068,029,342.00\n",
       "GBR           United Kingdom  venture               20,072,813,004.00\n",
       "IND           India           venture               14,261,508,718.00\n",
       "CAN           Canada          venture                9,482,217,668.00\n",
       "SGP           Singapore       venture                2,793,917,856.00\n",
       "IRL           Ireland         venture                1,669,285,543.00\n",
       "AUS           Australia       venture                1,319,028,698.00\n",
       "NZL           New Zealand     venture                  448,316,383.00\n",
       "ZAF           South Africa    venture                  233,713,106.00\n",
       "Name: raised_amount_usd, dtype: float64"
      ]
     },
     "execution_count": 59,
     "metadata": {},
     "output_type": "execute_result"
    }
   ],
   "source": [
    "# Then top9 is created with 9 English speaking countries based on\n",
    "# Total Investment made (i.e., raised_amount_usd) from the \n",
    "# venture_english data frame created above\n",
    "\n",
    "top9_english = venture_english.\\\n",
    "           groupby(['country_code','country_name','funding_round_type'])\\\n",
    "                   ['raised_amount_usd'].sum().sort_values(ascending=False).head(9)\n",
    "top9_english"
   ]
  },
  {
   "cell_type": "code",
   "execution_count": 60,
   "metadata": {},
   "outputs": [
    {
     "data": {
      "text/plain": [
       "(38803, 10)"
      ]
     },
     "execution_count": 60,
     "metadata": {},
     "output_type": "execute_result"
    },
    {
     "data": {
      "text/plain": [
       "country_code  country_name  \n",
       "USA           United States    420,068,029,342.00\n",
       "GBR           United Kingdom    20,072,813,004.00\n",
       "IND           India             14,261,508,718.00\n",
       "Name: raised_amount_usd, dtype: float64"
      ]
     },
     "execution_count": 60,
     "metadata": {},
     "output_type": "execute_result"
    }
   ],
   "source": [
    "# Identitfiy the top three english speaking countries and their total investments.\n",
    "\n",
    "top3_english = venture_english.loc[venture_english['country_code'].\\\n",
    "                            isin(['USA','GBR','IND']),:].copy()\n",
    "top3_english.shape\n",
    "\n",
    "# Now, Group the top3_english by country_code and find out the total investment\n",
    "# across each country code\n",
    "\n",
    "top3_english.groupby(['country_code','country_name'])\\\n",
    "                     ['raised_amount_usd'].sum().sort_values(ascending=False)"
   ]
  },
  {
   "cell_type": "markdown",
   "metadata": {},
   "source": [
    "#### Observation:\n",
    ">- The top fund type data `venture_frame` is joined with `country3_consolidated` obtained from pdf document (i.e., for countries) is merged to obtain the `top9_english` frame - the top9 english speaking destination on total investment is created.\n",
    "\n",
    ">- The 3 top countries based on total investments is further obtained.\n",
    "\n",
    "#### Inference   : \n",
    ">Based on the results above,  it has been identified that `USA`,`GBR` and `IND` are the top investment destination for spark funds. \n",
    "\n",
    "***IMPORTANT!!!*** ::: \n",
    ">- Plot suitable graph to depict the Top 3 investment based on the countries\n",
    "\n",
    "#### Results Expected: Table 3.1 \n",
    ">***Question1:*** Top English-speaking country ?<br>\n",
    ">***Answer:*** It is `USA` with Total investment of `$420,068,029,342.00`<br><br>\n",
    ">***Question2:*** Second English-speaking country ?<br>\n",
    ">***Answer:*** It is `GBR` with Total investment of `$20,072,813,004.00`<br><br>\n",
    ">*** Question3:*** Third English-speaking country ?<br>\n",
    ">***Answer:*** It is `IND` with Total investment of `$14,261,508,718.00`<br><br>"
   ]
  },
  {
   "cell_type": "markdown",
   "metadata": {},
   "source": [
    "## Checkpoint 4: Sector Analysis 1\n",
    "\n",
    ">The sector analysis, is referring to one of the eight sectors -i.e., main sector listed in the mapping file.<br>\n",
    ">The business rule is that, the first string before the vertical bar in the `category_list` in the master data frame will be considered as `Primary Sector`.<br>\n",
    "\n",
    "***CONSTRAINT*** : \n",
    ">- Use only the `top3_english` data frame created in check point-3 , having top 3 English speaking  destination where total investment is highest for the fund type identified fund type `venture`.\n",
    "\n",
    "## Results Expected: Table 3.1\n",
    ">- Code for a merged data frame with each primary sector mapped to its main sector (the primary sector should be present in a separate column).\n",
    "\n",
    "## To Do List - Check Point-4\n",
    ">- Extract the Primary Sector of each category list from the `category_list` Column of `top3_english`.\n",
    ">- Use the mapping file `mapping.csv` to map each primary sector to one of eight main sectors \n",
    ">- (Note: 'Others' is also considered one of the main sectors)."
   ]
  },
  {
   "cell_type": "code",
   "execution_count": 61,
   "metadata": {},
   "outputs": [
    {
     "data": {
      "text/html": [
       "<div>\n",
       "<style scoped>\n",
       "    .dataframe tbody tr th:only-of-type {\n",
       "        vertical-align: middle;\n",
       "    }\n",
       "\n",
       "    .dataframe tbody tr th {\n",
       "        vertical-align: top;\n",
       "    }\n",
       "\n",
       "    .dataframe thead th {\n",
       "        text-align: right;\n",
       "    }\n",
       "</style>\n",
       "<table border=\"1\" class=\"dataframe\">\n",
       "  <thead>\n",
       "    <tr style=\"text-align: right;\">\n",
       "      <th></th>\n",
       "      <th>funding_round_permalink</th>\n",
       "      <th>funding_round_type</th>\n",
       "      <th>funded_at</th>\n",
       "      <th>raised_amount_usd</th>\n",
       "      <th>permalink</th>\n",
       "      <th>name_x</th>\n",
       "      <th>category_list</th>\n",
       "      <th>status</th>\n",
       "      <th>country_code</th>\n",
       "      <th>country_name</th>\n",
       "      <th>primary_sector</th>\n",
       "    </tr>\n",
       "  </thead>\n",
       "  <tbody>\n",
       "    <tr>\n",
       "      <th>24017</th>\n",
       "      <td>/funding-round/a72758fc10661a4f1b7aa17be32ef7ab</td>\n",
       "      <td>venture</td>\n",
       "      <td>01-01-2008</td>\n",
       "      <td>8,151,750.00</td>\n",
       "      <td>/organization/loc-aid</td>\n",
       "      <td>Locaid</td>\n",
       "      <td>Enterprise Software|Location Based Services|Mobile|Wireless</td>\n",
       "      <td>acquired</td>\n",
       "      <td>USA</td>\n",
       "      <td>United States</td>\n",
       "      <td>Enterprise Software</td>\n",
       "    </tr>\n",
       "    <tr>\n",
       "      <th>31443</th>\n",
       "      <td>/funding-round/81daf9d027abc85f843864639650f074</td>\n",
       "      <td>venture</td>\n",
       "      <td>18-03-2014</td>\n",
       "      <td>24,000,000.00</td>\n",
       "      <td>/organization/percolate</td>\n",
       "      <td>Percolate</td>\n",
       "      <td>Brand Marketing|Content|Enterprise Software|Information Technology|Infrastructure|Sales and Marketing|Social Media</td>\n",
       "      <td>operating</td>\n",
       "      <td>USA</td>\n",
       "      <td>United States</td>\n",
       "      <td>Brand Marketing</td>\n",
       "    </tr>\n",
       "    <tr>\n",
       "      <th>31465</th>\n",
       "      <td>/funding-round/1142ec6e781675ab51b7bbdcfa85152b</td>\n",
       "      <td>venture</td>\n",
       "      <td>09-04-2014</td>\n",
       "      <td>6,149,845.00</td>\n",
       "      <td>/organization/perficient</td>\n",
       "      <td>Perficient</td>\n",
       "      <td>Consulting|Information Technology|Internet</td>\n",
       "      <td>ipo</td>\n",
       "      <td>USA</td>\n",
       "      <td>United States</td>\n",
       "      <td>Consulting</td>\n",
       "    </tr>\n",
       "    <tr>\n",
       "      <th>31473</th>\n",
       "      <td>/funding-round/ee4995c5f5a747102300403e53182bea</td>\n",
       "      <td>venture</td>\n",
       "      <td>15-01-2010</td>\n",
       "      <td>3,000,000.00</td>\n",
       "      <td>/organization/performable</td>\n",
       "      <td>Performable</td>\n",
       "      <td>Advertising|Analytics|Marketing Automation|Optimization|Sales and Marketing|Software|Web Design</td>\n",
       "      <td>acquired</td>\n",
       "      <td>USA</td>\n",
       "      <td>United States</td>\n",
       "      <td>Advertising</td>\n",
       "    </tr>\n",
       "    <tr>\n",
       "      <th>31476</th>\n",
       "      <td>/funding-round/97e7cfb2ce5b9425f1fd9d8179ea4a7e</td>\n",
       "      <td>venture</td>\n",
       "      <td>06-11-2015</td>\n",
       "      <td>6,500,000.00</td>\n",
       "      <td>/organization/performance-indicator</td>\n",
       "      <td>Performance Indicator</td>\n",
       "      <td>Biotechnology</td>\n",
       "      <td>operating</td>\n",
       "      <td>USA</td>\n",
       "      <td>United States</td>\n",
       "      <td>Biotechnology</td>\n",
       "    </tr>\n",
       "  </tbody>\n",
       "</table>\n",
       "</div>"
      ],
      "text/plain": [
       "                               funding_round_permalink funding_round_type   funded_at  raised_amount_usd                            permalink                 name_x                                                                                                       category_list     status country_code   country_name       primary_sector\n",
       "24017  /funding-round/a72758fc10661a4f1b7aa17be32ef7ab            venture  01-01-2008       8,151,750.00                /organization/loc-aid                 Locaid                                                         Enterprise Software|Location Based Services|Mobile|Wireless   acquired          USA  United States  Enterprise Software\n",
       "31443  /funding-round/81daf9d027abc85f843864639650f074            venture  18-03-2014      24,000,000.00              /organization/percolate              Percolate  Brand Marketing|Content|Enterprise Software|Information Technology|Infrastructure|Sales and Marketing|Social Media  operating          USA  United States      Brand Marketing\n",
       "31465  /funding-round/1142ec6e781675ab51b7bbdcfa85152b            venture  09-04-2014       6,149,845.00             /organization/perficient             Perficient                                                                          Consulting|Information Technology|Internet        ipo          USA  United States           Consulting\n",
       "31473  /funding-round/ee4995c5f5a747102300403e53182bea            venture  15-01-2010       3,000,000.00            /organization/performable            Performable                     Advertising|Analytics|Marketing Automation|Optimization|Sales and Marketing|Software|Web Design   acquired          USA  United States          Advertising\n",
       "31476  /funding-round/97e7cfb2ce5b9425f1fd9d8179ea4a7e            venture  06-11-2015       6,500,000.00  /organization/performance-indicator  Performance Indicator                                                                                                       Biotechnology  operating          USA  United States        Biotechnology"
      ]
     },
     "execution_count": 61,
     "metadata": {},
     "output_type": "execute_result"
    }
   ],
   "source": [
    "#The business rule that the first string berfor the vertical bar in the category_list \n",
    "# will be considered as Primary Sector.\n",
    "\n",
    "top3_english['primary_sector']=top3_english['category_list']\\\n",
    "                           .apply(lambda x:x.split('|',1)[0])\n",
    "top3_english.sort_values(by='country_name',ascending=False).head()"
   ]
  },
  {
   "cell_type": "code",
   "execution_count": 62,
   "metadata": {},
   "outputs": [
    {
     "data": {
      "text/html": [
       "<div>\n",
       "<style scoped>\n",
       "    .dataframe tbody tr th:only-of-type {\n",
       "        vertical-align: middle;\n",
       "    }\n",
       "\n",
       "    .dataframe tbody tr th {\n",
       "        vertical-align: top;\n",
       "    }\n",
       "\n",
       "    .dataframe thead th {\n",
       "        text-align: right;\n",
       "    }\n",
       "</style>\n",
       "<table border=\"1\" class=\"dataframe\">\n",
       "  <thead>\n",
       "    <tr style=\"text-align: right;\">\n",
       "      <th></th>\n",
       "      <th>category_list</th>\n",
       "      <th>Automotive &amp; Sports</th>\n",
       "      <th>Blanks</th>\n",
       "      <th>Cleantech / Semiconductors</th>\n",
       "      <th>Entertainment</th>\n",
       "      <th>Health</th>\n",
       "      <th>Manufacturing</th>\n",
       "      <th>News, Search and Messaging</th>\n",
       "      <th>Others</th>\n",
       "      <th>Social, Finance, Analytics, Advertising</th>\n",
       "    </tr>\n",
       "  </thead>\n",
       "  <tbody>\n",
       "    <tr>\n",
       "      <th>0</th>\n",
       "      <td>NaN</td>\n",
       "      <td>0</td>\n",
       "      <td>1</td>\n",
       "      <td>0</td>\n",
       "      <td>0</td>\n",
       "      <td>0</td>\n",
       "      <td>0</td>\n",
       "      <td>0</td>\n",
       "      <td>0</td>\n",
       "      <td>0</td>\n",
       "    </tr>\n",
       "    <tr>\n",
       "      <th>1</th>\n",
       "      <td>3D</td>\n",
       "      <td>0</td>\n",
       "      <td>0</td>\n",
       "      <td>0</td>\n",
       "      <td>0</td>\n",
       "      <td>0</td>\n",
       "      <td>1</td>\n",
       "      <td>0</td>\n",
       "      <td>0</td>\n",
       "      <td>0</td>\n",
       "    </tr>\n",
       "    <tr>\n",
       "      <th>2</th>\n",
       "      <td>3D Printing</td>\n",
       "      <td>0</td>\n",
       "      <td>0</td>\n",
       "      <td>0</td>\n",
       "      <td>0</td>\n",
       "      <td>0</td>\n",
       "      <td>1</td>\n",
       "      <td>0</td>\n",
       "      <td>0</td>\n",
       "      <td>0</td>\n",
       "    </tr>\n",
       "    <tr>\n",
       "      <th>3</th>\n",
       "      <td>3D Technology</td>\n",
       "      <td>0</td>\n",
       "      <td>0</td>\n",
       "      <td>0</td>\n",
       "      <td>0</td>\n",
       "      <td>0</td>\n",
       "      <td>1</td>\n",
       "      <td>0</td>\n",
       "      <td>0</td>\n",
       "      <td>0</td>\n",
       "    </tr>\n",
       "    <tr>\n",
       "      <th>4</th>\n",
       "      <td>Accounting</td>\n",
       "      <td>0</td>\n",
       "      <td>0</td>\n",
       "      <td>0</td>\n",
       "      <td>0</td>\n",
       "      <td>0</td>\n",
       "      <td>0</td>\n",
       "      <td>0</td>\n",
       "      <td>0</td>\n",
       "      <td>1</td>\n",
       "    </tr>\n",
       "  </tbody>\n",
       "</table>\n",
       "</div>"
      ],
      "text/plain": [
       "   category_list  Automotive & Sports  Blanks  Cleantech / Semiconductors  Entertainment  Health  Manufacturing  News, Search and Messaging  Others  Social, Finance, Analytics, Advertising\n",
       "0            NaN                    0       1                           0              0       0              0                           0       0                                        0\n",
       "1             3D                    0       0                           0              0       0              1                           0       0                                        0\n",
       "2    3D Printing                    0       0                           0              0       0              1                           0       0                                        0\n",
       "3  3D Technology                    0       0                           0              0       0              1                           0       0                                        0\n",
       "4     Accounting                    0       0                           0              0       0              0                           0       0                                        1"
      ]
     },
     "execution_count": 62,
     "metadata": {},
     "output_type": "execute_result"
    }
   ],
   "source": [
    "## Load the mapping.csv file in to a new data frame.\n",
    "mapping_frame = pd.read_csv(\"Data/mapping.csv\",encoding='iso-8859-1')\n",
    "mapping_frame.head()"
   ]
  },
  {
   "cell_type": "code",
   "execution_count": 63,
   "metadata": {},
   "outputs": [
    {
     "data": {
      "text/html": [
       "<div>\n",
       "<style scoped>\n",
       "    .dataframe tbody tr th:only-of-type {\n",
       "        vertical-align: middle;\n",
       "    }\n",
       "\n",
       "    .dataframe tbody tr th {\n",
       "        vertical-align: top;\n",
       "    }\n",
       "\n",
       "    .dataframe thead th {\n",
       "        text-align: right;\n",
       "    }\n",
       "</style>\n",
       "<table border=\"1\" class=\"dataframe\">\n",
       "  <thead>\n",
       "    <tr style=\"text-align: right;\">\n",
       "      <th></th>\n",
       "      <th>category_list</th>\n",
       "      <th>variable</th>\n",
       "      <th>value</th>\n",
       "    </tr>\n",
       "  </thead>\n",
       "  <tbody>\n",
       "    <tr>\n",
       "      <th>0</th>\n",
       "      <td>NaN</td>\n",
       "      <td>Automotive &amp; Sports</td>\n",
       "      <td>0</td>\n",
       "    </tr>\n",
       "    <tr>\n",
       "      <th>1</th>\n",
       "      <td>3D</td>\n",
       "      <td>Automotive &amp; Sports</td>\n",
       "      <td>0</td>\n",
       "    </tr>\n",
       "    <tr>\n",
       "      <th>2</th>\n",
       "      <td>3D Printing</td>\n",
       "      <td>Automotive &amp; Sports</td>\n",
       "      <td>0</td>\n",
       "    </tr>\n",
       "    <tr>\n",
       "      <th>3</th>\n",
       "      <td>3D Technology</td>\n",
       "      <td>Automotive &amp; Sports</td>\n",
       "      <td>0</td>\n",
       "    </tr>\n",
       "    <tr>\n",
       "      <th>4</th>\n",
       "      <td>Accounting</td>\n",
       "      <td>Automotive &amp; Sports</td>\n",
       "      <td>0</td>\n",
       "    </tr>\n",
       "  </tbody>\n",
       "</table>\n",
       "</div>"
      ],
      "text/plain": [
       "   category_list             variable  value\n",
       "0            NaN  Automotive & Sports      0\n",
       "1             3D  Automotive & Sports      0\n",
       "2    3D Printing  Automotive & Sports      0\n",
       "3  3D Technology  Automotive & Sports      0\n",
       "4     Accounting  Automotive & Sports      0"
      ]
     },
     "execution_count": 63,
     "metadata": {},
     "output_type": "execute_result"
    }
   ],
   "source": [
    "# Using melt function to unpivot mapping_frame having variable(main sector names) \n",
    "# & values (1 and 0) for the given category_list. \n",
    "\n",
    "mapping_pivot = pd.melt(mapping_frame,id_vars=['category_list'])              \n",
    "mapping_pivot.head()"
   ]
  },
  {
   "cell_type": "code",
   "execution_count": 64,
   "metadata": {},
   "outputs": [
    {
     "data": {
      "text/html": [
       "<div>\n",
       "<style scoped>\n",
       "    .dataframe tbody tr th:only-of-type {\n",
       "        vertical-align: middle;\n",
       "    }\n",
       "\n",
       "    .dataframe tbody tr th {\n",
       "        vertical-align: top;\n",
       "    }\n",
       "\n",
       "    .dataframe thead th {\n",
       "        text-align: right;\n",
       "    }\n",
       "</style>\n",
       "<table border=\"1\" class=\"dataframe\">\n",
       "  <thead>\n",
       "    <tr style=\"text-align: right;\">\n",
       "      <th></th>\n",
       "      <th>primary_sector</th>\n",
       "      <th>main_sector</th>\n",
       "      <th>value</th>\n",
       "    </tr>\n",
       "  </thead>\n",
       "  <tbody>\n",
       "    <tr>\n",
       "      <th>0</th>\n",
       "      <td>NaN</td>\n",
       "      <td>Automotive &amp; Sports</td>\n",
       "      <td>0</td>\n",
       "    </tr>\n",
       "    <tr>\n",
       "      <th>1</th>\n",
       "      <td>3D</td>\n",
       "      <td>Automotive &amp; Sports</td>\n",
       "      <td>0</td>\n",
       "    </tr>\n",
       "    <tr>\n",
       "      <th>2</th>\n",
       "      <td>3D Printing</td>\n",
       "      <td>Automotive &amp; Sports</td>\n",
       "      <td>0</td>\n",
       "    </tr>\n",
       "    <tr>\n",
       "      <th>3</th>\n",
       "      <td>3D Technology</td>\n",
       "      <td>Automotive &amp; Sports</td>\n",
       "      <td>0</td>\n",
       "    </tr>\n",
       "    <tr>\n",
       "      <th>4</th>\n",
       "      <td>Accounting</td>\n",
       "      <td>Automotive &amp; Sports</td>\n",
       "      <td>0</td>\n",
       "    </tr>\n",
       "  </tbody>\n",
       "</table>\n",
       "</div>"
      ],
      "text/plain": [
       "  primary_sector          main_sector  value\n",
       "0            NaN  Automotive & Sports      0\n",
       "1             3D  Automotive & Sports      0\n",
       "2    3D Printing  Automotive & Sports      0\n",
       "3  3D Technology  Automotive & Sports      0\n",
       "4     Accounting  Automotive & Sports      0"
      ]
     },
     "execution_count": 64,
     "metadata": {},
     "output_type": "execute_result"
    }
   ],
   "source": [
    "# Rename the variable and category list to main_sector and primary_sector to join\n",
    "mapping_pivot.rename(columns={'variable':'main_sector',\\\n",
    "                              'category_list':'primary_sector'},\\\n",
    "                              inplace=True)\n",
    "mapping_pivot.head()"
   ]
  },
  {
   "cell_type": "code",
   "execution_count": 65,
   "metadata": {},
   "outputs": [
    {
     "data": {
      "text/plain": [
       "(688, 2)"
      ]
     },
     "execution_count": 65,
     "metadata": {},
     "output_type": "execute_result"
    }
   ],
   "source": [
    "# ignore the rows with values 0 and filter for existence of # primary sector\n",
    "# into 9 main sectors rows only.\n",
    "\n",
    "mapping_pivot = mapping_pivot[mapping_pivot.value == 1]\n",
    "\n",
    "# drop the unusable column value.\n",
    "mapping_pivot = mapping_pivot.drop(columns='value',axis=1)\n",
    "mapping_pivot.shape"
   ]
  },
  {
   "cell_type": "code",
   "execution_count": 66,
   "metadata": {},
   "outputs": [
    {
     "data": {
      "text/html": [
       "<div>\n",
       "<style scoped>\n",
       "    .dataframe tbody tr th:only-of-type {\n",
       "        vertical-align: middle;\n",
       "    }\n",
       "\n",
       "    .dataframe tbody tr th {\n",
       "        vertical-align: top;\n",
       "    }\n",
       "\n",
       "    .dataframe thead th {\n",
       "        text-align: right;\n",
       "    }\n",
       "</style>\n",
       "<table border=\"1\" class=\"dataframe\">\n",
       "  <thead>\n",
       "    <tr style=\"text-align: right;\">\n",
       "      <th></th>\n",
       "      <th>primary_sector</th>\n",
       "      <th>main_sector</th>\n",
       "    </tr>\n",
       "  </thead>\n",
       "  <tbody>\n",
       "    <tr>\n",
       "      <th>1847</th>\n",
       "      <td>0notechnology</td>\n",
       "      <td>Cleantech / Semiconductors</td>\n",
       "    </tr>\n",
       "    <tr>\n",
       "      <th>1848</th>\n",
       "      <td>0tural Language Processing</td>\n",
       "      <td>Cleantech / Semiconductors</td>\n",
       "    </tr>\n",
       "    <tr>\n",
       "      <th>1849</th>\n",
       "      <td>0tural Resources</td>\n",
       "      <td>Cleantech / Semiconductors</td>\n",
       "    </tr>\n",
       "    <tr>\n",
       "      <th>4602</th>\n",
       "      <td>0vigation</td>\n",
       "      <td>News, Search and Messaging</td>\n",
       "    </tr>\n",
       "    <tr>\n",
       "      <th>3441</th>\n",
       "      <td>3D</td>\n",
       "      <td>Manufacturing</td>\n",
       "    </tr>\n",
       "  </tbody>\n",
       "</table>\n",
       "</div>"
      ],
      "text/plain": [
       "                  primary_sector                 main_sector\n",
       "1847               0notechnology  Cleantech / Semiconductors\n",
       "1848  0tural Language Processing  Cleantech / Semiconductors\n",
       "1849            0tural Resources  Cleantech / Semiconductors\n",
       "4602                   0vigation  News, Search and Messaging\n",
       "3441                          3D               Manufacturing"
      ]
     },
     "execution_count": 66,
     "metadata": {},
     "output_type": "execute_result"
    }
   ],
   "source": [
    "mapping_pivot.sort_values(by='primary_sector').head()"
   ]
  },
  {
   "cell_type": "code",
   "execution_count": 67,
   "metadata": {},
   "outputs": [
    {
     "data": {
      "text/plain": [
       "47"
      ]
     },
     "execution_count": 67,
     "metadata": {},
     "output_type": "execute_result"
    },
    {
     "data": {
      "text/plain": [
       "4"
      ]
     },
     "execution_count": 67,
     "metadata": {},
     "output_type": "execute_result"
    }
   ],
   "source": [
    "# While analysing mapping_pivot it has been identified that lot of primary_sector\n",
    "# sector values contains 0 in place of string 'na'\n",
    "# For e.g., 0notechnology ,Chio internet,Cloud Ma0gement. etc\n",
    "\n",
    "# See how many such primary_sector values has 0 instead 'na'\n",
    "mapping_pivot.primary_sector.str.contains('[A-Za-z]{1,}0{1}[A-Za-z]{1,}').sum()\n",
    "mapping_pivot.primary_sector.str.contains('^0[A-Za-z]{1,}').sum()"
   ]
  },
  {
   "cell_type": "code",
   "execution_count": 68,
   "metadata": {},
   "outputs": [
    {
     "data": {
      "text/plain": [
       "0"
      ]
     },
     "execution_count": 68,
     "metadata": {},
     "output_type": "execute_result"
    },
    {
     "data": {
      "text/plain": [
       "0"
      ]
     },
     "execution_count": 68,
     "metadata": {},
     "output_type": "execute_result"
    }
   ],
   "source": [
    "#Replace the identifiedprimary sectors having '0' with string 'na'\n",
    "\n",
    "mapping_pivot['primary_sector'] = mapping_pivot['primary_sector'].str.replace('0','na')\n",
    "\n",
    "# Verify again the prsence of '0' instead of 'na'\n",
    "mapping_pivot.primary_sector.str.contains('[A-Za-z]{1,}0[A-Za-z]{1,}').sum()\n",
    "mapping_pivot.primary_sector.str.contains('^0[A-Za-z]{1,}').sum()"
   ]
  },
  {
   "cell_type": "code",
   "execution_count": 69,
   "metadata": {},
   "outputs": [
    {
     "data": {
      "text/html": [
       "<div>\n",
       "<style scoped>\n",
       "    .dataframe tbody tr th:only-of-type {\n",
       "        vertical-align: middle;\n",
       "    }\n",
       "\n",
       "    .dataframe tbody tr th {\n",
       "        vertical-align: top;\n",
       "    }\n",
       "\n",
       "    .dataframe thead th {\n",
       "        text-align: right;\n",
       "    }\n",
       "</style>\n",
       "<table border=\"1\" class=\"dataframe\">\n",
       "  <thead>\n",
       "    <tr style=\"text-align: right;\">\n",
       "      <th></th>\n",
       "      <th>primary_sector</th>\n",
       "      <th>main_sector</th>\n",
       "    </tr>\n",
       "  </thead>\n",
       "  <tbody>\n",
       "    <tr>\n",
       "      <th>8</th>\n",
       "      <td>Adventure Travel</td>\n",
       "      <td>Automotive &amp; Sports</td>\n",
       "    </tr>\n",
       "    <tr>\n",
       "      <th>14</th>\n",
       "      <td>Aerospace</td>\n",
       "      <td>Automotive &amp; Sports</td>\n",
       "    </tr>\n",
       "    <tr>\n",
       "      <th>45</th>\n",
       "      <td>Auto</td>\n",
       "      <td>Automotive &amp; Sports</td>\n",
       "    </tr>\n",
       "    <tr>\n",
       "      <th>46</th>\n",
       "      <td>Automated Kiosk</td>\n",
       "      <td>Automotive &amp; Sports</td>\n",
       "    </tr>\n",
       "    <tr>\n",
       "      <th>47</th>\n",
       "      <td>Automotive</td>\n",
       "      <td>Automotive &amp; Sports</td>\n",
       "    </tr>\n",
       "  </tbody>\n",
       "</table>\n",
       "</div>"
      ],
      "text/plain": [
       "      primary_sector          main_sector\n",
       "8   Adventure Travel  Automotive & Sports\n",
       "14         Aerospace  Automotive & Sports\n",
       "45              Auto  Automotive & Sports\n",
       "46   Automated Kiosk  Automotive & Sports\n",
       "47        Automotive  Automotive & Sports"
      ]
     },
     "execution_count": 69,
     "metadata": {},
     "output_type": "execute_result"
    }
   ],
   "source": [
    "# Sort it again on index and see changes are getting reflected.\n",
    "mapping_pivot.sort_index().head()"
   ]
  },
  {
   "cell_type": "code",
   "execution_count": 70,
   "metadata": {},
   "outputs": [
    {
     "name": "stdout",
     "output_type": "stream",
     "text": [
      "<class 'pandas.core.frame.DataFrame'>\n",
      "Int64Index: 38803 entries, 0 to 47806\n",
      "Data columns (total 11 columns):\n",
      "funding_round_permalink    38803 non-null object\n",
      "funding_round_type         38803 non-null object\n",
      "funded_at                  38803 non-null object\n",
      "raised_amount_usd          38803 non-null float64\n",
      "permalink                  38803 non-null object\n",
      "name_x                     38803 non-null object\n",
      "category_list              38803 non-null object\n",
      "status                     38803 non-null object\n",
      "country_code               38803 non-null object\n",
      "country_name               38803 non-null object\n",
      "primary_sector             38803 non-null object\n",
      "dtypes: float64(1), object(10)\n",
      "memory usage: 3.6+ MB\n",
      "<class 'pandas.core.frame.DataFrame'>\n",
      "Int64Index: 688 entries, 8 to 6167\n",
      "Data columns (total 2 columns):\n",
      "primary_sector    687 non-null object\n",
      "main_sector       688 non-null object\n",
      "dtypes: object(2)\n",
      "memory usage: 16.1+ KB\n"
     ]
    }
   ],
   "source": [
    "# Join both top3 data frame and mapping_pivot data frame on key primary_sector\n",
    "top3_english.info()\n",
    "mapping_pivot.info()"
   ]
  },
  {
   "cell_type": "code",
   "execution_count": 71,
   "metadata": {},
   "outputs": [
    {
     "data": {
      "text/plain": [
       "0        media\n",
       "3    analytics\n",
       "4    analytics\n",
       "5    analytics\n",
       "6         apps\n",
       "Name: primary_sector, dtype: object"
      ]
     },
     "execution_count": 71,
     "metadata": {},
     "output_type": "execute_result"
    },
    {
     "data": {
      "text/plain": [
       "8     adventure travel\n",
       "14           aerospace\n",
       "45                auto\n",
       "46     automated kiosk\n",
       "47          automotive\n",
       "Name: primary_sector, dtype: object"
      ]
     },
     "execution_count": 71,
     "metadata": {},
     "output_type": "execute_result"
    }
   ],
   "source": [
    "# To join on primary sector, ensure all values are in same case (e.g., lower case). \n",
    "# The values are appearing in mixed cases in both (top3_english & mapping) data frames.\n",
    "\n",
    "top3_english['primary_sector'] = top3_english['primary_sector'].str.lower()\n",
    "mapping_pivot['primary_sector'] = mapping_pivot['primary_sector'].str.lower()\n",
    "top3_english.primary_sector.head()\n",
    "mapping_pivot.primary_sector.head()"
   ]
  },
  {
   "cell_type": "code",
   "execution_count": 1,
   "metadata": {},
   "outputs": [
    {
     "ename": "NameError",
     "evalue": "name 'pd' is not defined",
     "output_type": "error",
     "traceback": [
      "\u001b[0;31m---------------------------------------------------------------------------\u001b[0m",
      "\u001b[0;31mNameError\u001b[0m                                 Traceback (most recent call last)",
      "\u001b[0;32m<ipython-input-1-91f51ba8da51>\u001b[0m in \u001b[0;36m<module>\u001b[0;34m()\u001b[0m\n\u001b[1;32m      3\u001b[0m \u001b[0;31m# file.\u001b[0m\u001b[0;34m\u001b[0m\u001b[0;34m\u001b[0m\u001b[0m\n\u001b[1;32m      4\u001b[0m \u001b[0;34m\u001b[0m\u001b[0m\n\u001b[0;32m----> 5\u001b[0;31m \u001b[0mtop3_sectors\u001b[0m \u001b[0;34m=\u001b[0m \u001b[0mpd\u001b[0m\u001b[0;34m.\u001b[0m\u001b[0mmerge\u001b[0m\u001b[0;34m(\u001b[0m\u001b[0mleft\u001b[0m\u001b[0;34m=\u001b[0m\u001b[0mtop3_english\u001b[0m\u001b[0;34m,\u001b[0m\u001b[0mright\u001b[0m\u001b[0;34m=\u001b[0m\u001b[0mmapping_pivot\u001b[0m\u001b[0;34m,\u001b[0m\u001b[0mhow\u001b[0m\u001b[0;34m=\u001b[0m\u001b[0;34m'left'\u001b[0m\u001b[0;34m,\u001b[0m                                     \u001b[0mon\u001b[0m\u001b[0;34m=\u001b[0m\u001b[0;34m'primary_sector'\u001b[0m\u001b[0;34m,\u001b[0m\u001b[0mindicator\u001b[0m\u001b[0;34m=\u001b[0m\u001b[0;32mTrue\u001b[0m\u001b[0;34m)\u001b[0m\u001b[0;34m\u001b[0m\u001b[0m\n\u001b[0m\u001b[1;32m      6\u001b[0m \u001b[0mtop3_sectors\u001b[0m\u001b[0;34m.\u001b[0m\u001b[0mshape\u001b[0m\u001b[0;34m\u001b[0m\u001b[0m\n\u001b[1;32m      7\u001b[0m \u001b[0;34m\u001b[0m\u001b[0m\n",
      "\u001b[0;31mNameError\u001b[0m: name 'pd' is not defined"
     ]
    }
   ],
   "source": [
    "# Now merge  both tables top3_english and mapping frames using 'left join' on primary_sector.\n",
    "# Since it is a left join use indicator parameter to flag any missing in mapping \n",
    "# file.\n",
    "\n",
    "top3_sectors = pd.merge(left=top3_english,right=mapping_pivot,how='left',\\\n",
    "                                     on='primary_sector',indicator=True)\n",
    "top3_sectors.shape\n",
    "\n",
    "# Check how many are only in top3_english but not in mapping.\n",
    "\n",
    "top3_merge_left_only = top3_sectors[top3_sectors['_merge'] != 'both']\n",
    "len(top3_merge_left_only)"
   ]
  },
  {
   "cell_type": "code",
   "execution_count": 73,
   "metadata": {},
   "outputs": [
    {
     "data": {
      "text/plain": [
       "array(['adaptive equipment', 'biotechnology and semiconductor',\n",
       "       'enterprise 2.0', 'greentech', 'natural gas uses',\n",
       "       'product search', 'racing', 'rapidly expanding', 'retirement',\n",
       "       'specialty retail'], dtype=object)"
      ]
     },
     "execution_count": 73,
     "metadata": {},
     "output_type": "execute_result"
    }
   ],
   "source": [
    "#List out the primary_sector from left_only and check their presence in mapping\n",
    "top3_merge_left_only.primary_sector.sort_values(ascending=True).unique()"
   ]
  },
  {
   "cell_type": "code",
   "execution_count": 74,
   "metadata": {},
   "outputs": [
    {
     "data": {
      "text/plain": [
       "0"
      ]
     },
     "execution_count": 74,
     "metadata": {},
     "output_type": "execute_result"
    }
   ],
   "source": [
    "# Confirm above primary_sectors are not present in mapping data frame.\n",
    "missing_sectors = ['adaptive equipment', 'biotechnology and semiconductor',\n",
    "                  'enterprise 2.0', 'greentech', 'natural gas uses',\n",
    "                  'product search', 'racing', 'rapidly expanding', 'retirement',\n",
    "                  'specialty retail']\n",
    "len(mapping_pivot.loc[mapping_pivot.primary_sector.isin(missing_sectors),:])"
   ]
  },
  {
   "cell_type": "code",
   "execution_count": 75,
   "metadata": {},
   "outputs": [],
   "source": [
    "# It is confirmed now the missing primary sectors are not present in mapping data frame.\n",
    "# So,We can safely drop them off from merged data frame.\n",
    "\n",
    "top3_sectors = top3_sectors[top3_sectors['_merge'] == 'both']\n",
    "\n",
    "# drop the indicator column '_merge'\n",
    "top3_sectors = top3_sectors.drop('_merge', axis=1)"
   ]
  },
  {
   "cell_type": "code",
   "execution_count": 76,
   "metadata": {},
   "outputs": [
    {
     "data": {
      "text/plain": [
       "(38788, 12)"
      ]
     },
     "execution_count": 76,
     "metadata": {},
     "output_type": "execute_result"
    },
    {
     "data": {
      "text/html": [
       "<div>\n",
       "<style scoped>\n",
       "    .dataframe tbody tr th:only-of-type {\n",
       "        vertical-align: middle;\n",
       "    }\n",
       "\n",
       "    .dataframe tbody tr th {\n",
       "        vertical-align: top;\n",
       "    }\n",
       "\n",
       "    .dataframe thead th {\n",
       "        text-align: right;\n",
       "    }\n",
       "</style>\n",
       "<table border=\"1\" class=\"dataframe\">\n",
       "  <thead>\n",
       "    <tr style=\"text-align: right;\">\n",
       "      <th></th>\n",
       "      <th>funding_round_permalink</th>\n",
       "      <th>funding_round_type</th>\n",
       "      <th>funded_at</th>\n",
       "      <th>raised_amount_usd</th>\n",
       "      <th>permalink</th>\n",
       "      <th>name_x</th>\n",
       "      <th>category_list</th>\n",
       "      <th>status</th>\n",
       "      <th>country_code</th>\n",
       "      <th>country_name</th>\n",
       "      <th>primary_sector</th>\n",
       "      <th>main_sector</th>\n",
       "    </tr>\n",
       "  </thead>\n",
       "  <tbody>\n",
       "    <tr>\n",
       "      <th>0</th>\n",
       "      <td>/funding-round/9a01d05418af9f794eebff7ace91f638</td>\n",
       "      <td>venture</td>\n",
       "      <td>05-01-2015</td>\n",
       "      <td>10,000,000.00</td>\n",
       "      <td>/organization/-fame</td>\n",
       "      <td>#fame</td>\n",
       "      <td>Media</td>\n",
       "      <td>operating</td>\n",
       "      <td>IND</td>\n",
       "      <td>India</td>\n",
       "      <td>media</td>\n",
       "      <td>Entertainment</td>\n",
       "    </tr>\n",
       "    <tr>\n",
       "      <th>1</th>\n",
       "      <td>/funding-round/3bb2ee4a2d89251a10aaa735b1180e44</td>\n",
       "      <td>venture</td>\n",
       "      <td>09-11-2015</td>\n",
       "      <td>20,000,000.00</td>\n",
       "      <td>/organization/0xdata</td>\n",
       "      <td>H2O.ai</td>\n",
       "      <td>Analytics</td>\n",
       "      <td>operating</td>\n",
       "      <td>USA</td>\n",
       "      <td>United States</td>\n",
       "      <td>analytics</td>\n",
       "      <td>Social, Finance, Analytics, Advertising</td>\n",
       "    </tr>\n",
       "    <tr>\n",
       "      <th>2</th>\n",
       "      <td>/funding-round/ae2a174c06517c2394aed45006322a7e</td>\n",
       "      <td>venture</td>\n",
       "      <td>03-01-2013</td>\n",
       "      <td>1,700,000.00</td>\n",
       "      <td>/organization/0xdata</td>\n",
       "      <td>H2O.ai</td>\n",
       "      <td>Analytics</td>\n",
       "      <td>operating</td>\n",
       "      <td>USA</td>\n",
       "      <td>United States</td>\n",
       "      <td>analytics</td>\n",
       "      <td>Social, Finance, Analytics, Advertising</td>\n",
       "    </tr>\n",
       "    <tr>\n",
       "      <th>3</th>\n",
       "      <td>/funding-round/e1cfcbe1bdf4c70277c5f29a3482f24e</td>\n",
       "      <td>venture</td>\n",
       "      <td>19-07-2014</td>\n",
       "      <td>8,900,000.00</td>\n",
       "      <td>/organization/0xdata</td>\n",
       "      <td>H2O.ai</td>\n",
       "      <td>Analytics</td>\n",
       "      <td>operating</td>\n",
       "      <td>USA</td>\n",
       "      <td>United States</td>\n",
       "      <td>analytics</td>\n",
       "      <td>Social, Finance, Analytics, Advertising</td>\n",
       "    </tr>\n",
       "    <tr>\n",
       "      <th>4</th>\n",
       "      <td>/funding-round/b952cbaf401f310927430c97b68162ea</td>\n",
       "      <td>venture</td>\n",
       "      <td>17-03-2015</td>\n",
       "      <td>5,000,000.00</td>\n",
       "      <td>/organization/1-mainstream</td>\n",
       "      <td>1 Mainstream</td>\n",
       "      <td>Apps|Cable|Distribution|Software</td>\n",
       "      <td>acquired</td>\n",
       "      <td>USA</td>\n",
       "      <td>United States</td>\n",
       "      <td>apps</td>\n",
       "      <td>News, Search and Messaging</td>\n",
       "    </tr>\n",
       "  </tbody>\n",
       "</table>\n",
       "</div>"
      ],
      "text/plain": [
       "                           funding_round_permalink funding_round_type   funded_at  raised_amount_usd                   permalink        name_x                     category_list     status country_code   country_name primary_sector                              main_sector\n",
       "0  /funding-round/9a01d05418af9f794eebff7ace91f638            venture  05-01-2015      10,000,000.00         /organization/-fame         #fame                             Media  operating          IND          India          media                            Entertainment\n",
       "1  /funding-round/3bb2ee4a2d89251a10aaa735b1180e44            venture  09-11-2015      20,000,000.00        /organization/0xdata        H2O.ai                         Analytics  operating          USA  United States      analytics  Social, Finance, Analytics, Advertising\n",
       "2  /funding-round/ae2a174c06517c2394aed45006322a7e            venture  03-01-2013       1,700,000.00        /organization/0xdata        H2O.ai                         Analytics  operating          USA  United States      analytics  Social, Finance, Analytics, Advertising\n",
       "3  /funding-round/e1cfcbe1bdf4c70277c5f29a3482f24e            venture  19-07-2014       8,900,000.00        /organization/0xdata        H2O.ai                         Analytics  operating          USA  United States      analytics  Social, Finance, Analytics, Advertising\n",
       "4  /funding-round/b952cbaf401f310927430c97b68162ea            venture  17-03-2015       5,000,000.00  /organization/1-mainstream  1 Mainstream  Apps|Cable|Distribution|Software   acquired          USA  United States           apps               News, Search and Messaging"
      ]
     },
     "execution_count": 76,
     "metadata": {},
     "output_type": "execute_result"
    }
   ],
   "source": [
    "# print the clean up merged data frame.\n",
    "# (having columns primary sector & main_sector merged.)\n",
    "top3_sectors.shape\n",
    "top3_sectors.head()"
   ]
  },
  {
   "cell_type": "markdown",
   "metadata": {},
   "source": [
    "#### Observation:\n",
    ">- The first string before the vertical bar in the category_list is split and added as new column `primary_sector` in the `top3_english` data frame.\n",
    ">- The `mapping.csv` is loaded in to `mapping_frame` and unpivoted using `melt` function to new data frame called `mapping_pivot`.\n",
    ">- It has been observed many of the primary_sectors in `mapping_pivot` column values contains `0` inplace of string `na` either at the beginning or at the middle of the string.\n",
    ">- The prime_sectors values are cleand up `0` to `na using replace with regex`\n",
    ">- The `top3_english` data frame & `mapping_frame` key columns - the `primary_sector` is converted to lower case for the join to work correctly.\n",
    "\n",
    "\n",
    "#### Inference   :\n",
    ">- Based on the results above,it has been identified that few primary_sectors does not exists in `mapping` frame.\n",
    ">- Plot suitable graph to depict the `top3_sectors` based on country wise  sector investments. \n",
    "\n",
    "#### Result:\n",
    ">- The resultant merged data frame is called `top3_sectors`."
   ]
  },
  {
   "cell_type": "markdown",
   "metadata": {},
   "source": [
    "### Checkpoint 5: Sector Analysis 2\n",
    "\n",
    ">- The `top3_sectors` now merged with each company's main sector along with primary sectors.\n",
    "For sector analysis it falls under one of main eight sectors identified above.<br>\n",
    ">- Also, the `top3_sectors' contains only Top 3 english speaking countries \n",
    "and most suitable funding types for spark funds to invest in.<br>\n",
    ">- Three three identified countries are classified as ;\n",
    "   - country1(D1) - `USA`\n",
    "   - country2(D2) - `GBR`\n",
    "   - country3(D3) - `IND`\n",
    ">- Funding Type (FT) - `venture`<br>\n",
    ">- The range of funding selected is between `$5 Million and 15 Million USD`.\n",
    "   \n",
    "#### Objective:\n",
    ">- Find out the most heavily invested main sectors in each of the three countries (for funding type FT and investments range of 5-15 M USD).<br>\n",
    ">- Create three separate data frames D1, D2 and D3 for each of the three countries containing the observations of funding type FT falling within the 5-15 million USD range. - >The three data frames should contain:\n",
    "    1. All the columns of the master_frame along with the primary sector and the main sector\n",
    "    2.  The total number (or count) of investments for each main sector in a separate column (main_sector_total_count)\n",
    "    3.  The total amount invested in each main sector in a separate column (main_sector_total_amount) <br>\n",
    "\n",
    "#### Results Expected: Table 5.1\n",
    ">- Three data frames D1, D2 and D3 \n",
    ">- Table 5.1: Based on the analysis of the sectors, which main sectors and countries would you recommend Spark Funds to invest in? Present your conclusions in the presentation. The conclusions are subjective (i.e. there may be no ‘one right answer’), but it should be based on the basic strategy — invest in sectors where most investments are occurring. \n",
    ">- Two new column in D1, D2 and D3 `main_sector_total_count` and `main_sector_total_amount`."
   ]
  },
  {
   "cell_type": "code",
   "execution_count": 77,
   "metadata": {},
   "outputs": [
    {
     "data": {
      "text/plain": [
       "(38788, 12)"
      ]
     },
     "execution_count": 77,
     "metadata": {},
     "output_type": "execute_result"
    },
    {
     "data": {
      "text/plain": [
       "USA    35929\n",
       "GBR     2040\n",
       "IND      819\n",
       "Name: country_code, dtype: int64"
      ]
     },
     "execution_count": 77,
     "metadata": {},
     "output_type": "execute_result"
    },
    {
     "data": {
      "text/html": [
       "<div>\n",
       "<style scoped>\n",
       "    .dataframe tbody tr th:only-of-type {\n",
       "        vertical-align: middle;\n",
       "    }\n",
       "\n",
       "    .dataframe tbody tr th {\n",
       "        vertical-align: top;\n",
       "    }\n",
       "\n",
       "    .dataframe thead th {\n",
       "        text-align: right;\n",
       "    }\n",
       "</style>\n",
       "<table border=\"1\" class=\"dataframe\">\n",
       "  <thead>\n",
       "    <tr style=\"text-align: right;\">\n",
       "      <th></th>\n",
       "      <th>funding_round_permalink</th>\n",
       "      <th>funding_round_type</th>\n",
       "      <th>funded_at</th>\n",
       "      <th>raised_amount_usd</th>\n",
       "      <th>permalink</th>\n",
       "      <th>name_x</th>\n",
       "      <th>category_list</th>\n",
       "      <th>status</th>\n",
       "      <th>country_code</th>\n",
       "      <th>country_name</th>\n",
       "      <th>primary_sector</th>\n",
       "      <th>main_sector</th>\n",
       "    </tr>\n",
       "  </thead>\n",
       "  <tbody>\n",
       "    <tr>\n",
       "      <th>0</th>\n",
       "      <td>/funding-round/9a01d05418af9f794eebff7ace91f638</td>\n",
       "      <td>venture</td>\n",
       "      <td>05-01-2015</td>\n",
       "      <td>10,000,000.00</td>\n",
       "      <td>/organization/-fame</td>\n",
       "      <td>#fame</td>\n",
       "      <td>Media</td>\n",
       "      <td>operating</td>\n",
       "      <td>IND</td>\n",
       "      <td>India</td>\n",
       "      <td>media</td>\n",
       "      <td>Entertainment</td>\n",
       "    </tr>\n",
       "    <tr>\n",
       "      <th>1</th>\n",
       "      <td>/funding-round/3bb2ee4a2d89251a10aaa735b1180e44</td>\n",
       "      <td>venture</td>\n",
       "      <td>09-11-2015</td>\n",
       "      <td>20,000,000.00</td>\n",
       "      <td>/organization/0xdata</td>\n",
       "      <td>H2O.ai</td>\n",
       "      <td>Analytics</td>\n",
       "      <td>operating</td>\n",
       "      <td>USA</td>\n",
       "      <td>United States</td>\n",
       "      <td>analytics</td>\n",
       "      <td>Social, Finance, Analytics, Advertising</td>\n",
       "    </tr>\n",
       "    <tr>\n",
       "      <th>2</th>\n",
       "      <td>/funding-round/ae2a174c06517c2394aed45006322a7e</td>\n",
       "      <td>venture</td>\n",
       "      <td>03-01-2013</td>\n",
       "      <td>1,700,000.00</td>\n",
       "      <td>/organization/0xdata</td>\n",
       "      <td>H2O.ai</td>\n",
       "      <td>Analytics</td>\n",
       "      <td>operating</td>\n",
       "      <td>USA</td>\n",
       "      <td>United States</td>\n",
       "      <td>analytics</td>\n",
       "      <td>Social, Finance, Analytics, Advertising</td>\n",
       "    </tr>\n",
       "    <tr>\n",
       "      <th>3</th>\n",
       "      <td>/funding-round/e1cfcbe1bdf4c70277c5f29a3482f24e</td>\n",
       "      <td>venture</td>\n",
       "      <td>19-07-2014</td>\n",
       "      <td>8,900,000.00</td>\n",
       "      <td>/organization/0xdata</td>\n",
       "      <td>H2O.ai</td>\n",
       "      <td>Analytics</td>\n",
       "      <td>operating</td>\n",
       "      <td>USA</td>\n",
       "      <td>United States</td>\n",
       "      <td>analytics</td>\n",
       "      <td>Social, Finance, Analytics, Advertising</td>\n",
       "    </tr>\n",
       "    <tr>\n",
       "      <th>4</th>\n",
       "      <td>/funding-round/b952cbaf401f310927430c97b68162ea</td>\n",
       "      <td>venture</td>\n",
       "      <td>17-03-2015</td>\n",
       "      <td>5,000,000.00</td>\n",
       "      <td>/organization/1-mainstream</td>\n",
       "      <td>1 Mainstream</td>\n",
       "      <td>Apps|Cable|Distribution|Software</td>\n",
       "      <td>acquired</td>\n",
       "      <td>USA</td>\n",
       "      <td>United States</td>\n",
       "      <td>apps</td>\n",
       "      <td>News, Search and Messaging</td>\n",
       "    </tr>\n",
       "  </tbody>\n",
       "</table>\n",
       "</div>"
      ],
      "text/plain": [
       "                           funding_round_permalink funding_round_type   funded_at  raised_amount_usd                   permalink        name_x                     category_list     status country_code   country_name primary_sector                              main_sector\n",
       "0  /funding-round/9a01d05418af9f794eebff7ace91f638            venture  05-01-2015      10,000,000.00         /organization/-fame         #fame                             Media  operating          IND          India          media                            Entertainment\n",
       "1  /funding-round/3bb2ee4a2d89251a10aaa735b1180e44            venture  09-11-2015      20,000,000.00        /organization/0xdata        H2O.ai                         Analytics  operating          USA  United States      analytics  Social, Finance, Analytics, Advertising\n",
       "2  /funding-round/ae2a174c06517c2394aed45006322a7e            venture  03-01-2013       1,700,000.00        /organization/0xdata        H2O.ai                         Analytics  operating          USA  United States      analytics  Social, Finance, Analytics, Advertising\n",
       "3  /funding-round/e1cfcbe1bdf4c70277c5f29a3482f24e            venture  19-07-2014       8,900,000.00        /organization/0xdata        H2O.ai                         Analytics  operating          USA  United States      analytics  Social, Finance, Analytics, Advertising\n",
       "4  /funding-round/b952cbaf401f310927430c97b68162ea            venture  17-03-2015       5,000,000.00  /organization/1-mainstream  1 Mainstream  Apps|Cable|Distribution|Software   acquired          USA  United States           apps               News, Search and Messaging"
      ]
     },
     "execution_count": 77,
     "metadata": {},
     "output_type": "execute_result"
    }
   ],
   "source": [
    "# Verify the Top3 sectors obtained in Check Point 4 - Sector Analysis.\n",
    "\n",
    "top3_sectors.shape\n",
    "top3_sectors.country_code.value_counts()\n",
    "top3_sectors.head()"
   ]
  },
  {
   "cell_type": "code",
   "execution_count": 78,
   "metadata": {},
   "outputs": [
    {
     "data": {
      "text/plain": [
       "38788"
      ]
     },
     "execution_count": 78,
     "metadata": {},
     "output_type": "execute_result"
    },
    {
     "data": {
      "text/plain": [
       "18471"
      ]
     },
     "execution_count": 78,
     "metadata": {},
     "output_type": "execute_result"
    },
    {
     "data": {
      "text/plain": [
       "7305"
      ]
     },
     "execution_count": 78,
     "metadata": {},
     "output_type": "execute_result"
    }
   ],
   "source": [
    "# One of the constraints is the funding type 'venture' investment amount\n",
    "# should be in the range 5 million and 10 million\n",
    "# So, find out how many rows for fund type 'venture' in top three sector in the range.\n",
    "\n",
    "# Total number of rows in top3_sectors (USA,GBP and IND)\n",
    "len(top3_sectors)\n",
    "\n",
    "# Number of rows for amount less than 5 millions\n",
    "len(top3_sectors.loc[top3_sectors.raised_amount_usd < 5000000].index)\n",
    "\n",
    "# number of rows for mount greater than 15 millions\n",
    "len(top3_sectors.loc[top3_sectors.raised_amount_usd > 15000000].index)"
   ]
  },
  {
   "cell_type": "code",
   "execution_count": 79,
   "metadata": {},
   "outputs": [
    {
     "data": {
      "text/plain": [
       "13012"
      ]
     },
     "execution_count": 79,
     "metadata": {},
     "output_type": "execute_result"
    }
   ],
   "source": [
    "# Filter out the rows which are out of range (lower bound & upper bound) \n",
    "# as pert the constraint.\n",
    "\n",
    "top3_sectors = top3_sectors.\\\n",
    "               drop(top3_sectors.loc[top3_sectors.raised_amount_usd < 5000000].index)\n",
    "top3_sectors = top3_sectors.\\\n",
    "               drop(top3_sectors.loc[top3_sectors.raised_amount_usd > 15000000].index)\n",
    "\n",
    "# Number of rows of top3 sectors having amount in the range of 5 million to 15 millions.\n",
    "len(top3_sectors)"
   ]
  },
  {
   "cell_type": "code",
   "execution_count": 80,
   "metadata": {},
   "outputs": [
    {
     "data": {
      "text/plain": [
       "(12063, 12)"
      ]
     },
     "execution_count": 80,
     "metadata": {},
     "output_type": "execute_result"
    },
    {
     "data": {
      "text/plain": [
       "(621, 12)"
      ]
     },
     "execution_count": 80,
     "metadata": {},
     "output_type": "execute_result"
    },
    {
     "data": {
      "text/plain": [
       "(328, 12)"
      ]
     },
     "execution_count": 80,
     "metadata": {},
     "output_type": "execute_result"
    },
    {
     "data": {
      "text/html": [
       "<div>\n",
       "<style scoped>\n",
       "    .dataframe tbody tr th:only-of-type {\n",
       "        vertical-align: middle;\n",
       "    }\n",
       "\n",
       "    .dataframe tbody tr th {\n",
       "        vertical-align: top;\n",
       "    }\n",
       "\n",
       "    .dataframe thead th {\n",
       "        text-align: right;\n",
       "    }\n",
       "</style>\n",
       "<table border=\"1\" class=\"dataframe\">\n",
       "  <thead>\n",
       "    <tr style=\"text-align: right;\">\n",
       "      <th></th>\n",
       "      <th>funding_round_permalink</th>\n",
       "      <th>funding_round_type</th>\n",
       "      <th>funded_at</th>\n",
       "      <th>raised_amount_usd</th>\n",
       "      <th>permalink</th>\n",
       "      <th>name_x</th>\n",
       "      <th>category_list</th>\n",
       "      <th>status</th>\n",
       "      <th>country_code</th>\n",
       "      <th>country_name</th>\n",
       "      <th>primary_sector</th>\n",
       "      <th>main_sector</th>\n",
       "    </tr>\n",
       "  </thead>\n",
       "  <tbody>\n",
       "    <tr>\n",
       "      <th>3</th>\n",
       "      <td>/funding-round/e1cfcbe1bdf4c70277c5f29a3482f24e</td>\n",
       "      <td>venture</td>\n",
       "      <td>19-07-2014</td>\n",
       "      <td>8,900,000.00</td>\n",
       "      <td>/organization/0xdata</td>\n",
       "      <td>H2O.ai</td>\n",
       "      <td>Analytics</td>\n",
       "      <td>operating</td>\n",
       "      <td>USA</td>\n",
       "      <td>United States</td>\n",
       "      <td>analytics</td>\n",
       "      <td>Social, Finance, Analytics, Advertising</td>\n",
       "    </tr>\n",
       "    <tr>\n",
       "      <th>4</th>\n",
       "      <td>/funding-round/b952cbaf401f310927430c97b68162ea</td>\n",
       "      <td>venture</td>\n",
       "      <td>17-03-2015</td>\n",
       "      <td>5,000,000.00</td>\n",
       "      <td>/organization/1-mainstream</td>\n",
       "      <td>1 Mainstream</td>\n",
       "      <td>Apps|Cable|Distribution|Software</td>\n",
       "      <td>acquired</td>\n",
       "      <td>USA</td>\n",
       "      <td>United States</td>\n",
       "      <td>apps</td>\n",
       "      <td>News, Search and Messaging</td>\n",
       "    </tr>\n",
       "    <tr>\n",
       "      <th>17</th>\n",
       "      <td>/funding-round/fb6216a30cb566ede89e0bee0623a634</td>\n",
       "      <td>venture</td>\n",
       "      <td>16-12-2014</td>\n",
       "      <td>11,999,347.00</td>\n",
       "      <td>/organization/128-technology</td>\n",
       "      <td>128 Technology</td>\n",
       "      <td>Service Providers|Technology</td>\n",
       "      <td>operating</td>\n",
       "      <td>USA</td>\n",
       "      <td>United States</td>\n",
       "      <td>service providers</td>\n",
       "      <td>Others</td>\n",
       "    </tr>\n",
       "    <tr>\n",
       "      <th>20</th>\n",
       "      <td>/funding-round/424129ce1235cfab2655ee81305f7c2b</td>\n",
       "      <td>venture</td>\n",
       "      <td>15-10-2013</td>\n",
       "      <td>15,000,000.00</td>\n",
       "      <td>/organization/1366-technologies</td>\n",
       "      <td>1366 Technologies</td>\n",
       "      <td>Manufacturing</td>\n",
       "      <td>operating</td>\n",
       "      <td>USA</td>\n",
       "      <td>United States</td>\n",
       "      <td>manufacturing</td>\n",
       "      <td>Manufacturing</td>\n",
       "    </tr>\n",
       "    <tr>\n",
       "      <th>21</th>\n",
       "      <td>/funding-round/6d3f3797371956ece035b8478c1441b2</td>\n",
       "      <td>venture</td>\n",
       "      <td>09-04-2015</td>\n",
       "      <td>5,000,000.00</td>\n",
       "      <td>/organization/1366-technologies</td>\n",
       "      <td>1366 Technologies</td>\n",
       "      <td>Manufacturing</td>\n",
       "      <td>operating</td>\n",
       "      <td>USA</td>\n",
       "      <td>United States</td>\n",
       "      <td>manufacturing</td>\n",
       "      <td>Manufacturing</td>\n",
       "    </tr>\n",
       "  </tbody>\n",
       "</table>\n",
       "</div>"
      ],
      "text/plain": [
       "                            funding_round_permalink funding_round_type   funded_at  raised_amount_usd                        permalink             name_x                     category_list     status country_code   country_name     primary_sector                              main_sector\n",
       "3   /funding-round/e1cfcbe1bdf4c70277c5f29a3482f24e            venture  19-07-2014       8,900,000.00             /organization/0xdata             H2O.ai                         Analytics  operating          USA  United States          analytics  Social, Finance, Analytics, Advertising\n",
       "4   /funding-round/b952cbaf401f310927430c97b68162ea            venture  17-03-2015       5,000,000.00       /organization/1-mainstream       1 Mainstream  Apps|Cable|Distribution|Software   acquired          USA  United States               apps               News, Search and Messaging\n",
       "17  /funding-round/fb6216a30cb566ede89e0bee0623a634            venture  16-12-2014      11,999,347.00     /organization/128-technology     128 Technology      Service Providers|Technology  operating          USA  United States  service providers                                   Others\n",
       "20  /funding-round/424129ce1235cfab2655ee81305f7c2b            venture  15-10-2013      15,000,000.00  /organization/1366-technologies  1366 Technologies                     Manufacturing  operating          USA  United States      manufacturing                            Manufacturing\n",
       "21  /funding-round/6d3f3797371956ece035b8478c1441b2            venture  09-04-2015       5,000,000.00  /organization/1366-technologies  1366 Technologies                     Manufacturing  operating          USA  United States      manufacturing                            Manufacturing"
      ]
     },
     "execution_count": 80,
     "metadata": {},
     "output_type": "execute_result"
    }
   ],
   "source": [
    "# 1. Three separate data frames D1, D2 and D3 for each of the three countries \n",
    "# containing the observations of funding type FT \n",
    "# falling within the 5-15 million USD range ( as filtered above).\n",
    "\n",
    "# 2. includes, All the columns of the master_frame along with \n",
    "#    the primary sector and the main sector\n",
    "\n",
    "D1 = top3_sectors.loc[top3_sectors.country_code == 'USA',:].copy()\n",
    "D2 = top3_sectors.loc[top3_sectors.country_code == 'GBR',:].copy()\n",
    "D3 = top3_sectors.loc[top3_sectors.country_code == 'IND',:].copy()\n",
    "\n",
    "D1.shape\n",
    "D2.shape\n",
    "D3.shape\n",
    "D1.head()\n",
    "\n",
    "#Export the data for top3 sectors.\n",
    "#top3_sectors.to_csv['Data/Top3_Sectors.csv']\n",
    "#D1.to_csv(\"Data/Top3_Sectors_USA.csv\")\n",
    "#D2.to_csv(\"Data/Top3_Sectors_GBR.csv\")\n",
    "#D3.to_csv(\"Data/Top3_Sectors_IND.csv\")"
   ]
  },
  {
   "cell_type": "code",
   "execution_count": 81,
   "metadata": {},
   "outputs": [],
   "source": [
    "# The total number (or count) of investments \n",
    "# for each main sector in a separate column USA.\n",
    "\n",
    "D1 = D1.join(D1.groupby('main_sector')['raised_amount_usd'].count(),\\\n",
    "                               on='main_sector',rsuffix='_first')\n",
    "\n",
    "# The total amount invested in each main sector in a separate column\n",
    "\n",
    "D1 = D1.join(D1.groupby('main_sector')['raised_amount_usd'].sum(),\\\n",
    "                               on='main_sector',rsuffix='_second')\n",
    "\n",
    "# Rename the new columns added.\n",
    "D1.rename(columns={'raised_amount_usd_first':'main_sector_total_count'},inplace=True)\n",
    "D1.rename(columns={'raised_amount_usd_second':'main_sector_total_amount'},inplace=True)"
   ]
  },
  {
   "cell_type": "code",
   "execution_count": 82,
   "metadata": {},
   "outputs": [],
   "source": [
    "# The total number (or count) of investments \n",
    "# for each main sector in a separate column GBR.\n",
    "\n",
    "D2 = D2.join(D2.groupby('main_sector')['raised_amount_usd'].count(),\\\n",
    "                               on='main_sector',rsuffix='_first')\n",
    "\n",
    "# The total amount invested in each main sector in a separate column\n",
    "\n",
    "D2 = D2.join(D2.groupby('main_sector')['raised_amount_usd'].sum(),\\\n",
    "                               on='main_sector',rsuffix='_second')\n",
    "\n",
    "# Rename the new columns added.\n",
    "D2.rename(columns={'raised_amount_usd_first':'main_sector_total_count'},inplace=True)\n",
    "D2.rename(columns={'raised_amount_usd_second':'main_sector_total_amount'},inplace=True)"
   ]
  },
  {
   "cell_type": "code",
   "execution_count": 83,
   "metadata": {},
   "outputs": [],
   "source": [
    "# The total number (or count) of investments \n",
    "# for each main sector in a separate column IND.\n",
    "\n",
    "D3 = D3.join(D3.groupby('main_sector')['raised_amount_usd'].count(),\\\n",
    "                               on='main_sector',rsuffix='_first')\n",
    "\n",
    "# The total amount invested in each main sector in a separate column\n",
    "\n",
    "D3 = D3.join(D3.groupby('main_sector')['raised_amount_usd'].sum(),\\\n",
    "                               on='main_sector',rsuffix='_second')\n",
    "\n",
    "# Rename the new columns added.\n",
    "D3.rename(columns={'raised_amount_usd_first':'main_sector_total_count'},inplace=True)\n",
    "D3.rename(columns={'raised_amount_usd_second':'main_sector_total_amount'},inplace=True)"
   ]
  },
  {
   "cell_type": "code",
   "execution_count": 84,
   "metadata": {},
   "outputs": [
    {
     "data": {
      "text/html": [
       "<div>\n",
       "<style scoped>\n",
       "    .dataframe tbody tr th:only-of-type {\n",
       "        vertical-align: middle;\n",
       "    }\n",
       "\n",
       "    .dataframe tbody tr th {\n",
       "        vertical-align: top;\n",
       "    }\n",
       "\n",
       "    .dataframe thead th {\n",
       "        text-align: right;\n",
       "    }\n",
       "</style>\n",
       "<table border=\"1\" class=\"dataframe\">\n",
       "  <thead>\n",
       "    <tr style=\"text-align: right;\">\n",
       "      <th></th>\n",
       "      <th>funding_round_permalink</th>\n",
       "      <th>funding_round_type</th>\n",
       "      <th>funded_at</th>\n",
       "      <th>raised_amount_usd</th>\n",
       "      <th>permalink</th>\n",
       "      <th>name_x</th>\n",
       "      <th>category_list</th>\n",
       "      <th>status</th>\n",
       "      <th>country_code</th>\n",
       "      <th>country_name</th>\n",
       "      <th>primary_sector</th>\n",
       "      <th>main_sector</th>\n",
       "      <th>main_sector_total_count</th>\n",
       "      <th>main_sector_total_amount</th>\n",
       "    </tr>\n",
       "  </thead>\n",
       "  <tbody>\n",
       "    <tr>\n",
       "      <th>20</th>\n",
       "      <td>/funding-round/424129ce1235cfab2655ee81305f7c2b</td>\n",
       "      <td>venture</td>\n",
       "      <td>15-10-2013</td>\n",
       "      <td>15,000,000.00</td>\n",
       "      <td>/organization/1366-technologies</td>\n",
       "      <td>1366 Technologies</td>\n",
       "      <td>Manufacturing</td>\n",
       "      <td>operating</td>\n",
       "      <td>USA</td>\n",
       "      <td>United States</td>\n",
       "      <td>manufacturing</td>\n",
       "      <td>Manufacturing</td>\n",
       "      <td>799</td>\n",
       "      <td>7,258,553,378.00</td>\n",
       "    </tr>\n",
       "    <tr>\n",
       "      <th>21</th>\n",
       "      <td>/funding-round/6d3f3797371956ece035b8478c1441b2</td>\n",
       "      <td>venture</td>\n",
       "      <td>09-04-2015</td>\n",
       "      <td>5,000,000.00</td>\n",
       "      <td>/organization/1366-technologies</td>\n",
       "      <td>1366 Technologies</td>\n",
       "      <td>Manufacturing</td>\n",
       "      <td>operating</td>\n",
       "      <td>USA</td>\n",
       "      <td>United States</td>\n",
       "      <td>manufacturing</td>\n",
       "      <td>Manufacturing</td>\n",
       "      <td>799</td>\n",
       "      <td>7,258,553,378.00</td>\n",
       "    </tr>\n",
       "    <tr>\n",
       "      <th>22</th>\n",
       "      <td>/funding-round/786f61aa9866f4471151285f5c56be36</td>\n",
       "      <td>venture</td>\n",
       "      <td>03-02-2010</td>\n",
       "      <td>5,150,000.00</td>\n",
       "      <td>/organization/1366-technologies</td>\n",
       "      <td>1366 Technologies</td>\n",
       "      <td>Manufacturing</td>\n",
       "      <td>operating</td>\n",
       "      <td>USA</td>\n",
       "      <td>United States</td>\n",
       "      <td>manufacturing</td>\n",
       "      <td>Manufacturing</td>\n",
       "      <td>799</td>\n",
       "      <td>7,258,553,378.00</td>\n",
       "    </tr>\n",
       "    <tr>\n",
       "      <th>23</th>\n",
       "      <td>/funding-round/82ace97530965cd2be8f262836b43ff5</td>\n",
       "      <td>venture</td>\n",
       "      <td>27-03-2008</td>\n",
       "      <td>12,400,000.00</td>\n",
       "      <td>/organization/1366-technologies</td>\n",
       "      <td>1366 Technologies</td>\n",
       "      <td>Manufacturing</td>\n",
       "      <td>operating</td>\n",
       "      <td>USA</td>\n",
       "      <td>United States</td>\n",
       "      <td>manufacturing</td>\n",
       "      <td>Manufacturing</td>\n",
       "      <td>799</td>\n",
       "      <td>7,258,553,378.00</td>\n",
       "    </tr>\n",
       "    <tr>\n",
       "      <th>24</th>\n",
       "      <td>/funding-round/ab99fc5a53717b1b53fd6aa5687c5fa9</td>\n",
       "      <td>venture</td>\n",
       "      <td>16-12-2010</td>\n",
       "      <td>6,000,000.00</td>\n",
       "      <td>/organization/1366-technologies</td>\n",
       "      <td>1366 Technologies</td>\n",
       "      <td>Manufacturing</td>\n",
       "      <td>operating</td>\n",
       "      <td>USA</td>\n",
       "      <td>United States</td>\n",
       "      <td>manufacturing</td>\n",
       "      <td>Manufacturing</td>\n",
       "      <td>799</td>\n",
       "      <td>7,258,553,378.00</td>\n",
       "    </tr>\n",
       "  </tbody>\n",
       "</table>\n",
       "</div>"
      ],
      "text/plain": [
       "                            funding_round_permalink funding_round_type   funded_at  raised_amount_usd                        permalink             name_x  category_list     status country_code   country_name primary_sector    main_sector  main_sector_total_count  main_sector_total_amount\n",
       "20  /funding-round/424129ce1235cfab2655ee81305f7c2b            venture  15-10-2013      15,000,000.00  /organization/1366-technologies  1366 Technologies  Manufacturing  operating          USA  United States  manufacturing  Manufacturing                      799          7,258,553,378.00\n",
       "21  /funding-round/6d3f3797371956ece035b8478c1441b2            venture  09-04-2015       5,000,000.00  /organization/1366-technologies  1366 Technologies  Manufacturing  operating          USA  United States  manufacturing  Manufacturing                      799          7,258,553,378.00\n",
       "22  /funding-round/786f61aa9866f4471151285f5c56be36            venture  03-02-2010       5,150,000.00  /organization/1366-technologies  1366 Technologies  Manufacturing  operating          USA  United States  manufacturing  Manufacturing                      799          7,258,553,378.00\n",
       "23  /funding-round/82ace97530965cd2be8f262836b43ff5            venture  27-03-2008      12,400,000.00  /organization/1366-technologies  1366 Technologies  Manufacturing  operating          USA  United States  manufacturing  Manufacturing                      799          7,258,553,378.00\n",
       "24  /funding-round/ab99fc5a53717b1b53fd6aa5687c5fa9            venture  16-12-2010       6,000,000.00  /organization/1366-technologies  1366 Technologies  Manufacturing  operating          USA  United States  manufacturing  Manufacturing                      799          7,258,553,378.00"
      ]
     },
     "execution_count": 84,
     "metadata": {},
     "output_type": "execute_result"
    }
   ],
   "source": [
    "D1[D1.main_sector=='Manufacturing'].head(5)"
   ]
  },
  {
   "cell_type": "code",
   "execution_count": 85,
   "metadata": {},
   "outputs": [
    {
     "data": {
      "text/html": [
       "<div>\n",
       "<style scoped>\n",
       "    .dataframe tbody tr th:only-of-type {\n",
       "        vertical-align: middle;\n",
       "    }\n",
       "\n",
       "    .dataframe tbody tr th {\n",
       "        vertical-align: top;\n",
       "    }\n",
       "\n",
       "    .dataframe thead th {\n",
       "        text-align: right;\n",
       "    }\n",
       "</style>\n",
       "<table border=\"1\" class=\"dataframe\">\n",
       "  <thead>\n",
       "    <tr style=\"text-align: right;\">\n",
       "      <th></th>\n",
       "      <th>funding_round_permalink</th>\n",
       "      <th>funding_round_type</th>\n",
       "      <th>funded_at</th>\n",
       "      <th>raised_amount_usd</th>\n",
       "      <th>permalink</th>\n",
       "      <th>name_x</th>\n",
       "      <th>category_list</th>\n",
       "      <th>status</th>\n",
       "      <th>country_code</th>\n",
       "      <th>country_name</th>\n",
       "      <th>primary_sector</th>\n",
       "      <th>main_sector</th>\n",
       "      <th>main_sector_total_count</th>\n",
       "      <th>main_sector_total_amount</th>\n",
       "    </tr>\n",
       "  </thead>\n",
       "  <tbody>\n",
       "    <tr>\n",
       "      <th>2257</th>\n",
       "      <td>/funding-round/0f5b23faa3fc155f50e679237f2b38f8</td>\n",
       "      <td>venture</td>\n",
       "      <td>06-06-2007</td>\n",
       "      <td>10,000,000.00</td>\n",
       "      <td>/organization/antenova</td>\n",
       "      <td>Antenova</td>\n",
       "      <td>Hardware + Software</td>\n",
       "      <td>operating</td>\n",
       "      <td>GBR</td>\n",
       "      <td>United Kingdom</td>\n",
       "      <td>hardware + software</td>\n",
       "      <td>Manufacturing</td>\n",
       "      <td>42</td>\n",
       "      <td>361,940,335.00</td>\n",
       "    </tr>\n",
       "    <tr>\n",
       "      <th>2258</th>\n",
       "      <td>/funding-round/1750b93d061a4539de278a4384ed220f</td>\n",
       "      <td>venture</td>\n",
       "      <td>20-01-2005</td>\n",
       "      <td>12,000,000.00</td>\n",
       "      <td>/organization/antenova</td>\n",
       "      <td>Antenova</td>\n",
       "      <td>Hardware + Software</td>\n",
       "      <td>operating</td>\n",
       "      <td>GBR</td>\n",
       "      <td>United Kingdom</td>\n",
       "      <td>hardware + software</td>\n",
       "      <td>Manufacturing</td>\n",
       "      <td>42</td>\n",
       "      <td>361,940,335.00</td>\n",
       "    </tr>\n",
       "    <tr>\n",
       "      <th>2259</th>\n",
       "      <td>/funding-round/47c0b4eac099171d3c5c0f9170428485</td>\n",
       "      <td>venture</td>\n",
       "      <td>21-10-2008</td>\n",
       "      <td>6,500,000.00</td>\n",
       "      <td>/organization/antenova</td>\n",
       "      <td>Antenova</td>\n",
       "      <td>Hardware + Software</td>\n",
       "      <td>operating</td>\n",
       "      <td>GBR</td>\n",
       "      <td>United Kingdom</td>\n",
       "      <td>hardware + software</td>\n",
       "      <td>Manufacturing</td>\n",
       "      <td>42</td>\n",
       "      <td>361,940,335.00</td>\n",
       "    </tr>\n",
       "    <tr>\n",
       "      <th>4996</th>\n",
       "      <td>/funding-round/3eb3fd60aa846d24a440a6e816540c89</td>\n",
       "      <td>venture</td>\n",
       "      <td>17-01-2001</td>\n",
       "      <td>6,686,126.00</td>\n",
       "      <td>/organization/blueheath</td>\n",
       "      <td>Blueheath Holdings</td>\n",
       "      <td>Groceries|Leisure|Retail|Wholesale</td>\n",
       "      <td>operating</td>\n",
       "      <td>GBR</td>\n",
       "      <td>United Kingdom</td>\n",
       "      <td>groceries</td>\n",
       "      <td>Manufacturing</td>\n",
       "      <td>42</td>\n",
       "      <td>361,940,335.00</td>\n",
       "    </tr>\n",
       "    <tr>\n",
       "      <th>5914</th>\n",
       "      <td>/funding-round/752f5792832c5ea9ccac167213a4ffbd</td>\n",
       "      <td>venture</td>\n",
       "      <td>24-03-2013</td>\n",
       "      <td>6,832,317.00</td>\n",
       "      <td>/organization/cambridge-communication-systems</td>\n",
       "      <td>Cambridge Communication Systems</td>\n",
       "      <td>Hardware + Software</td>\n",
       "      <td>operating</td>\n",
       "      <td>GBR</td>\n",
       "      <td>United Kingdom</td>\n",
       "      <td>hardware + software</td>\n",
       "      <td>Manufacturing</td>\n",
       "      <td>42</td>\n",
       "      <td>361,940,335.00</td>\n",
       "    </tr>\n",
       "  </tbody>\n",
       "</table>\n",
       "</div>"
      ],
      "text/plain": [
       "                              funding_round_permalink funding_round_type   funded_at  raised_amount_usd                                      permalink                           name_x                       category_list     status country_code    country_name       primary_sector    main_sector  main_sector_total_count  main_sector_total_amount\n",
       "2257  /funding-round/0f5b23faa3fc155f50e679237f2b38f8            venture  06-06-2007      10,000,000.00                         /organization/antenova                         Antenova                 Hardware + Software  operating          GBR  United Kingdom  hardware + software  Manufacturing                       42            361,940,335.00\n",
       "2258  /funding-round/1750b93d061a4539de278a4384ed220f            venture  20-01-2005      12,000,000.00                         /organization/antenova                         Antenova                 Hardware + Software  operating          GBR  United Kingdom  hardware + software  Manufacturing                       42            361,940,335.00\n",
       "2259  /funding-round/47c0b4eac099171d3c5c0f9170428485            venture  21-10-2008       6,500,000.00                         /organization/antenova                         Antenova                 Hardware + Software  operating          GBR  United Kingdom  hardware + software  Manufacturing                       42            361,940,335.00\n",
       "4996  /funding-round/3eb3fd60aa846d24a440a6e816540c89            venture  17-01-2001       6,686,126.00                        /organization/blueheath               Blueheath Holdings  Groceries|Leisure|Retail|Wholesale  operating          GBR  United Kingdom            groceries  Manufacturing                       42            361,940,335.00\n",
       "5914  /funding-round/752f5792832c5ea9ccac167213a4ffbd            venture  24-03-2013       6,832,317.00  /organization/cambridge-communication-systems  Cambridge Communication Systems                 Hardware + Software  operating          GBR  United Kingdom  hardware + software  Manufacturing                       42            361,940,335.00"
      ]
     },
     "execution_count": 85,
     "metadata": {},
     "output_type": "execute_result"
    }
   ],
   "source": [
    "D2[D2.main_sector=='Manufacturing'].head(5)"
   ]
  },
  {
   "cell_type": "code",
   "execution_count": 86,
   "metadata": {},
   "outputs": [
    {
     "data": {
      "text/html": [
       "<div>\n",
       "<style scoped>\n",
       "    .dataframe tbody tr th:only-of-type {\n",
       "        vertical-align: middle;\n",
       "    }\n",
       "\n",
       "    .dataframe tbody tr th {\n",
       "        vertical-align: top;\n",
       "    }\n",
       "\n",
       "    .dataframe thead th {\n",
       "        text-align: right;\n",
       "    }\n",
       "</style>\n",
       "<table border=\"1\" class=\"dataframe\">\n",
       "  <thead>\n",
       "    <tr style=\"text-align: right;\">\n",
       "      <th></th>\n",
       "      <th>funding_round_permalink</th>\n",
       "      <th>funding_round_type</th>\n",
       "      <th>funded_at</th>\n",
       "      <th>raised_amount_usd</th>\n",
       "      <th>permalink</th>\n",
       "      <th>name_x</th>\n",
       "      <th>category_list</th>\n",
       "      <th>status</th>\n",
       "      <th>country_code</th>\n",
       "      <th>country_name</th>\n",
       "      <th>primary_sector</th>\n",
       "      <th>main_sector</th>\n",
       "      <th>main_sector_total_count</th>\n",
       "      <th>main_sector_total_amount</th>\n",
       "    </tr>\n",
       "  </thead>\n",
       "  <tbody>\n",
       "    <tr>\n",
       "      <th>3872</th>\n",
       "      <td>/funding-round/9725f0dc5dc4bf295cd047b4887a10f5</td>\n",
       "      <td>venture</td>\n",
       "      <td>23-02-2015</td>\n",
       "      <td>9,600,000.00</td>\n",
       "      <td>/organization/bakers-circle</td>\n",
       "      <td>Bakers Circle</td>\n",
       "      <td>Food Processing</td>\n",
       "      <td>operating</td>\n",
       "      <td>IND</td>\n",
       "      <td>India</td>\n",
       "      <td>food processing</td>\n",
       "      <td>Manufacturing</td>\n",
       "      <td>21</td>\n",
       "      <td>200,900,000.00</td>\n",
       "    </tr>\n",
       "    <tr>\n",
       "      <th>6857</th>\n",
       "      <td>/funding-round/d40413cd302a9501f87ebcc648675295</td>\n",
       "      <td>venture</td>\n",
       "      <td>16-09-2015</td>\n",
       "      <td>10,000,000.00</td>\n",
       "      <td>/organization/chai-point</td>\n",
       "      <td>Chai Point</td>\n",
       "      <td>Food Processing</td>\n",
       "      <td>operating</td>\n",
       "      <td>IND</td>\n",
       "      <td>India</td>\n",
       "      <td>food processing</td>\n",
       "      <td>Manufacturing</td>\n",
       "      <td>21</td>\n",
       "      <td>200,900,000.00</td>\n",
       "    </tr>\n",
       "    <tr>\n",
       "      <th>10076</th>\n",
       "      <td>/funding-round/4706b97ec7264fc01c951a6c0c8de6b9</td>\n",
       "      <td>venture</td>\n",
       "      <td>28-04-2008</td>\n",
       "      <td>9,350,000.00</td>\n",
       "      <td>/organization/dixon-technologies</td>\n",
       "      <td>Dixon Technologies</td>\n",
       "      <td>Hardware + Software</td>\n",
       "      <td>operating</td>\n",
       "      <td>IND</td>\n",
       "      <td>India</td>\n",
       "      <td>hardware + software</td>\n",
       "      <td>Manufacturing</td>\n",
       "      <td>21</td>\n",
       "      <td>200,900,000.00</td>\n",
       "    </tr>\n",
       "    <tr>\n",
       "      <th>10935</th>\n",
       "      <td>/funding-round/c7087296aaa1e6ee33e9d174022ad444</td>\n",
       "      <td>venture</td>\n",
       "      <td>26-08-2013</td>\n",
       "      <td>6,000,000.00</td>\n",
       "      <td>/organization/electronic-payment-and-services</td>\n",
       "      <td>Electronic Payment and Services (EPS)</td>\n",
       "      <td>Hardware + Software</td>\n",
       "      <td>operating</td>\n",
       "      <td>IND</td>\n",
       "      <td>India</td>\n",
       "      <td>hardware + software</td>\n",
       "      <td>Manufacturing</td>\n",
       "      <td>21</td>\n",
       "      <td>200,900,000.00</td>\n",
       "    </tr>\n",
       "    <tr>\n",
       "      <th>10936</th>\n",
       "      <td>/funding-round/cabd3c8428576ef3018e1c91812a732e</td>\n",
       "      <td>venture</td>\n",
       "      <td>17-12-2013</td>\n",
       "      <td>5,000,000.00</td>\n",
       "      <td>/organization/electronic-payment-and-services</td>\n",
       "      <td>Electronic Payment and Services (EPS)</td>\n",
       "      <td>Hardware + Software</td>\n",
       "      <td>operating</td>\n",
       "      <td>IND</td>\n",
       "      <td>India</td>\n",
       "      <td>hardware + software</td>\n",
       "      <td>Manufacturing</td>\n",
       "      <td>21</td>\n",
       "      <td>200,900,000.00</td>\n",
       "    </tr>\n",
       "  </tbody>\n",
       "</table>\n",
       "</div>"
      ],
      "text/plain": [
       "                               funding_round_permalink funding_round_type   funded_at  raised_amount_usd                                      permalink                                 name_x        category_list     status country_code country_name       primary_sector    main_sector  main_sector_total_count  main_sector_total_amount\n",
       "3872   /funding-round/9725f0dc5dc4bf295cd047b4887a10f5            venture  23-02-2015       9,600,000.00                    /organization/bakers-circle                          Bakers Circle      Food Processing  operating          IND        India      food processing  Manufacturing                       21            200,900,000.00\n",
       "6857   /funding-round/d40413cd302a9501f87ebcc648675295            venture  16-09-2015      10,000,000.00                       /organization/chai-point                             Chai Point      Food Processing  operating          IND        India      food processing  Manufacturing                       21            200,900,000.00\n",
       "10076  /funding-round/4706b97ec7264fc01c951a6c0c8de6b9            venture  28-04-2008       9,350,000.00               /organization/dixon-technologies                     Dixon Technologies  Hardware + Software  operating          IND        India  hardware + software  Manufacturing                       21            200,900,000.00\n",
       "10935  /funding-round/c7087296aaa1e6ee33e9d174022ad444            venture  26-08-2013       6,000,000.00  /organization/electronic-payment-and-services  Electronic Payment and Services (EPS)  Hardware + Software  operating          IND        India  hardware + software  Manufacturing                       21            200,900,000.00\n",
       "10936  /funding-round/cabd3c8428576ef3018e1c91812a732e            venture  17-12-2013       5,000,000.00  /organization/electronic-payment-and-services  Electronic Payment and Services (EPS)  Hardware + Software  operating          IND        India  hardware + software  Manufacturing                       21            200,900,000.00"
      ]
     },
     "execution_count": 86,
     "metadata": {},
     "output_type": "execute_result"
    }
   ],
   "source": [
    "D3[D3.main_sector=='Manufacturing'].head(5)"
   ]
  },
  {
   "cell_type": "markdown",
   "metadata": {},
   "source": [
    " ### Table 5.1 : Sector-wise Investment Analysis"
   ]
  },
  {
   "cell_type": "code",
   "execution_count": 87,
   "metadata": {},
   "outputs": [
    {
     "name": "stdout",
     "output_type": "stream",
     "text": [
      "Total Number of investments for country1 (USA) -  12063\n",
      "Total Number of investments for country2 (GBR) -  621\n",
      "Total Number of investments for country3 (IND) -  328\n"
     ]
    }
   ],
   "source": [
    "#Table 5.1 : Sector-wise Investment Analysis\n",
    "# Question-1: Total number of investments (count) - for Country1, Country2 and Country3 ?.\n",
    "print(\"Total Number of investments for country1 (USA) - \",D1.raised_amount_usd.count())\n",
    "print(\"Total Number of investments for country2 (GBR) - \",D2.raised_amount_usd.count())\n",
    "print(\"Total Number of investments for country3 (IND) - \",D3.raised_amount_usd.count())"
   ]
  },
  {
   "cell_type": "code",
   "execution_count": 88,
   "metadata": {},
   "outputs": [
    {
     "name": "stdout",
     "output_type": "stream",
     "text": [
      "Total Number of investments for country1 (USA) - $ 107757097294.0\n",
      "Total Number of investments for country2 (GBR) - $ 5379078691.0\n",
      "Total Number of investments for country3 (IND) - $ 2949543602.0\n"
     ]
    }
   ],
   "source": [
    "#Table 5.1 : Sector-wise Investment Analysis\n",
    "#Question-2: Total amount of investments (USD) for Country1, Country2 and Country3 ?\n",
    "print(\"Total Number of investments for country1 (USA) - $\",D1.raised_amount_usd.sum())\n",
    "print(\"Total Number of investments for country2 (GBR) - $\",D2.raised_amount_usd.sum())\n",
    "print(\"Total Number of investments for country3 (IND) - $\",D3.raised_amount_usd.sum())"
   ]
  },
  {
   "cell_type": "markdown",
   "metadata": {},
   "source": [
    " ### Table 5.1 : Sector-wise Investment Analysis\n",
    ">The below Questions for applicable for 3 top countries country1,country2 and country3.<br>\n",
    ">**Question-1:** Total number of investments (count) ?<br>\n",
    ">**Answer:** \n",
    "  - For Country1 `USA`, the total number of investments (count) is `12063`<br>\n",
    "  - For Country2 `GBR`, the total number of investments (count) is `621`<br>\n",
    "  - For Country3 `IND`, the total number of investments (count) is `328`<br>\n",
    "  \n",
    ">**Question-2:** Total amount of investment (USD) ?<br>\n",
    ">**Answer:** \n",
    "  - For Country1 `USA`, the Total amount of investments (USD) is `$107757097294.00`<br>\n",
    "  - For Country2 `GBR`, the Total amount of investments (USD) is `$5379078691.00`<br>\n",
    "  - For Country3 `IND`, the Total amount of investments (USD) is `$2949543602.00`<br>"
   ]
  },
  {
   "cell_type": "code",
   "execution_count": 89,
   "metadata": {},
   "outputs": [
    {
     "name": "stdout",
     "output_type": "stream",
     "text": [
      "Top Sectors counts based on Investments for United States (USA)\n"
     ]
    },
    {
     "data": {
      "text/plain": [
       "main_sector\n",
       "Others                                     2950\n",
       "Social, Finance, Analytics, Advertising    2714\n",
       "Cleantech / Semiconductors                 2350\n",
       "News, Search and Messaging                 1583\n",
       "Health                                      909\n",
       "Manufacturing                               799\n",
       "Entertainment                               591\n",
       "Automotive & Sports                         167\n",
       "Name: raised_amount_usd, dtype: int64"
      ]
     },
     "execution_count": 89,
     "metadata": {},
     "output_type": "execute_result"
    },
    {
     "name": "stdout",
     "output_type": "stream",
     "text": [
      "Top Sectors counts based on Investments for Country Great Britain (GBR)\n"
     ]
    },
    {
     "data": {
      "text/plain": [
       "main_sector\n",
       "Others                                     147\n",
       "Social, Finance, Analytics, Advertising    133\n",
       "Cleantech / Semiconductors                 130\n",
       "News, Search and Messaging                  73\n",
       "Entertainment                               56\n",
       "Manufacturing                               42\n",
       "Health                                      24\n",
       "Automotive & Sports                         16\n",
       "Name: raised_amount_usd, dtype: int64"
      ]
     },
     "execution_count": 89,
     "metadata": {},
     "output_type": "execute_result"
    },
    {
     "name": "stdout",
     "output_type": "stream",
     "text": [
      "Top Sectors counts based on Investments For Country India (IND)\n"
     ]
    },
    {
     "data": {
      "text/plain": [
       "main_sector\n",
       "Others                                     110\n",
       "Social, Finance, Analytics, Advertising     60\n",
       "News, Search and Messaging                  52\n",
       "Entertainment                               33\n",
       "Manufacturing                               21\n",
       "Cleantech / Semiconductors                  20\n",
       "Health                                      19\n",
       "Automotive & Sports                         13\n",
       "Name: raised_amount_usd, dtype: int64"
      ]
     },
     "execution_count": 89,
     "metadata": {},
     "output_type": "execute_result"
    }
   ],
   "source": [
    "#Table 5.1 : Sector-wise Investment Analysis\n",
    "#Question-3: Top sector (based on count of investments) ?\n",
    "\n",
    "\n",
    "print('Top Sectors counts based on Investments for United States (USA)')\n",
    "D1.groupby('main_sector')['raised_amount_usd'].count().sort_values(ascending=False)\n",
    "print('Top Sectors counts based on Investments for Country Great Britain (GBR)')\n",
    "D2.groupby('main_sector')['raised_amount_usd'].count().sort_values(ascending=False)\n",
    "print('Top Sectors counts based on Investments For Country India (IND)')\n",
    "D3.groupby('main_sector')['raised_amount_usd'].count().sort_values(ascending=False)"
   ]
  },
  {
   "cell_type": "code",
   "execution_count": 90,
   "metadata": {
    "scrolled": true
   },
   "outputs": [
    {
     "name": "stdout",
     "output_type": "stream",
     "text": [
      "For United States (USA)\n"
     ]
    },
    {
     "data": {
      "text/html": [
       "<div>\n",
       "<style scoped>\n",
       "    .dataframe tbody tr th:only-of-type {\n",
       "        vertical-align: middle;\n",
       "    }\n",
       "\n",
       "    .dataframe tbody tr th {\n",
       "        vertical-align: top;\n",
       "    }\n",
       "\n",
       "    .dataframe thead th {\n",
       "        text-align: right;\n",
       "    }\n",
       "</style>\n",
       "<table border=\"1\" class=\"dataframe\">\n",
       "  <thead>\n",
       "    <tr style=\"text-align: right;\">\n",
       "      <th></th>\n",
       "      <th>count</th>\n",
       "      <th>sum</th>\n",
       "    </tr>\n",
       "    <tr>\n",
       "      <th>main_sector</th>\n",
       "      <th></th>\n",
       "      <th></th>\n",
       "    </tr>\n",
       "  </thead>\n",
       "  <tbody>\n",
       "    <tr>\n",
       "      <th>Others</th>\n",
       "      <td>2950</td>\n",
       "      <td>26,321,007,002.00</td>\n",
       "    </tr>\n",
       "    <tr>\n",
       "      <th>Social, Finance, Analytics, Advertising</th>\n",
       "      <td>2714</td>\n",
       "      <td>23,807,376,964.00</td>\n",
       "    </tr>\n",
       "    <tr>\n",
       "      <th>Cleantech / Semiconductors</th>\n",
       "      <td>2350</td>\n",
       "      <td>21,633,430,822.00</td>\n",
       "    </tr>\n",
       "    <tr>\n",
       "      <th>News, Search and Messaging</th>\n",
       "      <td>1583</td>\n",
       "      <td>13,971,567,428.00</td>\n",
       "    </tr>\n",
       "    <tr>\n",
       "      <th>Health</th>\n",
       "      <td>909</td>\n",
       "      <td>8,211,859,357.00</td>\n",
       "    </tr>\n",
       "    <tr>\n",
       "      <th>Manufacturing</th>\n",
       "      <td>799</td>\n",
       "      <td>7,258,553,378.00</td>\n",
       "    </tr>\n",
       "    <tr>\n",
       "      <th>Entertainment</th>\n",
       "      <td>591</td>\n",
       "      <td>5,099,197,982.00</td>\n",
       "    </tr>\n",
       "    <tr>\n",
       "      <th>Automotive &amp; Sports</th>\n",
       "      <td>167</td>\n",
       "      <td>1,454,104,361.00</td>\n",
       "    </tr>\n",
       "  </tbody>\n",
       "</table>\n",
       "</div>"
      ],
      "text/plain": [
       "                                         count               sum\n",
       "main_sector                                                     \n",
       "Others                                    2950 26,321,007,002.00\n",
       "Social, Finance, Analytics, Advertising   2714 23,807,376,964.00\n",
       "Cleantech / Semiconductors                2350 21,633,430,822.00\n",
       "News, Search and Messaging                1583 13,971,567,428.00\n",
       "Health                                     909  8,211,859,357.00\n",
       "Manufacturing                              799  7,258,553,378.00\n",
       "Entertainment                              591  5,099,197,982.00\n",
       "Automotive & Sports                        167  1,454,104,361.00"
      ]
     },
     "execution_count": 90,
     "metadata": {},
     "output_type": "execute_result"
    },
    {
     "name": "stdout",
     "output_type": "stream",
     "text": [
      "For Country Great Britain (GBR)\n"
     ]
    },
    {
     "data": {
      "text/html": [
       "<div>\n",
       "<style scoped>\n",
       "    .dataframe tbody tr th:only-of-type {\n",
       "        vertical-align: middle;\n",
       "    }\n",
       "\n",
       "    .dataframe tbody tr th {\n",
       "        vertical-align: top;\n",
       "    }\n",
       "\n",
       "    .dataframe thead th {\n",
       "        text-align: right;\n",
       "    }\n",
       "</style>\n",
       "<table border=\"1\" class=\"dataframe\">\n",
       "  <thead>\n",
       "    <tr style=\"text-align: right;\">\n",
       "      <th></th>\n",
       "      <th>count</th>\n",
       "      <th>sum</th>\n",
       "    </tr>\n",
       "    <tr>\n",
       "      <th>main_sector</th>\n",
       "      <th></th>\n",
       "      <th></th>\n",
       "    </tr>\n",
       "  </thead>\n",
       "  <tbody>\n",
       "    <tr>\n",
       "      <th>Others</th>\n",
       "      <td>147</td>\n",
       "      <td>1,283,624,289.00</td>\n",
       "    </tr>\n",
       "    <tr>\n",
       "      <th>Social, Finance, Analytics, Advertising</th>\n",
       "      <td>133</td>\n",
       "      <td>1,089,404,014.00</td>\n",
       "    </tr>\n",
       "    <tr>\n",
       "      <th>Cleantech / Semiconductors</th>\n",
       "      <td>130</td>\n",
       "      <td>1,163,990,056.00</td>\n",
       "    </tr>\n",
       "    <tr>\n",
       "      <th>News, Search and Messaging</th>\n",
       "      <td>73</td>\n",
       "      <td>615,746,235.00</td>\n",
       "    </tr>\n",
       "    <tr>\n",
       "      <th>Entertainment</th>\n",
       "      <td>56</td>\n",
       "      <td>482,784,687.00</td>\n",
       "    </tr>\n",
       "    <tr>\n",
       "      <th>Manufacturing</th>\n",
       "      <td>42</td>\n",
       "      <td>361,940,335.00</td>\n",
       "    </tr>\n",
       "    <tr>\n",
       "      <th>Health</th>\n",
       "      <td>24</td>\n",
       "      <td>214,537,510.00</td>\n",
       "    </tr>\n",
       "    <tr>\n",
       "      <th>Automotive &amp; Sports</th>\n",
       "      <td>16</td>\n",
       "      <td>167,051,565.00</td>\n",
       "    </tr>\n",
       "  </tbody>\n",
       "</table>\n",
       "</div>"
      ],
      "text/plain": [
       "                                         count              sum\n",
       "main_sector                                                    \n",
       "Others                                     147 1,283,624,289.00\n",
       "Social, Finance, Analytics, Advertising    133 1,089,404,014.00\n",
       "Cleantech / Semiconductors                 130 1,163,990,056.00\n",
       "News, Search and Messaging                  73   615,746,235.00\n",
       "Entertainment                               56   482,784,687.00\n",
       "Manufacturing                               42   361,940,335.00\n",
       "Health                                      24   214,537,510.00\n",
       "Automotive & Sports                         16   167,051,565.00"
      ]
     },
     "execution_count": 90,
     "metadata": {},
     "output_type": "execute_result"
    },
    {
     "name": "stdout",
     "output_type": "stream",
     "text": [
      "For Country India (IND)\n"
     ]
    },
    {
     "data": {
      "text/html": [
       "<div>\n",
       "<style scoped>\n",
       "    .dataframe tbody tr th:only-of-type {\n",
       "        vertical-align: middle;\n",
       "    }\n",
       "\n",
       "    .dataframe tbody tr th {\n",
       "        vertical-align: top;\n",
       "    }\n",
       "\n",
       "    .dataframe thead th {\n",
       "        text-align: right;\n",
       "    }\n",
       "</style>\n",
       "<table border=\"1\" class=\"dataframe\">\n",
       "  <thead>\n",
       "    <tr style=\"text-align: right;\">\n",
       "      <th></th>\n",
       "      <th>count</th>\n",
       "      <th>sum</th>\n",
       "    </tr>\n",
       "    <tr>\n",
       "      <th>main_sector</th>\n",
       "      <th></th>\n",
       "      <th></th>\n",
       "    </tr>\n",
       "  </thead>\n",
       "  <tbody>\n",
       "    <tr>\n",
       "      <th>Others</th>\n",
       "      <td>110</td>\n",
       "      <td>1,013,409,507.00</td>\n",
       "    </tr>\n",
       "    <tr>\n",
       "      <th>Social, Finance, Analytics, Advertising</th>\n",
       "      <td>60</td>\n",
       "      <td>550,549,550.00</td>\n",
       "    </tr>\n",
       "    <tr>\n",
       "      <th>News, Search and Messaging</th>\n",
       "      <td>52</td>\n",
       "      <td>433,834,545.00</td>\n",
       "    </tr>\n",
       "    <tr>\n",
       "      <th>Entertainment</th>\n",
       "      <td>33</td>\n",
       "      <td>280,830,000.00</td>\n",
       "    </tr>\n",
       "    <tr>\n",
       "      <th>Manufacturing</th>\n",
       "      <td>21</td>\n",
       "      <td>200,900,000.00</td>\n",
       "    </tr>\n",
       "    <tr>\n",
       "      <th>Cleantech / Semiconductors</th>\n",
       "      <td>20</td>\n",
       "      <td>165,380,000.00</td>\n",
       "    </tr>\n",
       "    <tr>\n",
       "      <th>Health</th>\n",
       "      <td>19</td>\n",
       "      <td>167,740,000.00</td>\n",
       "    </tr>\n",
       "    <tr>\n",
       "      <th>Automotive &amp; Sports</th>\n",
       "      <td>13</td>\n",
       "      <td>136,900,000.00</td>\n",
       "    </tr>\n",
       "  </tbody>\n",
       "</table>\n",
       "</div>"
      ],
      "text/plain": [
       "                                         count              sum\n",
       "main_sector                                                    \n",
       "Others                                     110 1,013,409,507.00\n",
       "Social, Finance, Analytics, Advertising     60   550,549,550.00\n",
       "News, Search and Messaging                  52   433,834,545.00\n",
       "Entertainment                               33   280,830,000.00\n",
       "Manufacturing                               21   200,900,000.00\n",
       "Cleantech / Semiconductors                  20   165,380,000.00\n",
       "Health                                      19   167,740,000.00\n",
       "Automotive & Sports                         13   136,900,000.00"
      ]
     },
     "execution_count": 90,
     "metadata": {},
     "output_type": "execute_result"
    }
   ],
   "source": [
    "# Using pivot_table function of data frame.\n",
    "\n",
    "# For Country USA\n",
    "print('For United States (USA)')\n",
    "D1_pivot = D1.pivot_table(index=['main_sector'],\\\n",
    "                          values='raised_amount_usd',\\\n",
    "                          aggfunc = ('count','sum')).\\\n",
    "                          sort_values(by='count',ascending=False)\n",
    "\n",
    "D1_pivot\n",
    "# For Country GBR\n",
    "print('For Country Great Britain (GBR)')\n",
    "D2_pivot = D2.pivot_table(index=['main_sector'],\\\n",
    "                          values='raised_amount_usd',\\\n",
    "                          aggfunc = ('count','sum')).\\\n",
    "                          sort_values(by='count',ascending=False)\n",
    "D2_pivot\n",
    "\n",
    "# For Country IND\n",
    "print('For Country India (IND)')\n",
    "D3_pivot = D3.pivot_table(index=['main_sector'],\\\n",
    "                          values='raised_amount_usd',\\\n",
    "                          aggfunc = ('count','sum')).\\\n",
    "                          sort_values(by='count',ascending=False)\n",
    "D3_pivot"
   ]
  },
  {
   "cell_type": "markdown",
   "metadata": {},
   "source": [
    "### Table 5.1 : Sector-wise Investment Analysis\n",
    ">The below Questions for applicable for 3 top countries country1(D1),country2(D2) and country3(D3).<br>\n",
    ">**Question-3:** Top sector (based on count of investments) ?<br>\n",
    ">**Answer:** \n",
    "  - For Country1(D1) `USA`, the top sector based on count is `Others`\n",
    "  - For Country2(D2) `GBR`, the top sector based on count is `Others`\n",
    "  - For Country3(D3) `IND`  the top sector based on count is `Others`\n",
    "         \n",
    ">**Question-4:** Second-best sector (based on count of investments) ?<br>\n",
    ">**Answer:** \n",
    "  - For Country1(D1) `USA`, the second-best sector based on count is \n",
    "`Social, Finance, Analytics, Advertising`\n",
    "  - For Country2(D2) `GBR`, the second-best sector based on count is \n",
    "`Social, Finance, Analytics, Advertising`\n",
    "  - For Country3(D3) `IND`  the second-best sector based on count is \n",
    "`Social, Finance, Analytics, Advertising`<br>\n",
    "\n",
    ">**Question-5:** Third-best sector (based on count of investments) ?<br>\n",
    ">**Answer:** \n",
    "  - For Country1(D1) `USA`, the third-best sector based on count is \n",
    "`Cleantech / Semiconductors`\n",
    "  - For Country2(D2) `GBR`, the third-best sector based on count is \n",
    "`Cleantech / Semiconductors`\n",
    "  - For Country3(D3) `IND`  the third-best sector based on count is \n",
    "`News, Search and Messaging`<br>\n",
    "\n",
    ">**Question-6:** Number of investments in the top sector (refer to point 3) ?<br>\n",
    ">**Answer:** \n",
    "  - For Country1(D1) `USA`, the number of investment in the top sector is `2950`\n",
    "  - For Country2(D2) `GBR`, the number of investment in the top sector is `147`\n",
    "  - For Country3(D3) `IND` the number of investment in the top sector is `110`<br>\n",
    "\n",
    ">**Question-7:** Number of investments in the second-best sector (refer to point 4) ?<br>\n",
    ">**Answer:** \n",
    "  - For Country1(D1) `USA`, the number of investment in the second best sector is `2714`\n",
    "  - For Country2(D2) `GBR`, the number of investment in the second best sector is `133`\n",
    "  - For Country3(D3) `IND` the number of investment in the second best sector is `60`<br>\n",
    "  \n",
    ">**Question-8:** Number of investments in the third-best sector (refer to point 5) ?<br>\n",
    ">**Answer:** \n",
    "  - For Country1(D1) `USA`, the number of investment in the third best sector is `2350`\n",
    "  - For Country2(D2) `GBR`, the number of investment in the third best sector is `130`\n",
    "  - For Country3(D3) `IND` the number of investment in the third best sector is `52`<br>"
   ]
  },
  {
   "cell_type": "code",
   "execution_count": 91,
   "metadata": {},
   "outputs": [
    {
     "name": "stdout",
     "output_type": "stream",
     "text": [
      "The top sector,company wise counts for sector for United States (USA)\n"
     ]
    },
    {
     "data": {
      "text/plain": [
       "permalink\n",
       "/organization/virtustream   64,300,000.00\n",
       "Name: raised_amount_usd, dtype: float64"
      ]
     },
     "execution_count": 91,
     "metadata": {},
     "output_type": "execute_result"
    },
    {
     "name": "stdout",
     "output_type": "stream",
     "text": [
      "The top sector,company wise counts for sector for Great Britain (GBR)\n"
     ]
    },
    {
     "data": {
      "text/plain": [
       "permalink\n",
       "/organization/electric-cloud   37,000,000.00\n",
       "Name: raised_amount_usd, dtype: float64"
      ]
     },
     "execution_count": 91,
     "metadata": {},
     "output_type": "execute_result"
    },
    {
     "name": "stdout",
     "output_type": "stream",
     "text": [
      "The top sector, company wise counts for sector for India (IND)\n"
     ]
    },
    {
     "data": {
      "text/plain": [
       "permalink\n",
       "/organization/firstcry-com   39,000,000.00\n",
       "Name: raised_amount_usd, dtype: float64"
      ]
     },
     "execution_count": 91,
     "metadata": {},
     "output_type": "execute_result"
    }
   ],
   "source": [
    "#Table 5.1 : Sector-wise Investment Analysis\n",
    "# Question-9: For the top sector count-wise (point 3), which company received \n",
    "# the highest investment?\n",
    "\n",
    "Top_Sector = 'Others'\n",
    "\n",
    "# For Country USA\n",
    "print('The top sector,company wise counts for sector for United States (USA)')\n",
    "# The top sector count wise is 'Others' - calculate the company wise investments.\n",
    "D1.loc[D1.main_sector == Top_Sector,:].groupby('permalink')['raised_amount_usd'].\\\n",
    "                                                sum().sort_values(ascending=False).head(1)\n",
    "# For Country GBR\n",
    "print('The top sector,company wise counts for sector for Great Britain (GBR)')\n",
    "# The top sector count wise is 'Others' - calculate the company wise investments.\n",
    "D2.loc[D2.main_sector == Top_Sector,:].groupby('permalink')['raised_amount_usd'].\\\n",
    "                                                sum().sort_values(ascending=False).head(1)\n",
    "\n",
    "#For Country IND\n",
    "print('The top sector, company wise counts for sector for India (IND)')\n",
    "# The top sector count wise is 'Others' - calculate the company wise investments.\n",
    "D3.loc[D3.main_sector == Top_Sector,:].groupby('permalink')['raised_amount_usd'].\\\n",
    "                                                sum().sort_values(ascending=False).head(1)"
   ]
  },
  {
   "cell_type": "code",
   "execution_count": 92,
   "metadata": {
    "scrolled": true
   },
   "outputs": [
    {
     "name": "stdout",
     "output_type": "stream",
     "text": [
      "For United States (USA)\n"
     ]
    },
    {
     "data": {
      "text/html": [
       "<div>\n",
       "<style scoped>\n",
       "    .dataframe tbody tr th:only-of-type {\n",
       "        vertical-align: middle;\n",
       "    }\n",
       "\n",
       "    .dataframe tbody tr th {\n",
       "        vertical-align: top;\n",
       "    }\n",
       "\n",
       "    .dataframe thead th {\n",
       "        text-align: right;\n",
       "    }\n",
       "</style>\n",
       "<table border=\"1\" class=\"dataframe\">\n",
       "  <thead>\n",
       "    <tr style=\"text-align: right;\">\n",
       "      <th></th>\n",
       "      <th>sum</th>\n",
       "    </tr>\n",
       "    <tr>\n",
       "      <th>permalink</th>\n",
       "      <th></th>\n",
       "    </tr>\n",
       "  </thead>\n",
       "  <tbody>\n",
       "    <tr>\n",
       "      <th>/organization/virtustream</th>\n",
       "      <td>64,300,000.00</td>\n",
       "    </tr>\n",
       "    <tr>\n",
       "      <th>/organization/capella</th>\n",
       "      <td>54,968,051.00</td>\n",
       "    </tr>\n",
       "    <tr>\n",
       "      <th>/organization/airtight-networks</th>\n",
       "      <td>54,201,907.00</td>\n",
       "    </tr>\n",
       "  </tbody>\n",
       "</table>\n",
       "</div>"
      ],
      "text/plain": [
       "                                          sum\n",
       "permalink                                    \n",
       "/organization/virtustream       64,300,000.00\n",
       "/organization/capella           54,968,051.00\n",
       "/organization/airtight-networks 54,201,907.00"
      ]
     },
     "execution_count": 92,
     "metadata": {},
     "output_type": "execute_result"
    },
    {
     "name": "stdout",
     "output_type": "stream",
     "text": [
      "For Country Great Britain (GBR)\n"
     ]
    },
    {
     "data": {
      "text/html": [
       "<div>\n",
       "<style scoped>\n",
       "    .dataframe tbody tr th:only-of-type {\n",
       "        vertical-align: middle;\n",
       "    }\n",
       "\n",
       "    .dataframe tbody tr th {\n",
       "        vertical-align: top;\n",
       "    }\n",
       "\n",
       "    .dataframe thead th {\n",
       "        text-align: right;\n",
       "    }\n",
       "</style>\n",
       "<table border=\"1\" class=\"dataframe\">\n",
       "  <thead>\n",
       "    <tr style=\"text-align: right;\">\n",
       "      <th></th>\n",
       "      <th>sum</th>\n",
       "    </tr>\n",
       "    <tr>\n",
       "      <th>permalink</th>\n",
       "      <th></th>\n",
       "    </tr>\n",
       "  </thead>\n",
       "  <tbody>\n",
       "    <tr>\n",
       "      <th>/organization/electric-cloud</th>\n",
       "      <td>37,000,000.00</td>\n",
       "    </tr>\n",
       "    <tr>\n",
       "      <th>/organization/sensage</th>\n",
       "      <td>36,250,000.00</td>\n",
       "    </tr>\n",
       "    <tr>\n",
       "      <th>/organization/enigmatic</th>\n",
       "      <td>32,500,000.00</td>\n",
       "    </tr>\n",
       "  </tbody>\n",
       "</table>\n",
       "</div>"
      ],
      "text/plain": [
       "                                       sum\n",
       "permalink                                 \n",
       "/organization/electric-cloud 37,000,000.00\n",
       "/organization/sensage        36,250,000.00\n",
       "/organization/enigmatic      32,500,000.00"
      ]
     },
     "execution_count": 92,
     "metadata": {},
     "output_type": "execute_result"
    },
    {
     "name": "stdout",
     "output_type": "stream",
     "text": [
      "For Country India (IND)\n"
     ]
    },
    {
     "data": {
      "text/html": [
       "<div>\n",
       "<style scoped>\n",
       "    .dataframe tbody tr th:only-of-type {\n",
       "        vertical-align: middle;\n",
       "    }\n",
       "\n",
       "    .dataframe tbody tr th {\n",
       "        vertical-align: top;\n",
       "    }\n",
       "\n",
       "    .dataframe thead th {\n",
       "        text-align: right;\n",
       "    }\n",
       "</style>\n",
       "<table border=\"1\" class=\"dataframe\">\n",
       "  <thead>\n",
       "    <tr style=\"text-align: right;\">\n",
       "      <th></th>\n",
       "      <th>sum</th>\n",
       "    </tr>\n",
       "    <tr>\n",
       "      <th>permalink</th>\n",
       "      <th></th>\n",
       "    </tr>\n",
       "  </thead>\n",
       "  <tbody>\n",
       "    <tr>\n",
       "      <th>/organization/firstcry-com</th>\n",
       "      <td>39,000,000.00</td>\n",
       "    </tr>\n",
       "    <tr>\n",
       "      <th>/organization/myntra</th>\n",
       "      <td>38,000,000.00</td>\n",
       "    </tr>\n",
       "    <tr>\n",
       "      <th>/organization/commonfloor</th>\n",
       "      <td>32,900,000.00</td>\n",
       "    </tr>\n",
       "  </tbody>\n",
       "</table>\n",
       "</div>"
      ],
      "text/plain": [
       "                                     sum\n",
       "permalink                               \n",
       "/organization/firstcry-com 39,000,000.00\n",
       "/organization/myntra       38,000,000.00\n",
       "/organization/commonfloor  32,900,000.00"
      ]
     },
     "execution_count": 92,
     "metadata": {},
     "output_type": "execute_result"
    }
   ],
   "source": [
    "#Table 5.1 : Sector-wise Investment Analysis\n",
    "# Question-9: For the top sector count-wise (point 3), which company received \n",
    "# the highest investment?\n",
    "\n",
    "# Calculation using pivot_table function.\n",
    "\n",
    "# The Top Sector count-wise (as per Question-3 above)\n",
    "Top_Sector = 'Others'\n",
    "\n",
    "#For country USA\n",
    "print('For United States (USA)')\n",
    "D1_company_pivot1 = D1.loc[D1.main_sector == Top_Sector,:]\\\n",
    "                         .pivot_table(index='permalink',\\\n",
    "                                      values='raised_amount_usd',\n",
    "                                      aggfunc={'sum'})\n",
    "D1_company_pivot1.sort_values(by='sum',ascending=False).head(3)\n",
    "\n",
    "#For country GBR\n",
    "print('For Country Great Britain (GBR)')\n",
    "D2_company_pivot1 = D2.loc[D2.main_sector == Top_Sector,:]\\\n",
    "                         .pivot_table(index='permalink',\\\n",
    "                                      values='raised_amount_usd',\n",
    "                                      aggfunc={'sum'})\n",
    "D2_company_pivot1.sort_values(by='sum',ascending=False).head(3)\n",
    "\n",
    "#For country IND \n",
    "print('For Country India (IND)')\n",
    "D3_company_pivot1 = D3.loc[D3.main_sector == Top_Sector,:]\\\n",
    "                         .pivot_table(index='permalink',\\\n",
    "                                      values='raised_amount_usd',\n",
    "                                      aggfunc={'sum'})\n",
    "D3_company_pivot1.sort_values(by='sum',ascending=False).head(3)"
   ]
  },
  {
   "cell_type": "markdown",
   "metadata": {},
   "source": [
    ">**Question-9:** For the top sector count-wise (point 3), which company received the highest investment? ?<br>\n",
    ">**Answer:** \n",
    "  - For Country1 `USA`, top sector count wise (`Others`), the company `virtustream` has received the highest investment of `$64,300,000.00`\n",
    "  - For Country2 `GBR`, top sector count wise (`Others`), the company `electric-cloud` has received the highest investment of `$37,000,000.00`\n",
    "  - For Country3 `IND`, top sector count wise (`Others`) , the company `firstcry-com` has received the highest investment of `$39,000,000.00`"
   ]
  },
  {
   "cell_type": "code",
   "execution_count": 93,
   "metadata": {},
   "outputs": [
    {
     "name": "stdout",
     "output_type": "stream",
     "text": [
      "The Second best sector company wise counts for sector for United States (USA)\n"
     ]
    },
    {
     "data": {
      "text/plain": [
       "permalink\n",
       "/organization/shotspotter   67,933,006.00\n",
       "Name: raised_amount_usd, dtype: float64"
      ]
     },
     "execution_count": 93,
     "metadata": {},
     "output_type": "execute_result"
    },
    {
     "name": "stdout",
     "output_type": "stream",
     "text": [
      "The Second best sector company wise counts for sector for United States (GBR)\n"
     ]
    },
    {
     "data": {
      "text/plain": [
       "permalink\n",
       "/organization/celltick-technologies   37,500,000.00\n",
       "Name: raised_amount_usd, dtype: float64"
      ]
     },
     "execution_count": 93,
     "metadata": {},
     "output_type": "execute_result"
    },
    {
     "name": "stdout",
     "output_type": "stream",
     "text": [
      "The Second best sector company wise counts for sector for United States (IND)\n"
     ]
    },
    {
     "data": {
      "text/plain": [
       "permalink\n",
       "/organization/manthan-systems   50,700,000.00\n",
       "Name: raised_amount_usd, dtype: float64"
      ]
     },
     "execution_count": 93,
     "metadata": {},
     "output_type": "execute_result"
    }
   ],
   "source": [
    "# Table 5.1 : Sector-wise Investment Analysis\n",
    "# Question-10: For the second-best sector count-wise (point 4), \n",
    "# which company received the highest investment?\n",
    "\n",
    "\n",
    "Second_Best_Sector = 'Social, Finance, Analytics, Advertising'\n",
    "\n",
    "# For Country USA\n",
    "print('The Second best sector company wise counts for sector for United States (USA)')\n",
    "D1.loc[D1.main_sector == Second_Best_Sector,:].groupby('permalink')['raised_amount_usd'].\\\n",
    "                                                sum().sort_values(ascending=False).head(1)\n",
    "# For Country GBR\n",
    "print('The Second best sector company wise counts for sector for United States (GBR)')\n",
    "D2.loc[D2.main_sector == Second_Best_Sector,:].groupby('permalink')['raised_amount_usd'].\\\n",
    "                                                sum().sort_values(ascending=False).head(1)\n",
    "\n",
    "#For Country IND\n",
    "print('The Second best sector company wise counts for sector for United States (IND)')\n",
    "\n",
    "D3.loc[D3.main_sector == Second_Best_Sector,:].groupby('permalink')['raised_amount_usd'].\\\n",
    "                                                sum().sort_values(ascending=False).head(1)"
   ]
  },
  {
   "cell_type": "code",
   "execution_count": 94,
   "metadata": {
    "scrolled": false
   },
   "outputs": [
    {
     "name": "stdout",
     "output_type": "stream",
     "text": [
      "For United States (USA)\n"
     ]
    },
    {
     "data": {
      "text/html": [
       "<div>\n",
       "<style scoped>\n",
       "    .dataframe tbody tr th:only-of-type {\n",
       "        vertical-align: middle;\n",
       "    }\n",
       "\n",
       "    .dataframe tbody tr th {\n",
       "        vertical-align: top;\n",
       "    }\n",
       "\n",
       "    .dataframe thead th {\n",
       "        text-align: right;\n",
       "    }\n",
       "</style>\n",
       "<table border=\"1\" class=\"dataframe\">\n",
       "  <thead>\n",
       "    <tr style=\"text-align: right;\">\n",
       "      <th></th>\n",
       "      <th>sum</th>\n",
       "    </tr>\n",
       "    <tr>\n",
       "      <th>permalink</th>\n",
       "      <th></th>\n",
       "    </tr>\n",
       "  </thead>\n",
       "  <tbody>\n",
       "    <tr>\n",
       "      <th>/organization/shotspotter</th>\n",
       "      <td>67,933,006.00</td>\n",
       "    </tr>\n",
       "    <tr>\n",
       "      <th>/organization/demandbase</th>\n",
       "      <td>63,000,000.00</td>\n",
       "    </tr>\n",
       "    <tr>\n",
       "      <th>/organization/intacct</th>\n",
       "      <td>61,800,000.00</td>\n",
       "    </tr>\n",
       "  </tbody>\n",
       "</table>\n",
       "</div>"
      ],
      "text/plain": [
       "                                    sum\n",
       "permalink                              \n",
       "/organization/shotspotter 67,933,006.00\n",
       "/organization/demandbase  63,000,000.00\n",
       "/organization/intacct     61,800,000.00"
      ]
     },
     "execution_count": 94,
     "metadata": {},
     "output_type": "execute_result"
    },
    {
     "name": "stdout",
     "output_type": "stream",
     "text": [
      "For Country Great Britain (GBR)\n"
     ]
    },
    {
     "data": {
      "text/html": [
       "<div>\n",
       "<style scoped>\n",
       "    .dataframe tbody tr th:only-of-type {\n",
       "        vertical-align: middle;\n",
       "    }\n",
       "\n",
       "    .dataframe tbody tr th {\n",
       "        vertical-align: top;\n",
       "    }\n",
       "\n",
       "    .dataframe thead th {\n",
       "        text-align: right;\n",
       "    }\n",
       "</style>\n",
       "<table border=\"1\" class=\"dataframe\">\n",
       "  <thead>\n",
       "    <tr style=\"text-align: right;\">\n",
       "      <th></th>\n",
       "      <th>sum</th>\n",
       "    </tr>\n",
       "    <tr>\n",
       "      <th>permalink</th>\n",
       "      <th></th>\n",
       "    </tr>\n",
       "  </thead>\n",
       "  <tbody>\n",
       "    <tr>\n",
       "      <th>/organization/celltick-technologies</th>\n",
       "      <td>37,500,000.00</td>\n",
       "    </tr>\n",
       "    <tr>\n",
       "      <th>/organization/mythings</th>\n",
       "      <td>34,000,000.00</td>\n",
       "    </tr>\n",
       "    <tr>\n",
       "      <th>/organization/zopa</th>\n",
       "      <td>32,900,000.00</td>\n",
       "    </tr>\n",
       "  </tbody>\n",
       "</table>\n",
       "</div>"
      ],
      "text/plain": [
       "                                              sum\n",
       "permalink                                        \n",
       "/organization/celltick-technologies 37,500,000.00\n",
       "/organization/mythings              34,000,000.00\n",
       "/organization/zopa                  32,900,000.00"
      ]
     },
     "execution_count": 94,
     "metadata": {},
     "output_type": "execute_result"
    },
    {
     "name": "stdout",
     "output_type": "stream",
     "text": [
      "For Country India (IND)\n"
     ]
    },
    {
     "data": {
      "text/html": [
       "<div>\n",
       "<style scoped>\n",
       "    .dataframe tbody tr th:only-of-type {\n",
       "        vertical-align: middle;\n",
       "    }\n",
       "\n",
       "    .dataframe tbody tr th {\n",
       "        vertical-align: top;\n",
       "    }\n",
       "\n",
       "    .dataframe thead th {\n",
       "        text-align: right;\n",
       "    }\n",
       "</style>\n",
       "<table border=\"1\" class=\"dataframe\">\n",
       "  <thead>\n",
       "    <tr style=\"text-align: right;\">\n",
       "      <th></th>\n",
       "      <th>sum</th>\n",
       "    </tr>\n",
       "    <tr>\n",
       "      <th>permalink</th>\n",
       "      <th></th>\n",
       "    </tr>\n",
       "  </thead>\n",
       "  <tbody>\n",
       "    <tr>\n",
       "      <th>/organization/manthan-systems</th>\n",
       "      <td>50,700,000.00</td>\n",
       "    </tr>\n",
       "    <tr>\n",
       "      <th>/organization/komli-media</th>\n",
       "      <td>28,000,000.00</td>\n",
       "    </tr>\n",
       "    <tr>\n",
       "      <th>/organization/shopclues-com</th>\n",
       "      <td>25,000,000.00</td>\n",
       "    </tr>\n",
       "  </tbody>\n",
       "</table>\n",
       "</div>"
      ],
      "text/plain": [
       "                                        sum\n",
       "permalink                                  \n",
       "/organization/manthan-systems 50,700,000.00\n",
       "/organization/komli-media     28,000,000.00\n",
       "/organization/shopclues-com   25,000,000.00"
      ]
     },
     "execution_count": 94,
     "metadata": {},
     "output_type": "execute_result"
    }
   ],
   "source": [
    "# Table 5.1 : Sector-wise Investment Analysis\n",
    "# Question-10: For the second-best sector count-wise (point 4), \n",
    "# which company received the highest investment?\n",
    "\n",
    "# Second Best Sector.\n",
    "Second_Best_Sector = 'Social, Finance, Analytics, Advertising'\n",
    "\n",
    "#Using pivot_table function.\n",
    "\n",
    "#For country USA\n",
    "print('For United States (USA)')\n",
    "D1_company_pivot2 = D1.loc[D1.main_sector == Second_Best_Sector,:]\\\n",
    "                         .pivot_table(index='permalink',\\\n",
    "                                      values='raised_amount_usd',\n",
    "                                      aggfunc={'sum'})\n",
    "\n",
    "D1_company_pivot2.sort_values(by='sum',ascending=False).head(3)\n",
    "\n",
    "#For country GBR\n",
    "print('For Country Great Britain (GBR)')\n",
    "D2_company_pivot2 = D2.loc[D2.main_sector == Second_Best_Sector,:]\\\n",
    "                         .pivot_table(index='permalink',\\\n",
    "                                      values='raised_amount_usd',\n",
    "                                      aggfunc={'sum'})\n",
    "\n",
    "D2_company_pivot2.sort_values(by='sum',ascending=False).head(3)\n",
    "\n",
    "#For country IND \n",
    "print('For Country India (IND)')\n",
    "D3_company_pivot2 = D3.loc[D3.main_sector == Second_Best_Sector,:]\\\n",
    "                         .pivot_table(index='permalink',\\\n",
    "                                      values='raised_amount_usd',\n",
    "                                      aggfunc={'sum'})\n",
    "\n",
    "D3_company_pivot2.sort_values(by='sum',ascending=False).head(3)"
   ]
  },
  {
   "cell_type": "markdown",
   "metadata": {},
   "source": [
    "**Question-10:** \n",
    ">For the second-best sector count-wise (point 4), which company received the highest investment?<br>\n",
    "**Answer:** \n",
    ">- For Country1 `USA`, second best sector count wise (`Social, Finance, Analytics, Advertising`), the company `shotspotter` has received the highest investment of `$67,933,006.00`<br>\n",
    ">- For Country2 `GBR`, second best sector count wise (`Social, Finance, Analytics, Advertising`) , the company `celltick-technologies` has received the highest investment of `$37,500,000.00`<br>\n",
    "- For Country3 `IND`, second best sector count wise (`Social, Finance, Analytics, Advertising`) , the company `manthan-systems` has received the highest investment of `$50,700,000.00`<br>"
   ]
  },
  {
   "cell_type": "code",
   "execution_count": null,
   "metadata": {},
   "outputs": [],
   "source": []
  }
 ],
 "metadata": {
  "kernelspec": {
   "display_name": "Python 3",
   "language": "python",
   "name": "python3"
  },
  "language_info": {
   "codemirror_mode": {
    "name": "ipython",
    "version": 3
   },
   "file_extension": ".py",
   "mimetype": "text/x-python",
   "name": "python",
   "nbconvert_exporter": "python",
   "pygments_lexer": "ipython3",
   "version": "3.6.5"
  }
 },
 "nbformat": 4,
 "nbformat_minor": 2
}
